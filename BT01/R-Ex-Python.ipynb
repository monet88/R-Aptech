{
 "cells": [
  {
   "cell_type": "code",
   "execution_count": 2,
   "metadata": {},
   "outputs": [
    {
     "data": {
      "text/plain": [
       "[10, 11, 12, 13, 14, 15, 16, 17, 18, 19, 20]"
      ]
     },
     "execution_count": 2,
     "metadata": {},
     "output_type": "execute_result"
    }
   ],
   "source": [
    "# Create a list x storing the sequence 10, 11, 12, 13, 14, 15, 16, 17, 18, 19, 20.\n",
    "x = list(range(10, 21))\n",
    "x"
   ]
  },
  {
   "cell_type": "code",
   "execution_count": 3,
   "metadata": {},
   "outputs": [
    {
     "data": {
      "text/plain": [
       "[12, 13, 14, 15, 16, 17, 18, 19, 20, 21, 22]"
      ]
     },
     "execution_count": 3,
     "metadata": {},
     "output_type": "execute_result"
    }
   ],
   "source": [
    "# Add 2 to each element of x. Save the result into a list called y.\n",
    "y = [num + 2 for num in x]\n",
    "y"
   ]
  },
  {
   "cell_type": "code",
   "execution_count": 4,
   "metadata": {},
   "outputs": [
    {
     "data": {
      "text/plain": [
       "[36, 39, 42, 45, 48, 51, 54, 57, 60, 63, 66]"
      ]
     },
     "execution_count": 4,
     "metadata": {},
     "output_type": "execute_result"
    }
   ],
   "source": [
    "# Multiply each element of y by 3. Save that into a list called z.\n",
    "z = [num * 3 for num in y]\n",
    "z"
   ]
  },
  {
   "cell_type": "code",
   "execution_count": 5,
   "metadata": {},
   "outputs": [],
   "source": [
    "# Subtract 6 from each element of z and divide the result by 3. Save what you get into a list called answer.\n",
    "answer = [(num - 6) / 3 for num in z]"
   ]
  },
  {
   "cell_type": "code",
   "execution_count": 6,
   "metadata": {},
   "outputs": [
    {
     "name": "stdout",
     "output_type": "stream",
     "text": [
      "[10.0, 11.0, 12.0, 13.0, 14.0, 15.0, 16.0, 17.0, 18.0, 19.0, 20.0]\n"
     ]
    }
   ],
   "source": [
    "# Print your answer list.\n",
    "print(answer)"
   ]
  },
  {
   "cell_type": "code",
   "execution_count": 12,
   "metadata": {},
   "outputs": [
    {
     "name": "stdout",
     "output_type": "stream",
     "text": [
      "[10.0, 11.0, 12.0, 13.0, 14.0, 15.0, 16.0, 17.0, 18.0, 19.0, 20.0]\n"
     ]
    }
   ],
   "source": [
    "# Try to do the entire operation in a single line of code.\n",
    "answer = [((num + 2) * 3 - 6 )/ 3 for num in range(10, 21)]\n",
    "print(answer)"
   ]
  },
  {
   "cell_type": "code",
   "execution_count": 14,
   "metadata": {},
   "outputs": [],
   "source": [
    "# Create a vector called cards that stores the following elements:\n",
    "  \n",
    "#Blue-Eyes White Dragon\n",
    "#Exodius\n",
    "#The Winged Dragon of Ra\n",
    "#Raigeki\n",
    "#Slifer the Sky Dragon\n",
    "#Obelisk the Tormentor\n",
    "#Black Luster Soldier\n",
    "#5-Headed Dragon\n",
    "#Exodia the Forbidden One\n",
    "#Dragon Master Knight\n",
    "cards = [\n",
    "    \"Blue-Eyes White Dragon\",\n",
    "    \"Exodius\",\n",
    "    \"The Winged Dragon of Ra\",\n",
    "    \"Raigeki\",\n",
    "    \"Slifer the Sky Dragon\",\n",
    "    \"Obelisk the Tormentor\",\n",
    "    \"Black Luster Soldier\",\n",
    "    \"5-Headed Dragon\",\n",
    "    \"Exodia the Forbidden One\",\n",
    "    \"Dragon Master Knight\"\n",
    "]"
   ]
  },
  {
   "cell_type": "code",
   "execution_count": 16,
   "metadata": {},
   "outputs": [
    {
     "name": "stdout",
     "output_type": "stream",
     "text": [
      "<class 'list'>\n"
     ]
    }
   ],
   "source": [
    "# Check the type of cards.\n",
    "print(type(cards))"
   ]
  },
  {
   "cell_type": "code",
   "execution_count": 18,
   "metadata": {},
   "outputs": [],
   "source": [
    "# Create a vector called atk and assign to it the following values:\n",
    "#3000\n",
    "#NA\n",
    "#NA\n",
    "#NA\n",
    "#NA\n",
    "#4000\n",
    "#3000\n",
    "#5000\n",
    "#1000\n",
    "#5000\n",
    "atk = [3000,None,None,None,None,4000,3000,5000,1000,5000]"
   ]
  },
  {
   "cell_type": "code",
   "execution_count": 19,
   "metadata": {},
   "outputs": [
    {
     "name": "stdout",
     "output_type": "stream",
     "text": [
      "<class 'list'>\n"
     ]
    }
   ],
   "source": [
    "# Check the type of atk.\n",
    "print(type(atk))"
   ]
  },
  {
   "cell_type": "code",
   "execution_count": 20,
   "metadata": {},
   "outputs": [],
   "source": [
    "# Use the combine function to combine cards and atk into a single vector called yugioh.\n",
    "yugioh = cards.copy()\n",
    "yugioh.extend(atk)"
   ]
  },
  {
   "cell_type": "code",
   "execution_count": 21,
   "metadata": {},
   "outputs": [
    {
     "name": "stdout",
     "output_type": "stream",
     "text": [
      "<class 'list'>\n",
      "['Blue-Eyes White Dragon', 'Exodius', 'The Winged Dragon of Ra', 'Raigeki', 'Slifer the Sky Dragon', 'Obelisk the Tormentor', 'Black Luster Soldier', '5-Headed Dragon', 'Exodia the Forbidden One', 'Dragon Master Knight', 3000, None, None, None, None, 4000, 3000, 5000, 1000, 5000]\n"
     ]
    }
   ],
   "source": [
    "# Check the type of the new object.\n",
    "print(type(yugioh))\n",
    "print(yugioh)"
   ]
  },
  {
   "cell_type": "code",
   "execution_count": 22,
   "metadata": {},
   "outputs": [],
   "source": [
    "# Create a list called monster, storing the values True, True, True, False, True, True, True, True, True, True\n",
    "monster = [True, True, True, False, True, True, True, True, True, True]"
   ]
  },
  {
   "cell_type": "code",
   "execution_count": 23,
   "metadata": {},
   "outputs": [],
   "source": [
    "# Extend the monster list to the yugioh list\n",
    "yugioh.extend(monster)"
   ]
  },
  {
   "cell_type": "code",
   "execution_count": 24,
   "metadata": {},
   "outputs": [
    {
     "name": "stdout",
     "output_type": "stream",
     "text": [
      "<class 'list'>\n"
     ]
    }
   ],
   "source": [
    "# Check the type of yugioh\n",
    "print(type(yugioh))"
   ]
  },
  {
   "cell_type": "code",
   "execution_count": 25,
   "metadata": {},
   "outputs": [],
   "source": [
    "# Combine atk and monster into a list called coerce_check\n",
    "coerce_check = atk + monster"
   ]
  },
  {
   "cell_type": "code",
   "execution_count": 26,
   "metadata": {},
   "outputs": [
    {
     "name": "stdout",
     "output_type": "stream",
     "text": [
      "<class 'list'>\n"
     ]
    }
   ],
   "source": [
    "# Check the type of coerce_check\n",
    "print(type(coerce_check))"
   ]
  },
  {
   "cell_type": "code",
   "execution_count": 27,
   "metadata": {},
   "outputs": [
    {
     "data": {
      "text/plain": [
       "[3000,\n",
       " None,\n",
       " None,\n",
       " None,\n",
       " None,\n",
       " 4000,\n",
       " 3000,\n",
       " 5000,\n",
       " 1000,\n",
       " 5000,\n",
       " True,\n",
       " True,\n",
       " True,\n",
       " False,\n",
       " True,\n",
       " True,\n",
       " True,\n",
       " True,\n",
       " True,\n",
       " True]"
      ]
     },
     "execution_count": 27,
     "metadata": {},
     "output_type": "execute_result"
    }
   ],
   "source": [
    "# Print coerce_check (value will be printed on the screen without explicitly using print())\n",
    "coerce_check"
   ]
  }
 ],
 "metadata": {
  "kernelspec": {
   "display_name": "base",
   "language": "python",
   "name": "python3"
  },
  "language_info": {
   "codemirror_mode": {
    "name": "ipython",
    "version": 3
   },
   "file_extension": ".py",
   "mimetype": "text/x-python",
   "name": "python",
   "nbconvert_exporter": "python",
   "pygments_lexer": "ipython3",
   "version": "3.11.3"
  },
  "orig_nbformat": 4
 },
 "nbformat": 4,
 "nbformat_minor": 2
}
