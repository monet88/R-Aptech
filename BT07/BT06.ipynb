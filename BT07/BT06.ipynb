{
 "cells": [
  {
   "cell_type": "code",
   "execution_count": 14,
   "metadata": {
    "vscode": {
     "languageId": "r"
    }
   },
   "outputs": [
    {
     "data": {
      "text/html": [
       "<table class=\"dataframe\">\n",
       "<caption>A data.frame: 6 × 14</caption>\n",
       "<thead>\n",
       "\t<tr><th></th><th scope=col>id</th><th scope=col>pokemon</th><th scope=col>species_id</th><th scope=col>height</th><th scope=col>weight</th><th scope=col>base_experience</th><th scope=col>type_1</th><th scope=col>type_2</th><th scope=col>attack</th><th scope=col>defense</th><th scope=col>hp</th><th scope=col>special_attack</th><th scope=col>special_defense</th><th scope=col>speed</th></tr>\n",
       "\t<tr><th></th><th scope=col>&lt;int&gt;</th><th scope=col>&lt;chr&gt;</th><th scope=col>&lt;int&gt;</th><th scope=col>&lt;int&gt;</th><th scope=col>&lt;int&gt;</th><th scope=col>&lt;int&gt;</th><th scope=col>&lt;chr&gt;</th><th scope=col>&lt;chr&gt;</th><th scope=col>&lt;int&gt;</th><th scope=col>&lt;int&gt;</th><th scope=col>&lt;int&gt;</th><th scope=col>&lt;int&gt;</th><th scope=col>&lt;int&gt;</th><th scope=col>&lt;int&gt;</th></tr>\n",
       "</thead>\n",
       "<tbody>\n",
       "\t<tr><th scope=row>1</th><td>1</td><td>bulbasaur </td><td>1</td><td> 7</td><td>  69</td><td> 64</td><td>grass</td><td>poison</td><td>49</td><td>49</td><td>45</td><td> 65</td><td> 65</td><td> 45</td></tr>\n",
       "\t<tr><th scope=row>2</th><td>2</td><td>ivysaur   </td><td>2</td><td>10</td><td> 130</td><td>142</td><td>grass</td><td>poison</td><td>62</td><td>63</td><td>60</td><td> 80</td><td> 80</td><td> 60</td></tr>\n",
       "\t<tr><th scope=row>3</th><td>3</td><td>venusaur  </td><td>3</td><td>20</td><td>1000</td><td>236</td><td>grass</td><td>poison</td><td>82</td><td>83</td><td>80</td><td>100</td><td>100</td><td> 80</td></tr>\n",
       "\t<tr><th scope=row>4</th><td>4</td><td>charmander</td><td>4</td><td> 6</td><td>  85</td><td> 62</td><td>fire </td><td>NA    </td><td>52</td><td>43</td><td>39</td><td> 60</td><td> 50</td><td> 65</td></tr>\n",
       "\t<tr><th scope=row>5</th><td>5</td><td>charmeleon</td><td>5</td><td>11</td><td> 190</td><td>142</td><td>fire </td><td>NA    </td><td>64</td><td>58</td><td>58</td><td> 80</td><td> 65</td><td> 80</td></tr>\n",
       "\t<tr><th scope=row>6</th><td>6</td><td>charizard </td><td>6</td><td>17</td><td> 905</td><td>240</td><td>fire </td><td>flying</td><td>84</td><td>78</td><td>78</td><td>109</td><td> 85</td><td>100</td></tr>\n",
       "</tbody>\n",
       "</table>\n"
      ],
      "text/latex": [
       "A data.frame: 6 × 14\n",
       "\\begin{tabular}{r|llllllllllllll}\n",
       "  & id & pokemon & species\\_id & height & weight & base\\_experience & type\\_1 & type\\_2 & attack & defense & hp & special\\_attack & special\\_defense & speed\\\\\n",
       "  & <int> & <chr> & <int> & <int> & <int> & <int> & <chr> & <chr> & <int> & <int> & <int> & <int> & <int> & <int>\\\\\n",
       "\\hline\n",
       "\t1 & 1 & bulbasaur  & 1 &  7 &   69 &  64 & grass & poison & 49 & 49 & 45 &  65 &  65 &  45\\\\\n",
       "\t2 & 2 & ivysaur    & 2 & 10 &  130 & 142 & grass & poison & 62 & 63 & 60 &  80 &  80 &  60\\\\\n",
       "\t3 & 3 & venusaur   & 3 & 20 & 1000 & 236 & grass & poison & 82 & 83 & 80 & 100 & 100 &  80\\\\\n",
       "\t4 & 4 & charmander & 4 &  6 &   85 &  62 & fire  & NA     & 52 & 43 & 39 &  60 &  50 &  65\\\\\n",
       "\t5 & 5 & charmeleon & 5 & 11 &  190 & 142 & fire  & NA     & 64 & 58 & 58 &  80 &  65 &  80\\\\\n",
       "\t6 & 6 & charizard  & 6 & 17 &  905 & 240 & fire  & flying & 84 & 78 & 78 & 109 &  85 & 100\\\\\n",
       "\\end{tabular}\n"
      ],
      "text/markdown": [
       "\n",
       "A data.frame: 6 × 14\n",
       "\n",
       "| <!--/--> | id &lt;int&gt; | pokemon &lt;chr&gt; | species_id &lt;int&gt; | height &lt;int&gt; | weight &lt;int&gt; | base_experience &lt;int&gt; | type_1 &lt;chr&gt; | type_2 &lt;chr&gt; | attack &lt;int&gt; | defense &lt;int&gt; | hp &lt;int&gt; | special_attack &lt;int&gt; | special_defense &lt;int&gt; | speed &lt;int&gt; |\n",
       "|---|---|---|---|---|---|---|---|---|---|---|---|---|---|---|\n",
       "| 1 | 1 | bulbasaur  | 1 |  7 |   69 |  64 | grass | poison | 49 | 49 | 45 |  65 |  65 |  45 |\n",
       "| 2 | 2 | ivysaur    | 2 | 10 |  130 | 142 | grass | poison | 62 | 63 | 60 |  80 |  80 |  60 |\n",
       "| 3 | 3 | venusaur   | 3 | 20 | 1000 | 236 | grass | poison | 82 | 83 | 80 | 100 | 100 |  80 |\n",
       "| 4 | 4 | charmander | 4 |  6 |   85 |  62 | fire  | NA     | 52 | 43 | 39 |  60 |  50 |  65 |\n",
       "| 5 | 5 | charmeleon | 5 | 11 |  190 | 142 | fire  | NA     | 64 | 58 | 58 |  80 |  65 |  80 |\n",
       "| 6 | 6 | charizard  | 6 | 17 |  905 | 240 | fire  | flying | 84 | 78 | 78 | 109 |  85 | 100 |\n",
       "\n"
      ],
      "text/plain": [
       "  id pokemon    species_id height weight base_experience type_1 type_2 attack\n",
       "1 1  bulbasaur  1           7       69    64             grass  poison 49    \n",
       "2 2  ivysaur    2          10      130   142             grass  poison 62    \n",
       "3 3  venusaur   3          20     1000   236             grass  poison 82    \n",
       "4 4  charmander 4           6       85    62             fire   NA     52    \n",
       "5 5  charmeleon 5          11      190   142             fire   NA     64    \n",
       "6 6  charizard  6          17      905   240             fire   flying 84    \n",
       "  defense hp special_attack special_defense speed\n",
       "1 49      45  65             65              45  \n",
       "2 63      60  80             80              60  \n",
       "3 83      80 100            100              80  \n",
       "4 43      39  60             50              65  \n",
       "5 58      58  80             65              80  \n",
       "6 78      78 109             85             100  "
      ]
     },
     "metadata": {},
     "output_type": "display_data"
    }
   ],
   "source": [
    "# Download the employees dataset from the resources for this lesson.\n",
    "# Then, import it into R using your preferred import method.\n",
    "data <- read.csv(\"pokRdex-comma.csv\")\n",
    "head(data)"
   ]
  },
  {
   "cell_type": "code",
   "execution_count": 19,
   "metadata": {
    "vscode": {
     "languageId": "r"
    }
   },
   "outputs": [
    {
     "data": {
      "text/html": [
       "<table class=\"dataframe\">\n",
       "<caption>A data.frame: 6 × 14</caption>\n",
       "<thead>\n",
       "\t<tr><th></th><th scope=col>id</th><th scope=col>pokemon</th><th scope=col>species_id</th><th scope=col>height</th><th scope=col>weight</th><th scope=col>base_experience</th><th scope=col>type_1</th><th scope=col>type_2</th><th scope=col>attack</th><th scope=col>defense</th><th scope=col>hp</th><th scope=col>special_attack</th><th scope=col>special_defense</th><th scope=col>speed</th></tr>\n",
       "\t<tr><th></th><th scope=col>&lt;int&gt;</th><th scope=col>&lt;chr&gt;</th><th scope=col>&lt;int&gt;</th><th scope=col>&lt;int&gt;</th><th scope=col>&lt;int&gt;</th><th scope=col>&lt;int&gt;</th><th scope=col>&lt;chr&gt;</th><th scope=col>&lt;chr&gt;</th><th scope=col>&lt;int&gt;</th><th scope=col>&lt;int&gt;</th><th scope=col>&lt;int&gt;</th><th scope=col>&lt;int&gt;</th><th scope=col>&lt;int&gt;</th><th scope=col>&lt;int&gt;</th></tr>\n",
       "</thead>\n",
       "<tbody>\n",
       "\t<tr><th scope=row>1</th><td>1</td><td>bulbasaur </td><td>1</td><td> 7</td><td>  69</td><td> 64</td><td>grass</td><td>poison</td><td>49</td><td>49</td><td>45</td><td> 65</td><td> 65</td><td> 45</td></tr>\n",
       "\t<tr><th scope=row>2</th><td>2</td><td>ivysaur   </td><td>2</td><td>10</td><td> 130</td><td>142</td><td>grass</td><td>poison</td><td>62</td><td>63</td><td>60</td><td> 80</td><td> 80</td><td> 60</td></tr>\n",
       "\t<tr><th scope=row>3</th><td>3</td><td>venusaur  </td><td>3</td><td>20</td><td>1000</td><td>236</td><td>grass</td><td>poison</td><td>82</td><td>83</td><td>80</td><td>100</td><td>100</td><td> 80</td></tr>\n",
       "\t<tr><th scope=row>4</th><td>4</td><td>charmander</td><td>4</td><td> 6</td><td>  85</td><td> 62</td><td>fire </td><td>NA    </td><td>52</td><td>43</td><td>39</td><td> 60</td><td> 50</td><td> 65</td></tr>\n",
       "\t<tr><th scope=row>5</th><td>5</td><td>charmeleon</td><td>5</td><td>11</td><td> 190</td><td>142</td><td>fire </td><td>NA    </td><td>64</td><td>58</td><td>58</td><td> 80</td><td> 65</td><td> 80</td></tr>\n",
       "\t<tr><th scope=row>6</th><td>6</td><td>charizard </td><td>6</td><td>17</td><td> 905</td><td>240</td><td>fire </td><td>flying</td><td>84</td><td>78</td><td>78</td><td>109</td><td> 85</td><td>100</td></tr>\n",
       "</tbody>\n",
       "</table>\n"
      ],
      "text/latex": [
       "A data.frame: 6 × 14\n",
       "\\begin{tabular}{r|llllllllllllll}\n",
       "  & id & pokemon & species\\_id & height & weight & base\\_experience & type\\_1 & type\\_2 & attack & defense & hp & special\\_attack & special\\_defense & speed\\\\\n",
       "  & <int> & <chr> & <int> & <int> & <int> & <int> & <chr> & <chr> & <int> & <int> & <int> & <int> & <int> & <int>\\\\\n",
       "\\hline\n",
       "\t1 & 1 & bulbasaur  & 1 &  7 &   69 &  64 & grass & poison & 49 & 49 & 45 &  65 &  65 &  45\\\\\n",
       "\t2 & 2 & ivysaur    & 2 & 10 &  130 & 142 & grass & poison & 62 & 63 & 60 &  80 &  80 &  60\\\\\n",
       "\t3 & 3 & venusaur   & 3 & 20 & 1000 & 236 & grass & poison & 82 & 83 & 80 & 100 & 100 &  80\\\\\n",
       "\t4 & 4 & charmander & 4 &  6 &   85 &  62 & fire  & NA     & 52 & 43 & 39 &  60 &  50 &  65\\\\\n",
       "\t5 & 5 & charmeleon & 5 & 11 &  190 & 142 & fire  & NA     & 64 & 58 & 58 &  80 &  65 &  80\\\\\n",
       "\t6 & 6 & charizard  & 6 & 17 &  905 & 240 & fire  & flying & 84 & 78 & 78 & 109 &  85 & 100\\\\\n",
       "\\end{tabular}\n"
      ],
      "text/markdown": [
       "\n",
       "A data.frame: 6 × 14\n",
       "\n",
       "| <!--/--> | id &lt;int&gt; | pokemon &lt;chr&gt; | species_id &lt;int&gt; | height &lt;int&gt; | weight &lt;int&gt; | base_experience &lt;int&gt; | type_1 &lt;chr&gt; | type_2 &lt;chr&gt; | attack &lt;int&gt; | defense &lt;int&gt; | hp &lt;int&gt; | special_attack &lt;int&gt; | special_defense &lt;int&gt; | speed &lt;int&gt; |\n",
       "|---|---|---|---|---|---|---|---|---|---|---|---|---|---|---|\n",
       "| 1 | 1 | bulbasaur  | 1 |  7 |   69 |  64 | grass | poison | 49 | 49 | 45 |  65 |  65 |  45 |\n",
       "| 2 | 2 | ivysaur    | 2 | 10 |  130 | 142 | grass | poison | 62 | 63 | 60 |  80 |  80 |  60 |\n",
       "| 3 | 3 | venusaur   | 3 | 20 | 1000 | 236 | grass | poison | 82 | 83 | 80 | 100 | 100 |  80 |\n",
       "| 4 | 4 | charmander | 4 |  6 |   85 |  62 | fire  | NA     | 52 | 43 | 39 |  60 |  50 |  65 |\n",
       "| 5 | 5 | charmeleon | 5 | 11 |  190 | 142 | fire  | NA     | 64 | 58 | 58 |  80 |  65 |  80 |\n",
       "| 6 | 6 | charizard  | 6 | 17 |  905 | 240 | fire  | flying | 84 | 78 | 78 | 109 |  85 | 100 |\n",
       "\n"
      ],
      "text/plain": [
       "  id pokemon    species_id height weight base_experience type_1 type_2 attack\n",
       "1 1  bulbasaur  1           7       69    64             grass  poison 49    \n",
       "2 2  ivysaur    2          10      130   142             grass  poison 62    \n",
       "3 3  venusaur   3          20     1000   236             grass  poison 82    \n",
       "4 4  charmander 4           6       85    62             fire   NA     52    \n",
       "5 5  charmeleon 5          11      190   142             fire   NA     64    \n",
       "6 6  charizard  6          17      905   240             fire   flying 84    \n",
       "  defense hp special_attack special_defense speed\n",
       "1 49      45  65             65              45  \n",
       "2 63      60  80             80              60  \n",
       "3 83      80 100            100              80  \n",
       "4 43      39  60             50              65  \n",
       "5 58      58  80             65              80  \n",
       "6 78      78 109             85             100  "
      ]
     },
     "metadata": {},
     "output_type": "display_data"
    }
   ],
   "source": [
    "# Set the file to the CSV file\n",
    "file <- \"pokRdex-comma.csv\"\n",
    "\n",
    "# Read the first row of the CSV file into a vector\n",
    "header_row <- read.csv(file = file, nrows = 1, header = FALSE, stringsAsFactors = FALSE)\n",
    "col_names <- as.character(header_row)\n",
    "\n",
    "# Read the CSV file into a data frame, skipping the first row\n",
    "data <- read.csv(file = file, skip = 1, header = FALSE, stringsAsFactors = FALSE)\n",
    "\n",
    "# Set the column names of the data frame\n",
    "colnames(data) <- col_names\n",
    "\n",
    "# Print the data frame to verify the import with the header row as column names\n",
    "head(data)\n"
   ]
  },
  {
   "cell_type": "code",
   "execution_count": 20,
   "metadata": {
    "vscode": {
     "languageId": "r"
    }
   },
   "outputs": [
    {
     "data": {
      "text/html": [
       "<table class=\"dataframe\">\n",
       "<caption>A data.frame: 6 × 14</caption>\n",
       "<thead>\n",
       "\t<tr><th></th><th scope=col>Employee number</th><th scope=col>First name</th><th scope=col>Last name</th><th scope=col>Birth date</th><th scope=col>Gender</th><th scope=col>Job title</th><th scope=col>Salary</th><th scope=col>From date</th><th scope=col>To date</th><th scope=col>NA</th><th scope=col>NA</th><th scope=col>NA</th><th scope=col>NA</th><th scope=col>NA</th></tr>\n",
       "\t<tr><th></th><th scope=col>&lt;int&gt;</th><th scope=col>&lt;chr&gt;</th><th scope=col>&lt;int&gt;</th><th scope=col>&lt;int&gt;</th><th scope=col>&lt;int&gt;</th><th scope=col>&lt;int&gt;</th><th scope=col>&lt;chr&gt;</th><th scope=col>&lt;chr&gt;</th><th scope=col>&lt;int&gt;</th><th scope=col>&lt;int&gt;</th><th scope=col>&lt;int&gt;</th><th scope=col>&lt;int&gt;</th><th scope=col>&lt;int&gt;</th><th scope=col>&lt;int&gt;</th></tr>\n",
       "</thead>\n",
       "<tbody>\n",
       "\t<tr><th scope=row>1</th><td>1</td><td>bulbasaur </td><td>1</td><td> 7</td><td>  69</td><td> 64</td><td>grass</td><td>poison</td><td>49</td><td>49</td><td>45</td><td> 65</td><td> 65</td><td> 45</td></tr>\n",
       "\t<tr><th scope=row>2</th><td>2</td><td>ivysaur   </td><td>2</td><td>10</td><td> 130</td><td>142</td><td>grass</td><td>poison</td><td>62</td><td>63</td><td>60</td><td> 80</td><td> 80</td><td> 60</td></tr>\n",
       "\t<tr><th scope=row>3</th><td>3</td><td>venusaur  </td><td>3</td><td>20</td><td>1000</td><td>236</td><td>grass</td><td>poison</td><td>82</td><td>83</td><td>80</td><td>100</td><td>100</td><td> 80</td></tr>\n",
       "\t<tr><th scope=row>4</th><td>4</td><td>charmander</td><td>4</td><td> 6</td><td>  85</td><td> 62</td><td>fire </td><td>NA    </td><td>52</td><td>43</td><td>39</td><td> 60</td><td> 50</td><td> 65</td></tr>\n",
       "\t<tr><th scope=row>5</th><td>5</td><td>charmeleon</td><td>5</td><td>11</td><td> 190</td><td>142</td><td>fire </td><td>NA    </td><td>64</td><td>58</td><td>58</td><td> 80</td><td> 65</td><td> 80</td></tr>\n",
       "\t<tr><th scope=row>6</th><td>6</td><td>charizard </td><td>6</td><td>17</td><td> 905</td><td>240</td><td>fire </td><td>flying</td><td>84</td><td>78</td><td>78</td><td>109</td><td> 85</td><td>100</td></tr>\n",
       "</tbody>\n",
       "</table>\n"
      ],
      "text/latex": [
       "A data.frame: 6 × 14\n",
       "\\begin{tabular}{r|llllllllllllll}\n",
       "  & Employee number & First name & Last name & Birth date & Gender & Job title & Salary & From date & To date & NA & NA & NA & NA & NA\\\\\n",
       "  & <int> & <chr> & <int> & <int> & <int> & <int> & <chr> & <chr> & <int> & <int> & <int> & <int> & <int> & <int>\\\\\n",
       "\\hline\n",
       "\t1 & 1 & bulbasaur  & 1 &  7 &   69 &  64 & grass & poison & 49 & 49 & 45 &  65 &  65 &  45\\\\\n",
       "\t2 & 2 & ivysaur    & 2 & 10 &  130 & 142 & grass & poison & 62 & 63 & 60 &  80 &  80 &  60\\\\\n",
       "\t3 & 3 & venusaur   & 3 & 20 & 1000 & 236 & grass & poison & 82 & 83 & 80 & 100 & 100 &  80\\\\\n",
       "\t4 & 4 & charmander & 4 &  6 &   85 &  62 & fire  & NA     & 52 & 43 & 39 &  60 &  50 &  65\\\\\n",
       "\t5 & 5 & charmeleon & 5 & 11 &  190 & 142 & fire  & NA     & 64 & 58 & 58 &  80 &  65 &  80\\\\\n",
       "\t6 & 6 & charizard  & 6 & 17 &  905 & 240 & fire  & flying & 84 & 78 & 78 & 109 &  85 & 100\\\\\n",
       "\\end{tabular}\n"
      ],
      "text/markdown": [
       "\n",
       "A data.frame: 6 × 14\n",
       "\n",
       "| <!--/--> | Employee number &lt;int&gt; | First name &lt;chr&gt; | Last name &lt;int&gt; | Birth date &lt;int&gt; | Gender &lt;int&gt; | Job title &lt;int&gt; | Salary &lt;chr&gt; | From date &lt;chr&gt; | To date &lt;int&gt; | NA &lt;int&gt; | NA &lt;int&gt; | NA &lt;int&gt; | NA &lt;int&gt; | NA &lt;int&gt; |\n",
       "|---|---|---|---|---|---|---|---|---|---|---|---|---|---|---|\n",
       "| 1 | 1 | bulbasaur  | 1 |  7 |   69 |  64 | grass | poison | 49 | 49 | 45 |  65 |  65 |  45 |\n",
       "| 2 | 2 | ivysaur    | 2 | 10 |  130 | 142 | grass | poison | 62 | 63 | 60 |  80 |  80 |  60 |\n",
       "| 3 | 3 | venusaur   | 3 | 20 | 1000 | 236 | grass | poison | 82 | 83 | 80 | 100 | 100 |  80 |\n",
       "| 4 | 4 | charmander | 4 |  6 |   85 |  62 | fire  | NA     | 52 | 43 | 39 |  60 |  50 |  65 |\n",
       "| 5 | 5 | charmeleon | 5 | 11 |  190 | 142 | fire  | NA     | 64 | 58 | 58 |  80 |  65 |  80 |\n",
       "| 6 | 6 | charizard  | 6 | 17 |  905 | 240 | fire  | flying | 84 | 78 | 78 | 109 |  85 | 100 |\n",
       "\n"
      ],
      "text/plain": [
       "  Employee number First name Last name Birth date Gender Job title Salary\n",
       "1 1               bulbasaur  1          7           69    64       grass \n",
       "2 2               ivysaur    2         10          130   142       grass \n",
       "3 3               venusaur   3         20         1000   236       grass \n",
       "4 4               charmander 4          6           85    62       fire  \n",
       "5 5               charmeleon 5         11          190   142       fire  \n",
       "6 6               charizard  6         17          905   240       fire  \n",
       "  From date To date <NA> <NA> <NA> <NA> <NA>\n",
       "1 poison    49      49   45    65   65   45 \n",
       "2 poison    62      63   60    80   80   60 \n",
       "3 poison    82      83   80   100  100   80 \n",
       "4 NA        52      43   39    60   50   65 \n",
       "5 NA        64      58   58    80   65   80 \n",
       "6 flying    84      78   78   109   85  100 "
      ]
     },
     "metadata": {},
     "output_type": "display_data"
    }
   ],
   "source": [
    "# Rename the variables\n",
    "colnames(data) <- c(\"Employee number\", \"First name\", \"Last name\", \"Birth date\", \"Gender\", \"Job title\", \"Salary\", \"From date\", \"To date\")\n",
    "\n",
    "# Print the modified data frame\n",
    "head(data)"
   ]
  },
  {
   "cell_type": "code",
   "execution_count": 21,
   "metadata": {
    "vscode": {
     "languageId": "r"
    }
   },
   "outputs": [],
   "source": [
    "# Export the data set you currently have as a CSV, without saving the row names.\n",
    "write.csv(data, file = \"export.csv\", row.names = FALSE)"
   ]
  },
  {
   "cell_type": "code",
   "execution_count": 23,
   "metadata": {
    "vscode": {
     "languageId": "r"
    }
   },
   "outputs": [
    {
     "data": {
      "text/html": [
       "<table class=\"dataframe\">\n",
       "<caption>A data.frame: 6 × 14</caption>\n",
       "<thead>\n",
       "\t<tr><th></th><th scope=col>Employee.number</th><th scope=col>First.name</th><th scope=col>Last.name</th><th scope=col>Birth.date</th><th scope=col>Gender</th><th scope=col>Job.title</th><th scope=col>Salary</th><th scope=col>From.date</th><th scope=col>To.date</th><th scope=col>NA.</th><th scope=col>NA..1</th><th scope=col>NA..2</th><th scope=col>NA..3</th><th scope=col>NA..4</th></tr>\n",
       "\t<tr><th></th><th scope=col>&lt;int&gt;</th><th scope=col>&lt;chr&gt;</th><th scope=col>&lt;int&gt;</th><th scope=col>&lt;int&gt;</th><th scope=col>&lt;int&gt;</th><th scope=col>&lt;int&gt;</th><th scope=col>&lt;chr&gt;</th><th scope=col>&lt;chr&gt;</th><th scope=col>&lt;int&gt;</th><th scope=col>&lt;int&gt;</th><th scope=col>&lt;int&gt;</th><th scope=col>&lt;int&gt;</th><th scope=col>&lt;int&gt;</th><th scope=col>&lt;int&gt;</th></tr>\n",
       "</thead>\n",
       "<tbody>\n",
       "\t<tr><th scope=row>1</th><td>1</td><td>bulbasaur </td><td>1</td><td> 7</td><td>  69</td><td> 64</td><td>grass</td><td>poison</td><td>49</td><td>49</td><td>45</td><td> 65</td><td> 65</td><td> 45</td></tr>\n",
       "\t<tr><th scope=row>2</th><td>2</td><td>ivysaur   </td><td>2</td><td>10</td><td> 130</td><td>142</td><td>grass</td><td>poison</td><td>62</td><td>63</td><td>60</td><td> 80</td><td> 80</td><td> 60</td></tr>\n",
       "\t<tr><th scope=row>3</th><td>3</td><td>venusaur  </td><td>3</td><td>20</td><td>1000</td><td>236</td><td>grass</td><td>poison</td><td>82</td><td>83</td><td>80</td><td>100</td><td>100</td><td> 80</td></tr>\n",
       "\t<tr><th scope=row>4</th><td>4</td><td>charmander</td><td>4</td><td> 6</td><td>  85</td><td> 62</td><td>fire </td><td>NA    </td><td>52</td><td>43</td><td>39</td><td> 60</td><td> 50</td><td> 65</td></tr>\n",
       "\t<tr><th scope=row>5</th><td>5</td><td>charmeleon</td><td>5</td><td>11</td><td> 190</td><td>142</td><td>fire </td><td>NA    </td><td>64</td><td>58</td><td>58</td><td> 80</td><td> 65</td><td> 80</td></tr>\n",
       "\t<tr><th scope=row>6</th><td>6</td><td>charizard </td><td>6</td><td>17</td><td> 905</td><td>240</td><td>fire </td><td>flying</td><td>84</td><td>78</td><td>78</td><td>109</td><td> 85</td><td>100</td></tr>\n",
       "</tbody>\n",
       "</table>\n"
      ],
      "text/latex": [
       "A data.frame: 6 × 14\n",
       "\\begin{tabular}{r|llllllllllllll}\n",
       "  & Employee.number & First.name & Last.name & Birth.date & Gender & Job.title & Salary & From.date & To.date & NA. & NA..1 & NA..2 & NA..3 & NA..4\\\\\n",
       "  & <int> & <chr> & <int> & <int> & <int> & <int> & <chr> & <chr> & <int> & <int> & <int> & <int> & <int> & <int>\\\\\n",
       "\\hline\n",
       "\t1 & 1 & bulbasaur  & 1 &  7 &   69 &  64 & grass & poison & 49 & 49 & 45 &  65 &  65 &  45\\\\\n",
       "\t2 & 2 & ivysaur    & 2 & 10 &  130 & 142 & grass & poison & 62 & 63 & 60 &  80 &  80 &  60\\\\\n",
       "\t3 & 3 & venusaur   & 3 & 20 & 1000 & 236 & grass & poison & 82 & 83 & 80 & 100 & 100 &  80\\\\\n",
       "\t4 & 4 & charmander & 4 &  6 &   85 &  62 & fire  & NA     & 52 & 43 & 39 &  60 &  50 &  65\\\\\n",
       "\t5 & 5 & charmeleon & 5 & 11 &  190 & 142 & fire  & NA     & 64 & 58 & 58 &  80 &  65 &  80\\\\\n",
       "\t6 & 6 & charizard  & 6 & 17 &  905 & 240 & fire  & flying & 84 & 78 & 78 & 109 &  85 & 100\\\\\n",
       "\\end{tabular}\n"
      ],
      "text/markdown": [
       "\n",
       "A data.frame: 6 × 14\n",
       "\n",
       "| <!--/--> | Employee.number &lt;int&gt; | First.name &lt;chr&gt; | Last.name &lt;int&gt; | Birth.date &lt;int&gt; | Gender &lt;int&gt; | Job.title &lt;int&gt; | Salary &lt;chr&gt; | From.date &lt;chr&gt; | To.date &lt;int&gt; | NA. &lt;int&gt; | NA..1 &lt;int&gt; | NA..2 &lt;int&gt; | NA..3 &lt;int&gt; | NA..4 &lt;int&gt; |\n",
       "|---|---|---|---|---|---|---|---|---|---|---|---|---|---|---|\n",
       "| 1 | 1 | bulbasaur  | 1 |  7 |   69 |  64 | grass | poison | 49 | 49 | 45 |  65 |  65 |  45 |\n",
       "| 2 | 2 | ivysaur    | 2 | 10 |  130 | 142 | grass | poison | 62 | 63 | 60 |  80 |  80 |  60 |\n",
       "| 3 | 3 | venusaur   | 3 | 20 | 1000 | 236 | grass | poison | 82 | 83 | 80 | 100 | 100 |  80 |\n",
       "| 4 | 4 | charmander | 4 |  6 |   85 |  62 | fire  | NA     | 52 | 43 | 39 |  60 |  50 |  65 |\n",
       "| 5 | 5 | charmeleon | 5 | 11 |  190 | 142 | fire  | NA     | 64 | 58 | 58 |  80 |  65 |  80 |\n",
       "| 6 | 6 | charizard  | 6 | 17 |  905 | 240 | fire  | flying | 84 | 78 | 78 | 109 |  85 | 100 |\n",
       "\n"
      ],
      "text/plain": [
       "  Employee.number First.name Last.name Birth.date Gender Job.title Salary\n",
       "1 1               bulbasaur  1          7           69    64       grass \n",
       "2 2               ivysaur    2         10          130   142       grass \n",
       "3 3               venusaur   3         20         1000   236       grass \n",
       "4 4               charmander 4          6           85    62       fire  \n",
       "5 5               charmeleon 5         11          190   142       fire  \n",
       "6 6               charizard  6         17          905   240       fire  \n",
       "  From.date To.date NA. NA..1 NA..2 NA..3 NA..4\n",
       "1 poison    49      49  45     65    65    45  \n",
       "2 poison    62      63  60     80    80    60  \n",
       "3 poison    82      83  80    100   100    80  \n",
       "4 NA        52      43  39     60    50    65  \n",
       "5 NA        64      58  58     80    65    80  \n",
       "6 flying    84      78  78    109    85   100  "
      ]
     },
     "metadata": {},
     "output_type": "display_data"
    }
   ],
   "source": [
    "# Import it back again to make sure everything is okay.\n",
    "data <- read.csv(\"export.csv\")\n",
    "head(data)"
   ]
  },
  {
   "cell_type": "code",
   "execution_count": 33,
   "metadata": {
    "vscode": {
     "languageId": "r"
    }
   },
   "outputs": [
    {
     "data": {
      "text/html": [
       "<table class=\"dataframe\">\n",
       "<caption>A data.frame: 7 × 5</caption>\n",
       "<thead>\n",
       "\t<tr><th scope=col>Name</th><th scope=col>Months_old</th><th scope=col>Size</th><th scope=col>Weight</th><th scope=col>Breed</th></tr>\n",
       "\t<tr><th scope=col>&lt;chr&gt;</th><th scope=col>&lt;dbl&gt;</th><th scope=col>&lt;chr&gt;</th><th scope=col>&lt;dbl&gt;</th><th scope=col>&lt;chr&gt;</th></tr>\n",
       "</thead>\n",
       "<tbody>\n",
       "\t<tr><td>Flipper</td><td> 53</td><td>medium     </td><td>21</td><td>dog</td></tr>\n",
       "\t<tr><td>Bromley</td><td> 19</td><td>small      </td><td> 8</td><td>dog</td></tr>\n",
       "\t<tr><td>Nox    </td><td> 34</td><td>medium     </td><td> 4</td><td>cat</td></tr>\n",
       "\t<tr><td>Orion  </td><td> 41</td><td>large      </td><td> 6</td><td>cat</td></tr>\n",
       "\t<tr><td>Dagger </td><td> 84</td><td>small      </td><td> 7</td><td>dog</td></tr>\n",
       "\t<tr><td>Zizi   </td><td>140</td><td>extra small</td><td> 2</td><td>cat</td></tr>\n",
       "\t<tr><td>Carrie </td><td>109</td><td>large      </td><td>36</td><td>dog</td></tr>\n",
       "</tbody>\n",
       "</table>\n"
      ],
      "text/latex": [
       "A data.frame: 7 × 5\n",
       "\\begin{tabular}{lllll}\n",
       " Name & Months\\_old & Size & Weight & Breed\\\\\n",
       " <chr> & <dbl> & <chr> & <dbl> & <chr>\\\\\n",
       "\\hline\n",
       "\t Flipper &  53 & medium      & 21 & dog\\\\\n",
       "\t Bromley &  19 & small       &  8 & dog\\\\\n",
       "\t Nox     &  34 & medium      &  4 & cat\\\\\n",
       "\t Orion   &  41 & large       &  6 & cat\\\\\n",
       "\t Dagger  &  84 & small       &  7 & dog\\\\\n",
       "\t Zizi    & 140 & extra small &  2 & cat\\\\\n",
       "\t Carrie  & 109 & large       & 36 & dog\\\\\n",
       "\\end{tabular}\n"
      ],
      "text/markdown": [
       "\n",
       "A data.frame: 7 × 5\n",
       "\n",
       "| Name &lt;chr&gt; | Months_old &lt;dbl&gt; | Size &lt;chr&gt; | Weight &lt;dbl&gt; | Breed &lt;chr&gt; |\n",
       "|---|---|---|---|---|\n",
       "| Flipper |  53 | medium      | 21 | dog |\n",
       "| Bromley |  19 | small       |  8 | dog |\n",
       "| Nox     |  34 | medium      |  4 | cat |\n",
       "| Orion   |  41 | large       |  6 | cat |\n",
       "| Dagger  |  84 | small       |  7 | dog |\n",
       "| Zizi    | 140 | extra small |  2 | cat |\n",
       "| Carrie  | 109 | large       | 36 | dog |\n",
       "\n"
      ],
      "text/plain": [
       "  Name    Months_old Size        Weight Breed\n",
       "1 Flipper  53        medium      21     dog  \n",
       "2 Bromley  19        small        8     dog  \n",
       "3 Nox      34        medium       4     cat  \n",
       "4 Orion    41        large        6     cat  \n",
       "5 Dagger   84        small        7     dog  \n",
       "6 Zizi    140        extra small  2     cat  \n",
       "7 Carrie  109        large       36     dog  "
      ]
     },
     "metadata": {},
     "output_type": "display_data"
    }
   ],
   "source": [
    "# Create a data frame that looks like this:\n",
    "\n",
    "#Name           Months old   Size Weight  Breed\n",
    "#Flipper         53      medium     21   dog\n",
    "#Bromley         19       small      8   dog\n",
    "#Nox             34      medium      4   cat\n",
    "#Orion           41       large      6   cat\n",
    "#Dagger          84       small      7   dog\n",
    "#Zizi           140 extra small      2   cat\n",
    "#Carrie         109       large     36   dog\n",
    "\n",
    "df <- data.frame(\n",
    "  Name = c(\"Flipper\", \"Bromley\", \"Nox\", \"Orion\", \"Dagger\", \"Zizi\", \"Carrie\"),\n",
    "  Months_old = c(53, 19, 34, 41, 84, 140, 109),\n",
    "  Size = c(\"medium\", \"small\", \"medium\", \"large\", \"small\", \"extra small\", \"large\"),\n",
    "  Weight = c(21, 8, 4, 6, 7, 2, 36),\n",
    "  Breed = c(\"dog\", \"dog\", \"cat\", \"cat\", \"dog\", \"cat\", \"dog\")\n",
    ")\n",
    "df"
   ]
  },
  {
   "cell_type": "code",
   "execution_count": 34,
   "metadata": {
    "vscode": {
     "languageId": "r"
    }
   },
   "outputs": [
    {
     "data": {
      "text/html": [
       "<table class=\"dataframe\">\n",
       "<caption>A data.frame: 7 × 5</caption>\n",
       "<thead>\n",
       "\t<tr><th scope=col>Name</th><th scope=col>Months_old</th><th scope=col>Size</th><th scope=col>Weight</th><th scope=col>Breed</th></tr>\n",
       "\t<tr><th scope=col>&lt;chr&gt;</th><th scope=col>&lt;dbl&gt;</th><th scope=col>&lt;chr&gt;</th><th scope=col>&lt;dbl&gt;</th><th scope=col>&lt;chr&gt;</th></tr>\n",
       "</thead>\n",
       "<tbody>\n",
       "\t<tr><td>Flipper</td><td> 53</td><td>medium     </td><td>21</td><td>cat</td></tr>\n",
       "\t<tr><td>Bromley</td><td> 19</td><td>small      </td><td> 8</td><td>cat</td></tr>\n",
       "\t<tr><td>Nox    </td><td> 34</td><td>medium     </td><td> 4</td><td>dog</td></tr>\n",
       "\t<tr><td>Orion  </td><td> 41</td><td>large      </td><td> 6</td><td>dog</td></tr>\n",
       "\t<tr><td>Dagger </td><td> 84</td><td>small      </td><td> 7</td><td>cat</td></tr>\n",
       "\t<tr><td>Zizi   </td><td>140</td><td>extra small</td><td> 2</td><td>dog</td></tr>\n",
       "\t<tr><td>Carrie </td><td>109</td><td>large      </td><td>36</td><td>cat</td></tr>\n",
       "</tbody>\n",
       "</table>\n"
      ],
      "text/latex": [
       "A data.frame: 7 × 5\n",
       "\\begin{tabular}{lllll}\n",
       " Name & Months\\_old & Size & Weight & Breed\\\\\n",
       " <chr> & <dbl> & <chr> & <dbl> & <chr>\\\\\n",
       "\\hline\n",
       "\t Flipper &  53 & medium      & 21 & cat\\\\\n",
       "\t Bromley &  19 & small       &  8 & cat\\\\\n",
       "\t Nox     &  34 & medium      &  4 & dog\\\\\n",
       "\t Orion   &  41 & large       &  6 & dog\\\\\n",
       "\t Dagger  &  84 & small       &  7 & cat\\\\\n",
       "\t Zizi    & 140 & extra small &  2 & dog\\\\\n",
       "\t Carrie  & 109 & large       & 36 & cat\\\\\n",
       "\\end{tabular}\n"
      ],
      "text/markdown": [
       "\n",
       "A data.frame: 7 × 5\n",
       "\n",
       "| Name &lt;chr&gt; | Months_old &lt;dbl&gt; | Size &lt;chr&gt; | Weight &lt;dbl&gt; | Breed &lt;chr&gt; |\n",
       "|---|---|---|---|---|\n",
       "| Flipper |  53 | medium      | 21 | cat |\n",
       "| Bromley |  19 | small       |  8 | cat |\n",
       "| Nox     |  34 | medium      |  4 | dog |\n",
       "| Orion   |  41 | large       |  6 | dog |\n",
       "| Dagger  |  84 | small       |  7 | cat |\n",
       "| Zizi    | 140 | extra small |  2 | dog |\n",
       "| Carrie  | 109 | large       | 36 | cat |\n",
       "\n"
      ],
      "text/plain": [
       "  Name    Months_old Size        Weight Breed\n",
       "1 Flipper  53        medium      21     cat  \n",
       "2 Bromley  19        small        8     cat  \n",
       "3 Nox      34        medium       4     dog  \n",
       "4 Orion    41        large        6     dog  \n",
       "5 Dagger   84        small        7     cat  \n",
       "6 Zizi    140        extra small  2     dog  \n",
       "7 Carrie  109        large       36     cat  "
      ]
     },
     "metadata": {},
     "output_type": "display_data"
    }
   ],
   "source": [
    "# Can you think of a way to invert the values for breed?\n",
    "df$Breed <- ifelse(df$Breed == \"dog\", \"cat\", \"dog\")\n",
    "df"
   ]
  },
  {
   "cell_type": "code",
   "execution_count": 35,
   "metadata": {
    "vscode": {
     "languageId": "r"
    }
   },
   "outputs": [
    {
     "data": {
      "text/html": [
       "<table class=\"dataframe\">\n",
       "<caption>A data.frame: 7 × 6</caption>\n",
       "<thead>\n",
       "\t<tr><th scope=col>Name</th><th scope=col>Months_old</th><th scope=col>Size</th><th scope=col>Weight</th><th scope=col>Breed</th><th scope=col>Vaccinated</th></tr>\n",
       "\t<tr><th scope=col>&lt;chr&gt;</th><th scope=col>&lt;dbl&gt;</th><th scope=col>&lt;chr&gt;</th><th scope=col>&lt;dbl&gt;</th><th scope=col>&lt;chr&gt;</th><th scope=col>&lt;chr&gt;</th></tr>\n",
       "</thead>\n",
       "<tbody>\n",
       "\t<tr><td>Flipper</td><td> 53</td><td>medium     </td><td>21</td><td>cat</td><td>Yes</td></tr>\n",
       "\t<tr><td>Bromley</td><td> 19</td><td>small      </td><td> 8</td><td>cat</td><td>Yes</td></tr>\n",
       "\t<tr><td>Nox    </td><td> 34</td><td>medium     </td><td> 4</td><td>dog</td><td>No </td></tr>\n",
       "\t<tr><td>Orion  </td><td> 41</td><td>large      </td><td> 6</td><td>dog</td><td>Yes</td></tr>\n",
       "\t<tr><td>Dagger </td><td> 84</td><td>small      </td><td> 7</td><td>cat</td><td>No </td></tr>\n",
       "\t<tr><td>Zizi   </td><td>140</td><td>extra small</td><td> 2</td><td>dog</td><td>No </td></tr>\n",
       "\t<tr><td>Carrie </td><td>109</td><td>large      </td><td>36</td><td>cat</td><td>Yes</td></tr>\n",
       "</tbody>\n",
       "</table>\n"
      ],
      "text/latex": [
       "A data.frame: 7 × 6\n",
       "\\begin{tabular}{llllll}\n",
       " Name & Months\\_old & Size & Weight & Breed & Vaccinated\\\\\n",
       " <chr> & <dbl> & <chr> & <dbl> & <chr> & <chr>\\\\\n",
       "\\hline\n",
       "\t Flipper &  53 & medium      & 21 & cat & Yes\\\\\n",
       "\t Bromley &  19 & small       &  8 & cat & Yes\\\\\n",
       "\t Nox     &  34 & medium      &  4 & dog & No \\\\\n",
       "\t Orion   &  41 & large       &  6 & dog & Yes\\\\\n",
       "\t Dagger  &  84 & small       &  7 & cat & No \\\\\n",
       "\t Zizi    & 140 & extra small &  2 & dog & No \\\\\n",
       "\t Carrie  & 109 & large       & 36 & cat & Yes\\\\\n",
       "\\end{tabular}\n"
      ],
      "text/markdown": [
       "\n",
       "A data.frame: 7 × 6\n",
       "\n",
       "| Name &lt;chr&gt; | Months_old &lt;dbl&gt; | Size &lt;chr&gt; | Weight &lt;dbl&gt; | Breed &lt;chr&gt; | Vaccinated &lt;chr&gt; |\n",
       "|---|---|---|---|---|---|\n",
       "| Flipper |  53 | medium      | 21 | cat | Yes |\n",
       "| Bromley |  19 | small       |  8 | cat | Yes |\n",
       "| Nox     |  34 | medium      |  4 | dog | No  |\n",
       "| Orion   |  41 | large       |  6 | dog | Yes |\n",
       "| Dagger  |  84 | small       |  7 | cat | No  |\n",
       "| Zizi    | 140 | extra small |  2 | dog | No  |\n",
       "| Carrie  | 109 | large       | 36 | cat | Yes |\n",
       "\n"
      ],
      "text/plain": [
       "  Name    Months_old Size        Weight Breed Vaccinated\n",
       "1 Flipper  53        medium      21     cat   Yes       \n",
       "2 Bromley  19        small        8     cat   Yes       \n",
       "3 Nox      34        medium       4     dog   No        \n",
       "4 Orion    41        large        6     dog   Yes       \n",
       "5 Dagger   84        small        7     cat   No        \n",
       "6 Zizi    140        extra small  2     dog   No        \n",
       "7 Carrie  109        large       36     cat   Yes       "
      ]
     },
     "metadata": {},
     "output_type": "display_data"
    }
   ],
   "source": [
    "# Requirements: the pets data frame from Exercise 16.\n",
    "\n",
    "# 1. Add the \"Vaccinated\" variable to the pets data frame, so it looks like this:\n",
    "  \n",
    "#        Months.old        Size Weight Breed Vaccinated\n",
    "#Flipper         53      medium     21   cat        Yes\n",
    "#Bromley         19       small      8   cat        Yes\n",
    "#Nox             34      medium      4   dog         No\n",
    "#Orion           41       large      6   dog        Yes\n",
    "#Dagger          84       small      7   cat         No\n",
    "#Zizi           140 extra small      2   dog         No\n",
    "#Carrie         109       large     36   cat        Yes\n",
    "df$Vaccinated <- c(\"Yes\", \"Yes\", \"No\", \"Yes\", \"No\", \"No\", \"Yes\")  \n",
    "df"
   ]
  },
  {
   "cell_type": "code",
   "execution_count": 36,
   "metadata": {
    "vscode": {
     "languageId": "r"
    }
   },
   "outputs": [
    {
     "data": {
      "text/html": [
       "<table class=\"dataframe\">\n",
       "<caption>A data.frame: 8 × 6</caption>\n",
       "<thead>\n",
       "\t<tr><th scope=col>Name</th><th scope=col>Months_old</th><th scope=col>Size</th><th scope=col>Weight</th><th scope=col>Breed</th><th scope=col>Vaccinated</th></tr>\n",
       "\t<tr><th scope=col>&lt;chr&gt;</th><th scope=col>&lt;dbl&gt;</th><th scope=col>&lt;chr&gt;</th><th scope=col>&lt;dbl&gt;</th><th scope=col>&lt;chr&gt;</th><th scope=col>&lt;chr&gt;</th></tr>\n",
       "</thead>\n",
       "<tbody>\n",
       "\t<tr><td>Flipper</td><td> 53</td><td>medium     </td><td>21</td><td>cat</td><td>Yes</td></tr>\n",
       "\t<tr><td>Bromley</td><td> 19</td><td>small      </td><td> 8</td><td>cat</td><td>Yes</td></tr>\n",
       "\t<tr><td>Nox    </td><td> 34</td><td>medium     </td><td> 4</td><td>dog</td><td>No </td></tr>\n",
       "\t<tr><td>Orion  </td><td> 41</td><td>large      </td><td> 6</td><td>dog</td><td>Yes</td></tr>\n",
       "\t<tr><td>Dagger </td><td> 84</td><td>small      </td><td> 7</td><td>cat</td><td>No </td></tr>\n",
       "\t<tr><td>Zizi   </td><td>140</td><td>extra small</td><td> 2</td><td>dog</td><td>No </td></tr>\n",
       "\t<tr><td>Carrie </td><td>109</td><td>large      </td><td>36</td><td>cat</td><td>Yes</td></tr>\n",
       "\t<tr><td>Milo   </td><td> 67</td><td>small      </td><td> 7</td><td>dog</td><td>Yes</td></tr>\n",
       "</tbody>\n",
       "</table>\n"
      ],
      "text/latex": [
       "A data.frame: 8 × 6\n",
       "\\begin{tabular}{llllll}\n",
       " Name & Months\\_old & Size & Weight & Breed & Vaccinated\\\\\n",
       " <chr> & <dbl> & <chr> & <dbl> & <chr> & <chr>\\\\\n",
       "\\hline\n",
       "\t Flipper &  53 & medium      & 21 & cat & Yes\\\\\n",
       "\t Bromley &  19 & small       &  8 & cat & Yes\\\\\n",
       "\t Nox     &  34 & medium      &  4 & dog & No \\\\\n",
       "\t Orion   &  41 & large       &  6 & dog & Yes\\\\\n",
       "\t Dagger  &  84 & small       &  7 & cat & No \\\\\n",
       "\t Zizi    & 140 & extra small &  2 & dog & No \\\\\n",
       "\t Carrie  & 109 & large       & 36 & cat & Yes\\\\\n",
       "\t Milo    &  67 & small       &  7 & dog & Yes\\\\\n",
       "\\end{tabular}\n"
      ],
      "text/markdown": [
       "\n",
       "A data.frame: 8 × 6\n",
       "\n",
       "| Name &lt;chr&gt; | Months_old &lt;dbl&gt; | Size &lt;chr&gt; | Weight &lt;dbl&gt; | Breed &lt;chr&gt; | Vaccinated &lt;chr&gt; |\n",
       "|---|---|---|---|---|---|\n",
       "| Flipper |  53 | medium      | 21 | cat | Yes |\n",
       "| Bromley |  19 | small       |  8 | cat | Yes |\n",
       "| Nox     |  34 | medium      |  4 | dog | No  |\n",
       "| Orion   |  41 | large       |  6 | dog | Yes |\n",
       "| Dagger  |  84 | small       |  7 | cat | No  |\n",
       "| Zizi    | 140 | extra small |  2 | dog | No  |\n",
       "| Carrie  | 109 | large       | 36 | cat | Yes |\n",
       "| Milo    |  67 | small       |  7 | dog | Yes |\n",
       "\n"
      ],
      "text/plain": [
       "  Name    Months_old Size        Weight Breed Vaccinated\n",
       "1 Flipper  53        medium      21     cat   Yes       \n",
       "2 Bromley  19        small        8     cat   Yes       \n",
       "3 Nox      34        medium       4     dog   No        \n",
       "4 Orion    41        large        6     dog   Yes       \n",
       "5 Dagger   84        small        7     cat   No        \n",
       "6 Zizi    140        extra small  2     dog   No        \n",
       "7 Carrie  109        large       36     cat   Yes       \n",
       "8 Milo     67        small        7     dog   Yes       "
      ]
     },
     "metadata": {},
     "output_type": "display_data"
    }
   ],
   "source": [
    "#        Months.old        Size Weight Breed Vaccinated\n",
    "#Flipper         53      medium     21   cat        Yes\n",
    "#Bromley         19       small      8   cat        Yes\n",
    "#Nox             34      medium      4   dog         No\n",
    "#Orion           41       large      6   dog        Yes\n",
    "#Dagger          84       small      7   cat         No\n",
    "#Zizi           140 extra small      2   dog         No\n",
    "#Carrie         109       large     36   cat        Yes\n",
    "#Milo            67       small      7   dog        Yes\n",
    "new_observation <- data.frame(\n",
    "  Name = \"Milo\",\n",
    "  Months_old = 67,\n",
    "  Size = \"small\",\n",
    "  Weight = 7,\n",
    "  Breed = \"dog\",\n",
    "  Vaccinated = \"Yes\"\n",
    ")\n",
    "\n",
    "df <- rbind(df, new_observation)\n",
    "df"
   ]
  },
  {
   "attachments": {},
   "cell_type": "markdown",
   "metadata": {},
   "source": []
  },
  {
   "cell_type": "code",
   "execution_count": null,
   "metadata": {
    "vscode": {
     "languageId": "r"
    }
   },
   "outputs": [],
   "source": [
    "# How many rows and columns does your new data frame have? What are their names, and what is the class of each variable (the answer to this will be different depending on whether you create your data frames by encoding the string variables as factors or not).\n",
    "## How many rows and columns does your new data frame have?\n",
    "### The data frame df has 8 rows and 6 columns.\n",
    "The names of the variables in the data frame are:\n",
    "Name\n",
    "Months_old\n",
    "Size\n",
    "Weight\n",
    "Breed\n",
    "Vaccinated\n",
    "\n",
    "The class of each variable in the data frame is as follows:\n",
    "Name: character\n",
    "Months_old: numeric\n",
    "Size: character\n",
    "Weight: numeric\n",
    "Breed: character\n",
    "Vaccinated: character"
   ]
  },
  {
   "cell_type": "code",
   "execution_count": 37,
   "metadata": {
    "vscode": {
     "languageId": "r"
    }
   },
   "outputs": [
    {
     "data": {
      "text/html": [
       "8"
      ],
      "text/latex": [
       "8"
      ],
      "text/markdown": [
       "8"
      ],
      "text/plain": [
       "[1] 8"
      ]
     },
     "metadata": {},
     "output_type": "display_data"
    },
    {
     "data": {
      "text/html": [
       "6"
      ],
      "text/latex": [
       "6"
      ],
      "text/markdown": [
       "6"
      ],
      "text/plain": [
       "[1] 6"
      ]
     },
     "metadata": {},
     "output_type": "display_data"
    },
    {
     "data": {
      "text/html": [
       "<style>\n",
       ".list-inline {list-style: none; margin:0; padding: 0}\n",
       ".list-inline>li {display: inline-block}\n",
       ".list-inline>li:not(:last-child)::after {content: \"\\00b7\"; padding: 0 .5ex}\n",
       "</style>\n",
       "<ol class=list-inline><li>'Name'</li><li>'Months_old'</li><li>'Size'</li><li>'Weight'</li><li>'Breed'</li><li>'Vaccinated'</li></ol>\n"
      ],
      "text/latex": [
       "\\begin{enumerate*}\n",
       "\\item 'Name'\n",
       "\\item 'Months\\_old'\n",
       "\\item 'Size'\n",
       "\\item 'Weight'\n",
       "\\item 'Breed'\n",
       "\\item 'Vaccinated'\n",
       "\\end{enumerate*}\n"
      ],
      "text/markdown": [
       "1. 'Name'\n",
       "2. 'Months_old'\n",
       "3. 'Size'\n",
       "4. 'Weight'\n",
       "5. 'Breed'\n",
       "6. 'Vaccinated'\n",
       "\n",
       "\n"
      ],
      "text/plain": [
       "[1] \"Name\"       \"Months_old\" \"Size\"       \"Weight\"     \"Breed\"     \n",
       "[6] \"Vaccinated\""
      ]
     },
     "metadata": {},
     "output_type": "display_data"
    },
    {
     "data": {
      "text/html": [
       "<style>\n",
       ".dl-inline {width: auto; margin:0; padding: 0}\n",
       ".dl-inline>dt, .dl-inline>dd {float: none; width: auto; display: inline-block}\n",
       ".dl-inline>dt::after {content: \":\\0020\"; padding-right: .5ex}\n",
       ".dl-inline>dt:not(:first-of-type) {padding-left: .5ex}\n",
       "</style><dl class=dl-inline><dt>Name</dt><dd>'character'</dd><dt>Months_old</dt><dd>'numeric'</dd><dt>Size</dt><dd>'character'</dd><dt>Weight</dt><dd>'numeric'</dd><dt>Breed</dt><dd>'character'</dd><dt>Vaccinated</dt><dd>'character'</dd></dl>\n"
      ],
      "text/latex": [
       "\\begin{description*}\n",
       "\\item[Name] 'character'\n",
       "\\item[Months\\textbackslash{}\\_old] 'numeric'\n",
       "\\item[Size] 'character'\n",
       "\\item[Weight] 'numeric'\n",
       "\\item[Breed] 'character'\n",
       "\\item[Vaccinated] 'character'\n",
       "\\end{description*}\n"
      ],
      "text/markdown": [
       "Name\n",
       ":   'character'Months_old\n",
       ":   'numeric'Size\n",
       ":   'character'Weight\n",
       ":   'numeric'Breed\n",
       ":   'character'Vaccinated\n",
       ":   'character'\n",
       "\n"
      ],
      "text/plain": [
       "       Name  Months_old        Size      Weight       Breed  Vaccinated \n",
       "\"character\"   \"numeric\" \"character\"   \"numeric\" \"character\" \"character\" "
      ]
     },
     "metadata": {},
     "output_type": "display_data"
    }
   ],
   "source": [
    "# Get the number of rows and columns in the new data frame\n",
    "num_rows <- nrow(df)\n",
    "num_columns <- ncol(df)\n",
    "\n",
    "# Get the names of the variables in the data frame\n",
    "variable_names <- names(df)\n",
    "\n",
    "# Get the class of each variable in the data frame\n",
    "variable_class <- sapply(df, class)\n",
    "\n",
    "# Print the results\n",
    "num_rows\n",
    "num_columns\n",
    "variable_names\n",
    "variable_class"
   ]
  },
  {
   "cell_type": "code",
   "execution_count": 39,
   "metadata": {
    "vscode": {
     "languageId": "r"
    }
   },
   "outputs": [
    {
     "name": "stderr",
     "output_type": "stream",
     "text": [
      "also installing the dependencies 'colorspace', 'farver', 'labeling', 'munsell', 'RColorBrewer', 'viridisLite', 'pkgconfig', 'gtable', 'isoband', 'scales', 'tibble'\n",
      "\n",
      "\n"
     ]
    },
    {
     "name": "stdout",
     "output_type": "stream",
     "text": [
      "package 'colorspace' successfully unpacked and MD5 sums checked\n",
      "package 'farver' successfully unpacked and MD5 sums checked\n",
      "package 'labeling' successfully unpacked and MD5 sums checked\n",
      "package 'munsell' successfully unpacked and MD5 sums checked\n",
      "package 'RColorBrewer' successfully unpacked and MD5 sums checked\n",
      "package 'viridisLite' successfully unpacked and MD5 sums checked\n",
      "package 'pkgconfig' successfully unpacked and MD5 sums checked\n",
      "package 'gtable' successfully unpacked and MD5 sums checked\n",
      "package 'isoband' successfully unpacked and MD5 sums checked\n",
      "package 'scales' successfully unpacked and MD5 sums checked\n",
      "package 'tibble' successfully unpacked and MD5 sums checked\n",
      "package 'ggplot2' successfully unpacked and MD5 sums checked\n",
      "\n",
      "The downloaded binary packages are in\n",
      "\tC:\\Users\\baoth\\AppData\\Local\\Temp\\RtmpSQPf2n\\downloaded_packages\n"
     ]
    }
   ],
   "source": [
    "# 2. Load the diamonds data set from the ggplot2 package. Check its class and if it isn't a data frame, convert it to one.\n",
    "install.packages(\"ggplot2\")  # Install ggplot2 package\n",
    "library(ggplot2)             # Load ggplot2 package\n",
    "data(diamonds)               # Load diamonds dataset"
   ]
  },
  {
   "cell_type": "code",
   "execution_count": 43,
   "metadata": {
    "vscode": {
     "languageId": "r"
    }
   },
   "outputs": [
    {
     "data": {
      "text/html": [
       "<style>\n",
       ".list-inline {list-style: none; margin:0; padding: 0}\n",
       ".list-inline>li {display: inline-block}\n",
       ".list-inline>li:not(:last-child)::after {content: \"\\00b7\"; padding: 0 .5ex}\n",
       "</style>\n",
       "<ol class=list-inline><li>'tbl_df'</li><li>'tbl'</li><li>'data.frame'</li></ol>\n"
      ],
      "text/latex": [
       "\\begin{enumerate*}\n",
       "\\item 'tbl\\_df'\n",
       "\\item 'tbl'\n",
       "\\item 'data.frame'\n",
       "\\end{enumerate*}\n"
      ],
      "text/markdown": [
       "1. 'tbl_df'\n",
       "2. 'tbl'\n",
       "3. 'data.frame'\n",
       "\n",
       "\n"
      ],
      "text/plain": [
       "[1] \"tbl_df\"     \"tbl\"        \"data.frame\""
      ]
     },
     "metadata": {},
     "output_type": "display_data"
    }
   ],
   "source": [
    "# Check its class and if it isn't a data frame, convert it to one.\n",
    "class_before <- class(diamonds)\n",
    "class_before"
   ]
  },
  {
   "cell_type": "code",
   "execution_count": 45,
   "metadata": {
    "vscode": {
     "languageId": "r"
    }
   },
   "outputs": [
    {
     "data": {
      "text/html": [
       "<style>\n",
       ".list-inline {list-style: none; margin:0; padding: 0}\n",
       ".list-inline>li {display: inline-block}\n",
       ".list-inline>li:not(:last-child)::after {content: \"\\00b7\"; padding: 0 .5ex}\n",
       "</style>\n",
       "<ol class=list-inline><li>'ability.cov'</li><li>'airmiles'</li><li>'AirPassengers'</li><li>'airquality'</li><li>'anscombe'</li><li>'attenu'</li><li>'attitude'</li><li>'austres'</li><li>'beaver1'</li><li>'beaver2'</li><li>'BJsales'</li><li>'BJsales.lead'</li><li>'BOD'</li><li>'cars'</li><li>'ChickWeight'</li><li>'chickwts'</li><li>'co2'</li><li>'CO2'</li><li>'crimtab'</li><li>'discoveries'</li><li>'DNase'</li><li>'esoph'</li><li>'euro'</li><li>'euro.cross'</li><li>'eurodist'</li><li>'EuStockMarkets'</li><li>'faithful'</li><li>'fdeaths'</li><li>'Formaldehyde'</li><li>'freeny'</li><li>'freeny.x'</li><li>'freeny.y'</li><li>'HairEyeColor'</li><li>'Harman23.cor'</li><li>'Harman74.cor'</li><li>'Indometh'</li><li>'infert'</li><li>'InsectSprays'</li><li>'iris'</li><li>'iris3'</li><li>'islands'</li><li>'JohnsonJohnson'</li><li>'LakeHuron'</li><li>'ldeaths'</li><li>'lh'</li><li>'LifeCycleSavings'</li><li>'Loblolly'</li><li>'longley'</li><li>'lynx'</li><li>'mdeaths'</li><li>'morley'</li><li>'mtcars'</li><li>'nhtemp'</li><li>'Nile'</li><li>'nottem'</li><li>'npk'</li><li>'occupationalStatus'</li><li>'Orange'</li><li>'OrchardSprays'</li><li>'PlantGrowth'</li><li>'precip'</li><li>'presidents'</li><li>'pressure'</li><li>'Puromycin'</li><li>'quakes'</li><li>'randu'</li><li>'rivers'</li><li>'rock'</li><li>'Seatbelts'</li><li>'sleep'</li><li>'stack.loss'</li><li>'stack.x'</li><li>'stackloss'</li><li>'state.abb'</li><li>'state.area'</li><li>'state.center'</li><li>'state.division'</li><li>'state.name'</li><li>'state.region'</li><li>'state.x77'</li><li>'sunspot.month'</li><li>'sunspot.year'</li><li>'sunspots'</li><li>'swiss'</li><li>'Theoph'</li><li>'Titanic'</li><li>'ToothGrowth'</li><li>'treering'</li><li>'trees'</li><li>'UCBAdmissions'</li><li>'UKDriverDeaths'</li><li>'UKgas'</li><li>'USAccDeaths'</li><li>'USArrests'</li><li>'UScitiesD'</li><li>'USJudgeRatings'</li><li>'USPersonalExpenditure'</li><li>'uspop'</li><li>'VADeaths'</li><li>'volcano'</li><li>'warpbreaks'</li><li>'women'</li><li>'WorldPhones'</li><li>'WWWusage'</li></ol>\n"
      ],
      "text/latex": [
       "\\begin{enumerate*}\n",
       "\\item 'ability.cov'\n",
       "\\item 'airmiles'\n",
       "\\item 'AirPassengers'\n",
       "\\item 'airquality'\n",
       "\\item 'anscombe'\n",
       "\\item 'attenu'\n",
       "\\item 'attitude'\n",
       "\\item 'austres'\n",
       "\\item 'beaver1'\n",
       "\\item 'beaver2'\n",
       "\\item 'BJsales'\n",
       "\\item 'BJsales.lead'\n",
       "\\item 'BOD'\n",
       "\\item 'cars'\n",
       "\\item 'ChickWeight'\n",
       "\\item 'chickwts'\n",
       "\\item 'co2'\n",
       "\\item 'CO2'\n",
       "\\item 'crimtab'\n",
       "\\item 'discoveries'\n",
       "\\item 'DNase'\n",
       "\\item 'esoph'\n",
       "\\item 'euro'\n",
       "\\item 'euro.cross'\n",
       "\\item 'eurodist'\n",
       "\\item 'EuStockMarkets'\n",
       "\\item 'faithful'\n",
       "\\item 'fdeaths'\n",
       "\\item 'Formaldehyde'\n",
       "\\item 'freeny'\n",
       "\\item 'freeny.x'\n",
       "\\item 'freeny.y'\n",
       "\\item 'HairEyeColor'\n",
       "\\item 'Harman23.cor'\n",
       "\\item 'Harman74.cor'\n",
       "\\item 'Indometh'\n",
       "\\item 'infert'\n",
       "\\item 'InsectSprays'\n",
       "\\item 'iris'\n",
       "\\item 'iris3'\n",
       "\\item 'islands'\n",
       "\\item 'JohnsonJohnson'\n",
       "\\item 'LakeHuron'\n",
       "\\item 'ldeaths'\n",
       "\\item 'lh'\n",
       "\\item 'LifeCycleSavings'\n",
       "\\item 'Loblolly'\n",
       "\\item 'longley'\n",
       "\\item 'lynx'\n",
       "\\item 'mdeaths'\n",
       "\\item 'morley'\n",
       "\\item 'mtcars'\n",
       "\\item 'nhtemp'\n",
       "\\item 'Nile'\n",
       "\\item 'nottem'\n",
       "\\item 'npk'\n",
       "\\item 'occupationalStatus'\n",
       "\\item 'Orange'\n",
       "\\item 'OrchardSprays'\n",
       "\\item 'PlantGrowth'\n",
       "\\item 'precip'\n",
       "\\item 'presidents'\n",
       "\\item 'pressure'\n",
       "\\item 'Puromycin'\n",
       "\\item 'quakes'\n",
       "\\item 'randu'\n",
       "\\item 'rivers'\n",
       "\\item 'rock'\n",
       "\\item 'Seatbelts'\n",
       "\\item 'sleep'\n",
       "\\item 'stack.loss'\n",
       "\\item 'stack.x'\n",
       "\\item 'stackloss'\n",
       "\\item 'state.abb'\n",
       "\\item 'state.area'\n",
       "\\item 'state.center'\n",
       "\\item 'state.division'\n",
       "\\item 'state.name'\n",
       "\\item 'state.region'\n",
       "\\item 'state.x77'\n",
       "\\item 'sunspot.month'\n",
       "\\item 'sunspot.year'\n",
       "\\item 'sunspots'\n",
       "\\item 'swiss'\n",
       "\\item 'Theoph'\n",
       "\\item 'Titanic'\n",
       "\\item 'ToothGrowth'\n",
       "\\item 'treering'\n",
       "\\item 'trees'\n",
       "\\item 'UCBAdmissions'\n",
       "\\item 'UKDriverDeaths'\n",
       "\\item 'UKgas'\n",
       "\\item 'USAccDeaths'\n",
       "\\item 'USArrests'\n",
       "\\item 'UScitiesD'\n",
       "\\item 'USJudgeRatings'\n",
       "\\item 'USPersonalExpenditure'\n",
       "\\item 'uspop'\n",
       "\\item 'VADeaths'\n",
       "\\item 'volcano'\n",
       "\\item 'warpbreaks'\n",
       "\\item 'women'\n",
       "\\item 'WorldPhones'\n",
       "\\item 'WWWusage'\n",
       "\\end{enumerate*}\n"
      ],
      "text/markdown": [
       "1. 'ability.cov'\n",
       "2. 'airmiles'\n",
       "3. 'AirPassengers'\n",
       "4. 'airquality'\n",
       "5. 'anscombe'\n",
       "6. 'attenu'\n",
       "7. 'attitude'\n",
       "8. 'austres'\n",
       "9. 'beaver1'\n",
       "10. 'beaver2'\n",
       "11. 'BJsales'\n",
       "12. 'BJsales.lead'\n",
       "13. 'BOD'\n",
       "14. 'cars'\n",
       "15. 'ChickWeight'\n",
       "16. 'chickwts'\n",
       "17. 'co2'\n",
       "18. 'CO2'\n",
       "19. 'crimtab'\n",
       "20. 'discoveries'\n",
       "21. 'DNase'\n",
       "22. 'esoph'\n",
       "23. 'euro'\n",
       "24. 'euro.cross'\n",
       "25. 'eurodist'\n",
       "26. 'EuStockMarkets'\n",
       "27. 'faithful'\n",
       "28. 'fdeaths'\n",
       "29. 'Formaldehyde'\n",
       "30. 'freeny'\n",
       "31. 'freeny.x'\n",
       "32. 'freeny.y'\n",
       "33. 'HairEyeColor'\n",
       "34. 'Harman23.cor'\n",
       "35. 'Harman74.cor'\n",
       "36. 'Indometh'\n",
       "37. 'infert'\n",
       "38. 'InsectSprays'\n",
       "39. 'iris'\n",
       "40. 'iris3'\n",
       "41. 'islands'\n",
       "42. 'JohnsonJohnson'\n",
       "43. 'LakeHuron'\n",
       "44. 'ldeaths'\n",
       "45. 'lh'\n",
       "46. 'LifeCycleSavings'\n",
       "47. 'Loblolly'\n",
       "48. 'longley'\n",
       "49. 'lynx'\n",
       "50. 'mdeaths'\n",
       "51. 'morley'\n",
       "52. 'mtcars'\n",
       "53. 'nhtemp'\n",
       "54. 'Nile'\n",
       "55. 'nottem'\n",
       "56. 'npk'\n",
       "57. 'occupationalStatus'\n",
       "58. 'Orange'\n",
       "59. 'OrchardSprays'\n",
       "60. 'PlantGrowth'\n",
       "61. 'precip'\n",
       "62. 'presidents'\n",
       "63. 'pressure'\n",
       "64. 'Puromycin'\n",
       "65. 'quakes'\n",
       "66. 'randu'\n",
       "67. 'rivers'\n",
       "68. 'rock'\n",
       "69. 'Seatbelts'\n",
       "70. 'sleep'\n",
       "71. 'stack.loss'\n",
       "72. 'stack.x'\n",
       "73. 'stackloss'\n",
       "74. 'state.abb'\n",
       "75. 'state.area'\n",
       "76. 'state.center'\n",
       "77. 'state.division'\n",
       "78. 'state.name'\n",
       "79. 'state.region'\n",
       "80. 'state.x77'\n",
       "81. 'sunspot.month'\n",
       "82. 'sunspot.year'\n",
       "83. 'sunspots'\n",
       "84. 'swiss'\n",
       "85. 'Theoph'\n",
       "86. 'Titanic'\n",
       "87. 'ToothGrowth'\n",
       "88. 'treering'\n",
       "89. 'trees'\n",
       "90. 'UCBAdmissions'\n",
       "91. 'UKDriverDeaths'\n",
       "92. 'UKgas'\n",
       "93. 'USAccDeaths'\n",
       "94. 'USArrests'\n",
       "95. 'UScitiesD'\n",
       "96. 'USJudgeRatings'\n",
       "97. 'USPersonalExpenditure'\n",
       "98. 'uspop'\n",
       "99. 'VADeaths'\n",
       "100. 'volcano'\n",
       "101. 'warpbreaks'\n",
       "102. 'women'\n",
       "103. 'WorldPhones'\n",
       "104. 'WWWusage'\n",
       "\n",
       "\n"
      ],
      "text/plain": [
       "  [1] \"ability.cov\"           \"airmiles\"              \"AirPassengers\"        \n",
       "  [4] \"airquality\"            \"anscombe\"              \"attenu\"               \n",
       "  [7] \"attitude\"              \"austres\"               \"beaver1\"              \n",
       " [10] \"beaver2\"               \"BJsales\"               \"BJsales.lead\"         \n",
       " [13] \"BOD\"                   \"cars\"                  \"ChickWeight\"          \n",
       " [16] \"chickwts\"              \"co2\"                   \"CO2\"                  \n",
       " [19] \"crimtab\"               \"discoveries\"           \"DNase\"                \n",
       " [22] \"esoph\"                 \"euro\"                  \"euro.cross\"           \n",
       " [25] \"eurodist\"              \"EuStockMarkets\"        \"faithful\"             \n",
       " [28] \"fdeaths\"               \"Formaldehyde\"          \"freeny\"               \n",
       " [31] \"freeny.x\"              \"freeny.y\"              \"HairEyeColor\"         \n",
       " [34] \"Harman23.cor\"          \"Harman74.cor\"          \"Indometh\"             \n",
       " [37] \"infert\"                \"InsectSprays\"          \"iris\"                 \n",
       " [40] \"iris3\"                 \"islands\"               \"JohnsonJohnson\"       \n",
       " [43] \"LakeHuron\"             \"ldeaths\"               \"lh\"                   \n",
       " [46] \"LifeCycleSavings\"      \"Loblolly\"              \"longley\"              \n",
       " [49] \"lynx\"                  \"mdeaths\"               \"morley\"               \n",
       " [52] \"mtcars\"                \"nhtemp\"                \"Nile\"                 \n",
       " [55] \"nottem\"                \"npk\"                   \"occupationalStatus\"   \n",
       " [58] \"Orange\"                \"OrchardSprays\"         \"PlantGrowth\"          \n",
       " [61] \"precip\"                \"presidents\"            \"pressure\"             \n",
       " [64] \"Puromycin\"             \"quakes\"                \"randu\"                \n",
       " [67] \"rivers\"                \"rock\"                  \"Seatbelts\"            \n",
       " [70] \"sleep\"                 \"stack.loss\"            \"stack.x\"              \n",
       " [73] \"stackloss\"             \"state.abb\"             \"state.area\"           \n",
       " [76] \"state.center\"          \"state.division\"        \"state.name\"           \n",
       " [79] \"state.region\"          \"state.x77\"             \"sunspot.month\"        \n",
       " [82] \"sunspot.year\"          \"sunspots\"              \"swiss\"                \n",
       " [85] \"Theoph\"                \"Titanic\"               \"ToothGrowth\"          \n",
       " [88] \"treering\"              \"trees\"                 \"UCBAdmissions\"        \n",
       " [91] \"UKDriverDeaths\"        \"UKgas\"                 \"USAccDeaths\"          \n",
       " [94] \"USArrests\"             \"UScitiesD\"             \"USJudgeRatings\"       \n",
       " [97] \"USPersonalExpenditure\" \"uspop\"                 \"VADeaths\"             \n",
       "[100] \"volcano\"               \"warpbreaks\"            \"women\"                \n",
       "[103] \"WorldPhones\"           \"WWWusage\"             "
      ]
     },
     "metadata": {},
     "output_type": "display_data"
    }
   ],
   "source": [
    "# 3. Load the built-in UsJudgeRatings data set and check its class. If it's not a data frame, convert it to one.\n",
    "ls(\"package:datasets\")"
   ]
  },
  {
   "cell_type": "code",
   "execution_count": 48,
   "metadata": {
    "vscode": {
     "languageId": "r"
    }
   },
   "outputs": [
    {
     "data": {
      "text/html": [
       "'data.frame'"
      ],
      "text/latex": [
       "'data.frame'"
      ],
      "text/markdown": [
       "'data.frame'"
      ],
      "text/plain": [
       "[1] \"data.frame\""
      ]
     },
     "metadata": {},
     "output_type": "display_data"
    }
   ],
   "source": [
    "# 3. Load the built-in USJudgeRatings data set and check its class. If it's not a data frame, convert it to one.\n",
    "data(USJudgeRatings)\n",
    "class(USJudgeRatings)"
   ]
  },
  {
   "cell_type": "code",
   "execution_count": 50,
   "metadata": {
    "vscode": {
     "languageId": "r"
    }
   },
   "outputs": [
    {
     "data": {
      "text/html": [
       "'data.frame'"
      ],
      "text/latex": [
       "'data.frame'"
      ],
      "text/markdown": [
       "'data.frame'"
      ],
      "text/plain": [
       "[1] \"data.frame\""
      ]
     },
     "metadata": {},
     "output_type": "display_data"
    }
   ],
   "source": [
    "# 3. Load the built-in USJudgeRatings data set and check its class. If it's not a data frame, convert it to one.\n",
    "if (!is.data.frame(USJudgeRatings)) { USJudgeRatings <- as.data.frame(USJudgeRatings) }\n",
    "class(USJudgeRatings)"
   ]
  },
  {
   "cell_type": "code",
   "execution_count": 51,
   "metadata": {
    "vscode": {
     "languageId": "r"
    }
   },
   "outputs": [
    {
     "data": {
      "text/html": [
       "<table class=\"dataframe\">\n",
       "<caption>A data.frame: 6 × 12</caption>\n",
       "<thead>\n",
       "\t<tr><th></th><th scope=col>CONT</th><th scope=col>INTG</th><th scope=col>DMNR</th><th scope=col>DILG</th><th scope=col>CFMG</th><th scope=col>DECI</th><th scope=col>PREP</th><th scope=col>FAMI</th><th scope=col>ORAL</th><th scope=col>WRIT</th><th scope=col>PHYS</th><th scope=col>RTEN</th></tr>\n",
       "\t<tr><th></th><th scope=col>&lt;dbl&gt;</th><th scope=col>&lt;dbl&gt;</th><th scope=col>&lt;dbl&gt;</th><th scope=col>&lt;dbl&gt;</th><th scope=col>&lt;dbl&gt;</th><th scope=col>&lt;dbl&gt;</th><th scope=col>&lt;dbl&gt;</th><th scope=col>&lt;dbl&gt;</th><th scope=col>&lt;dbl&gt;</th><th scope=col>&lt;dbl&gt;</th><th scope=col>&lt;dbl&gt;</th><th scope=col>&lt;dbl&gt;</th></tr>\n",
       "</thead>\n",
       "<tbody>\n",
       "\t<tr><th scope=row>AARONSON,L.H.</th><td>5.7</td><td>7.9</td><td>7.7</td><td>7.3</td><td>7.1</td><td>7.4</td><td>7.1</td><td>7.1</td><td>7.1</td><td>7.0</td><td>8.3</td><td>7.8</td></tr>\n",
       "\t<tr><th scope=row>ALEXANDER,J.M.</th><td>6.8</td><td>8.9</td><td>8.8</td><td>8.5</td><td>7.8</td><td>8.1</td><td>8.0</td><td>8.0</td><td>7.8</td><td>7.9</td><td>8.5</td><td>8.7</td></tr>\n",
       "\t<tr><th scope=row>ARMENTANO,A.J.</th><td>7.2</td><td>8.1</td><td>7.8</td><td>7.8</td><td>7.5</td><td>7.6</td><td>7.5</td><td>7.5</td><td>7.3</td><td>7.4</td><td>7.9</td><td>7.8</td></tr>\n",
       "\t<tr><th scope=row>BERDON,R.I.</th><td>6.8</td><td>8.8</td><td>8.5</td><td>8.8</td><td>8.3</td><td>8.5</td><td>8.7</td><td>8.7</td><td>8.4</td><td>8.5</td><td>8.8</td><td>8.7</td></tr>\n",
       "\t<tr><th scope=row>BRACKEN,J.J.</th><td>7.3</td><td>6.4</td><td>4.3</td><td>6.5</td><td>6.0</td><td>6.2</td><td>5.7</td><td>5.7</td><td>5.1</td><td>5.3</td><td>5.5</td><td>4.8</td></tr>\n",
       "\t<tr><th scope=row>BURNS,E.B.</th><td>6.2</td><td>8.8</td><td>8.7</td><td>8.5</td><td>7.9</td><td>8.0</td><td>8.1</td><td>8.0</td><td>8.0</td><td>8.0</td><td>8.6</td><td>8.6</td></tr>\n",
       "</tbody>\n",
       "</table>\n"
      ],
      "text/latex": [
       "A data.frame: 6 × 12\n",
       "\\begin{tabular}{r|llllllllllll}\n",
       "  & CONT & INTG & DMNR & DILG & CFMG & DECI & PREP & FAMI & ORAL & WRIT & PHYS & RTEN\\\\\n",
       "  & <dbl> & <dbl> & <dbl> & <dbl> & <dbl> & <dbl> & <dbl> & <dbl> & <dbl> & <dbl> & <dbl> & <dbl>\\\\\n",
       "\\hline\n",
       "\tAARONSON,L.H. & 5.7 & 7.9 & 7.7 & 7.3 & 7.1 & 7.4 & 7.1 & 7.1 & 7.1 & 7.0 & 8.3 & 7.8\\\\\n",
       "\tALEXANDER,J.M. & 6.8 & 8.9 & 8.8 & 8.5 & 7.8 & 8.1 & 8.0 & 8.0 & 7.8 & 7.9 & 8.5 & 8.7\\\\\n",
       "\tARMENTANO,A.J. & 7.2 & 8.1 & 7.8 & 7.8 & 7.5 & 7.6 & 7.5 & 7.5 & 7.3 & 7.4 & 7.9 & 7.8\\\\\n",
       "\tBERDON,R.I. & 6.8 & 8.8 & 8.5 & 8.8 & 8.3 & 8.5 & 8.7 & 8.7 & 8.4 & 8.5 & 8.8 & 8.7\\\\\n",
       "\tBRACKEN,J.J. & 7.3 & 6.4 & 4.3 & 6.5 & 6.0 & 6.2 & 5.7 & 5.7 & 5.1 & 5.3 & 5.5 & 4.8\\\\\n",
       "\tBURNS,E.B. & 6.2 & 8.8 & 8.7 & 8.5 & 7.9 & 8.0 & 8.1 & 8.0 & 8.0 & 8.0 & 8.6 & 8.6\\\\\n",
       "\\end{tabular}\n"
      ],
      "text/markdown": [
       "\n",
       "A data.frame: 6 × 12\n",
       "\n",
       "| <!--/--> | CONT &lt;dbl&gt; | INTG &lt;dbl&gt; | DMNR &lt;dbl&gt; | DILG &lt;dbl&gt; | CFMG &lt;dbl&gt; | DECI &lt;dbl&gt; | PREP &lt;dbl&gt; | FAMI &lt;dbl&gt; | ORAL &lt;dbl&gt; | WRIT &lt;dbl&gt; | PHYS &lt;dbl&gt; | RTEN &lt;dbl&gt; |\n",
       "|---|---|---|---|---|---|---|---|---|---|---|---|---|\n",
       "| AARONSON,L.H. | 5.7 | 7.9 | 7.7 | 7.3 | 7.1 | 7.4 | 7.1 | 7.1 | 7.1 | 7.0 | 8.3 | 7.8 |\n",
       "| ALEXANDER,J.M. | 6.8 | 8.9 | 8.8 | 8.5 | 7.8 | 8.1 | 8.0 | 8.0 | 7.8 | 7.9 | 8.5 | 8.7 |\n",
       "| ARMENTANO,A.J. | 7.2 | 8.1 | 7.8 | 7.8 | 7.5 | 7.6 | 7.5 | 7.5 | 7.3 | 7.4 | 7.9 | 7.8 |\n",
       "| BERDON,R.I. | 6.8 | 8.8 | 8.5 | 8.8 | 8.3 | 8.5 | 8.7 | 8.7 | 8.4 | 8.5 | 8.8 | 8.7 |\n",
       "| BRACKEN,J.J. | 7.3 | 6.4 | 4.3 | 6.5 | 6.0 | 6.2 | 5.7 | 5.7 | 5.1 | 5.3 | 5.5 | 4.8 |\n",
       "| BURNS,E.B. | 6.2 | 8.8 | 8.7 | 8.5 | 7.9 | 8.0 | 8.1 | 8.0 | 8.0 | 8.0 | 8.6 | 8.6 |\n",
       "\n"
      ],
      "text/plain": [
       "               CONT INTG DMNR DILG CFMG DECI PREP FAMI ORAL WRIT PHYS RTEN\n",
       "AARONSON,L.H.  5.7  7.9  7.7  7.3  7.1  7.4  7.1  7.1  7.1  7.0  8.3  7.8 \n",
       "ALEXANDER,J.M. 6.8  8.9  8.8  8.5  7.8  8.1  8.0  8.0  7.8  7.9  8.5  8.7 \n",
       "ARMENTANO,A.J. 7.2  8.1  7.8  7.8  7.5  7.6  7.5  7.5  7.3  7.4  7.9  7.8 \n",
       "BERDON,R.I.    6.8  8.8  8.5  8.8  8.3  8.5  8.7  8.7  8.4  8.5  8.8  8.7 \n",
       "BRACKEN,J.J.   7.3  6.4  4.3  6.5  6.0  6.2  5.7  5.7  5.1  5.3  5.5  4.8 \n",
       "BURNS,E.B.     6.2  8.8  8.7  8.5  7.9  8.0  8.1  8.0  8.0  8.0  8.6  8.6 "
      ]
     },
     "metadata": {},
     "output_type": "display_data"
    }
   ],
   "source": [
    "head(USJudgeRatings)"
   ]
  },
  {
   "cell_type": "code",
   "execution_count": 52,
   "metadata": {
    "vscode": {
     "languageId": "r"
    }
   },
   "outputs": [
    {
     "data": {
      "text/html": [
       "<table class=\"dataframe\">\n",
       "<caption>A data.frame: 43 × 2</caption>\n",
       "<thead>\n",
       "\t<tr><th></th><th scope=col>Judge</th><th scope=col>AverageRating</th></tr>\n",
       "\t<tr><th></th><th scope=col>&lt;chr&gt;</th><th scope=col>&lt;dbl&gt;</th></tr>\n",
       "</thead>\n",
       "<tbody>\n",
       "\t<tr><th scope=row>AARONSON,L.H.</th><td>AARONSON,L.H.  </td><td>7.291667</td></tr>\n",
       "\t<tr><th scope=row>ALEXANDER,J.M.</th><td>ALEXANDER,J.M. </td><td>8.150000</td></tr>\n",
       "\t<tr><th scope=row>ARMENTANO,A.J.</th><td>ARMENTANO,A.J. </td><td>7.616667</td></tr>\n",
       "\t<tr><th scope=row>BERDON,R.I.</th><td>BERDON,R.I.    </td><td>8.458333</td></tr>\n",
       "\t<tr><th scope=row>BRACKEN,J.J.</th><td>BRACKEN,J.J.   </td><td>5.733333</td></tr>\n",
       "\t<tr><th scope=row>BURNS,E.B.</th><td>BURNS,E.B.     </td><td>8.116667</td></tr>\n",
       "\t<tr><th scope=row>CALLAHAN,R.J.</th><td>CALLAHAN,R.J.  </td><td>8.858333</td></tr>\n",
       "\t<tr><th scope=row>COHEN,S.S.</th><td>COHEN,S.S.     </td><td>5.458333</td></tr>\n",
       "\t<tr><th scope=row>DALY,J.J.</th><td>DALY,J.J.      </td><td>8.516667</td></tr>\n",
       "\t<tr><th scope=row>DANNEHY,J.F.</th><td>DANNEHY,J.F.   </td><td>7.891667</td></tr>\n",
       "\t<tr><th scope=row>DEAN,H.H.</th><td>DEAN,H.H.      </td><td>7.458333</td></tr>\n",
       "\t<tr><th scope=row>DEVITA,H.J.</th><td>DEVITA,H.J.    </td><td>7.125000</td></tr>\n",
       "\t<tr><th scope=row>DRISCOLL,P.J.</th><td>DRISCOLL,P.J.  </td><td>7.366667</td></tr>\n",
       "\t<tr><th scope=row>GRILLO,A.E.</th><td>GRILLO,A.E.    </td><td>6.683333</td></tr>\n",
       "\t<tr><th scope=row>HADDEN,W.L.JR.</th><td>HADDEN,W.L.JR. </td><td>7.850000</td></tr>\n",
       "\t<tr><th scope=row>HAMILL,E.C.</th><td>HAMILL,E.C.    </td><td>7.450000</td></tr>\n",
       "\t<tr><th scope=row>HEALEY.A.H.</th><td>HEALEY.A.H.    </td><td>6.866667</td></tr>\n",
       "\t<tr><th scope=row>HULL,T.C.</th><td>HULL,T.C.      </td><td>7.400000</td></tr>\n",
       "\t<tr><th scope=row>LEVINE,I.</th><td>LEVINE,I.      </td><td>7.808333</td></tr>\n",
       "\t<tr><th scope=row>LEVISTER,R.L.</th><td>LEVISTER,R.L.  </td><td>6.608333</td></tr>\n",
       "\t<tr><th scope=row>MARTIN,L.F.</th><td>MARTIN,L.F.    </td><td>7.091667</td></tr>\n",
       "\t<tr><th scope=row>MCGRATH,J.F.</th><td>MCGRATH,J.F.   </td><td>6.783333</td></tr>\n",
       "\t<tr><th scope=row>MIGNONE,A.F.</th><td>MIGNONE,A.F.   </td><td>5.841667</td></tr>\n",
       "\t<tr><th scope=row>MISSAL,H.M.</th><td>MISSAL,H.M.    </td><td>7.458333</td></tr>\n",
       "\t<tr><th scope=row>MULVEY,H.M.</th><td>MULVEY,H.M.    </td><td>8.450000</td></tr>\n",
       "\t<tr><th scope=row>NARUK,H.J.</th><td>NARUK,H.J.     </td><td>8.783333</td></tr>\n",
       "\t<tr><th scope=row>O'BRIEN,F.J.</th><td>O'BRIEN,F.J.   </td><td>7.941667</td></tr>\n",
       "\t<tr><th scope=row>O'SULLIVAN,T.J.</th><td>O'SULLIVAN,T.J.</td><td>8.483333</td></tr>\n",
       "\t<tr><th scope=row>PASKEY,L.</th><td>PASKEY,L.      </td><td>8.066667</td></tr>\n",
       "\t<tr><th scope=row>RUBINOW,J.E.</th><td>RUBINOW,J.E.   </td><td>8.791667</td></tr>\n",
       "\t<tr><th scope=row>SADEN.G.A.</th><td>SADEN.G.A.     </td><td>7.775000</td></tr>\n",
       "\t<tr><th scope=row>SATANIELLO,A.G.</th><td>SATANIELLO,A.G.</td><td>7.800000</td></tr>\n",
       "\t<tr><th scope=row>SHEA,D.M.</th><td>SHEA,D.M.      </td><td>8.191667</td></tr>\n",
       "\t<tr><th scope=row>SHEA,J.F.JR.</th><td>SHEA,J.F.JR.   </td><td>8.500000</td></tr>\n",
       "\t<tr><th scope=row>SIDOR,W.J.</th><td>SIDOR,W.J.     </td><td>5.808333</td></tr>\n",
       "\t<tr><th scope=row>SPEZIALE,J.A.</th><td>SPEZIALE,J.A.  </td><td>8.183333</td></tr>\n",
       "\t<tr><th scope=row>SPONZO,M.J.</th><td>SPONZO,M.J.    </td><td>7.841667</td></tr>\n",
       "\t<tr><th scope=row>STAPLETON,J.F.</th><td>STAPLETON,J.F. </td><td>7.683333</td></tr>\n",
       "\t<tr><th scope=row>TESTO,R.J.</th><td>TESTO,R.J.     </td><td>7.108333</td></tr>\n",
       "\t<tr><th scope=row>TIERNEY,W.L.JR.</th><td>TIERNEY,W.L.JR.</td><td>7.983333</td></tr>\n",
       "\t<tr><th scope=row>WALL,R.A.</th><td>WALL,R.A.      </td><td>7.016667</td></tr>\n",
       "\t<tr><th scope=row>WRIGHT,D.B.</th><td>WRIGHT,D.B.    </td><td>7.941667</td></tr>\n",
       "\t<tr><th scope=row>ZARRILLI,K.J.</th><td>ZARRILLI,K.J.  </td><td>7.425000</td></tr>\n",
       "</tbody>\n",
       "</table>\n"
      ],
      "text/latex": [
       "A data.frame: 43 × 2\n",
       "\\begin{tabular}{r|ll}\n",
       "  & Judge & AverageRating\\\\\n",
       "  & <chr> & <dbl>\\\\\n",
       "\\hline\n",
       "\tAARONSON,L.H. & AARONSON,L.H.   & 7.291667\\\\\n",
       "\tALEXANDER,J.M. & ALEXANDER,J.M.  & 8.150000\\\\\n",
       "\tARMENTANO,A.J. & ARMENTANO,A.J.  & 7.616667\\\\\n",
       "\tBERDON,R.I. & BERDON,R.I.     & 8.458333\\\\\n",
       "\tBRACKEN,J.J. & BRACKEN,J.J.    & 5.733333\\\\\n",
       "\tBURNS,E.B. & BURNS,E.B.      & 8.116667\\\\\n",
       "\tCALLAHAN,R.J. & CALLAHAN,R.J.   & 8.858333\\\\\n",
       "\tCOHEN,S.S. & COHEN,S.S.      & 5.458333\\\\\n",
       "\tDALY,J.J. & DALY,J.J.       & 8.516667\\\\\n",
       "\tDANNEHY,J.F. & DANNEHY,J.F.    & 7.891667\\\\\n",
       "\tDEAN,H.H. & DEAN,H.H.       & 7.458333\\\\\n",
       "\tDEVITA,H.J. & DEVITA,H.J.     & 7.125000\\\\\n",
       "\tDRISCOLL,P.J. & DRISCOLL,P.J.   & 7.366667\\\\\n",
       "\tGRILLO,A.E. & GRILLO,A.E.     & 6.683333\\\\\n",
       "\tHADDEN,W.L.JR. & HADDEN,W.L.JR.  & 7.850000\\\\\n",
       "\tHAMILL,E.C. & HAMILL,E.C.     & 7.450000\\\\\n",
       "\tHEALEY.A.H. & HEALEY.A.H.     & 6.866667\\\\\n",
       "\tHULL,T.C. & HULL,T.C.       & 7.400000\\\\\n",
       "\tLEVINE,I. & LEVINE,I.       & 7.808333\\\\\n",
       "\tLEVISTER,R.L. & LEVISTER,R.L.   & 6.608333\\\\\n",
       "\tMARTIN,L.F. & MARTIN,L.F.     & 7.091667\\\\\n",
       "\tMCGRATH,J.F. & MCGRATH,J.F.    & 6.783333\\\\\n",
       "\tMIGNONE,A.F. & MIGNONE,A.F.    & 5.841667\\\\\n",
       "\tMISSAL,H.M. & MISSAL,H.M.     & 7.458333\\\\\n",
       "\tMULVEY,H.M. & MULVEY,H.M.     & 8.450000\\\\\n",
       "\tNARUK,H.J. & NARUK,H.J.      & 8.783333\\\\\n",
       "\tO'BRIEN,F.J. & O'BRIEN,F.J.    & 7.941667\\\\\n",
       "\tO'SULLIVAN,T.J. & O'SULLIVAN,T.J. & 8.483333\\\\\n",
       "\tPASKEY,L. & PASKEY,L.       & 8.066667\\\\\n",
       "\tRUBINOW,J.E. & RUBINOW,J.E.    & 8.791667\\\\\n",
       "\tSADEN.G.A. & SADEN.G.A.      & 7.775000\\\\\n",
       "\tSATANIELLO,A.G. & SATANIELLO,A.G. & 7.800000\\\\\n",
       "\tSHEA,D.M. & SHEA,D.M.       & 8.191667\\\\\n",
       "\tSHEA,J.F.JR. & SHEA,J.F.JR.    & 8.500000\\\\\n",
       "\tSIDOR,W.J. & SIDOR,W.J.      & 5.808333\\\\\n",
       "\tSPEZIALE,J.A. & SPEZIALE,J.A.   & 8.183333\\\\\n",
       "\tSPONZO,M.J. & SPONZO,M.J.     & 7.841667\\\\\n",
       "\tSTAPLETON,J.F. & STAPLETON,J.F.  & 7.683333\\\\\n",
       "\tTESTO,R.J. & TESTO,R.J.      & 7.108333\\\\\n",
       "\tTIERNEY,W.L.JR. & TIERNEY,W.L.JR. & 7.983333\\\\\n",
       "\tWALL,R.A. & WALL,R.A.       & 7.016667\\\\\n",
       "\tWRIGHT,D.B. & WRIGHT,D.B.     & 7.941667\\\\\n",
       "\tZARRILLI,K.J. & ZARRILLI,K.J.   & 7.425000\\\\\n",
       "\\end{tabular}\n"
      ],
      "text/markdown": [
       "\n",
       "A data.frame: 43 × 2\n",
       "\n",
       "| <!--/--> | Judge &lt;chr&gt; | AverageRating &lt;dbl&gt; |\n",
       "|---|---|---|\n",
       "| AARONSON,L.H. | AARONSON,L.H.   | 7.291667 |\n",
       "| ALEXANDER,J.M. | ALEXANDER,J.M.  | 8.150000 |\n",
       "| ARMENTANO,A.J. | ARMENTANO,A.J.  | 7.616667 |\n",
       "| BERDON,R.I. | BERDON,R.I.     | 8.458333 |\n",
       "| BRACKEN,J.J. | BRACKEN,J.J.    | 5.733333 |\n",
       "| BURNS,E.B. | BURNS,E.B.      | 8.116667 |\n",
       "| CALLAHAN,R.J. | CALLAHAN,R.J.   | 8.858333 |\n",
       "| COHEN,S.S. | COHEN,S.S.      | 5.458333 |\n",
       "| DALY,J.J. | DALY,J.J.       | 8.516667 |\n",
       "| DANNEHY,J.F. | DANNEHY,J.F.    | 7.891667 |\n",
       "| DEAN,H.H. | DEAN,H.H.       | 7.458333 |\n",
       "| DEVITA,H.J. | DEVITA,H.J.     | 7.125000 |\n",
       "| DRISCOLL,P.J. | DRISCOLL,P.J.   | 7.366667 |\n",
       "| GRILLO,A.E. | GRILLO,A.E.     | 6.683333 |\n",
       "| HADDEN,W.L.JR. | HADDEN,W.L.JR.  | 7.850000 |\n",
       "| HAMILL,E.C. | HAMILL,E.C.     | 7.450000 |\n",
       "| HEALEY.A.H. | HEALEY.A.H.     | 6.866667 |\n",
       "| HULL,T.C. | HULL,T.C.       | 7.400000 |\n",
       "| LEVINE,I. | LEVINE,I.       | 7.808333 |\n",
       "| LEVISTER,R.L. | LEVISTER,R.L.   | 6.608333 |\n",
       "| MARTIN,L.F. | MARTIN,L.F.     | 7.091667 |\n",
       "| MCGRATH,J.F. | MCGRATH,J.F.    | 6.783333 |\n",
       "| MIGNONE,A.F. | MIGNONE,A.F.    | 5.841667 |\n",
       "| MISSAL,H.M. | MISSAL,H.M.     | 7.458333 |\n",
       "| MULVEY,H.M. | MULVEY,H.M.     | 8.450000 |\n",
       "| NARUK,H.J. | NARUK,H.J.      | 8.783333 |\n",
       "| O'BRIEN,F.J. | O'BRIEN,F.J.    | 7.941667 |\n",
       "| O'SULLIVAN,T.J. | O'SULLIVAN,T.J. | 8.483333 |\n",
       "| PASKEY,L. | PASKEY,L.       | 8.066667 |\n",
       "| RUBINOW,J.E. | RUBINOW,J.E.    | 8.791667 |\n",
       "| SADEN.G.A. | SADEN.G.A.      | 7.775000 |\n",
       "| SATANIELLO,A.G. | SATANIELLO,A.G. | 7.800000 |\n",
       "| SHEA,D.M. | SHEA,D.M.       | 8.191667 |\n",
       "| SHEA,J.F.JR. | SHEA,J.F.JR.    | 8.500000 |\n",
       "| SIDOR,W.J. | SIDOR,W.J.      | 5.808333 |\n",
       "| SPEZIALE,J.A. | SPEZIALE,J.A.   | 8.183333 |\n",
       "| SPONZO,M.J. | SPONZO,M.J.     | 7.841667 |\n",
       "| STAPLETON,J.F. | STAPLETON,J.F.  | 7.683333 |\n",
       "| TESTO,R.J. | TESTO,R.J.      | 7.108333 |\n",
       "| TIERNEY,W.L.JR. | TIERNEY,W.L.JR. | 7.983333 |\n",
       "| WALL,R.A. | WALL,R.A.       | 7.016667 |\n",
       "| WRIGHT,D.B. | WRIGHT,D.B.     | 7.941667 |\n",
       "| ZARRILLI,K.J. | ZARRILLI,K.J.   | 7.425000 |\n",
       "\n"
      ],
      "text/plain": [
       "                Judge           AverageRating\n",
       "AARONSON,L.H.   AARONSON,L.H.   7.291667     \n",
       "ALEXANDER,J.M.  ALEXANDER,J.M.  8.150000     \n",
       "ARMENTANO,A.J.  ARMENTANO,A.J.  7.616667     \n",
       "BERDON,R.I.     BERDON,R.I.     8.458333     \n",
       "BRACKEN,J.J.    BRACKEN,J.J.    5.733333     \n",
       "BURNS,E.B.      BURNS,E.B.      8.116667     \n",
       "CALLAHAN,R.J.   CALLAHAN,R.J.   8.858333     \n",
       "COHEN,S.S.      COHEN,S.S.      5.458333     \n",
       "DALY,J.J.       DALY,J.J.       8.516667     \n",
       "DANNEHY,J.F.    DANNEHY,J.F.    7.891667     \n",
       "DEAN,H.H.       DEAN,H.H.       7.458333     \n",
       "DEVITA,H.J.     DEVITA,H.J.     7.125000     \n",
       "DRISCOLL,P.J.   DRISCOLL,P.J.   7.366667     \n",
       "GRILLO,A.E.     GRILLO,A.E.     6.683333     \n",
       "HADDEN,W.L.JR.  HADDEN,W.L.JR.  7.850000     \n",
       "HAMILL,E.C.     HAMILL,E.C.     7.450000     \n",
       "HEALEY.A.H.     HEALEY.A.H.     6.866667     \n",
       "HULL,T.C.       HULL,T.C.       7.400000     \n",
       "LEVINE,I.       LEVINE,I.       7.808333     \n",
       "LEVISTER,R.L.   LEVISTER,R.L.   6.608333     \n",
       "MARTIN,L.F.     MARTIN,L.F.     7.091667     \n",
       "MCGRATH,J.F.    MCGRATH,J.F.    6.783333     \n",
       "MIGNONE,A.F.    MIGNONE,A.F.    5.841667     \n",
       "MISSAL,H.M.     MISSAL,H.M.     7.458333     \n",
       "MULVEY,H.M.     MULVEY,H.M.     8.450000     \n",
       "NARUK,H.J.      NARUK,H.J.      8.783333     \n",
       "O'BRIEN,F.J.    O'BRIEN,F.J.    7.941667     \n",
       "O'SULLIVAN,T.J. O'SULLIVAN,T.J. 8.483333     \n",
       "PASKEY,L.       PASKEY,L.       8.066667     \n",
       "RUBINOW,J.E.    RUBINOW,J.E.    8.791667     \n",
       "SADEN.G.A.      SADEN.G.A.      7.775000     \n",
       "SATANIELLO,A.G. SATANIELLO,A.G. 7.800000     \n",
       "SHEA,D.M.       SHEA,D.M.       8.191667     \n",
       "SHEA,J.F.JR.    SHEA,J.F.JR.    8.500000     \n",
       "SIDOR,W.J.      SIDOR,W.J.      5.808333     \n",
       "SPEZIALE,J.A.   SPEZIALE,J.A.   8.183333     \n",
       "SPONZO,M.J.     SPONZO,M.J.     7.841667     \n",
       "STAPLETON,J.F.  STAPLETON,J.F.  7.683333     \n",
       "TESTO,R.J.      TESTO,R.J.      7.108333     \n",
       "TIERNEY,W.L.JR. TIERNEY,W.L.JR. 7.983333     \n",
       "WALL,R.A.       WALL,R.A.       7.016667     \n",
       "WRIGHT,D.B.     WRIGHT,D.B.     7.941667     \n",
       "ZARRILLI,K.J.   ZARRILLI,K.J.   7.425000     "
      ]
     },
     "metadata": {},
     "output_type": "display_data"
    }
   ],
   "source": [
    "#Create a new variable called AVRG and calculate the average rating for each judge. Save this variable in a separate data frame.\n",
    "\n",
    "# Calculate average rating for each judge\n",
    "AVRG <- data.frame(\n",
    "  Judge = rownames(USJudgeRatings),\n",
    "  AverageRating = rowMeans(USJudgeRatings)\n",
    ")\n",
    "\n",
    "# Print the new data frame\n",
    "AVRG"
   ]
  },
  {
   "cell_type": "code",
   "execution_count": 54,
   "metadata": {
    "vscode": {
     "languageId": "r"
    }
   },
   "outputs": [
    {
     "data": {
      "text/html": [
       "'data.frame'"
      ],
      "text/latex": [
       "'data.frame'"
      ],
      "text/markdown": [
       "'data.frame'"
      ],
      "text/plain": [
       "[1] \"data.frame\""
      ]
     },
     "metadata": {},
     "output_type": "display_data"
    }
   ],
   "source": [
    "#Class of the new data frame\n",
    "\n",
    "class(AVRG)"
   ]
  },
  {
   "cell_type": "code",
   "execution_count": null,
   "metadata": {
    "vscode": {
     "languageId": "r"
    }
   },
   "outputs": [],
   "source": []
  }
 ],
 "metadata": {
  "kernelspec": {
   "display_name": "R",
   "language": "R",
   "name": "ir"
  },
  "language_info": {
   "codemirror_mode": "r",
   "file_extension": ".r",
   "mimetype": "text/x-r-source",
   "name": "R",
   "pygments_lexer": "r",
   "version": "4.3.1"
  },
  "orig_nbformat": 4
 },
 "nbformat": 4,
 "nbformat_minor": 2
}
