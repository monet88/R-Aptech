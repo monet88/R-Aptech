{
 "cells": [
  {
   "cell_type": "code",
   "execution_count": 93,
   "id": "9207a889",
   "metadata": {
    "vscode": {
     "languageId": "r"
    }
   },
   "outputs": [
    {
     "data": {
      "text/html": [
       "<table class=\"dataframe\">\n",
       "<caption>A matrix: 10 × 3 of type chr</caption>\n",
       "<thead>\n",
       "\t<tr><th scope=col>Player</th><th scope=col>Piece</th><th scope=col>Turn</th></tr>\n",
       "</thead>\n",
       "<tbody>\n",
       "\t<tr><td>dark </td><td>king  </td><td>3</td></tr>\n",
       "\t<tr><td>dark </td><td>queen </td><td>5</td></tr>\n",
       "\t<tr><td>dark </td><td>pawn  </td><td>2</td></tr>\n",
       "\t<tr><td>dark </td><td>pawn  </td><td>2</td></tr>\n",
       "\t<tr><td>dark </td><td>knight</td><td>7</td></tr>\n",
       "\t<tr><td>light</td><td>bishop</td><td>4</td></tr>\n",
       "\t<tr><td>light</td><td>king  </td><td>3</td></tr>\n",
       "\t<tr><td>light</td><td>rook  </td><td>5</td></tr>\n",
       "\t<tr><td>light</td><td>pawn  </td><td>2</td></tr>\n",
       "\t<tr><td>light</td><td>pawn  </td><td>1</td></tr>\n",
       "</tbody>\n",
       "</table>\n"
      ],
      "text/latex": [
       "A matrix: 10 × 3 of type chr\n",
       "\\begin{tabular}{lll}\n",
       " Player & Piece & Turn\\\\\n",
       "\\hline\n",
       "\t dark  & king   & 3\\\\\n",
       "\t dark  & queen  & 5\\\\\n",
       "\t dark  & pawn   & 2\\\\\n",
       "\t dark  & pawn   & 2\\\\\n",
       "\t dark  & knight & 7\\\\\n",
       "\t light & bishop & 4\\\\\n",
       "\t light & king   & 3\\\\\n",
       "\t light & rook   & 5\\\\\n",
       "\t light & pawn   & 2\\\\\n",
       "\t light & pawn   & 1\\\\\n",
       "\\end{tabular}\n"
      ],
      "text/markdown": [
       "\n",
       "A matrix: 10 × 3 of type chr\n",
       "\n",
       "| Player | Piece | Turn |\n",
       "|---|---|---|\n",
       "| dark  | king   | 3 |\n",
       "| dark  | queen  | 5 |\n",
       "| dark  | pawn   | 2 |\n",
       "| dark  | pawn   | 2 |\n",
       "| dark  | knight | 7 |\n",
       "| light | bishop | 4 |\n",
       "| light | king   | 3 |\n",
       "| light | rook   | 5 |\n",
       "| light | pawn   | 2 |\n",
       "| light | pawn   | 1 |\n",
       "\n"
      ],
      "text/plain": [
       "      Player Piece  Turn\n",
       " [1,] dark   king   3   \n",
       " [2,] dark   queen  5   \n",
       " [3,] dark   pawn   2   \n",
       " [4,] dark   pawn   2   \n",
       " [5,] dark   knight 7   \n",
       " [6,] light  bishop 4   \n",
       " [7,] light  king   3   \n",
       " [8,] light  rook   5   \n",
       " [9,] light  pawn   2   \n",
       "[10,] light  pawn   1   "
      ]
     },
     "metadata": {},
     "output_type": "display_data"
    }
   ],
   "source": [
    "# Requirements: the chess matrix from Exercise 11.\n",
    "cmatrix"
   ]
  },
  {
   "cell_type": "code",
   "execution_count": 105,
   "id": "a911fdbe",
   "metadata": {
    "vscode": {
     "languageId": "r"
    }
   },
   "outputs": [
    {
     "data": {
      "text/html": [
       "<style>\n",
       ".list-inline {list-style: none; margin:0; padding: 0}\n",
       ".list-inline>li {display: inline-block}\n",
       ".list-inline>li:not(:last-child)::after {content: \"\\00b7\"; padding: 0 .5ex}\n",
       "</style>\n",
       "<ol class=list-inline><li>'king'</li><li>'queen'</li><li>'pawn'</li><li>'pawn'</li><li>'knight'</li><li>'bishop'</li><li>'king'</li><li>'rook'</li><li>'pawn'</li><li>'pawn'</li></ol>\n"
      ],
      "text/latex": [
       "\\begin{enumerate*}\n",
       "\\item 'king'\n",
       "\\item 'queen'\n",
       "\\item 'pawn'\n",
       "\\item 'pawn'\n",
       "\\item 'knight'\n",
       "\\item 'bishop'\n",
       "\\item 'king'\n",
       "\\item 'rook'\n",
       "\\item 'pawn'\n",
       "\\item 'pawn'\n",
       "\\end{enumerate*}\n"
      ],
      "text/markdown": [
       "1. 'king'\n",
       "2. 'queen'\n",
       "3. 'pawn'\n",
       "4. 'pawn'\n",
       "5. 'knight'\n",
       "6. 'bishop'\n",
       "7. 'king'\n",
       "8. 'rook'\n",
       "9. 'pawn'\n",
       "10. 'pawn'\n",
       "\n",
       "\n"
      ],
      "text/plain": [
       " [1] \"king\"   \"queen\"  \"pawn\"   \"pawn\"   \"knight\" \"bishop\" \"king\"   \"rook\"  \n",
       " [9] \"pawn\"   \"pawn\"  "
      ]
     },
     "metadata": {},
     "output_type": "display_data"
    }
   ],
   "source": [
    "# Save the Piece column of the matrix as a vector.\n",
    "piece_vector <- cmatrix[, \"Piece\"]\n",
    "piece_vector"
   ]
  },
  {
   "cell_type": "code",
   "execution_count": 122,
   "id": "bbf259a1",
   "metadata": {
    "vscode": {
     "languageId": "r"
    }
   },
   "outputs": [
    {
     "data": {
      "text/html": [
       "<style>\n",
       ".list-inline {list-style: none; margin:0; padding: 0}\n",
       ".list-inline>li {display: inline-block}\n",
       ".list-inline>li:not(:last-child)::after {content: \"\\00b7\"; padding: 0 .5ex}\n",
       "</style>\n",
       "<ol class=list-inline><li>king</li><li>queen</li><li>pawn</li><li>pawn</li><li>knight</li><li>bishop</li><li>king</li><li>rook</li><li>pawn</li><li>pawn</li></ol>\n",
       "\n",
       "<details>\n",
       "\t<summary style=display:list-item;cursor:pointer>\n",
       "\t\t<strong>Levels</strong>:\n",
       "\t</summary>\n",
       "\t<style>\n",
       "\t.list-inline {list-style: none; margin:0; padding: 0}\n",
       "\t.list-inline>li {display: inline-block}\n",
       "\t.list-inline>li:not(:last-child)::after {content: \"\\00b7\"; padding: 0 .5ex}\n",
       "\t</style>\n",
       "\t<ol class=list-inline><li>'bishop'</li><li>'king'</li><li>'knight'</li><li>'pawn'</li><li>'queen'</li><li>'rook'</li></ol>\n",
       "</details>"
      ],
      "text/latex": [
       "\\begin{enumerate*}\n",
       "\\item king\n",
       "\\item queen\n",
       "\\item pawn\n",
       "\\item pawn\n",
       "\\item knight\n",
       "\\item bishop\n",
       "\\item king\n",
       "\\item rook\n",
       "\\item pawn\n",
       "\\item pawn\n",
       "\\end{enumerate*}\n",
       "\n",
       "\\emph{Levels}: \\begin{enumerate*}\n",
       "\\item 'bishop'\n",
       "\\item 'king'\n",
       "\\item 'knight'\n",
       "\\item 'pawn'\n",
       "\\item 'queen'\n",
       "\\item 'rook'\n",
       "\\end{enumerate*}\n"
      ],
      "text/markdown": [
       "1. king\n",
       "2. queen\n",
       "3. pawn\n",
       "4. pawn\n",
       "5. knight\n",
       "6. bishop\n",
       "7. king\n",
       "8. rook\n",
       "9. pawn\n",
       "10. pawn\n",
       "\n",
       "\n",
       "\n",
       "**Levels**: 1. 'bishop'\n",
       "2. 'king'\n",
       "3. 'knight'\n",
       "4. 'pawn'\n",
       "5. 'queen'\n",
       "6. 'rook'\n",
       "\n",
       "\n"
      ],
      "text/plain": [
       " [1] king   queen  pawn   pawn   knight bishop king   rook   pawn   pawn  \n",
       "Levels: bishop king knight pawn queen rook"
      ]
     },
     "metadata": {},
     "output_type": "display_data"
    }
   ],
   "source": [
    "# Create a factor from the vector\n",
    "piece_factor <- factor(piece_vector)\n",
    "piece_factor"
   ]
  },
  {
   "cell_type": "code",
   "execution_count": 123,
   "id": "38fdf070",
   "metadata": {
    "vscode": {
     "languageId": "r"
    }
   },
   "outputs": [
    {
     "data": {
      "text/html": [
       "<style>\n",
       ".list-inline {list-style: none; margin:0; padding: 0}\n",
       ".list-inline>li {display: inline-block}\n",
       ".list-inline>li:not(:last-child)::after {content: \"\\00b7\"; padding: 0 .5ex}\n",
       "</style>\n",
       "<ol class=list-inline><li>Queen</li><li>Knight</li><li>Bishop</li><li>Bishop</li><li>Rook</li><li>King</li><li>Queen</li><li>Pawn</li><li>Bishop</li><li>Bishop</li></ol>\n",
       "\n",
       "<details>\n",
       "\t<summary style=display:list-item;cursor:pointer>\n",
       "\t\t<strong>Levels</strong>:\n",
       "\t</summary>\n",
       "\t<style>\n",
       "\t.list-inline {list-style: none; margin:0; padding: 0}\n",
       "\t.list-inline>li {display: inline-block}\n",
       "\t.list-inline>li:not(:last-child)::after {content: \"\\00b7\"; padding: 0 .5ex}\n",
       "\t</style>\n",
       "\t<ol class=list-inline><li>'King'</li><li>'Queen'</li><li>'Rook'</li><li>'Bishop'</li><li>'Knight'</li><li>'Pawn'</li></ol>\n",
       "</details>"
      ],
      "text/latex": [
       "\\begin{enumerate*}\n",
       "\\item Queen\n",
       "\\item Knight\n",
       "\\item Bishop\n",
       "\\item Bishop\n",
       "\\item Rook\n",
       "\\item King\n",
       "\\item Queen\n",
       "\\item Pawn\n",
       "\\item Bishop\n",
       "\\item Bishop\n",
       "\\end{enumerate*}\n",
       "\n",
       "\\emph{Levels}: \\begin{enumerate*}\n",
       "\\item 'King'\n",
       "\\item 'Queen'\n",
       "\\item 'Rook'\n",
       "\\item 'Bishop'\n",
       "\\item 'Knight'\n",
       "\\item 'Pawn'\n",
       "\\end{enumerate*}\n"
      ],
      "text/markdown": [
       "1. Queen\n",
       "2. Knight\n",
       "3. Bishop\n",
       "4. Bishop\n",
       "5. Rook\n",
       "6. King\n",
       "7. Queen\n",
       "8. Pawn\n",
       "9. Bishop\n",
       "10. Bishop\n",
       "\n",
       "\n",
       "\n",
       "**Levels**: 1. 'King'\n",
       "2. 'Queen'\n",
       "3. 'Rook'\n",
       "4. 'Bishop'\n",
       "5. 'Knight'\n",
       "6. 'Pawn'\n",
       "\n",
       "\n"
      ],
      "text/plain": [
       " [1] Queen  Knight Bishop Bishop Rook   King   Queen  Pawn   Bishop Bishop\n",
       "Levels: King Queen Rook Bishop Knight Pawn"
      ]
     },
     "metadata": {},
     "output_type": "display_data"
    }
   ],
   "source": [
    "# Organize the levels in the following : King, Queen, Rook, Bishop, Knight, Pawn.\n",
    "# Rename the levels\n",
    "levels(piece_factor) <- c(\"King\", \"Queen\", \"Rook\", \"Bishop\", \"Knight\", \"Pawn\")\n",
    "piece_factor <- factor(piece_factor, levels = c(\"King\", \"Queen\", \"Rook\", \"Bishop\", \"Knight\", \"Pawn\"))\n",
    "piece_factor"
   ]
  },
  {
   "cell_type": "code",
   "execution_count": 124,
   "id": "e6edf219",
   "metadata": {
    "vscode": {
     "languageId": "r"
    }
   },
   "outputs": [],
   "source": [
    "# Rename the levels with their initial letters\n",
    "levels(piece_factor) <- substr(levels(piece_factor), 1, 1)"
   ]
  },
  {
   "cell_type": "code",
   "execution_count": 125,
   "id": "b56064d7",
   "metadata": {
    "vscode": {
     "languageId": "r"
    }
   },
   "outputs": [],
   "source": [
    "# Save the Piece column of the matrix as a vector.\n",
    "piece_factor <- factor(piece_factor, levels = c(\"K\", \"Q\", \"R\", \"B\", \"N\", \"P\"))"
   ]
  },
  {
   "cell_type": "code",
   "execution_count": 126,
   "id": "53e73fc3",
   "metadata": {
    "vscode": {
     "languageId": "r"
    }
   },
   "outputs": [
    {
     "data": {
      "text/html": [
       "<style>\n",
       ".list-inline {list-style: none; margin:0; padding: 0}\n",
       ".list-inline>li {display: inline-block}\n",
       ".list-inline>li:not(:last-child)::after {content: \"\\00b7\"; padding: 0 .5ex}\n",
       "</style>\n",
       "<ol class=list-inline><li>Q</li><li>K</li><li>B</li><li>B</li><li>R</li><li>K</li><li>Q</li><li>P</li><li>B</li><li>B</li></ol>\n",
       "\n",
       "<details>\n",
       "\t<summary style=display:list-item;cursor:pointer>\n",
       "\t\t<strong>Levels</strong>:\n",
       "\t</summary>\n",
       "\t<style>\n",
       "\t.list-inline {list-style: none; margin:0; padding: 0}\n",
       "\t.list-inline>li {display: inline-block}\n",
       "\t.list-inline>li:not(:last-child)::after {content: \"\\00b7\"; padding: 0 .5ex}\n",
       "\t</style>\n",
       "\t<ol class=list-inline><li>'K'</li><li>'Q'</li><li>'R'</li><li>'B'</li><li>'N'</li><li>'P'</li></ol>\n",
       "</details>"
      ],
      "text/latex": [
       "\\begin{enumerate*}\n",
       "\\item Q\n",
       "\\item K\n",
       "\\item B\n",
       "\\item B\n",
       "\\item R\n",
       "\\item K\n",
       "\\item Q\n",
       "\\item P\n",
       "\\item B\n",
       "\\item B\n",
       "\\end{enumerate*}\n",
       "\n",
       "\\emph{Levels}: \\begin{enumerate*}\n",
       "\\item 'K'\n",
       "\\item 'Q'\n",
       "\\item 'R'\n",
       "\\item 'B'\n",
       "\\item 'N'\n",
       "\\item 'P'\n",
       "\\end{enumerate*}\n"
      ],
      "text/markdown": [
       "1. Q\n",
       "2. K\n",
       "3. B\n",
       "4. B\n",
       "5. R\n",
       "6. K\n",
       "7. Q\n",
       "8. P\n",
       "9. B\n",
       "10. B\n",
       "\n",
       "\n",
       "\n",
       "**Levels**: 1. 'K'\n",
       "2. 'Q'\n",
       "3. 'R'\n",
       "4. 'B'\n",
       "5. 'N'\n",
       "6. 'P'\n",
       "\n",
       "\n"
      ],
      "text/plain": [
       " [1] Q K B B R K Q P B B\n",
       "Levels: K Q R B N P"
      ]
     },
     "metadata": {},
     "output_type": "display_data"
    }
   ],
   "source": [
    "piece_factor"
   ]
  },
  {
   "cell_type": "code",
   "execution_count": 151,
   "id": "acb173a7",
   "metadata": {
    "vscode": {
     "languageId": "r"
    }
   },
   "outputs": [
    {
     "name": "stdout",
     "output_type": "stream",
     "text": [
      "[[1]]\n",
      "[1]  1  3  5  7  9 11\n",
      "\n",
      "[[2]]\n",
      "[[2]][[1]]\n",
      "[1] \"Happy Birthday\"\n",
      "\n",
      "[[2]][[2]]\n",
      "[1] \"Archery\"\n",
      "\n",
      "\n"
     ]
    }
   ],
   "source": [
    "# create a list which prints like this: \n",
    "\n",
    "# [[1]]\n",
    "# [1]  1  3  5  7  9 11\n",
    "#\n",
    "# [[2]]\n",
    "# [[2]][[1]]\n",
    "# [1] \"Happy Birthday\"\n",
    "#\n",
    "# [[2]][[2]]\n",
    "# [1] \"Archery\" \n",
    "\n",
    "# Create the list\n",
    "my_list <- list(\n",
    "  c(1, 3, 5, 7, 9, 11),\n",
    "  list(\"Happy Birthday\", \"Archery\")\n",
    ")\n",
    "\n",
    "# Print the list\n",
    "print(my_list)"
   ]
  },
  {
   "cell_type": "code",
   "execution_count": 128,
   "id": "06b0f525",
   "metadata": {
    "vscode": {
     "languageId": "r"
    }
   },
   "outputs": [
    {
     "data": {
      "text/html": [
       "<style>\n",
       ".list-inline {list-style: none; margin:0; padding: 0}\n",
       ".list-inline>li {display: inline-block}\n",
       ".list-inline>li:not(:last-child)::after {content: \"\\00b7\"; padding: 0 .5ex}\n",
       "</style>\n",
       "<ol class=list-inline><li>1</li><li>3</li><li>5</li><li>7</li><li>9</li><li>11</li></ol>\n"
      ],
      "text/latex": [
       "\\begin{enumerate*}\n",
       "\\item 1\n",
       "\\item 3\n",
       "\\item 5\n",
       "\\item 7\n",
       "\\item 9\n",
       "\\item 11\n",
       "\\end{enumerate*}\n"
      ],
      "text/markdown": [
       "1. 1\n",
       "2. 3\n",
       "3. 5\n",
       "4. 7\n",
       "5. 9\n",
       "6. 11\n",
       "\n",
       "\n"
      ],
      "text/plain": [
       "[1]  1  3  5  7  9 11"
      ]
     },
     "metadata": {},
     "output_type": "display_data"
    }
   ],
   "source": [
    "# Extract the numbers as a vector\n",
    "numbers_vector <- my_list[[1]]\n",
    "numbers_vector"
   ]
  },
  {
   "cell_type": "code",
   "execution_count": 129,
   "id": "0e3cba10",
   "metadata": {
    "vscode": {
     "languageId": "r"
    }
   },
   "outputs": [
    {
     "data": {
      "text/html": [
       "'Happy Birthday'"
      ],
      "text/latex": [
       "'Happy Birthday'"
      ],
      "text/markdown": [
       "'Happy Birthday'"
      ],
      "text/plain": [
       "[1] \"Happy Birthday\""
      ]
     },
     "metadata": {},
     "output_type": "display_data"
    }
   ],
   "source": [
    "# Extract the phrase \"Happy Birthday\" as a vector\n",
    "phrase_vector <- my_list[[2]][[1]]\n",
    "phrase_vector"
   ]
  },
  {
   "cell_type": "code",
   "execution_count": 130,
   "id": "cfc2c6ed",
   "metadata": {
    "vscode": {
     "languageId": "r"
    }
   },
   "outputs": [
    {
     "data": {
      "text/html": [
       "'Archery'"
      ],
      "text/latex": [
       "'Archery'"
      ],
      "text/markdown": [
       "'Archery'"
      ],
      "text/plain": [
       "[1] \"Archery\""
      ]
     },
     "metadata": {},
     "output_type": "display_data"
    }
   ],
   "source": [
    "# Extract the second item of the second list as a list\n",
    "second_item_list <- my_list[[2]][[2]]\n",
    "second_item_list"
   ]
  },
  {
   "cell_type": "code",
   "execution_count": 131,
   "id": "2d282dfe",
   "metadata": {
    "vscode": {
     "languageId": "r"
    }
   },
   "outputs": [
    {
     "data": {
      "text/html": [
       "<ol>\n",
       "\t<li>'Happy Birthday'</li>\n",
       "\t<li>'Archery'</li>\n",
       "</ol>\n"
      ],
      "text/latex": [
       "\\begin{enumerate}\n",
       "\\item 'Happy Birthday'\n",
       "\\item 'Archery'\n",
       "\\end{enumerate}\n"
      ],
      "text/markdown": [
       "1. 'Happy Birthday'\n",
       "2. 'Archery'\n",
       "\n",
       "\n"
      ],
      "text/plain": [
       "[[1]]\n",
       "[1] \"Happy Birthday\"\n",
       "\n",
       "[[2]]\n",
       "[1] \"Archery\"\n"
      ]
     },
     "metadata": {},
     "output_type": "display_data"
    }
   ],
   "source": [
    "# Extract the second list as a list\n",
    "second_list <- my_list[[2]]\n",
    "second_list"
   ]
  },
  {
   "cell_type": "code",
   "execution_count": 132,
   "id": "8e45be15",
   "metadata": {
    "vscode": {
     "languageId": "r"
    }
   },
   "outputs": [
    {
     "data": {
      "text/html": [
       "<strong>$Numbers</strong> = <style>\n",
       ".list-inline {list-style: none; margin:0; padding: 0}\n",
       ".list-inline>li {display: inline-block}\n",
       ".list-inline>li:not(:last-child)::after {content: \"\\00b7\"; padding: 0 .5ex}\n",
       "</style>\n",
       "<ol class=list-inline><li>1</li><li>3</li><li>5</li><li>7</li><li>9</li><li>11</li></ol>\n"
      ],
      "text/latex": [
       "\\textbf{\\$Numbers} = \\begin{enumerate*}\n",
       "\\item 1\n",
       "\\item 3\n",
       "\\item 5\n",
       "\\item 7\n",
       "\\item 9\n",
       "\\item 11\n",
       "\\end{enumerate*}\n"
      ],
      "text/markdown": [
       "**$Numbers** = 1. 1\n",
       "2. 3\n",
       "3. 5\n",
       "4. 7\n",
       "5. 9\n",
       "6. 11\n",
       "\n",
       "\n"
      ],
      "text/plain": [
       "$Numbers\n",
       "[1]  1  3  5  7  9 11\n"
      ]
     },
     "metadata": {},
     "output_type": "display_data"
    }
   ],
   "source": [
    "# Extract the numbers item as a list\n",
    "numbers_list <- list(Numbers = my_list[[1]])\n",
    "numbers_list"
   ]
  },
  {
   "cell_type": "code",
   "execution_count": 136,
   "id": "6002c3bc",
   "metadata": {
    "vscode": {
     "languageId": "r"
    }
   },
   "outputs": [
    {
     "data": {
      "text/html": [
       "<style>\n",
       ".list-inline {list-style: none; margin:0; padding: 0}\n",
       ".list-inline>li {display: inline-block}\n",
       ".list-inline>li:not(:last-child)::after {content: \"\\00b7\"; padding: 0 .5ex}\n",
       "</style>\n",
       "<ol class=list-inline><li>3</li><li>5</li><li>7</li><li>9</li><li>11</li><li>13</li></ol>\n"
      ],
      "text/latex": [
       "\\begin{enumerate*}\n",
       "\\item 3\n",
       "\\item 5\n",
       "\\item 7\n",
       "\\item 9\n",
       "\\item 11\n",
       "\\item 13\n",
       "\\end{enumerate*}\n"
      ],
      "text/markdown": [
       "1. 3\n",
       "2. 5\n",
       "3. 7\n",
       "4. 9\n",
       "5. 11\n",
       "6. 13\n",
       "\n",
       "\n"
      ],
      "text/plain": [
       "[1]  3  5  7  9 11 13"
      ]
     },
     "metadata": {},
     "output_type": "display_data"
    }
   ],
   "source": [
    "# Add 2 to each element in the numbers item\n",
    "numbers_vector <- numbers_vector + 2\n",
    "numbers_vector"
   ]
  },
  {
   "cell_type": "code",
   "execution_count": 152,
   "id": "f612cdaf",
   "metadata": {
    "vscode": {
     "languageId": "r"
    }
   },
   "outputs": [
    {
     "data": {
      "text/html": [
       "<dl>\n",
       "\t<dt>$Numbers</dt>\n",
       "\t\t<dd><style>\n",
       ".list-inline {list-style: none; margin:0; padding: 0}\n",
       ".list-inline>li {display: inline-block}\n",
       ".list-inline>li:not(:last-child)::after {content: \"\\00b7\"; padding: 0 .5ex}\n",
       "</style>\n",
       "<ol class=list-inline><li>1</li><li>3</li><li>5</li><li>7</li><li>9</li><li>11</li></ol>\n",
       "</dd>\n",
       "\t<dt>$Phrases</dt>\n",
       "\t\t<dd><ol>\n",
       "\t<li>'Happy Birthday'</li>\n",
       "\t<li>'Archery'</li>\n",
       "</ol>\n",
       "</dd>\n",
       "</dl>\n"
      ],
      "text/latex": [
       "\\begin{description}\n",
       "\\item[\\$Numbers] \\begin{enumerate*}\n",
       "\\item 1\n",
       "\\item 3\n",
       "\\item 5\n",
       "\\item 7\n",
       "\\item 9\n",
       "\\item 11\n",
       "\\end{enumerate*}\n",
       "\n",
       "\\item[\\$Phrases] \\begin{enumerate}\n",
       "\\item 'Happy Birthday'\n",
       "\\item 'Archery'\n",
       "\\end{enumerate}\n",
       "\n",
       "\\end{description}\n"
      ],
      "text/markdown": [
       "$Numbers\n",
       ":   1. 1\n",
       "2. 3\n",
       "3. 5\n",
       "4. 7\n",
       "5. 9\n",
       "6. 11\n",
       "\n",
       "\n",
       "\n",
       "$Phrases\n",
       ":   1. 'Happy Birthday'\n",
       "2. 'Archery'\n",
       "\n",
       "\n",
       "\n",
       "\n",
       "\n"
      ],
      "text/plain": [
       "$Numbers\n",
       "[1]  1  3  5  7  9 11\n",
       "\n",
       "$Phrases\n",
       "$Phrases[[1]]\n",
       "[1] \"Happy Birthday\"\n",
       "\n",
       "$Phrases[[2]]\n",
       "[1] \"Archery\"\n",
       "\n"
      ]
     },
     "metadata": {},
     "output_type": "display_data"
    }
   ],
   "source": [
    "# Name the items in the list as \"Numbers\" and \"Phrases\"\n",
    "names(my_list) <- c(\"Numbers\", \"Phrases\")\n",
    "my_list"
   ]
  },
  {
   "cell_type": "code",
   "execution_count": 138,
   "id": "d9156a5d",
   "metadata": {
    "vscode": {
     "languageId": "r"
    }
   },
   "outputs": [
    {
     "data": {
      "text/html": [
       "<style>\n",
       ".list-inline {list-style: none; margin:0; padding: 0}\n",
       ".list-inline>li {display: inline-block}\n",
       ".list-inline>li:not(:last-child)::after {content: \"\\00b7\"; padding: 0 .5ex}\n",
       "</style>\n",
       "<ol class=list-inline><li>1</li><li>3</li><li>5</li><li>7</li><li>9</li><li>11</li></ol>\n"
      ],
      "text/latex": [
       "\\begin{enumerate*}\n",
       "\\item 1\n",
       "\\item 3\n",
       "\\item 5\n",
       "\\item 7\n",
       "\\item 9\n",
       "\\item 11\n",
       "\\end{enumerate*}\n"
      ],
      "text/markdown": [
       "1. 1\n",
       "2. 3\n",
       "3. 5\n",
       "4. 7\n",
       "5. 9\n",
       "6. 11\n",
       "\n",
       "\n"
      ],
      "text/plain": [
       "[1]  1  3  5  7  9 11"
      ]
     },
     "metadata": {},
     "output_type": "display_data"
    }
   ],
   "source": [
    "# extract the numbers item from newList with the $\n",
    "numbers_vector <- my_list$Numbers\n",
    "numbers_vector"
   ]
  },
  {
   "cell_type": "code",
   "execution_count": 139,
   "id": "8c9e6663",
   "metadata": {
    "vscode": {
     "languageId": "r"
    }
   },
   "outputs": [
    {
     "data": {
      "text/html": [
       "<ol>\n",
       "\t<li>'Happy Birthday'</li>\n",
       "\t<li>'Archery'</li>\n",
       "</ol>\n"
      ],
      "text/latex": [
       "\\begin{enumerate}\n",
       "\\item 'Happy Birthday'\n",
       "\\item 'Archery'\n",
       "\\end{enumerate}\n"
      ],
      "text/markdown": [
       "1. 'Happy Birthday'\n",
       "2. 'Archery'\n",
       "\n",
       "\n"
      ],
      "text/plain": [
       "[[1]]\n",
       "[1] \"Happy Birthday\"\n",
       "\n",
       "[[2]]\n",
       "[1] \"Archery\"\n"
      ]
     },
     "metadata": {},
     "output_type": "display_data"
    }
   ],
   "source": [
    "numbers_vector <- my_list$Phrases\n",
    "numbers_vector"
   ]
  },
  {
   "cell_type": "code",
   "execution_count": 141,
   "id": "83dbac8d",
   "metadata": {
    "vscode": {
     "languageId": "r"
    }
   },
   "outputs": [
    {
     "data": {
      "text/html": [
       "<style>\n",
       ".list-inline {list-style: none; margin:0; padding: 0}\n",
       ".list-inline>li {display: inline-block}\n",
       ".list-inline>li:not(:last-child)::after {content: \"\\00b7\"; padding: 0 .5ex}\n",
       "</style>\n",
       "<ol class=list-inline><li>1</li><li>3</li><li>5</li><li>7</li><li>9</li><li>11</li></ol>\n"
      ],
      "text/latex": [
       "\\begin{enumerate*}\n",
       "\\item 1\n",
       "\\item 3\n",
       "\\item 5\n",
       "\\item 7\n",
       "\\item 9\n",
       "\\item 11\n",
       "\\end{enumerate*}\n"
      ],
      "text/markdown": [
       "1. 1\n",
       "2. 3\n",
       "3. 5\n",
       "4. 7\n",
       "5. 9\n",
       "6. 11\n",
       "\n",
       "\n"
      ],
      "text/plain": [
       "[1]  1  3  5  7  9 11"
      ]
     },
     "metadata": {},
     "output_type": "display_data"
    }
   ],
   "source": [
    "# The equivalent extract method\n",
    "numbers_vector <- my_list[[1]]\n",
    "numbers_vector"
   ]
  },
  {
   "cell_type": "code",
   "execution_count": 142,
   "id": "ba509668",
   "metadata": {
    "vscode": {
     "languageId": "r"
    }
   },
   "outputs": [
    {
     "data": {
      "text/html": [
       "<ol>\n",
       "\t<li>'Happy Birthday'</li>\n",
       "\t<li>'Archery'</li>\n",
       "</ol>\n"
      ],
      "text/latex": [
       "\\begin{enumerate}\n",
       "\\item 'Happy Birthday'\n",
       "\\item 'Archery'\n",
       "\\end{enumerate}\n"
      ],
      "text/markdown": [
       "1. 'Happy Birthday'\n",
       "2. 'Archery'\n",
       "\n",
       "\n"
      ],
      "text/plain": [
       "[[1]]\n",
       "[1] \"Happy Birthday\"\n",
       "\n",
       "[[2]]\n",
       "[1] \"Archery\"\n"
      ]
     },
     "metadata": {},
     "output_type": "display_data"
    }
   ],
   "source": [
    "numbers_vector <- my_list[[2]]\n",
    "numbers_vector"
   ]
  },
  {
   "cell_type": "code",
   "execution_count": 153,
   "id": "7a99077f",
   "metadata": {
    "vscode": {
     "languageId": "r"
    }
   },
   "outputs": [],
   "source": [
    "# Add a new item called \"Brands\" to the list\n",
    "my_list$Brands <- c(\"Kellogs\", \"Nike\", \"iPhone\")"
   ]
  },
  {
   "cell_type": "code",
   "execution_count": 154,
   "id": "d91fca80",
   "metadata": {
    "vscode": {
     "languageId": "r"
    }
   },
   "outputs": [
    {
     "data": {
      "text/html": [
       "<dl>\n",
       "\t<dt>$Numbers</dt>\n",
       "\t\t<dd><style>\n",
       ".list-inline {list-style: none; margin:0; padding: 0}\n",
       ".list-inline>li {display: inline-block}\n",
       ".list-inline>li:not(:last-child)::after {content: \"\\00b7\"; padding: 0 .5ex}\n",
       "</style>\n",
       "<ol class=list-inline><li>1</li><li>3</li><li>5</li><li>7</li><li>9</li><li>11</li></ol>\n",
       "</dd>\n",
       "\t<dt>$Phrases</dt>\n",
       "\t\t<dd><ol>\n",
       "\t<li>'Happy Birthday'</li>\n",
       "\t<li>'Archery'</li>\n",
       "</ol>\n",
       "</dd>\n",
       "\t<dt>$Brands</dt>\n",
       "\t\t<dd><style>\n",
       ".list-inline {list-style: none; margin:0; padding: 0}\n",
       ".list-inline>li {display: inline-block}\n",
       ".list-inline>li:not(:last-child)::after {content: \"\\00b7\"; padding: 0 .5ex}\n",
       "</style>\n",
       "<ol class=list-inline><li>'Kellogs'</li><li>'Nike'</li><li>'iPhone'</li></ol>\n",
       "</dd>\n",
       "</dl>\n"
      ],
      "text/latex": [
       "\\begin{description}\n",
       "\\item[\\$Numbers] \\begin{enumerate*}\n",
       "\\item 1\n",
       "\\item 3\n",
       "\\item 5\n",
       "\\item 7\n",
       "\\item 9\n",
       "\\item 11\n",
       "\\end{enumerate*}\n",
       "\n",
       "\\item[\\$Phrases] \\begin{enumerate}\n",
       "\\item 'Happy Birthday'\n",
       "\\item 'Archery'\n",
       "\\end{enumerate}\n",
       "\n",
       "\\item[\\$Brands] \\begin{enumerate*}\n",
       "\\item 'Kellogs'\n",
       "\\item 'Nike'\n",
       "\\item 'iPhone'\n",
       "\\end{enumerate*}\n",
       "\n",
       "\\end{description}\n"
      ],
      "text/markdown": [
       "$Numbers\n",
       ":   1. 1\n",
       "2. 3\n",
       "3. 5\n",
       "4. 7\n",
       "5. 9\n",
       "6. 11\n",
       "\n",
       "\n",
       "\n",
       "$Phrases\n",
       ":   1. 'Happy Birthday'\n",
       "2. 'Archery'\n",
       "\n",
       "\n",
       "\n",
       "$Brands\n",
       ":   1. 'Kellogs'\n",
       "2. 'Nike'\n",
       "3. 'iPhone'\n",
       "\n",
       "\n",
       "\n",
       "\n",
       "\n"
      ],
      "text/plain": [
       "$Numbers\n",
       "[1]  1  3  5  7  9 11\n",
       "\n",
       "$Phrases\n",
       "$Phrases[[1]]\n",
       "[1] \"Happy Birthday\"\n",
       "\n",
       "$Phrases[[2]]\n",
       "[1] \"Archery\"\n",
       "\n",
       "\n",
       "$Brands\n",
       "[1] \"Kellogs\" \"Nike\"    \"iPhone\" \n"
      ]
     },
     "metadata": {},
     "output_type": "display_data"
    }
   ],
   "source": [
    "my_list"
   ]
  },
  {
   "cell_type": "code",
   "execution_count": 156,
   "id": "bce5656f",
   "metadata": {
    "vscode": {
     "languageId": "r"
    }
   },
   "outputs": [
    {
     "data": {
      "text/html": [
       "<dl>\n",
       "\t<dt>$Numbers</dt>\n",
       "\t\t<dd><style>\n",
       ".list-inline {list-style: none; margin:0; padding: 0}\n",
       ".list-inline>li {display: inline-block}\n",
       ".list-inline>li:not(:last-child)::after {content: \"\\00b7\"; padding: 0 .5ex}\n",
       "</style>\n",
       "<ol class=list-inline><li>1</li><li>3</li><li>5</li><li>7</li><li>9</li><li>11</li></ol>\n",
       "</dd>\n",
       "\t<dt>$Phrases</dt>\n",
       "\t\t<dd><ol>\n",
       "\t<li>'Happy Birthday'</li>\n",
       "\t<li>'Archery'</li>\n",
       "</ol>\n",
       "</dd>\n",
       "\t<dt>$Brands</dt>\n",
       "\t\t<dd><style>\n",
       ".list-inline {list-style: none; margin:0; padding: 0}\n",
       ".list-inline>li {display: inline-block}\n",
       ".list-inline>li:not(:last-child)::after {content: \"\\00b7\"; padding: 0 .5ex}\n",
       "</style>\n",
       "<ol class=list-inline><li>'Kellogs'</li><li>'Nike'</li></ol>\n",
       "</dd>\n",
       "</dl>\n"
      ],
      "text/latex": [
       "\\begin{description}\n",
       "\\item[\\$Numbers] \\begin{enumerate*}\n",
       "\\item 1\n",
       "\\item 3\n",
       "\\item 5\n",
       "\\item 7\n",
       "\\item 9\n",
       "\\item 11\n",
       "\\end{enumerate*}\n",
       "\n",
       "\\item[\\$Phrases] \\begin{enumerate}\n",
       "\\item 'Happy Birthday'\n",
       "\\item 'Archery'\n",
       "\\end{enumerate}\n",
       "\n",
       "\\item[\\$Brands] \\begin{enumerate*}\n",
       "\\item 'Kellogs'\n",
       "\\item 'Nike'\n",
       "\\end{enumerate*}\n",
       "\n",
       "\\end{description}\n"
      ],
      "text/markdown": [
       "$Numbers\n",
       ":   1. 1\n",
       "2. 3\n",
       "3. 5\n",
       "4. 7\n",
       "5. 9\n",
       "6. 11\n",
       "\n",
       "\n",
       "\n",
       "$Phrases\n",
       ":   1. 'Happy Birthday'\n",
       "2. 'Archery'\n",
       "\n",
       "\n",
       "\n",
       "$Brands\n",
       ":   1. 'Kellogs'\n",
       "2. 'Nike'\n",
       "\n",
       "\n",
       "\n",
       "\n",
       "\n"
      ],
      "text/plain": [
       "$Numbers\n",
       "[1]  1  3  5  7  9 11\n",
       "\n",
       "$Phrases\n",
       "$Phrases[[1]]\n",
       "[1] \"Happy Birthday\"\n",
       "\n",
       "$Phrases[[2]]\n",
       "[1] \"Archery\"\n",
       "\n",
       "\n",
       "$Brands\n",
       "[1] \"Kellogs\" \"Nike\"   \n"
      ]
     },
     "metadata": {},
     "output_type": "display_data"
    }
   ],
   "source": [
    "# Remove \"iPhone\" from the \"Brands\" item\n",
    "my_list$Brands <- my_list$Brands[my_list$Brands != \"iPhone\"]\n",
    "my_list"
   ]
  },
  {
   "cell_type": "code",
   "execution_count": 158,
   "id": "39f51631",
   "metadata": {
    "vscode": {
     "languageId": "r"
    }
   },
   "outputs": [
    {
     "data": {
      "text/html": [
       "<dl>\n",
       "\t<dt>$Numbers</dt>\n",
       "\t\t<dd><style>\n",
       ".list-inline {list-style: none; margin:0; padding: 0}\n",
       ".list-inline>li {display: inline-block}\n",
       ".list-inline>li:not(:last-child)::after {content: \"\\00b7\"; padding: 0 .5ex}\n",
       "</style>\n",
       "<ol class=list-inline><li>1</li><li>3</li><li>5</li><li>7</li><li>9</li><li>11</li></ol>\n",
       "</dd>\n",
       "\t<dt>$Phrases</dt>\n",
       "\t\t<dd><ol>\n",
       "\t<li>'Happy Birthday'</li>\n",
       "\t<li>'Archery'</li>\n",
       "</ol>\n",
       "</dd>\n",
       "</dl>\n"
      ],
      "text/latex": [
       "\\begin{description}\n",
       "\\item[\\$Numbers] \\begin{enumerate*}\n",
       "\\item 1\n",
       "\\item 3\n",
       "\\item 5\n",
       "\\item 7\n",
       "\\item 9\n",
       "\\item 11\n",
       "\\end{enumerate*}\n",
       "\n",
       "\\item[\\$Phrases] \\begin{enumerate}\n",
       "\\item 'Happy Birthday'\n",
       "\\item 'Archery'\n",
       "\\end{enumerate}\n",
       "\n",
       "\\end{description}\n"
      ],
      "text/markdown": [
       "$Numbers\n",
       ":   1. 1\n",
       "2. 3\n",
       "3. 5\n",
       "4. 7\n",
       "5. 9\n",
       "6. 11\n",
       "\n",
       "\n",
       "\n",
       "$Phrases\n",
       ":   1. 'Happy Birthday'\n",
       "2. 'Archery'\n",
       "\n",
       "\n",
       "\n",
       "\n",
       "\n"
      ],
      "text/plain": [
       "$Numbers\n",
       "[1]  1  3  5  7  9 11\n",
       "\n",
       "$Phrases\n",
       "$Phrases[[1]]\n",
       "[1] \"Happy Birthday\"\n",
       "\n",
       "$Phrases[[2]]\n",
       "[1] \"Archery\"\n",
       "\n"
      ]
     },
     "metadata": {},
     "output_type": "display_data"
    }
   ],
   "source": [
    "# Remove the \"Brands\" item from the list\n",
    "my_list$Brands <- NULL\n",
    "my_list"
   ]
  }
 ],
 "metadata": {
  "kernelspec": {
   "display_name": "R",
   "language": "R",
   "name": "ir"
  },
  "language_info": {
   "codemirror_mode": "r",
   "file_extension": ".r",
   "mimetype": "text/x-r-source",
   "name": "R",
   "pygments_lexer": "r",
   "version": "4.3.1"
  }
 },
 "nbformat": 4,
 "nbformat_minor": 5
}
