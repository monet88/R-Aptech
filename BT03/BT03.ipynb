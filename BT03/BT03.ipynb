{
 "cells": [
  {
   "cell_type": "code",
   "execution_count": 3,
   "id": "602a180e",
   "metadata": {
    "vscode": {
     "languageId": "r"
    }
   },
   "outputs": [],
   "source": [
    "# Pictured below is a matrix. Recreate this matrix in at least three different ways. \n",
    "\n",
    "#Player  Piece   \n",
    "#[1,] \"dark\"  \"king\"  \n",
    "#[2,] \"dark\"  \"queen\" \n",
    "#[3,] \"dark\"  \"pawn\"  \n",
    "#[4,] \"dark\"  \"pawn\"  \n",
    "#[5,] \"dark\"  \"knight\"\n",
    "#[6,] \"light\" \"bishop\"\n",
    "#[7,] \"light\" \"king\"  \n",
    "#[8,] \"light\" \"rook\"  \n",
    "#[9,] \"light\" \"pawn\"  \n",
    "#[10,] \"light\" \"pawn\"  \n",
    "\n",
    "matrix_data <- matrix(c(\"dark\", \"dark\", \"dark\", \"dark\", \"dark\", \"light\", \"light\", \"light\", \"light\", \"light\", \"king\", \"queen\", \"pawn\", \"pawn\", \"knight\", \"bishop\", \"king\", \"rook\", \"pawn\", \"pawn\"), nrow = 10, byrow = TRUE)"
   ]
  },
  {
   "cell_type": "code",
   "execution_count": 4,
   "id": "53c16f7a",
   "metadata": {
    "vscode": {
     "languageId": "r"
    }
   },
   "outputs": [
    {
     "data": {
      "text/html": [
       "<table class=\"dataframe\">\n",
       "<caption>A matrix: 10 × 2 of type chr</caption>\n",
       "<tbody>\n",
       "\t<tr><td>dark  </td><td>dark  </td></tr>\n",
       "\t<tr><td>dark  </td><td>dark  </td></tr>\n",
       "\t<tr><td>dark  </td><td>light </td></tr>\n",
       "\t<tr><td>light </td><td>light </td></tr>\n",
       "\t<tr><td>light </td><td>light </td></tr>\n",
       "\t<tr><td>king  </td><td>queen </td></tr>\n",
       "\t<tr><td>pawn  </td><td>pawn  </td></tr>\n",
       "\t<tr><td>knight</td><td>bishop</td></tr>\n",
       "\t<tr><td>king  </td><td>rook  </td></tr>\n",
       "\t<tr><td>pawn  </td><td>pawn  </td></tr>\n",
       "</tbody>\n",
       "</table>\n"
      ],
      "text/latex": [
       "A matrix: 10 × 2 of type chr\n",
       "\\begin{tabular}{ll}\n",
       "\t dark   & dark  \\\\\n",
       "\t dark   & dark  \\\\\n",
       "\t dark   & light \\\\\n",
       "\t light  & light \\\\\n",
       "\t light  & light \\\\\n",
       "\t king   & queen \\\\\n",
       "\t pawn   & pawn  \\\\\n",
       "\t knight & bishop\\\\\n",
       "\t king   & rook  \\\\\n",
       "\t pawn   & pawn  \\\\\n",
       "\\end{tabular}\n"
      ],
      "text/markdown": [
       "\n",
       "A matrix: 10 × 2 of type chr\n",
       "\n",
       "| dark   | dark   |\n",
       "| dark   | dark   |\n",
       "| dark   | light  |\n",
       "| light  | light  |\n",
       "| light  | light  |\n",
       "| king   | queen  |\n",
       "| pawn   | pawn   |\n",
       "| knight | bishop |\n",
       "| king   | rook   |\n",
       "| pawn   | pawn   |\n",
       "\n"
      ],
      "text/plain": [
       "      [,1]   [,2]  \n",
       " [1,] dark   dark  \n",
       " [2,] dark   dark  \n",
       " [3,] dark   light \n",
       " [4,] light  light \n",
       " [5,] light  light \n",
       " [6,] king   queen \n",
       " [7,] pawn   pawn  \n",
       " [8,] knight bishop\n",
       " [9,] king   rook  \n",
       "[10,] pawn   pawn  "
      ]
     },
     "metadata": {},
     "output_type": "display_data"
    }
   ],
   "source": [
    "matrix_data"
   ]
  },
  {
   "cell_type": "code",
   "execution_count": 5,
   "id": "3606d634",
   "metadata": {
    "vscode": {
     "languageId": "r"
    }
   },
   "outputs": [
    {
     "data": {
      "text/html": [
       "<table class=\"dataframe\">\n",
       "<caption>A matrix: 10 × 2 of type chr</caption>\n",
       "<thead>\n",
       "\t<tr><th scope=col>col1</th><th scope=col>col2</th></tr>\n",
       "</thead>\n",
       "<tbody>\n",
       "\t<tr><td>dark </td><td>king  </td></tr>\n",
       "\t<tr><td>dark </td><td>queen </td></tr>\n",
       "\t<tr><td>dark </td><td>pawn  </td></tr>\n",
       "\t<tr><td>dark </td><td>pawn  </td></tr>\n",
       "\t<tr><td>dark </td><td>knight</td></tr>\n",
       "\t<tr><td>light</td><td>bishop</td></tr>\n",
       "\t<tr><td>light</td><td>king  </td></tr>\n",
       "\t<tr><td>light</td><td>rook  </td></tr>\n",
       "\t<tr><td>light</td><td>pawn  </td></tr>\n",
       "\t<tr><td>light</td><td>pawn  </td></tr>\n",
       "</tbody>\n",
       "</table>\n"
      ],
      "text/latex": [
       "A matrix: 10 × 2 of type chr\n",
       "\\begin{tabular}{ll}\n",
       " col1 & col2\\\\\n",
       "\\hline\n",
       "\t dark  & king  \\\\\n",
       "\t dark  & queen \\\\\n",
       "\t dark  & pawn  \\\\\n",
       "\t dark  & pawn  \\\\\n",
       "\t dark  & knight\\\\\n",
       "\t light & bishop\\\\\n",
       "\t light & king  \\\\\n",
       "\t light & rook  \\\\\n",
       "\t light & pawn  \\\\\n",
       "\t light & pawn  \\\\\n",
       "\\end{tabular}\n"
      ],
      "text/markdown": [
       "\n",
       "A matrix: 10 × 2 of type chr\n",
       "\n",
       "| col1 | col2 |\n",
       "|---|---|\n",
       "| dark  | king   |\n",
       "| dark  | queen  |\n",
       "| dark  | pawn   |\n",
       "| dark  | pawn   |\n",
       "| dark  | knight |\n",
       "| light | bishop |\n",
       "| light | king   |\n",
       "| light | rook   |\n",
       "| light | pawn   |\n",
       "| light | pawn   |\n",
       "\n"
      ],
      "text/plain": [
       "      col1  col2  \n",
       " [1,] dark  king  \n",
       " [2,] dark  queen \n",
       " [3,] dark  pawn  \n",
       " [4,] dark  pawn  \n",
       " [5,] dark  knight\n",
       " [6,] light bishop\n",
       " [7,] light king  \n",
       " [8,] light rook  \n",
       " [9,] light pawn  \n",
       "[10,] light pawn  "
      ]
     },
     "metadata": {},
     "output_type": "display_data"
    }
   ],
   "source": [
    "# # Use the cbind() function\n",
    "col1 <- c(\"dark\", \"dark\", \"dark\", \"dark\", \"dark\", \"light\", \"light\", \"light\", \"light\", \"light\")\n",
    "col2 <- c(\"king\", \"queen\", \"pawn\", \"pawn\", \"knight\", \"bishop\", \"king\", \"rook\", \"pawn\", \"pawn\")\n",
    "matrix_data <- cbind(col1, col2)\n",
    "matrix_data"
   ]
  },
  {
   "cell_type": "code",
   "execution_count": 6,
   "id": "0c880739",
   "metadata": {
    "vscode": {
     "languageId": "r"
    }
   },
   "outputs": [
    {
     "data": {
      "text/html": [
       "<table class=\"dataframe\">\n",
       "<caption>A matrix: 10 × 2 of type chr</caption>\n",
       "<tbody>\n",
       "\t<tr><td>dark </td><td>king  </td></tr>\n",
       "\t<tr><td>dark </td><td>queen </td></tr>\n",
       "\t<tr><td>dark </td><td>pawn  </td></tr>\n",
       "\t<tr><td>dark </td><td>pawn  </td></tr>\n",
       "\t<tr><td>dark </td><td>knight</td></tr>\n",
       "\t<tr><td>light</td><td>bishop</td></tr>\n",
       "\t<tr><td>light</td><td>king  </td></tr>\n",
       "\t<tr><td>light</td><td>rook  </td></tr>\n",
       "\t<tr><td>light</td><td>pawn  </td></tr>\n",
       "\t<tr><td>light</td><td>pawn  </td></tr>\n",
       "</tbody>\n",
       "</table>\n"
      ],
      "text/latex": [
       "A matrix: 10 × 2 of type chr\n",
       "\\begin{tabular}{ll}\n",
       "\t dark  & king  \\\\\n",
       "\t dark  & queen \\\\\n",
       "\t dark  & pawn  \\\\\n",
       "\t dark  & pawn  \\\\\n",
       "\t dark  & knight\\\\\n",
       "\t light & bishop\\\\\n",
       "\t light & king  \\\\\n",
       "\t light & rook  \\\\\n",
       "\t light & pawn  \\\\\n",
       "\t light & pawn  \\\\\n",
       "\\end{tabular}\n"
      ],
      "text/markdown": [
       "\n",
       "A matrix: 10 × 2 of type chr\n",
       "\n",
       "| dark  | king   |\n",
       "| dark  | queen  |\n",
       "| dark  | pawn   |\n",
       "| dark  | pawn   |\n",
       "| dark  | knight |\n",
       "| light | bishop |\n",
       "| light | king   |\n",
       "| light | rook   |\n",
       "| light | pawn   |\n",
       "| light | pawn   |\n",
       "\n"
      ],
      "text/plain": [
       "      [,1]  [,2]  \n",
       " [1,] dark  king  \n",
       " [2,] dark  queen \n",
       " [3,] dark  pawn  \n",
       " [4,] dark  pawn  \n",
       " [5,] dark  knight\n",
       " [6,] light bishop\n",
       " [7,] light king  \n",
       " [8,] light rook  \n",
       " [9,] light pawn  \n",
       "[10,] light pawn  "
      ]
     },
     "metadata": {},
     "output_type": "display_data"
    }
   ],
   "source": [
    "# Use the dim() function\n",
    "matrix_data <- c(\"dark\", \"dark\", \"dark\", \"dark\", \"dark\", \"light\", \"light\", \"light\", \"light\", \"light\",\n",
    "                 \"king\", \"queen\", \"pawn\", \"pawn\", \"knight\", \"bishop\", \"king\", \"rook\", \"pawn\", \"pawn\")\n",
    "dim(matrix_data) <- c(10, 2)\n",
    "matrix_data"
   ]
  },
  {
   "cell_type": "code",
   "execution_count": 7,
   "id": "f0edee62",
   "metadata": {
    "vscode": {
     "languageId": "r"
    }
   },
   "outputs": [
    {
     "data": {
      "text/html": [
       "<table class=\"dataframe\">\n",
       "<caption>A data.frame: 10 × 2</caption>\n",
       "<thead>\n",
       "\t<tr><th scope=col>Player</th><th scope=col>Piece</th></tr>\n",
       "\t<tr><th scope=col>&lt;chr&gt;</th><th scope=col>&lt;chr&gt;</th></tr>\n",
       "</thead>\n",
       "<tbody>\n",
       "\t<tr><td>dark </td><td>king  </td></tr>\n",
       "\t<tr><td>dark </td><td>queen </td></tr>\n",
       "\t<tr><td>dark </td><td>pawn  </td></tr>\n",
       "\t<tr><td>dark </td><td>pawn  </td></tr>\n",
       "\t<tr><td>dark </td><td>knight</td></tr>\n",
       "\t<tr><td>light</td><td>bishop</td></tr>\n",
       "\t<tr><td>light</td><td>king  </td></tr>\n",
       "\t<tr><td>light</td><td>rook  </td></tr>\n",
       "\t<tr><td>light</td><td>pawn  </td></tr>\n",
       "\t<tr><td>light</td><td>pawn  </td></tr>\n",
       "</tbody>\n",
       "</table>\n"
      ],
      "text/latex": [
       "A data.frame: 10 × 2\n",
       "\\begin{tabular}{ll}\n",
       " Player & Piece\\\\\n",
       " <chr> & <chr>\\\\\n",
       "\\hline\n",
       "\t dark  & king  \\\\\n",
       "\t dark  & queen \\\\\n",
       "\t dark  & pawn  \\\\\n",
       "\t dark  & pawn  \\\\\n",
       "\t dark  & knight\\\\\n",
       "\t light & bishop\\\\\n",
       "\t light & king  \\\\\n",
       "\t light & rook  \\\\\n",
       "\t light & pawn  \\\\\n",
       "\t light & pawn  \\\\\n",
       "\\end{tabular}\n"
      ],
      "text/markdown": [
       "\n",
       "A data.frame: 10 × 2\n",
       "\n",
       "| Player &lt;chr&gt; | Piece &lt;chr&gt; |\n",
       "|---|---|\n",
       "| dark  | king   |\n",
       "| dark  | queen  |\n",
       "| dark  | pawn   |\n",
       "| dark  | pawn   |\n",
       "| dark  | knight |\n",
       "| light | bishop |\n",
       "| light | king   |\n",
       "| light | rook   |\n",
       "| light | pawn   |\n",
       "| light | pawn   |\n",
       "\n"
      ],
      "text/plain": [
       "   Player Piece \n",
       "1  dark   king  \n",
       "2  dark   queen \n",
       "3  dark   pawn  \n",
       "4  dark   pawn  \n",
       "5  dark   knight\n",
       "6  light  bishop\n",
       "7  light  king  \n",
       "8  light  rook  \n",
       "9  light  pawn  \n",
       "10 light  pawn  "
      ]
     },
     "metadata": {},
     "output_type": "display_data"
    }
   ],
   "source": [
    "# Can you think of a faster way to create this matrix?\n",
    "matrix_data <- data.frame(\n",
    "    Player = c(\"dark\", \"dark\", \"dark\", \"dark\", \"dark\", \"light\", \"light\", \"light\", \"light\", \"light\"),\n",
    "    Piece = c(\"king\", \"queen\", \"pawn\", \"pawn\", \"knight\", \"bishop\", \"king\", \"rook\", \"pawn\", \"pawn\")\n",
    ")\n",
    "matrix_data"
   ]
  },
  {
   "cell_type": "code",
   "execution_count": 8,
   "id": "0224cae2",
   "metadata": {
    "vscode": {
     "languageId": "r"
    }
   },
   "outputs": [
    {
     "data": {
      "text/html": [
       "<table class=\"dataframe\">\n",
       "<caption>A matrix: 10 × 2 of type chr</caption>\n",
       "<thead>\n",
       "\t<tr><th></th><th scope=col>Player</th><th scope=col>Piece</th></tr>\n",
       "</thead>\n",
       "<tbody>\n",
       "\t<tr><th scope=row>1</th><td>dark  </td><td>dark  </td></tr>\n",
       "\t<tr><th scope=row>2</th><td>dark  </td><td>dark  </td></tr>\n",
       "\t<tr><th scope=row>3</th><td>dark  </td><td>light </td></tr>\n",
       "\t<tr><th scope=row>4</th><td>light </td><td>light </td></tr>\n",
       "\t<tr><th scope=row>5</th><td>light </td><td>light </td></tr>\n",
       "\t<tr><th scope=row>6</th><td>king  </td><td>queen </td></tr>\n",
       "\t<tr><th scope=row>7</th><td>pawn  </td><td>pawn  </td></tr>\n",
       "\t<tr><th scope=row>8</th><td>knight</td><td>bishop</td></tr>\n",
       "\t<tr><th scope=row>9</th><td>king  </td><td>rook  </td></tr>\n",
       "\t<tr><th scope=row>10</th><td>pawn  </td><td>pawn  </td></tr>\n",
       "</tbody>\n",
       "</table>\n"
      ],
      "text/latex": [
       "A matrix: 10 × 2 of type chr\n",
       "\\begin{tabular}{r|ll}\n",
       "  & Player & Piece\\\\\n",
       "\\hline\n",
       "\t1 & dark   & dark  \\\\\n",
       "\t2 & dark   & dark  \\\\\n",
       "\t3 & dark   & light \\\\\n",
       "\t4 & light  & light \\\\\n",
       "\t5 & light  & light \\\\\n",
       "\t6 & king   & queen \\\\\n",
       "\t7 & pawn   & pawn  \\\\\n",
       "\t8 & knight & bishop\\\\\n",
       "\t9 & king   & rook  \\\\\n",
       "\t10 & pawn   & pawn  \\\\\n",
       "\\end{tabular}\n"
      ],
      "text/markdown": [
       "\n",
       "A matrix: 10 × 2 of type chr\n",
       "\n",
       "| <!--/--> | Player | Piece |\n",
       "|---|---|---|\n",
       "| 1 | dark   | dark   |\n",
       "| 2 | dark   | dark   |\n",
       "| 3 | dark   | light  |\n",
       "| 4 | light  | light  |\n",
       "| 5 | light  | light  |\n",
       "| 6 | king   | queen  |\n",
       "| 7 | pawn   | pawn   |\n",
       "| 8 | knight | bishop |\n",
       "| 9 | king   | rook   |\n",
       "| 10 | pawn   | pawn   |\n",
       "\n"
      ],
      "text/plain": [
       "   Player Piece \n",
       "1  dark   dark  \n",
       "2  dark   dark  \n",
       "3  dark   light \n",
       "4  light  light \n",
       "5  light  light \n",
       "6  king   queen \n",
       "7  pawn   pawn  \n",
       "8  knight bishop\n",
       "9  king   rook  \n",
       "10 pawn   pawn  "
      ]
     },
     "metadata": {},
     "output_type": "display_data"
    }
   ],
   "source": [
    "# Assign names to it in two different ways.\n",
    "# 1\n",
    "matrix_data <- matrix(c(\"dark\", \"dark\", \"dark\", \"dark\", \"dark\", \"light\", \"light\", \"light\", \"light\", \"light\",\n",
    "                        \"king\", \"queen\", \"pawn\", \"pawn\", \"knight\", \"bishop\", \"king\", \"rook\", \"pawn\", \"pawn\"),\n",
    "                      nrow = 10, byrow = TRUE)\n",
    "\n",
    "rownames(matrix_data) <- c(\"1\", \"2\", \"3\", \"4\", \"5\", \"6\", \"7\", \"8\", \"9\", \"10\")\n",
    "colnames(matrix_data) <- c(\"Player\", \"Piece\")\n",
    "\n",
    "matrix_data"
   ]
  },
  {
   "cell_type": "code",
   "execution_count": 9,
   "id": "330def26",
   "metadata": {
    "vscode": {
     "languageId": "r"
    }
   },
   "outputs": [
    {
     "data": {
      "text/html": [
       "<table class=\"dataframe\">\n",
       "<caption>A matrix: 10 × 2 of type chr</caption>\n",
       "<thead>\n",
       "\t<tr><th></th><th scope=col>Player</th><th scope=col>Piece</th></tr>\n",
       "</thead>\n",
       "<tbody>\n",
       "\t<tr><th scope=row>1</th><td>dark  </td><td>dark  </td></tr>\n",
       "\t<tr><th scope=row>2</th><td>dark  </td><td>dark  </td></tr>\n",
       "\t<tr><th scope=row>3</th><td>dark  </td><td>light </td></tr>\n",
       "\t<tr><th scope=row>4</th><td>light </td><td>light </td></tr>\n",
       "\t<tr><th scope=row>5</th><td>light </td><td>light </td></tr>\n",
       "\t<tr><th scope=row>6</th><td>king  </td><td>queen </td></tr>\n",
       "\t<tr><th scope=row>7</th><td>pawn  </td><td>pawn  </td></tr>\n",
       "\t<tr><th scope=row>8</th><td>knight</td><td>bishop</td></tr>\n",
       "\t<tr><th scope=row>9</th><td>king  </td><td>rook  </td></tr>\n",
       "\t<tr><th scope=row>10</th><td>pawn  </td><td>pawn  </td></tr>\n",
       "</tbody>\n",
       "</table>\n"
      ],
      "text/latex": [
       "A matrix: 10 × 2 of type chr\n",
       "\\begin{tabular}{r|ll}\n",
       "  & Player & Piece\\\\\n",
       "\\hline\n",
       "\t1 & dark   & dark  \\\\\n",
       "\t2 & dark   & dark  \\\\\n",
       "\t3 & dark   & light \\\\\n",
       "\t4 & light  & light \\\\\n",
       "\t5 & light  & light \\\\\n",
       "\t6 & king   & queen \\\\\n",
       "\t7 & pawn   & pawn  \\\\\n",
       "\t8 & knight & bishop\\\\\n",
       "\t9 & king   & rook  \\\\\n",
       "\t10 & pawn   & pawn  \\\\\n",
       "\\end{tabular}\n"
      ],
      "text/markdown": [
       "\n",
       "A matrix: 10 × 2 of type chr\n",
       "\n",
       "| <!--/--> | Player | Piece |\n",
       "|---|---|---|\n",
       "| 1 | dark   | dark   |\n",
       "| 2 | dark   | dark   |\n",
       "| 3 | dark   | light  |\n",
       "| 4 | light  | light  |\n",
       "| 5 | light  | light  |\n",
       "| 6 | king   | queen  |\n",
       "| 7 | pawn   | pawn   |\n",
       "| 8 | knight | bishop |\n",
       "| 9 | king   | rook   |\n",
       "| 10 | pawn   | pawn   |\n",
       "\n"
      ],
      "text/plain": [
       "   Player Piece \n",
       "1  dark   dark  \n",
       "2  dark   dark  \n",
       "3  dark   light \n",
       "4  light  light \n",
       "5  light  light \n",
       "6  king   queen \n",
       "7  pawn   pawn  \n",
       "8  knight bishop\n",
       "9  king   rook  \n",
       "10 pawn   pawn  "
      ]
     },
     "metadata": {},
     "output_type": "display_data"
    }
   ],
   "source": [
    "# 2\n",
    "matrix_data <- matrix(c(\"dark\", \"dark\", \"dark\", \"dark\", \"dark\", \"light\", \"light\", \"light\", \"light\", \"light\",\n",
    "                        \"king\", \"queen\", \"pawn\", \"pawn\", \"knight\", \"bishop\", \"king\", \"rook\", \"pawn\", \"pawn\"),\n",
    "                      nrow = 10, byrow = TRUE)\n",
    "\n",
    "dimnames(matrix_data) <- list(c(\"1\", \"2\", \"3\", \"4\", \"5\", \"6\", \"7\", \"8\", \"9\", \"10\"), c(\"Player\", \"Piece\"))\n",
    "matrix_data"
   ]
  },
  {
   "cell_type": "code",
   "execution_count": 10,
   "id": "0a30e90e",
   "metadata": {
    "vscode": {
     "languageId": "r"
    }
   },
   "outputs": [],
   "source": [
    "# Would using rbind() be practical in this case?\n",
    "# Using rbind() to add rows to the matrix would not be practical in this case \n",
    "# because rbind() is used to combine matrices with the same number of columns. \n",
    "# Since the original matrix has 2 columns and the rows you want to add would have more than 2 columns, rbind() would not work."
   ]
  },
  {
   "cell_type": "code",
   "execution_count": 11,
   "id": "e395b600",
   "metadata": {
    "vscode": {
     "languageId": "r"
    }
   },
   "outputs": [
    {
     "data": {
      "text/html": [
       "<table class=\"dataframe\">\n",
       "<caption>A data.frame: 11 × 2</caption>\n",
       "<thead>\n",
       "\t<tr><th></th><th scope=col>Player</th><th scope=col>Piece</th></tr>\n",
       "\t<tr><th></th><th scope=col>&lt;chr&gt;</th><th scope=col>&lt;chr&gt;</th></tr>\n",
       "</thead>\n",
       "<tbody>\n",
       "\t<tr><th scope=row>1</th><td>dark  </td><td>dark  </td></tr>\n",
       "\t<tr><th scope=row>2</th><td>dark  </td><td>dark  </td></tr>\n",
       "\t<tr><th scope=row>3</th><td>dark  </td><td>light </td></tr>\n",
       "\t<tr><th scope=row>4</th><td>light </td><td>light </td></tr>\n",
       "\t<tr><th scope=row>5</th><td>light </td><td>light </td></tr>\n",
       "\t<tr><th scope=row>6</th><td>king  </td><td>queen </td></tr>\n",
       "\t<tr><th scope=row>7</th><td>pawn  </td><td>pawn  </td></tr>\n",
       "\t<tr><th scope=row>8</th><td>knight</td><td>bishop</td></tr>\n",
       "\t<tr><th scope=row>9</th><td>king  </td><td>rook  </td></tr>\n",
       "\t<tr><th scope=row>10</th><td>pawn  </td><td>pawn  </td></tr>\n",
       "\t<tr><th scope=row>11</th><td>dark  </td><td>queen </td></tr>\n",
       "</tbody>\n",
       "</table>\n"
      ],
      "text/latex": [
       "A data.frame: 11 × 2\n",
       "\\begin{tabular}{r|ll}\n",
       "  & Player & Piece\\\\\n",
       "  & <chr> & <chr>\\\\\n",
       "\\hline\n",
       "\t1 & dark   & dark  \\\\\n",
       "\t2 & dark   & dark  \\\\\n",
       "\t3 & dark   & light \\\\\n",
       "\t4 & light  & light \\\\\n",
       "\t5 & light  & light \\\\\n",
       "\t6 & king   & queen \\\\\n",
       "\t7 & pawn   & pawn  \\\\\n",
       "\t8 & knight & bishop\\\\\n",
       "\t9 & king   & rook  \\\\\n",
       "\t10 & pawn   & pawn  \\\\\n",
       "\t11 & dark   & queen \\\\\n",
       "\\end{tabular}\n"
      ],
      "text/markdown": [
       "\n",
       "A data.frame: 11 × 2\n",
       "\n",
       "| <!--/--> | Player &lt;chr&gt; | Piece &lt;chr&gt; |\n",
       "|---|---|---|\n",
       "| 1 | dark   | dark   |\n",
       "| 2 | dark   | dark   |\n",
       "| 3 | dark   | light  |\n",
       "| 4 | light  | light  |\n",
       "| 5 | light  | light  |\n",
       "| 6 | king   | queen  |\n",
       "| 7 | pawn   | pawn   |\n",
       "| 8 | knight | bishop |\n",
       "| 9 | king   | rook   |\n",
       "| 10 | pawn   | pawn   |\n",
       "| 11 | dark   | queen  |\n",
       "\n"
      ],
      "text/plain": [
       "   Player Piece \n",
       "1  dark   dark  \n",
       "2  dark   dark  \n",
       "3  dark   light \n",
       "4  light  light \n",
       "5  light  light \n",
       "6  king   queen \n",
       "7  pawn   pawn  \n",
       "8  knight bishop\n",
       "9  king   rook  \n",
       "10 pawn   pawn  \n",
       "11 dark   queen "
      ]
     },
     "metadata": {},
     "output_type": "display_data"
    }
   ],
   "source": [
    "# Can you think of a way to make adding a row to the matrix worthwhile?\n",
    "new_row <- data.frame(\n",
    "  Player = \"dark\",\n",
    "  Piece = \"queen\"\n",
    ")\n",
    "\n",
    "matrix_data <- rbind(matrix_data, new_row)\n",
    "matrix_data"
   ]
  },
  {
   "cell_type": "code",
   "execution_count": 12,
   "id": "b6fe3f08",
   "metadata": {
    "vscode": {
     "languageId": "r"
    }
   },
   "outputs": [
    {
     "data": {
      "text/html": [
       "<table class=\"dataframe\">\n",
       "<caption>A matrix: 3 × 10 of type chr</caption>\n",
       "<tbody>\n",
       "\t<tr><th scope=row>Player</th><td>dark</td><td>dark </td><td>dark</td><td>dark</td><td>dark  </td><td>light </td><td>light</td><td>light</td><td>light</td><td>light</td></tr>\n",
       "\t<tr><th scope=row>Piece</th><td>king</td><td>queen</td><td>pawn</td><td>pawn</td><td>knight</td><td>bishop</td><td>king </td><td>rook </td><td>pawn </td><td>pawn </td></tr>\n",
       "\t<tr><th scope=row>new_row</th><td>3   </td><td>5    </td><td>2   </td><td>2   </td><td>7     </td><td>4     </td><td>6    </td><td>5    </td><td>2    </td><td>1    </td></tr>\n",
       "</tbody>\n",
       "</table>\n"
      ],
      "text/latex": [
       "A matrix: 3 × 10 of type chr\n",
       "\\begin{tabular}{r|llllllllll}\n",
       "\tPlayer & dark & dark  & dark & dark & dark   & light  & light & light & light & light\\\\\n",
       "\tPiece & king & queen & pawn & pawn & knight & bishop & king  & rook  & pawn  & pawn \\\\\n",
       "\tnew\\_row & 3    & 5     & 2    & 2    & 7      & 4      & 6     & 5     & 2     & 1    \\\\\n",
       "\\end{tabular}\n"
      ],
      "text/markdown": [
       "\n",
       "A matrix: 3 × 10 of type chr\n",
       "\n",
       "| Player | dark | dark  | dark | dark | dark   | light  | light | light | light | light |\n",
       "| Piece | king | queen | pawn | pawn | knight | bishop | king  | rook  | pawn  | pawn  |\n",
       "| new_row | 3    | 5     | 2    | 2    | 7      | 4      | 6     | 5     | 2     | 1     |\n",
       "\n"
      ],
      "text/plain": [
       "        [,1] [,2]  [,3] [,4] [,5]   [,6]   [,7]  [,8]  [,9]  [,10]\n",
       "Player  dark dark  dark dark dark   light  light light light light\n",
       "Piece   king queen pawn pawn knight bishop king  rook  pawn  pawn \n",
       "new_row 3    5     2    2    7      4      6     5     2     1    "
      ]
     },
     "metadata": {},
     "output_type": "display_data"
    }
   ],
   "source": [
    "matrix_data <- data.frame(\n",
    "    Player = c(\"dark\", \"dark\", \"dark\", \"dark\", \"dark\", \"light\", \"light\", \"light\", \"light\", \"light\"),\n",
    "    Piece = c(\"king\", \"queen\", \"pawn\", \"pawn\", \"knight\", \"bishop\", \"king\", \"rook\", \"pawn\", \"pawn\")\n",
    ")\n",
    "# Transpose the matrix\n",
    "transposed_matrix <- t(matrix_data)\n",
    "\n",
    "# Create a new row with the values\n",
    "new_row <- c(3, 5, 2, 2, 7, 4, 6, 5, 2, 1)\n",
    "\n",
    "# Add the new row to the transposed matrix\n",
    "final_matrix <- rbind(transposed_matrix, new_row)\n",
    "final_matrix"
   ]
  },
  {
   "cell_type": "code",
   "execution_count": 13,
   "id": "9f8162c6",
   "metadata": {
    "vscode": {
     "languageId": "r"
    }
   },
   "outputs": [
    {
     "data": {
      "text/html": [
       "<table class=\"dataframe\">\n",
       "<caption>A matrix: 3 × 10 of type chr</caption>\n",
       "<tbody>\n",
       "\t<tr><th scope=row>Player</th><td>dark</td><td>dark </td><td>dark</td><td>dark</td><td>dark  </td><td>light </td><td>light</td><td>light</td><td>light</td><td>light</td></tr>\n",
       "\t<tr><th scope=row>Piece</th><td>king</td><td>queen</td><td>pawn</td><td>pawn</td><td>knight</td><td>bishop</td><td>king </td><td>rook </td><td>pawn </td><td>pawn </td></tr>\n",
       "\t<tr><th scope=row>Turn</th><td>3   </td><td>5    </td><td>2   </td><td>2   </td><td>7     </td><td>4     </td><td>6    </td><td>5    </td><td>2    </td><td>1    </td></tr>\n",
       "</tbody>\n",
       "</table>\n"
      ],
      "text/latex": [
       "A matrix: 3 × 10 of type chr\n",
       "\\begin{tabular}{r|llllllllll}\n",
       "\tPlayer & dark & dark  & dark & dark & dark   & light  & light & light & light & light\\\\\n",
       "\tPiece & king & queen & pawn & pawn & knight & bishop & king  & rook  & pawn  & pawn \\\\\n",
       "\tTurn & 3    & 5     & 2    & 2    & 7      & 4      & 6     & 5     & 2     & 1    \\\\\n",
       "\\end{tabular}\n"
      ],
      "text/markdown": [
       "\n",
       "A matrix: 3 × 10 of type chr\n",
       "\n",
       "| Player | dark | dark  | dark | dark | dark   | light  | light | light | light | light |\n",
       "| Piece | king | queen | pawn | pawn | knight | bishop | king  | rook  | pawn  | pawn  |\n",
       "| Turn | 3    | 5     | 2    | 2    | 7      | 4      | 6     | 5     | 2     | 1     |\n",
       "\n"
      ],
      "text/plain": [
       "       [,1] [,2]  [,3] [,4] [,5]   [,6]   [,7]  [,8]  [,9]  [,10]\n",
       "Player dark dark  dark dark dark   light  light light light light\n",
       "Piece  king queen pawn pawn knight bishop king  rook  pawn  pawn \n",
       "Turn   3    5     2    2    7      4      6     5     2     1    "
      ]
     },
     "metadata": {},
     "output_type": "display_data"
    }
   ],
   "source": [
    "# Name the row \"Turn\" and transpose the matrix back to its original orientation.\n",
    "# Name the new_row as \"Turn\"\n",
    "rownames(final_matrix)[rownames(final_matrix) == \"new_row\"] <- \"Turn\"\n",
    "final_matrix"
   ]
  },
  {
   "cell_type": "code",
   "execution_count": 33,
   "id": "78686b33",
   "metadata": {
    "vscode": {
     "languageId": "r"
    }
   },
   "outputs": [
    {
     "data": {
      "text/html": [
       "<table class=\"dataframe\">\n",
       "<caption>A matrix: 10 × 3 of type chr</caption>\n",
       "<thead>\n",
       "\t<tr><th scope=col>Player</th><th scope=col>Piece</th><th scope=col>Turn</th></tr>\n",
       "</thead>\n",
       "<tbody>\n",
       "\t<tr><td>dark </td><td>king  </td><td>3</td></tr>\n",
       "\t<tr><td>dark </td><td>queen </td><td>5</td></tr>\n",
       "\t<tr><td>dark </td><td>pawn  </td><td>2</td></tr>\n",
       "\t<tr><td>dark </td><td>pawn  </td><td>2</td></tr>\n",
       "\t<tr><td>dark </td><td>knight</td><td>7</td></tr>\n",
       "\t<tr><td>light</td><td>bishop</td><td>4</td></tr>\n",
       "\t<tr><td>light</td><td>king  </td><td>6</td></tr>\n",
       "\t<tr><td>light</td><td>rook  </td><td>5</td></tr>\n",
       "\t<tr><td>light</td><td>pawn  </td><td>2</td></tr>\n",
       "\t<tr><td>light</td><td>pawn  </td><td>1</td></tr>\n",
       "</tbody>\n",
       "</table>\n"
      ],
      "text/latex": [
       "A matrix: 10 × 3 of type chr\n",
       "\\begin{tabular}{lll}\n",
       " Player & Piece & Turn\\\\\n",
       "\\hline\n",
       "\t dark  & king   & 3\\\\\n",
       "\t dark  & queen  & 5\\\\\n",
       "\t dark  & pawn   & 2\\\\\n",
       "\t dark  & pawn   & 2\\\\\n",
       "\t dark  & knight & 7\\\\\n",
       "\t light & bishop & 4\\\\\n",
       "\t light & king   & 6\\\\\n",
       "\t light & rook   & 5\\\\\n",
       "\t light & pawn   & 2\\\\\n",
       "\t light & pawn   & 1\\\\\n",
       "\\end{tabular}\n"
      ],
      "text/markdown": [
       "\n",
       "A matrix: 10 × 3 of type chr\n",
       "\n",
       "| Player | Piece | Turn |\n",
       "|---|---|---|\n",
       "| dark  | king   | 3 |\n",
       "| dark  | queen  | 5 |\n",
       "| dark  | pawn   | 2 |\n",
       "| dark  | pawn   | 2 |\n",
       "| dark  | knight | 7 |\n",
       "| light | bishop | 4 |\n",
       "| light | king   | 6 |\n",
       "| light | rook   | 5 |\n",
       "| light | pawn   | 2 |\n",
       "| light | pawn   | 1 |\n",
       "\n"
      ],
      "text/plain": [
       "      Player Piece  Turn\n",
       " [1,] dark   king   3   \n",
       " [2,] dark   queen  5   \n",
       " [3,] dark   pawn   2   \n",
       " [4,] dark   pawn   2   \n",
       " [5,] dark   knight 7   \n",
       " [6,] light  bishop 4   \n",
       " [7,] light  king   6   \n",
       " [8,] light  rook   5   \n",
       " [9,] light  pawn   2   \n",
       "[10,] light  pawn   1   "
      ]
     },
     "metadata": {},
     "output_type": "display_data"
    }
   ],
   "source": [
    "# Transpose the matrix back to its original orientation\n",
    "original_matrix <- t(final_matrix)\n",
    "# Rename\n",
    "cmatrix <- original_matrix\n",
    "cmatrix"
   ]
  },
  {
   "cell_type": "code",
   "execution_count": 31,
   "id": "0ae49bc6",
   "metadata": {
    "vscode": {
     "languageId": "r"
    }
   },
   "outputs": [
    {
     "data": {
      "text/html": [
       "'bishop'"
      ],
      "text/latex": [
       "'bishop'"
      ],
      "text/markdown": [
       "'bishop'"
      ],
      "text/plain": [
       "[1] \"bishop\""
      ]
     },
     "metadata": {},
     "output_type": "display_data"
    }
   ],
   "source": [
    "# Extract the following values from the chess matrix:\n",
    "#The first piece of the light player\n",
    "first_light_piece <- cmatrix[cmatrix[, \"Player\"] == \"light\", \"Piece\"][1]\n",
    "first_light_piece"
   ]
  },
  {
   "cell_type": "code",
   "execution_count": 37,
   "id": "6aaafbda",
   "metadata": {
    "vscode": {
     "languageId": "r"
    }
   },
   "outputs": [
    {
     "data": {
      "text/html": [
       "<table class=\"dataframe\">\n",
       "<caption>A matrix: 10 × 2 of type chr</caption>\n",
       "<thead>\n",
       "\t<tr><th scope=col>Player</th><th scope=col>Piece</th></tr>\n",
       "</thead>\n",
       "<tbody>\n",
       "\t<tr><td>dark </td><td>king  </td></tr>\n",
       "\t<tr><td>dark </td><td>queen </td></tr>\n",
       "\t<tr><td>dark </td><td>pawn  </td></tr>\n",
       "\t<tr><td>dark </td><td>pawn  </td></tr>\n",
       "\t<tr><td>dark </td><td>knight</td></tr>\n",
       "\t<tr><td>light</td><td>bishop</td></tr>\n",
       "\t<tr><td>light</td><td>king  </td></tr>\n",
       "\t<tr><td>light</td><td>rook  </td></tr>\n",
       "\t<tr><td>light</td><td>pawn  </td></tr>\n",
       "\t<tr><td>light</td><td>pawn  </td></tr>\n",
       "</tbody>\n",
       "</table>\n"
      ],
      "text/latex": [
       "A matrix: 10 × 2 of type chr\n",
       "\\begin{tabular}{ll}\n",
       " Player & Piece\\\\\n",
       "\\hline\n",
       "\t dark  & king  \\\\\n",
       "\t dark  & queen \\\\\n",
       "\t dark  & pawn  \\\\\n",
       "\t dark  & pawn  \\\\\n",
       "\t dark  & knight\\\\\n",
       "\t light & bishop\\\\\n",
       "\t light & king  \\\\\n",
       "\t light & rook  \\\\\n",
       "\t light & pawn  \\\\\n",
       "\t light & pawn  \\\\\n",
       "\\end{tabular}\n"
      ],
      "text/markdown": [
       "\n",
       "A matrix: 10 × 2 of type chr\n",
       "\n",
       "| Player | Piece |\n",
       "|---|---|\n",
       "| dark  | king   |\n",
       "| dark  | queen  |\n",
       "| dark  | pawn   |\n",
       "| dark  | pawn   |\n",
       "| dark  | knight |\n",
       "| light | bishop |\n",
       "| light | king   |\n",
       "| light | rook   |\n",
       "| light | pawn   |\n",
       "| light | pawn   |\n",
       "\n"
      ],
      "text/plain": [
       "      Player Piece \n",
       " [1,] dark   king  \n",
       " [2,] dark   queen \n",
       " [3,] dark   pawn  \n",
       " [4,] dark   pawn  \n",
       " [5,] dark   knight\n",
       " [6,] light  bishop\n",
       " [7,] light  king  \n",
       " [8,] light  rook  \n",
       " [9,] light  pawn  \n",
       "[10,] light  pawn  "
      ]
     },
     "metadata": {},
     "output_type": "display_data"
    }
   ],
   "source": [
    "#The Player and Piece columns\n",
    "player_piece <- cmatrix[, c(\"Player\", \"Piece\")]\n",
    "player_piece"
   ]
  },
  {
   "cell_type": "code",
   "execution_count": 39,
   "id": "30f92e6a",
   "metadata": {
    "vscode": {
     "languageId": "r"
    }
   },
   "outputs": [
    {
     "data": {
      "text/html": [
       "<table class=\"dataframe\">\n",
       "<caption>A matrix: 5 × 3 of type chr</caption>\n",
       "<thead>\n",
       "\t<tr><th scope=col>Player</th><th scope=col>Piece</th><th scope=col>Turn</th></tr>\n",
       "</thead>\n",
       "<tbody>\n",
       "\t<tr><td>dark</td><td>king  </td><td>3</td></tr>\n",
       "\t<tr><td>dark</td><td>queen </td><td>5</td></tr>\n",
       "\t<tr><td>dark</td><td>pawn  </td><td>2</td></tr>\n",
       "\t<tr><td>dark</td><td>pawn  </td><td>2</td></tr>\n",
       "\t<tr><td>dark</td><td>knight</td><td>7</td></tr>\n",
       "</tbody>\n",
       "</table>\n"
      ],
      "text/latex": [
       "A matrix: 5 × 3 of type chr\n",
       "\\begin{tabular}{lll}\n",
       " Player & Piece & Turn\\\\\n",
       "\\hline\n",
       "\t dark & king   & 3\\\\\n",
       "\t dark & queen  & 5\\\\\n",
       "\t dark & pawn   & 2\\\\\n",
       "\t dark & pawn   & 2\\\\\n",
       "\t dark & knight & 7\\\\\n",
       "\\end{tabular}\n"
      ],
      "text/markdown": [
       "\n",
       "A matrix: 5 × 3 of type chr\n",
       "\n",
       "| Player | Piece | Turn |\n",
       "|---|---|---|\n",
       "| dark | king   | 3 |\n",
       "| dark | queen  | 5 |\n",
       "| dark | pawn   | 2 |\n",
       "| dark | pawn   | 2 |\n",
       "| dark | knight | 7 |\n",
       "\n"
      ],
      "text/plain": [
       "     Player Piece  Turn\n",
       "[1,] dark   king   3   \n",
       "[2,] dark   queen  5   \n",
       "[3,] dark   pawn   2   \n",
       "[4,] dark   pawn   2   \n",
       "[5,] dark   knight 7   "
      ]
     },
     "metadata": {},
     "output_type": "display_data"
    }
   ],
   "source": [
    "#All the information about the dark player\n",
    "dark_player <- cmatrix[cmatrix[, \"Player\"] == \"dark\", ]\n",
    "dark_player"
   ]
  },
  {
   "cell_type": "code",
   "execution_count": 41,
   "id": "67141f5b",
   "metadata": {
    "vscode": {
     "languageId": "r"
    }
   },
   "outputs": [
    {
     "data": {
      "text/html": [
       "<table class=\"dataframe\">\n",
       "<caption>A matrix: 10 × 1 of type chr</caption>\n",
       "<thead>\n",
       "\t<tr><th scope=col>Piece</th></tr>\n",
       "</thead>\n",
       "<tbody>\n",
       "\t<tr><td>king  </td></tr>\n",
       "\t<tr><td>queen </td></tr>\n",
       "\t<tr><td>pawn  </td></tr>\n",
       "\t<tr><td>pawn  </td></tr>\n",
       "\t<tr><td>knight</td></tr>\n",
       "\t<tr><td>bishop</td></tr>\n",
       "\t<tr><td>king  </td></tr>\n",
       "\t<tr><td>rook  </td></tr>\n",
       "\t<tr><td>pawn  </td></tr>\n",
       "\t<tr><td>pawn  </td></tr>\n",
       "</tbody>\n",
       "</table>\n"
      ],
      "text/latex": [
       "A matrix: 10 × 1 of type chr\n",
       "\\begin{tabular}{l}\n",
       " Piece\\\\\n",
       "\\hline\n",
       "\t king  \\\\\n",
       "\t queen \\\\\n",
       "\t pawn  \\\\\n",
       "\t pawn  \\\\\n",
       "\t knight\\\\\n",
       "\t bishop\\\\\n",
       "\t king  \\\\\n",
       "\t rook  \\\\\n",
       "\t pawn  \\\\\n",
       "\t pawn  \\\\\n",
       "\\end{tabular}\n"
      ],
      "text/markdown": [
       "\n",
       "A matrix: 10 × 1 of type chr\n",
       "\n",
       "| Piece |\n",
       "|---|\n",
       "| king   |\n",
       "| queen  |\n",
       "| pawn   |\n",
       "| pawn   |\n",
       "| knight |\n",
       "| bishop |\n",
       "| king   |\n",
       "| rook   |\n",
       "| pawn   |\n",
       "| pawn   |\n",
       "\n"
      ],
      "text/plain": [
       "      Piece \n",
       " [1,] king  \n",
       " [2,] queen \n",
       " [3,] pawn  \n",
       " [4,] pawn  \n",
       " [5,] knight\n",
       " [6,] bishop\n",
       " [7,] king  \n",
       " [8,] rook  \n",
       " [9,] pawn  \n",
       "[10,] pawn  "
      ]
     },
     "metadata": {},
     "output_type": "display_data"
    }
   ],
   "source": [
    "#The Pieces column; try to extract that as a matrix (Hint: lookup the drop = argument)\n",
    "pieces_matrix <- cmatrix[, \"Piece\", drop = FALSE]\n",
    "pieces_matrix"
   ]
  },
  {
   "cell_type": "code",
   "execution_count": 46,
   "id": "e168bbeb",
   "metadata": {
    "vscode": {
     "languageId": "r"
    }
   },
   "outputs": [
    {
     "data": {
      "text/html": [
       "<table class=\"dataframe\">\n",
       "<caption>A matrix: 10 × 2 of type chr</caption>\n",
       "<thead>\n",
       "\t<tr><th scope=col>Player</th><th scope=col>Turn</th></tr>\n",
       "</thead>\n",
       "<tbody>\n",
       "\t<tr><td>dark </td><td>3</td></tr>\n",
       "\t<tr><td>dark </td><td>5</td></tr>\n",
       "\t<tr><td>dark </td><td>2</td></tr>\n",
       "\t<tr><td>dark </td><td>2</td></tr>\n",
       "\t<tr><td>dark </td><td>7</td></tr>\n",
       "\t<tr><td>light</td><td>4</td></tr>\n",
       "\t<tr><td>light</td><td>6</td></tr>\n",
       "\t<tr><td>light</td><td>5</td></tr>\n",
       "\t<tr><td>light</td><td>2</td></tr>\n",
       "\t<tr><td>light</td><td>1</td></tr>\n",
       "</tbody>\n",
       "</table>\n"
      ],
      "text/latex": [
       "A matrix: 10 × 2 of type chr\n",
       "\\begin{tabular}{ll}\n",
       " Player & Turn\\\\\n",
       "\\hline\n",
       "\t dark  & 3\\\\\n",
       "\t dark  & 5\\\\\n",
       "\t dark  & 2\\\\\n",
       "\t dark  & 2\\\\\n",
       "\t dark  & 7\\\\\n",
       "\t light & 4\\\\\n",
       "\t light & 6\\\\\n",
       "\t light & 5\\\\\n",
       "\t light & 2\\\\\n",
       "\t light & 1\\\\\n",
       "\\end{tabular}\n"
      ],
      "text/markdown": [
       "\n",
       "A matrix: 10 × 2 of type chr\n",
       "\n",
       "| Player | Turn |\n",
       "|---|---|\n",
       "| dark  | 3 |\n",
       "| dark  | 5 |\n",
       "| dark  | 2 |\n",
       "| dark  | 2 |\n",
       "| dark  | 7 |\n",
       "| light | 4 |\n",
       "| light | 6 |\n",
       "| light | 5 |\n",
       "| light | 2 |\n",
       "| light | 1 |\n",
       "\n"
      ],
      "text/plain": [
       "      Player Turn\n",
       " [1,] dark   3   \n",
       " [2,] dark   5   \n",
       " [3,] dark   2   \n",
       " [4,] dark   2   \n",
       " [5,] dark   7   \n",
       " [6,] light  4   \n",
       " [7,] light  6   \n",
       " [8,] light  5   \n",
       " [9,] light  2   \n",
       "[10,] light  1   "
      ]
     },
     "metadata": {},
     "output_type": "display_data"
    }
   ],
   "source": [
    "#Everything but the Piece column\n",
    "everything_but_piece <- cmatrix[, -which(colnames(cmatrix) == \"Piece\")]\n",
    "everything_but_piece"
   ]
  },
  {
   "cell_type": "code",
   "execution_count": 47,
   "id": "0562ce23",
   "metadata": {
    "vscode": {
     "languageId": "r"
    }
   },
   "outputs": [
    {
     "data": {
      "text/html": [
       "<style>\n",
       ".dl-inline {width: auto; margin:0; padding: 0}\n",
       ".dl-inline>dt, .dl-inline>dd {float: none; width: auto; display: inline-block}\n",
       ".dl-inline>dt::after {content: \":\\0020\"; padding-right: .5ex}\n",
       ".dl-inline>dt:not(:first-of-type) {padding-left: .5ex}\n",
       "</style><dl class=dl-inline><dt>Player</dt><dd>'dark'</dd><dt>Turn</dt><dd>'5'</dd></dl>\n"
      ],
      "text/latex": [
       "\\begin{description*}\n",
       "\\item[Player] 'dark'\n",
       "\\item[Turn] '5'\n",
       "\\end{description*}\n"
      ],
      "text/markdown": [
       "Player\n",
       ":   'dark'Turn\n",
       ":   '5'\n",
       "\n"
      ],
      "text/plain": [
       "Player   Turn \n",
       "\"dark\"    \"5\" "
      ]
     },
     "metadata": {},
     "output_type": "display_data"
    }
   ],
   "source": [
    "#The 1st and 3rd values on the second row\n",
    "values_second_row <- cmatrix[2, c(1, 3)]\n",
    "values_second_row"
   ]
  },
  {
   "cell_type": "code",
   "execution_count": 48,
   "id": "d296d6b5",
   "metadata": {
    "vscode": {
     "languageId": "r"
    }
   },
   "outputs": [
    {
     "data": {
      "text/html": [
       "<table class=\"dataframe\">\n",
       "<caption>A matrix: 10 × 3 of type chr</caption>\n",
       "<thead>\n",
       "\t<tr><th scope=col>Player</th><th scope=col>Piece</th><th scope=col>Turn</th></tr>\n",
       "</thead>\n",
       "<tbody>\n",
       "\t<tr><td>dark </td><td>king  </td><td>3</td></tr>\n",
       "\t<tr><td>dark </td><td>queen </td><td>5</td></tr>\n",
       "\t<tr><td>dark </td><td>pawn  </td><td>2</td></tr>\n",
       "\t<tr><td>dark </td><td>pawn  </td><td>2</td></tr>\n",
       "\t<tr><td>dark </td><td>knight</td><td>7</td></tr>\n",
       "\t<tr><td>light</td><td>bishop</td><td>4</td></tr>\n",
       "\t<tr><td>light</td><td>king  </td><td>3</td></tr>\n",
       "\t<tr><td>light</td><td>rook  </td><td>5</td></tr>\n",
       "\t<tr><td>light</td><td>pawn  </td><td>2</td></tr>\n",
       "\t<tr><td>light</td><td>pawn  </td><td>1</td></tr>\n",
       "</tbody>\n",
       "</table>\n"
      ],
      "text/latex": [
       "A matrix: 10 × 3 of type chr\n",
       "\\begin{tabular}{lll}\n",
       " Player & Piece & Turn\\\\\n",
       "\\hline\n",
       "\t dark  & king   & 3\\\\\n",
       "\t dark  & queen  & 5\\\\\n",
       "\t dark  & pawn   & 2\\\\\n",
       "\t dark  & pawn   & 2\\\\\n",
       "\t dark  & knight & 7\\\\\n",
       "\t light & bishop & 4\\\\\n",
       "\t light & king   & 3\\\\\n",
       "\t light & rook   & 5\\\\\n",
       "\t light & pawn   & 2\\\\\n",
       "\t light & pawn   & 1\\\\\n",
       "\\end{tabular}\n"
      ],
      "text/markdown": [
       "\n",
       "A matrix: 10 × 3 of type chr\n",
       "\n",
       "| Player | Piece | Turn |\n",
       "|---|---|---|\n",
       "| dark  | king   | 3 |\n",
       "| dark  | queen  | 5 |\n",
       "| dark  | pawn   | 2 |\n",
       "| dark  | pawn   | 2 |\n",
       "| dark  | knight | 7 |\n",
       "| light | bishop | 4 |\n",
       "| light | king   | 3 |\n",
       "| light | rook   | 5 |\n",
       "| light | pawn   | 2 |\n",
       "| light | pawn   | 1 |\n",
       "\n"
      ],
      "text/plain": [
       "      Player Piece  Turn\n",
       " [1,] dark   king   3   \n",
       " [2,] dark   queen  5   \n",
       " [3,] dark   pawn   2   \n",
       " [4,] dark   pawn   2   \n",
       " [5,] dark   knight 7   \n",
       " [6,] light  bishop 4   \n",
       " [7,] light  king   3   \n",
       " [8,] light  rook   5   \n",
       " [9,] light  pawn   2   \n",
       "[10,] light  pawn   1   "
      ]
     },
     "metadata": {},
     "output_type": "display_data"
    }
   ],
   "source": [
    "#Replace the 3rd value on the 7th row with 3 (Hint: works just like creating an object)\n",
    "cmatrix[7, 3] <- 3\n",
    "cmatrix"
   ]
  },
  {
   "cell_type": "code",
   "execution_count": 50,
   "id": "d19a8b5c",
   "metadata": {
    "vscode": {
     "languageId": "r"
    }
   },
   "outputs": [
    {
     "data": {
      "text/html": [
       "<table class=\"dataframe\">\n",
       "<caption>A matrix: 3 × 4 of type dbl</caption>\n",
       "<tbody>\n",
       "\t<tr><td>0.9279831</td><td>0.84924369</td><td>0.2769278</td><td>0.70465869</td></tr>\n",
       "\t<tr><td>0.4225895</td><td>0.13913406</td><td>0.6978044</td><td>0.04050674</td></tr>\n",
       "\t<tr><td>0.5543263</td><td>0.03739122</td><td>0.1790024</td><td>0.20781976</td></tr>\n",
       "</tbody>\n",
       "</table>\n"
      ],
      "text/latex": [
       "A matrix: 3 × 4 of type dbl\n",
       "\\begin{tabular}{llll}\n",
       "\t 0.9279831 & 0.84924369 & 0.2769278 & 0.70465869\\\\\n",
       "\t 0.4225895 & 0.13913406 & 0.6978044 & 0.04050674\\\\\n",
       "\t 0.5543263 & 0.03739122 & 0.1790024 & 0.20781976\\\\\n",
       "\\end{tabular}\n"
      ],
      "text/markdown": [
       "\n",
       "A matrix: 3 × 4 of type dbl\n",
       "\n",
       "| 0.9279831 | 0.84924369 | 0.2769278 | 0.70465869 |\n",
       "| 0.4225895 | 0.13913406 | 0.6978044 | 0.04050674 |\n",
       "| 0.5543263 | 0.03739122 | 0.1790024 | 0.20781976 |\n",
       "\n"
      ],
      "text/plain": [
       "     [,1]      [,2]       [,3]      [,4]      \n",
       "[1,] 0.9279831 0.84924369 0.2769278 0.70465869\n",
       "[2,] 0.4225895 0.13913406 0.6978044 0.04050674\n",
       "[3,] 0.5543263 0.03739122 0.1790024 0.20781976"
      ]
     },
     "metadata": {},
     "output_type": "display_data"
    }
   ],
   "source": [
    "# Lookup the runif() function. Create a 3x4 matrix with 12 random numbers generated using the runif() function; have the matrix be filled our row-by-row, instead of column-by-column.\n",
    "random_matrix <- matrix(runif(12), nrow = 3, ncol = 4, byrow = TRUE)\n",
    "random_matrix"
   ]
  },
  {
   "cell_type": "code",
   "execution_count": 52,
   "id": "e857c0d6",
   "metadata": {
    "vscode": {
     "languageId": "r"
    }
   },
   "outputs": [
    {
     "data": {
      "text/html": [
       "<table class=\"dataframe\">\n",
       "<caption>A matrix: 3 × 4 of type dbl</caption>\n",
       "<thead>\n",
       "\t<tr><th></th><th scope=col>uno</th><th scope=col>dos</th><th scope=col>tres</th><th scope=col>cuatro</th></tr>\n",
       "</thead>\n",
       "<tbody>\n",
       "\t<tr><th scope=row>x</th><td>0.9279831</td><td>0.84924369</td><td>0.2769278</td><td>0.70465869</td></tr>\n",
       "\t<tr><th scope=row>y</th><td>0.4225895</td><td>0.13913406</td><td>0.6978044</td><td>0.04050674</td></tr>\n",
       "\t<tr><th scope=row>z</th><td>0.5543263</td><td>0.03739122</td><td>0.1790024</td><td>0.20781976</td></tr>\n",
       "</tbody>\n",
       "</table>\n"
      ],
      "text/latex": [
       "A matrix: 3 × 4 of type dbl\n",
       "\\begin{tabular}{r|llll}\n",
       "  & uno & dos & tres & cuatro\\\\\n",
       "\\hline\n",
       "\tx & 0.9279831 & 0.84924369 & 0.2769278 & 0.70465869\\\\\n",
       "\ty & 0.4225895 & 0.13913406 & 0.6978044 & 0.04050674\\\\\n",
       "\tz & 0.5543263 & 0.03739122 & 0.1790024 & 0.20781976\\\\\n",
       "\\end{tabular}\n"
      ],
      "text/markdown": [
       "\n",
       "A matrix: 3 × 4 of type dbl\n",
       "\n",
       "| <!--/--> | uno | dos | tres | cuatro |\n",
       "|---|---|---|---|---|\n",
       "| x | 0.9279831 | 0.84924369 | 0.2769278 | 0.70465869 |\n",
       "| y | 0.4225895 | 0.13913406 | 0.6978044 | 0.04050674 |\n",
       "| z | 0.5543263 | 0.03739122 | 0.1790024 | 0.20781976 |\n",
       "\n"
      ],
      "text/plain": [
       "  uno       dos        tres      cuatro    \n",
       "x 0.9279831 0.84924369 0.2769278 0.70465869\n",
       "y 0.4225895 0.13913406 0.6978044 0.04050674\n",
       "z 0.5543263 0.03739122 0.1790024 0.20781976"
      ]
     },
     "metadata": {},
     "output_type": "display_data"
    }
   ],
   "source": [
    "# Name the columns of the matrix uno, dos, tres, cuatro, and the rows x, y, z.\n",
    "colnames(random_matrix) <- c(\"uno\", \"dos\", \"tres\", \"cuatro\")\n",
    "rownames(random_matrix) <- c(\"x\", \"y\", \"z\")\n",
    "random_matrix"
   ]
  },
  {
   "cell_type": "code",
   "execution_count": 53,
   "id": "f808bfd9",
   "metadata": {
    "vscode": {
     "languageId": "r"
    }
   },
   "outputs": [
    {
     "data": {
      "text/html": [
       "<table class=\"dataframe\">\n",
       "<caption>A matrix: 3 × 4 of type dbl</caption>\n",
       "<thead>\n",
       "\t<tr><th></th><th scope=col>uno</th><th scope=col>dos</th><th scope=col>tres</th><th scope=col>cuatro</th></tr>\n",
       "</thead>\n",
       "<tbody>\n",
       "\t<tr><th scope=row>x</th><td>9.279831</td><td>8.4924369</td><td>2.769278</td><td>7.0465869</td></tr>\n",
       "\t<tr><th scope=row>y</th><td>4.225895</td><td>1.3913406</td><td>6.978044</td><td>0.4050674</td></tr>\n",
       "\t<tr><th scope=row>z</th><td>5.543263</td><td>0.3739122</td><td>1.790024</td><td>2.0781976</td></tr>\n",
       "</tbody>\n",
       "</table>\n"
      ],
      "text/latex": [
       "A matrix: 3 × 4 of type dbl\n",
       "\\begin{tabular}{r|llll}\n",
       "  & uno & dos & tres & cuatro\\\\\n",
       "\\hline\n",
       "\tx & 9.279831 & 8.4924369 & 2.769278 & 7.0465869\\\\\n",
       "\ty & 4.225895 & 1.3913406 & 6.978044 & 0.4050674\\\\\n",
       "\tz & 5.543263 & 0.3739122 & 1.790024 & 2.0781976\\\\\n",
       "\\end{tabular}\n"
      ],
      "text/markdown": [
       "\n",
       "A matrix: 3 × 4 of type dbl\n",
       "\n",
       "| <!--/--> | uno | dos | tres | cuatro |\n",
       "|---|---|---|---|---|\n",
       "| x | 9.279831 | 8.4924369 | 2.769278 | 7.0465869 |\n",
       "| y | 4.225895 | 1.3913406 | 6.978044 | 0.4050674 |\n",
       "| z | 5.543263 | 0.3739122 | 1.790024 | 2.0781976 |\n",
       "\n"
      ],
      "text/plain": [
       "  uno      dos       tres     cuatro   \n",
       "x 9.279831 8.4924369 2.769278 7.0465869\n",
       "y 4.225895 1.3913406 6.978044 0.4050674\n",
       "z 5.543263 0.3739122 1.790024 2.0781976"
      ]
     },
     "metadata": {},
     "output_type": "display_data"
    }
   ],
   "source": [
    "# Scale the matrix by 10 and save the result.\n",
    "scaled_matrix <- random_matrix * 10\n",
    "scaled_matrix"
   ]
  },
  {
   "cell_type": "code",
   "execution_count": 54,
   "id": "b4f56166",
   "metadata": {
    "vscode": {
     "languageId": "r"
    }
   },
   "outputs": [
    {
     "data": {
      "text/html": [
       "<table class=\"dataframe\">\n",
       "<caption>A matrix: 2 × 4 of type dbl</caption>\n",
       "<thead>\n",
       "\t<tr><th></th><th scope=col>uno</th><th scope=col>dos</th><th scope=col>tres</th><th scope=col>cuatro</th></tr>\n",
       "</thead>\n",
       "<tbody>\n",
       "\t<tr><th scope=row>x</th><td>9.279831</td><td>8.492437</td><td>2.769278</td><td>7.0465869</td></tr>\n",
       "\t<tr><th scope=row>y</th><td>4.225895</td><td>1.391341</td><td>6.978044</td><td>0.4050674</td></tr>\n",
       "</tbody>\n",
       "</table>\n"
      ],
      "text/latex": [
       "A matrix: 2 × 4 of type dbl\n",
       "\\begin{tabular}{r|llll}\n",
       "  & uno & dos & tres & cuatro\\\\\n",
       "\\hline\n",
       "\tx & 9.279831 & 8.492437 & 2.769278 & 7.0465869\\\\\n",
       "\ty & 4.225895 & 1.391341 & 6.978044 & 0.4050674\\\\\n",
       "\\end{tabular}\n"
      ],
      "text/markdown": [
       "\n",
       "A matrix: 2 × 4 of type dbl\n",
       "\n",
       "| <!--/--> | uno | dos | tres | cuatro |\n",
       "|---|---|---|---|---|\n",
       "| x | 9.279831 | 8.492437 | 2.769278 | 7.0465869 |\n",
       "| y | 4.225895 | 1.391341 | 6.978044 | 0.4050674 |\n",
       "\n"
      ],
      "text/plain": [
       "  uno      dos      tres     cuatro   \n",
       "x 9.279831 8.492437 2.769278 7.0465869\n",
       "y 4.225895 1.391341 6.978044 0.4050674"
      ]
     },
     "metadata": {},
     "output_type": "display_data"
    }
   ],
   "source": [
    "# Extract a 2x4 matrix from it and save the result.\n",
    "extracted_matrix <- scaled_matrix[1:2, ]\n",
    "extracted_matrix"
   ]
  },
  {
   "cell_type": "code",
   "execution_count": 56,
   "id": "ba00aca4",
   "metadata": {
    "vscode": {
     "languageId": "r"
    }
   },
   "outputs": [],
   "source": [
    "# Subtract the smaller matrix from the larger one. Can you do that? Why?\n",
    "# The subtraction operation between scaled_matrix and extracted_matrix is not possible because they have different dimensions."
   ]
  },
  {
   "cell_type": "code",
   "execution_count": 59,
   "id": "3692a1e0",
   "metadata": {
    "vscode": {
     "languageId": "r"
    }
   },
   "outputs": [
    {
     "data": {
      "text/html": [
       "<table class=\"dataframe\">\n",
       "<caption>A matrix: 3 × 4 of type dbl</caption>\n",
       "<thead>\n",
       "\t<tr><th></th><th scope=col>uno</th><th scope=col>dos</th><th scope=col>tres</th><th scope=col>cuatro</th></tr>\n",
       "</thead>\n",
       "<tbody>\n",
       "\t<tr><th scope=row>x</th><td>0.9279831</td><td>0.84924369</td><td>0.2769278</td><td>0.70465869</td></tr>\n",
       "\t<tr><th scope=row>y</th><td>0.4225895</td><td>0.13913406</td><td>0.6978044</td><td>0.04050674</td></tr>\n",
       "\t<tr><th scope=row>z</th><td>0.5543263</td><td>0.03739122</td><td>0.1790024</td><td>0.20781976</td></tr>\n",
       "</tbody>\n",
       "</table>\n"
      ],
      "text/latex": [
       "A matrix: 3 × 4 of type dbl\n",
       "\\begin{tabular}{r|llll}\n",
       "  & uno & dos & tres & cuatro\\\\\n",
       "\\hline\n",
       "\tx & 0.9279831 & 0.84924369 & 0.2769278 & 0.70465869\\\\\n",
       "\ty & 0.4225895 & 0.13913406 & 0.6978044 & 0.04050674\\\\\n",
       "\tz & 0.5543263 & 0.03739122 & 0.1790024 & 0.20781976\\\\\n",
       "\\end{tabular}\n"
      ],
      "text/markdown": [
       "\n",
       "A matrix: 3 × 4 of type dbl\n",
       "\n",
       "| <!--/--> | uno | dos | tres | cuatro |\n",
       "|---|---|---|---|---|\n",
       "| x | 0.9279831 | 0.84924369 | 0.2769278 | 0.70465869 |\n",
       "| y | 0.4225895 | 0.13913406 | 0.6978044 | 0.04050674 |\n",
       "| z | 0.5543263 | 0.03739122 | 0.1790024 | 0.20781976 |\n",
       "\n"
      ],
      "text/plain": [
       "  uno       dos        tres      cuatro    \n",
       "x 0.9279831 0.84924369 0.2769278 0.70465869\n",
       "y 0.4225895 0.13913406 0.6978044 0.04050674\n",
       "z 0.5543263 0.03739122 0.1790024 0.20781976"
      ]
     },
     "metadata": {},
     "output_type": "display_data"
    }
   ],
   "source": [
    "# Extract a 3x3 matrix from the original matrix and save the result. Try the subtraction again. Can you do that? Why?\n",
    "extracted_matrix_2 <- random_matrix[1:3, ]\n",
    "extracted_matrix_2\n",
    "  # The subtraction between the extracted 3x3 matrix and the scaled matrix can be performed since they have the same dimensions."
   ]
  },
  {
   "cell_type": "code",
   "execution_count": 62,
   "id": "169bc040",
   "metadata": {
    "vscode": {
     "languageId": "r"
    }
   },
   "outputs": [
    {
     "data": {
      "text/html": [
       "<style>\n",
       ".dl-inline {width: auto; margin:0; padding: 0}\n",
       ".dl-inline>dt, .dl-inline>dd {float: none; width: auto; display: inline-block}\n",
       ".dl-inline>dt::after {content: \":\\0020\"; padding-right: .5ex}\n",
       ".dl-inline>dt:not(:first-of-type) {padding-left: .5ex}\n",
       "</style><dl class=dl-inline><dt>x</dt><dd>0.927983056055382</dd><dt>y</dt><dd>0.422589497407898</dd><dt>z</dt><dd>0.554326267680153</dd></dl>\n"
      ],
      "text/latex": [
       "\\begin{description*}\n",
       "\\item[x] 0.927983056055382\n",
       "\\item[y] 0.422589497407898\n",
       "\\item[z] 0.554326267680153\n",
       "\\end{description*}\n"
      ],
      "text/markdown": [
       "x\n",
       ":   0.927983056055382y\n",
       ":   0.422589497407898z\n",
       ":   0.554326267680153\n",
       "\n"
      ],
      "text/plain": [
       "        x         y         z \n",
       "0.9279831 0.4225895 0.5543263 "
      ]
     },
     "metadata": {},
     "output_type": "display_data"
    }
   ],
   "source": [
    "# Extract the column called \"uno\" as a vector from the original matrix and save the result. Try the subtraction again. Can you do that? Why?\n",
    "column_uno <- random_matrix[, \"uno\"]\n",
    "column_uno\n",
    "  # The column vector has the same number of rows as the scaled matrix, the subtraction is possible."
   ]
  },
  {
   "cell_type": "code",
   "execution_count": 64,
   "id": "2f6f938e",
   "metadata": {
    "vscode": {
     "languageId": "r"
    }
   },
   "outputs": [
    {
     "data": {
      "text/html": [
       "<table class=\"dataframe\">\n",
       "<caption>A matrix: 3 × 4 of type dbl</caption>\n",
       "<tbody>\n",
       "\t<tr><td> 0.7403804</td><td>-0.0323787</td><td>-0.4113426</td><td>0.1346450</td></tr>\n",
       "\t<tr><td>-1.1124802</td><td> 1.5756257</td><td> 1.3755943</td><td>0.8051033</td></tr>\n",
       "\t<tr><td> 0.9204097</td><td>-1.6155587</td><td> 0.1363537</td><td>1.5335324</td></tr>\n",
       "</tbody>\n",
       "</table>\n"
      ],
      "text/latex": [
       "A matrix: 3 × 4 of type dbl\n",
       "\\begin{tabular}{llll}\n",
       "\t  0.7403804 & -0.0323787 & -0.4113426 & 0.1346450\\\\\n",
       "\t -1.1124802 &  1.5756257 &  1.3755943 & 0.8051033\\\\\n",
       "\t  0.9204097 & -1.6155587 &  0.1363537 & 1.5335324\\\\\n",
       "\\end{tabular}\n"
      ],
      "text/markdown": [
       "\n",
       "A matrix: 3 × 4 of type dbl\n",
       "\n",
       "|  0.7403804 | -0.0323787 | -0.4113426 | 0.1346450 |\n",
       "| -1.1124802 |  1.5756257 |  1.3755943 | 0.8051033 |\n",
       "|  0.9204097 | -1.6155587 |  0.1363537 | 1.5335324 |\n",
       "\n"
      ],
      "text/plain": [
       "     [,1]       [,2]       [,3]       [,4]     \n",
       "[1,]  0.7403804 -0.0323787 -0.4113426 0.1346450\n",
       "[2,] -1.1124802  1.5756257  1.3755943 0.8051033\n",
       "[3,]  0.9204097 -1.6155587  0.1363537 1.5335324"
      ]
     },
     "metadata": {},
     "output_type": "display_data"
    }
   ],
   "source": [
    "# Lookup the rnorm() function. Create a new 3x4 matrix with 12 random values generated using the rnorm() function.\n",
    "new_matrix <- matrix(rnorm(12), nrow = 3, ncol = 4)\n",
    "new_matrix"
   ]
  },
  {
   "cell_type": "code",
   "execution_count": 66,
   "id": "c91a14ce",
   "metadata": {
    "vscode": {
     "languageId": "r"
    }
   },
   "outputs": [],
   "source": [
    "# Perform matrix multiplication (using the * sign). Can you do that? How is the operation carried out?\n",
    "# No. The dimensions of the two matrix are not compatible."
   ]
  },
  {
   "cell_type": "code",
   "execution_count": 68,
   "id": "7e1f98e2",
   "metadata": {
    "vscode": {
     "languageId": "r"
    }
   },
   "outputs": [],
   "source": [
    "# Perform inner matrix multiplication with the two matrixes. Can you do that? Why? Can you think of something to do to make this possible?\n",
    "# No. The dimensions of the two matrix are not compatible."
   ]
  },
  {
   "cell_type": "code",
   "execution_count": 70,
   "id": "347f8142",
   "metadata": {
    "vscode": {
     "languageId": "r"
    }
   },
   "outputs": [
    {
     "data": {
      "text/html": [
       "<table class=\"dataframe\">\n",
       "<caption>A matrix: 4 × 4 of type dbl</caption>\n",
       "<tbody>\n",
       "\t<tr><th scope=row>uno</th><td> 0.7271453</td><td>-0.2597506</td><td> 0.2751772</td><td>1.3152537</td></tr>\n",
       "\t<tr><th scope=row>dos</th><td> 0.5083948</td><td> 0.1313181</td><td>-0.1528396</td><td>0.2837043</td></tr>\n",
       "\t<tr><th scope=row>tres</th><td>-0.4065061</td><td> 0.8013230</td><td> 0.8703912</td><td>0.8735975</td></tr>\n",
       "\t<tr><th scope=row>cuatro</th><td> 0.6679319</td><td>-0.2947375</td><td>-0.2057983</td><td>0.4461892</td></tr>\n",
       "</tbody>\n",
       "</table>\n"
      ],
      "text/latex": [
       "A matrix: 4 × 4 of type dbl\n",
       "\\begin{tabular}{r|llll}\n",
       "\tuno &  0.7271453 & -0.2597506 &  0.2751772 & 1.3152537\\\\\n",
       "\tdos &  0.5083948 &  0.1313181 & -0.1528396 & 0.2837043\\\\\n",
       "\ttres & -0.4065061 &  0.8013230 &  0.8703912 & 0.8735975\\\\\n",
       "\tcuatro &  0.6679319 & -0.2947375 & -0.2057983 & 0.4461892\\\\\n",
       "\\end{tabular}\n"
      ],
      "text/markdown": [
       "\n",
       "A matrix: 4 × 4 of type dbl\n",
       "\n",
       "| uno |  0.7271453 | -0.2597506 |  0.2751772 | 1.3152537 |\n",
       "| dos |  0.5083948 |  0.1313181 | -0.1528396 | 0.2837043 |\n",
       "| tres | -0.4065061 |  0.8013230 |  0.8703912 | 0.8735975 |\n",
       "| cuatro |  0.6679319 | -0.2947375 | -0.2057983 | 0.4461892 |\n",
       "\n"
      ],
      "text/plain": [
       "       [,1]       [,2]       [,3]       [,4]     \n",
       "uno     0.7271453 -0.2597506  0.2751772 1.3152537\n",
       "dos     0.5083948  0.1313181 -0.1528396 0.2837043\n",
       "tres   -0.4065061  0.8013230  0.8703912 0.8735975\n",
       "cuatro  0.6679319 -0.2947375 -0.2057983 0.4461892"
      ]
     },
     "metadata": {},
     "output_type": "display_data"
    }
   ],
   "source": [
    "# transposes random_matrix to matches the number of rows in new_matrix\n",
    "inner_matrix_multiplication <- t(random_matrix) %*% new_matrix\n",
    "inner_matrix_multiplication"
   ]
  },
  {
   "cell_type": "code",
   "execution_count": 71,
   "id": "41cb28fc",
   "metadata": {
    "vscode": {
     "languageId": "r"
    }
   },
   "outputs": [],
   "source": [
    "# Create a 5x5 matrix with the rnorm() function, and a 5x5 matrix with runif(). Create each in a single line of code (Hint: nest the operations)\n",
    "normal_matrix <- matrix(rnorm(25), nrow = 5, ncol = 5)\n",
    "uniform_matrix <- matrix(runif(25), nrow = 5, ncol = 5)"
   ]
  },
  {
   "cell_type": "code",
   "execution_count": 72,
   "id": "5de7cefb",
   "metadata": {
    "vscode": {
     "languageId": "r"
    }
   },
   "outputs": [
    {
     "data": {
      "text/html": [
       "<table class=\"dataframe\">\n",
       "<caption>A matrix: 5 × 5 of type dbl</caption>\n",
       "<tbody>\n",
       "\t<tr><td> 0.9975260</td><td>-0.04445931</td><td>-2.3090183</td><td>-2.8330340</td><td> 0.06726294</td></tr>\n",
       "\t<tr><td>-0.1325227</td><td> 0.27521502</td><td>-0.3771561</td><td> 0.1901322</td><td>-1.23380748</td></tr>\n",
       "\t<tr><td>-0.5896622</td><td> 0.41422142</td><td>-1.9077864</td><td> 0.2241095</td><td> 1.34806413</td></tr>\n",
       "\t<tr><td>-0.3072546</td><td> 0.29349028</td><td> 0.2655817</td><td> 2.6748842</td><td> 0.51505037</td></tr>\n",
       "\t<tr><td>-1.4946115</td><td>-0.12044043</td><td>-0.2550777</td><td>-0.3054737</td><td> 0.29541804</td></tr>\n",
       "</tbody>\n",
       "</table>\n"
      ],
      "text/latex": [
       "A matrix: 5 × 5 of type dbl\n",
       "\\begin{tabular}{lllll}\n",
       "\t  0.9975260 & -0.04445931 & -2.3090183 & -2.8330340 &  0.06726294\\\\\n",
       "\t -0.1325227 &  0.27521502 & -0.3771561 &  0.1901322 & -1.23380748\\\\\n",
       "\t -0.5896622 &  0.41422142 & -1.9077864 &  0.2241095 &  1.34806413\\\\\n",
       "\t -0.3072546 &  0.29349028 &  0.2655817 &  2.6748842 &  0.51505037\\\\\n",
       "\t -1.4946115 & -0.12044043 & -0.2550777 & -0.3054737 &  0.29541804\\\\\n",
       "\\end{tabular}\n"
      ],
      "text/markdown": [
       "\n",
       "A matrix: 5 × 5 of type dbl\n",
       "\n",
       "|  0.9975260 | -0.04445931 | -2.3090183 | -2.8330340 |  0.06726294 |\n",
       "| -0.1325227 |  0.27521502 | -0.3771561 |  0.1901322 | -1.23380748 |\n",
       "| -0.5896622 |  0.41422142 | -1.9077864 |  0.2241095 |  1.34806413 |\n",
       "| -0.3072546 |  0.29349028 |  0.2655817 |  2.6748842 |  0.51505037 |\n",
       "| -1.4946115 | -0.12044043 | -0.2550777 | -0.3054737 |  0.29541804 |\n",
       "\n"
      ],
      "text/plain": [
       "     [,1]       [,2]        [,3]       [,4]       [,5]       \n",
       "[1,]  0.9975260 -0.04445931 -2.3090183 -2.8330340  0.06726294\n",
       "[2,] -0.1325227  0.27521502 -0.3771561  0.1901322 -1.23380748\n",
       "[3,] -0.5896622  0.41422142 -1.9077864  0.2241095  1.34806413\n",
       "[4,] -0.3072546  0.29349028  0.2655817  2.6748842  0.51505037\n",
       "[5,] -1.4946115 -0.12044043 -0.2550777 -0.3054737  0.29541804"
      ]
     },
     "metadata": {},
     "output_type": "display_data"
    }
   ],
   "source": [
    "normal_matrix"
   ]
  },
  {
   "cell_type": "code",
   "execution_count": 73,
   "id": "b191e55e",
   "metadata": {
    "vscode": {
     "languageId": "r"
    }
   },
   "outputs": [
    {
     "data": {
      "text/html": [
       "<table class=\"dataframe\">\n",
       "<caption>A matrix: 5 × 5 of type dbl</caption>\n",
       "<tbody>\n",
       "\t<tr><td>0.28962906</td><td>0.89899637</td><td>0.75148415</td><td>0.2111072</td><td>0.5076940</td></tr>\n",
       "\t<tr><td>0.23719236</td><td>0.04091437</td><td>0.02927448</td><td>0.2972380</td><td>0.6819853</td></tr>\n",
       "\t<tr><td>0.06286468</td><td>0.95030242</td><td>0.88739601</td><td>0.7611523</td><td>0.8016790</td></tr>\n",
       "\t<tr><td>0.40653897</td><td>0.98694777</td><td>0.59067476</td><td>0.4477037</td><td>0.8969843</td></tr>\n",
       "\t<tr><td>0.42732841</td><td>0.58701430</td><td>0.48297712</td><td>0.8413435</td><td>0.5851025</td></tr>\n",
       "</tbody>\n",
       "</table>\n"
      ],
      "text/latex": [
       "A matrix: 5 × 5 of type dbl\n",
       "\\begin{tabular}{lllll}\n",
       "\t 0.28962906 & 0.89899637 & 0.75148415 & 0.2111072 & 0.5076940\\\\\n",
       "\t 0.23719236 & 0.04091437 & 0.02927448 & 0.2972380 & 0.6819853\\\\\n",
       "\t 0.06286468 & 0.95030242 & 0.88739601 & 0.7611523 & 0.8016790\\\\\n",
       "\t 0.40653897 & 0.98694777 & 0.59067476 & 0.4477037 & 0.8969843\\\\\n",
       "\t 0.42732841 & 0.58701430 & 0.48297712 & 0.8413435 & 0.5851025\\\\\n",
       "\\end{tabular}\n"
      ],
      "text/markdown": [
       "\n",
       "A matrix: 5 × 5 of type dbl\n",
       "\n",
       "| 0.28962906 | 0.89899637 | 0.75148415 | 0.2111072 | 0.5076940 |\n",
       "| 0.23719236 | 0.04091437 | 0.02927448 | 0.2972380 | 0.6819853 |\n",
       "| 0.06286468 | 0.95030242 | 0.88739601 | 0.7611523 | 0.8016790 |\n",
       "| 0.40653897 | 0.98694777 | 0.59067476 | 0.4477037 | 0.8969843 |\n",
       "| 0.42732841 | 0.58701430 | 0.48297712 | 0.8413435 | 0.5851025 |\n",
       "\n"
      ],
      "text/plain": [
       "     [,1]       [,2]       [,3]       [,4]      [,5]     \n",
       "[1,] 0.28962906 0.89899637 0.75148415 0.2111072 0.5076940\n",
       "[2,] 0.23719236 0.04091437 0.02927448 0.2972380 0.6819853\n",
       "[3,] 0.06286468 0.95030242 0.88739601 0.7611523 0.8016790\n",
       "[4,] 0.40653897 0.98694777 0.59067476 0.4477037 0.8969843\n",
       "[5,] 0.42732841 0.58701430 0.48297712 0.8413435 0.5851025"
      ]
     },
     "metadata": {},
     "output_type": "display_data"
    }
   ],
   "source": [
    "uniform_matrix"
   ]
  },
  {
   "cell_type": "code",
   "execution_count": 84,
   "id": "eeb4e133",
   "metadata": {
    "vscode": {
     "languageId": "r"
    }
   },
   "outputs": [],
   "source": [
    "# For the two matrices, get the following information; for the first four, save the new values as columns in their corresponding matrixes:\n",
    "# Column averages\n",
    "normal_column_averages <- colMeans(normal_matrix)\n",
    "uniform_column_averages <- colMeans(uniform_matrix)"
   ]
  },
  {
   "cell_type": "code",
   "execution_count": 85,
   "id": "9b1ad95f",
   "metadata": {
    "vscode": {
     "languageId": "r"
    }
   },
   "outputs": [
    {
     "data": {
      "text/html": [
       "<style>\n",
       ".list-inline {list-style: none; margin:0; padding: 0}\n",
       ".list-inline>li {display: inline-block}\n",
       ".list-inline>li:not(:last-child)::after {content: \"\\00b7\"; padding: 0 .5ex}\n",
       "</style>\n",
       "<ol class=list-inline><li>-0.305305006227183</li><li>0.163605396412025</li><li>-0.916691373113658</li><li>-0.00987637088978895</li><li>0.198397600095132</li></ol>\n"
      ],
      "text/latex": [
       "\\begin{enumerate*}\n",
       "\\item -0.305305006227183\n",
       "\\item 0.163605396412025\n",
       "\\item -0.916691373113658\n",
       "\\item -0.00987637088978895\n",
       "\\item 0.198397600095132\n",
       "\\end{enumerate*}\n"
      ],
      "text/markdown": [
       "1. -0.305305006227183\n",
       "2. 0.163605396412025\n",
       "3. -0.916691373113658\n",
       "4. -0.00987637088978895\n",
       "5. 0.198397600095132\n",
       "\n",
       "\n"
      ],
      "text/plain": [
       "[1] -0.305305006  0.163605396 -0.916691373 -0.009876371  0.198397600"
      ]
     },
     "metadata": {},
     "output_type": "display_data"
    }
   ],
   "source": [
    "normal_column_averages"
   ]
  },
  {
   "cell_type": "code",
   "execution_count": 86,
   "id": "326d605c",
   "metadata": {
    "vscode": {
     "languageId": "r"
    }
   },
   "outputs": [
    {
     "data": {
      "text/html": [
       "<style>\n",
       ".list-inline {list-style: none; margin:0; padding: 0}\n",
       ".list-inline>li {display: inline-block}\n",
       ".list-inline>li:not(:last-child)::after {content: \"\\00b7\"; padding: 0 .5ex}\n",
       "</style>\n",
       "<ol class=list-inline><li>0.284710694802925</li><li>0.692835043463856</li><li>0.548361304961145</li><li>0.511708927946165</li><li>0.694689046265557</li></ol>\n"
      ],
      "text/latex": [
       "\\begin{enumerate*}\n",
       "\\item 0.284710694802925\n",
       "\\item 0.692835043463856\n",
       "\\item 0.548361304961145\n",
       "\\item 0.511708927946165\n",
       "\\item 0.694689046265557\n",
       "\\end{enumerate*}\n"
      ],
      "text/markdown": [
       "1. 0.284710694802925\n",
       "2. 0.692835043463856\n",
       "3. 0.548361304961145\n",
       "4. 0.511708927946165\n",
       "5. 0.694689046265557\n",
       "\n",
       "\n"
      ],
      "text/plain": [
       "[1] 0.2847107 0.6928350 0.5483613 0.5117089 0.6946890"
      ]
     },
     "metadata": {},
     "output_type": "display_data"
    }
   ],
   "source": [
    "uniform_column_averages"
   ]
  },
  {
   "cell_type": "code",
   "execution_count": 77,
   "id": "0eecad01",
   "metadata": {
    "vscode": {
     "languageId": "r"
    }
   },
   "outputs": [],
   "source": [
    "# Row averages\n",
    "normal_row_averages <- rowMeans(normal_matrix)\n",
    "uniform_row_averages <- rowMeans(uniform_matrix)"
   ]
  },
  {
   "cell_type": "code",
   "execution_count": 87,
   "id": "a69f4804",
   "metadata": {
    "vscode": {
     "languageId": "r"
    }
   },
   "outputs": [
    {
     "data": {
      "text/html": [
       "<style>\n",
       ".list-inline {list-style: none; margin:0; padding: 0}\n",
       ".list-inline>li {display: inline-block}\n",
       ".list-inline>li:not(:last-child)::after {content: \"\\00b7\"; padding: 0 .5ex}\n",
       "</style>\n",
       "<ol class=list-inline><li>-0.824344546308063</li><li>-0.255627818989581</li><li>-0.102210728032059</li><li>0.688350395462114</li><li>-0.376037055855885</li></ol>\n"
      ],
      "text/latex": [
       "\\begin{enumerate*}\n",
       "\\item -0.824344546308063\n",
       "\\item -0.255627818989581\n",
       "\\item -0.102210728032059\n",
       "\\item 0.688350395462114\n",
       "\\item -0.376037055855885\n",
       "\\end{enumerate*}\n"
      ],
      "text/markdown": [
       "1. -0.824344546308063\n",
       "2. -0.255627818989581\n",
       "3. -0.102210728032059\n",
       "4. 0.688350395462114\n",
       "5. -0.376037055855885\n",
       "\n",
       "\n"
      ],
      "text/plain": [
       "[1] -0.8243445 -0.2556278 -0.1022107  0.6883504 -0.3760371"
      ]
     },
     "metadata": {},
     "output_type": "display_data"
    }
   ],
   "source": [
    "normal_row_averages"
   ]
  },
  {
   "cell_type": "code",
   "execution_count": 88,
   "id": "99c4522d",
   "metadata": {
    "vscode": {
     "languageId": "r"
    }
   },
   "outputs": [
    {
     "data": {
      "text/html": [
       "<style>\n",
       ".list-inline {list-style: none; margin:0; padding: 0}\n",
       ".list-inline>li {display: inline-block}\n",
       ".list-inline>li:not(:last-child)::after {content: \"\\00b7\"; padding: 0 .5ex}\n",
       "</style>\n",
       "<ol class=list-inline><li>0.531782165868208</li><li>0.257320899982005</li><li>0.692678887909278</li><li>0.665769903361797</li><li>0.58475316031836</li></ol>\n"
      ],
      "text/latex": [
       "\\begin{enumerate*}\n",
       "\\item 0.531782165868208\n",
       "\\item 0.257320899982005\n",
       "\\item 0.692678887909278\n",
       "\\item 0.665769903361797\n",
       "\\item 0.58475316031836\n",
       "\\end{enumerate*}\n"
      ],
      "text/markdown": [
       "1. 0.531782165868208\n",
       "2. 0.257320899982005\n",
       "3. 0.692678887909278\n",
       "4. 0.665769903361797\n",
       "5. 0.58475316031836\n",
       "\n",
       "\n"
      ],
      "text/plain": [
       "[1] 0.5317822 0.2573209 0.6926789 0.6657699 0.5847532"
      ]
     },
     "metadata": {},
     "output_type": "display_data"
    }
   ],
   "source": [
    "uniform_row_averages"
   ]
  },
  {
   "cell_type": "code",
   "execution_count": 78,
   "id": "83e29c3a",
   "metadata": {
    "vscode": {
     "languageId": "r"
    }
   },
   "outputs": [],
   "source": [
    "# Column sums\n",
    "normal_column_sums <- colSums(normal_matrix)\n",
    "uniform_column_sums <- colSums(uniform_matrix)"
   ]
  },
  {
   "cell_type": "code",
   "execution_count": 89,
   "id": "2ff0de99",
   "metadata": {
    "vscode": {
     "languageId": "r"
    }
   },
   "outputs": [
    {
     "data": {
      "text/html": [
       "<style>\n",
       ".list-inline {list-style: none; margin:0; padding: 0}\n",
       ".list-inline>li {display: inline-block}\n",
       ".list-inline>li:not(:last-child)::after {content: \"\\00b7\"; padding: 0 .5ex}\n",
       "</style>\n",
       "<ol class=list-inline><li>-1.52652503113592</li><li>0.818026982060125</li><li>-4.58345686556829</li><li>-0.0493818544489448</li><li>0.991988000475658</li></ol>\n"
      ],
      "text/latex": [
       "\\begin{enumerate*}\n",
       "\\item -1.52652503113592\n",
       "\\item 0.818026982060125\n",
       "\\item -4.58345686556829\n",
       "\\item -0.0493818544489448\n",
       "\\item 0.991988000475658\n",
       "\\end{enumerate*}\n"
      ],
      "text/markdown": [
       "1. -1.52652503113592\n",
       "2. 0.818026982060125\n",
       "3. -4.58345686556829\n",
       "4. -0.0493818544489448\n",
       "5. 0.991988000475658\n",
       "\n",
       "\n"
      ],
      "text/plain": [
       "[1] -1.52652503  0.81802698 -4.58345687 -0.04938185  0.99198800"
      ]
     },
     "metadata": {},
     "output_type": "display_data"
    }
   ],
   "source": [
    "normal_column_sums"
   ]
  },
  {
   "cell_type": "code",
   "execution_count": 90,
   "id": "4c7b1634",
   "metadata": {
    "vscode": {
     "languageId": "r"
    }
   },
   "outputs": [
    {
     "data": {
      "text/html": [
       "<style>\n",
       ".list-inline {list-style: none; margin:0; padding: 0}\n",
       ".list-inline>li {display: inline-block}\n",
       ".list-inline>li:not(:last-child)::after {content: \"\\00b7\"; padding: 0 .5ex}\n",
       "</style>\n",
       "<ol class=list-inline><li>1.42355347401462</li><li>3.46417521731928</li><li>2.74180652480572</li><li>2.55854463973083</li><li>3.47344523132779</li></ol>\n"
      ],
      "text/latex": [
       "\\begin{enumerate*}\n",
       "\\item 1.42355347401462\n",
       "\\item 3.46417521731928\n",
       "\\item 2.74180652480572\n",
       "\\item 2.55854463973083\n",
       "\\item 3.47344523132779\n",
       "\\end{enumerate*}\n"
      ],
      "text/markdown": [
       "1. 1.42355347401462\n",
       "2. 3.46417521731928\n",
       "3. 2.74180652480572\n",
       "4. 2.55854463973083\n",
       "5. 3.47344523132779\n",
       "\n",
       "\n"
      ],
      "text/plain": [
       "[1] 1.423553 3.464175 2.741807 2.558545 3.473445"
      ]
     },
     "metadata": {},
     "output_type": "display_data"
    }
   ],
   "source": [
    "uniform_column_sums"
   ]
  },
  {
   "cell_type": "code",
   "execution_count": 79,
   "id": "5cd821ad",
   "metadata": {
    "vscode": {
     "languageId": "r"
    }
   },
   "outputs": [],
   "source": [
    "# Row sums\n",
    "normal_row_sums <- rowSums(normal_matrix)\n",
    "uniform_row_sums <- rowSums(uniform_matrix)"
   ]
  },
  {
   "cell_type": "code",
   "execution_count": 91,
   "id": "11caf254",
   "metadata": {
    "vscode": {
     "languageId": "r"
    }
   },
   "outputs": [
    {
     "data": {
      "text/html": [
       "<style>\n",
       ".list-inline {list-style: none; margin:0; padding: 0}\n",
       ".list-inline>li {display: inline-block}\n",
       ".list-inline>li:not(:last-child)::after {content: \"\\00b7\"; padding: 0 .5ex}\n",
       "</style>\n",
       "<ol class=list-inline><li>-4.12172273154031</li><li>-1.27813909494791</li><li>-0.511053640160297</li><li>3.44175197731057</li><li>-1.88018527927942</li></ol>\n"
      ],
      "text/latex": [
       "\\begin{enumerate*}\n",
       "\\item -4.12172273154031\n",
       "\\item -1.27813909494791\n",
       "\\item -0.511053640160297\n",
       "\\item 3.44175197731057\n",
       "\\item -1.88018527927942\n",
       "\\end{enumerate*}\n"
      ],
      "text/markdown": [
       "1. -4.12172273154031\n",
       "2. -1.27813909494791\n",
       "3. -0.511053640160297\n",
       "4. 3.44175197731057\n",
       "5. -1.88018527927942\n",
       "\n",
       "\n"
      ],
      "text/plain": [
       "[1] -4.1217227 -1.2781391 -0.5110536  3.4417520 -1.8801853"
      ]
     },
     "metadata": {},
     "output_type": "display_data"
    }
   ],
   "source": [
    "normal_row_sums"
   ]
  },
  {
   "cell_type": "code",
   "execution_count": 92,
   "id": "e0905cec",
   "metadata": {
    "vscode": {
     "languageId": "r"
    }
   },
   "outputs": [
    {
     "data": {
      "text/html": [
       "<style>\n",
       ".list-inline {list-style: none; margin:0; padding: 0}\n",
       ".list-inline>li {display: inline-block}\n",
       ".list-inline>li:not(:last-child)::after {content: \"\\00b7\"; padding: 0 .5ex}\n",
       "</style>\n",
       "<ol class=list-inline><li>2.65891082934104</li><li>1.28660449991003</li><li>3.46339443954639</li><li>3.32884951680899</li><li>2.9237658015918</li></ol>\n"
      ],
      "text/latex": [
       "\\begin{enumerate*}\n",
       "\\item 2.65891082934104\n",
       "\\item 1.28660449991003\n",
       "\\item 3.46339443954639\n",
       "\\item 3.32884951680899\n",
       "\\item 2.9237658015918\n",
       "\\end{enumerate*}\n"
      ],
      "text/markdown": [
       "1. 2.65891082934104\n",
       "2. 1.28660449991003\n",
       "3. 3.46339443954639\n",
       "4. 3.32884951680899\n",
       "5. 2.9237658015918\n",
       "\n",
       "\n"
      ],
      "text/plain": [
       "[1] 2.658911 1.286604 3.463394 3.328850 2.923766"
      ]
     },
     "metadata": {},
     "output_type": "display_data"
    }
   ],
   "source": [
    "uniform_row_sums"
   ]
  },
  {
   "cell_type": "code",
   "execution_count": 80,
   "id": "aa24e9c0",
   "metadata": {
    "vscode": {
     "languageId": "r"
    }
   },
   "outputs": [],
   "source": [
    "# Minimum and maximum value in the matrix\n",
    "normal_min_value <- min(normal_matrix)\n",
    "normal_max_value <- max(normal_matrix)\n",
    "uniform_min_value <- min(uniform_matrix)\n",
    "uniform_max_value <- max(uniform_matrix)"
   ]
  },
  {
   "cell_type": "code",
   "execution_count": 81,
   "id": "d7d82e24",
   "metadata": {
    "vscode": {
     "languageId": "r"
    }
   },
   "outputs": [],
   "source": [
    "# Minimum and maximum value for the 3rd column in each matrix\n",
    "normal_column_3_min <- min(normal_matrix[, 3])\n",
    "normal_column_3_max <- max(normal_matrix[, 3])\n",
    "uniform_column_3_min <- min(uniform_matrix[, 3])\n",
    "uniform_column_3_max <- max(uniform_matrix[, 3])"
   ]
  },
  {
   "cell_type": "code",
   "execution_count": 93,
   "id": "9207a889",
   "metadata": {
    "vscode": {
     "languageId": "r"
    }
   },
   "outputs": [
    {
     "data": {
      "text/html": [
       "<table class=\"dataframe\">\n",
       "<caption>A matrix: 10 × 3 of type chr</caption>\n",
       "<thead>\n",
       "\t<tr><th scope=col>Player</th><th scope=col>Piece</th><th scope=col>Turn</th></tr>\n",
       "</thead>\n",
       "<tbody>\n",
       "\t<tr><td>dark </td><td>king  </td><td>3</td></tr>\n",
       "\t<tr><td>dark </td><td>queen </td><td>5</td></tr>\n",
       "\t<tr><td>dark </td><td>pawn  </td><td>2</td></tr>\n",
       "\t<tr><td>dark </td><td>pawn  </td><td>2</td></tr>\n",
       "\t<tr><td>dark </td><td>knight</td><td>7</td></tr>\n",
       "\t<tr><td>light</td><td>bishop</td><td>4</td></tr>\n",
       "\t<tr><td>light</td><td>king  </td><td>3</td></tr>\n",
       "\t<tr><td>light</td><td>rook  </td><td>5</td></tr>\n",
       "\t<tr><td>light</td><td>pawn  </td><td>2</td></tr>\n",
       "\t<tr><td>light</td><td>pawn  </td><td>1</td></tr>\n",
       "</tbody>\n",
       "</table>\n"
      ],
      "text/latex": [
       "A matrix: 10 × 3 of type chr\n",
       "\\begin{tabular}{lll}\n",
       " Player & Piece & Turn\\\\\n",
       "\\hline\n",
       "\t dark  & king   & 3\\\\\n",
       "\t dark  & queen  & 5\\\\\n",
       "\t dark  & pawn   & 2\\\\\n",
       "\t dark  & pawn   & 2\\\\\n",
       "\t dark  & knight & 7\\\\\n",
       "\t light & bishop & 4\\\\\n",
       "\t light & king   & 3\\\\\n",
       "\t light & rook   & 5\\\\\n",
       "\t light & pawn   & 2\\\\\n",
       "\t light & pawn   & 1\\\\\n",
       "\\end{tabular}\n"
      ],
      "text/markdown": [
       "\n",
       "A matrix: 10 × 3 of type chr\n",
       "\n",
       "| Player | Piece | Turn |\n",
       "|---|---|---|\n",
       "| dark  | king   | 3 |\n",
       "| dark  | queen  | 5 |\n",
       "| dark  | pawn   | 2 |\n",
       "| dark  | pawn   | 2 |\n",
       "| dark  | knight | 7 |\n",
       "| light | bishop | 4 |\n",
       "| light | king   | 3 |\n",
       "| light | rook   | 5 |\n",
       "| light | pawn   | 2 |\n",
       "| light | pawn   | 1 |\n",
       "\n"
      ],
      "text/plain": [
       "      Player Piece  Turn\n",
       " [1,] dark   king   3   \n",
       " [2,] dark   queen  5   \n",
       " [3,] dark   pawn   2   \n",
       " [4,] dark   pawn   2   \n",
       " [5,] dark   knight 7   \n",
       " [6,] light  bishop 4   \n",
       " [7,] light  king   3   \n",
       " [8,] light  rook   5   \n",
       " [9,] light  pawn   2   \n",
       "[10,] light  pawn   1   "
      ]
     },
     "metadata": {},
     "output_type": "display_data"
    }
   ],
   "source": [
    "# Requirements: the chess matrix from Exercise 11.\n",
    "cmatrix"
   ]
  },
  {
   "cell_type": "code",
   "execution_count": 105,
   "id": "a911fdbe",
   "metadata": {
    "vscode": {
     "languageId": "r"
    }
   },
   "outputs": [
    {
     "data": {
      "text/html": [
       "<style>\n",
       ".list-inline {list-style: none; margin:0; padding: 0}\n",
       ".list-inline>li {display: inline-block}\n",
       ".list-inline>li:not(:last-child)::after {content: \"\\00b7\"; padding: 0 .5ex}\n",
       "</style>\n",
       "<ol class=list-inline><li>'king'</li><li>'queen'</li><li>'pawn'</li><li>'pawn'</li><li>'knight'</li><li>'bishop'</li><li>'king'</li><li>'rook'</li><li>'pawn'</li><li>'pawn'</li></ol>\n"
      ],
      "text/latex": [
       "\\begin{enumerate*}\n",
       "\\item 'king'\n",
       "\\item 'queen'\n",
       "\\item 'pawn'\n",
       "\\item 'pawn'\n",
       "\\item 'knight'\n",
       "\\item 'bishop'\n",
       "\\item 'king'\n",
       "\\item 'rook'\n",
       "\\item 'pawn'\n",
       "\\item 'pawn'\n",
       "\\end{enumerate*}\n"
      ],
      "text/markdown": [
       "1. 'king'\n",
       "2. 'queen'\n",
       "3. 'pawn'\n",
       "4. 'pawn'\n",
       "5. 'knight'\n",
       "6. 'bishop'\n",
       "7. 'king'\n",
       "8. 'rook'\n",
       "9. 'pawn'\n",
       "10. 'pawn'\n",
       "\n",
       "\n"
      ],
      "text/plain": [
       " [1] \"king\"   \"queen\"  \"pawn\"   \"pawn\"   \"knight\" \"bishop\" \"king\"   \"rook\"  \n",
       " [9] \"pawn\"   \"pawn\"  "
      ]
     },
     "metadata": {},
     "output_type": "display_data"
    }
   ],
   "source": [
    "# Save the Piece column of the matrix as a vector.\n",
    "piece_vector <- cmatrix[, \"Piece\"]\n",
    "piece_vector"
   ]
  },
  {
   "cell_type": "code",
   "execution_count": 122,
   "id": "bbf259a1",
   "metadata": {
    "vscode": {
     "languageId": "r"
    }
   },
   "outputs": [
    {
     "data": {
      "text/html": [
       "<style>\n",
       ".list-inline {list-style: none; margin:0; padding: 0}\n",
       ".list-inline>li {display: inline-block}\n",
       ".list-inline>li:not(:last-child)::after {content: \"\\00b7\"; padding: 0 .5ex}\n",
       "</style>\n",
       "<ol class=list-inline><li>king</li><li>queen</li><li>pawn</li><li>pawn</li><li>knight</li><li>bishop</li><li>king</li><li>rook</li><li>pawn</li><li>pawn</li></ol>\n",
       "\n",
       "<details>\n",
       "\t<summary style=display:list-item;cursor:pointer>\n",
       "\t\t<strong>Levels</strong>:\n",
       "\t</summary>\n",
       "\t<style>\n",
       "\t.list-inline {list-style: none; margin:0; padding: 0}\n",
       "\t.list-inline>li {display: inline-block}\n",
       "\t.list-inline>li:not(:last-child)::after {content: \"\\00b7\"; padding: 0 .5ex}\n",
       "\t</style>\n",
       "\t<ol class=list-inline><li>'bishop'</li><li>'king'</li><li>'knight'</li><li>'pawn'</li><li>'queen'</li><li>'rook'</li></ol>\n",
       "</details>"
      ],
      "text/latex": [
       "\\begin{enumerate*}\n",
       "\\item king\n",
       "\\item queen\n",
       "\\item pawn\n",
       "\\item pawn\n",
       "\\item knight\n",
       "\\item bishop\n",
       "\\item king\n",
       "\\item rook\n",
       "\\item pawn\n",
       "\\item pawn\n",
       "\\end{enumerate*}\n",
       "\n",
       "\\emph{Levels}: \\begin{enumerate*}\n",
       "\\item 'bishop'\n",
       "\\item 'king'\n",
       "\\item 'knight'\n",
       "\\item 'pawn'\n",
       "\\item 'queen'\n",
       "\\item 'rook'\n",
       "\\end{enumerate*}\n"
      ],
      "text/markdown": [
       "1. king\n",
       "2. queen\n",
       "3. pawn\n",
       "4. pawn\n",
       "5. knight\n",
       "6. bishop\n",
       "7. king\n",
       "8. rook\n",
       "9. pawn\n",
       "10. pawn\n",
       "\n",
       "\n",
       "\n",
       "**Levels**: 1. 'bishop'\n",
       "2. 'king'\n",
       "3. 'knight'\n",
       "4. 'pawn'\n",
       "5. 'queen'\n",
       "6. 'rook'\n",
       "\n",
       "\n"
      ],
      "text/plain": [
       " [1] king   queen  pawn   pawn   knight bishop king   rook   pawn   pawn  \n",
       "Levels: bishop king knight pawn queen rook"
      ]
     },
     "metadata": {},
     "output_type": "display_data"
    }
   ],
   "source": [
    "# Create a factor from the vector\n",
    "piece_factor <- factor(piece_vector)\n",
    "piece_factor"
   ]
  },
  {
   "cell_type": "code",
   "execution_count": 123,
   "id": "38fdf070",
   "metadata": {
    "vscode": {
     "languageId": "r"
    }
   },
   "outputs": [
    {
     "data": {
      "text/html": [
       "<style>\n",
       ".list-inline {list-style: none; margin:0; padding: 0}\n",
       ".list-inline>li {display: inline-block}\n",
       ".list-inline>li:not(:last-child)::after {content: \"\\00b7\"; padding: 0 .5ex}\n",
       "</style>\n",
       "<ol class=list-inline><li>Queen</li><li>Knight</li><li>Bishop</li><li>Bishop</li><li>Rook</li><li>King</li><li>Queen</li><li>Pawn</li><li>Bishop</li><li>Bishop</li></ol>\n",
       "\n",
       "<details>\n",
       "\t<summary style=display:list-item;cursor:pointer>\n",
       "\t\t<strong>Levels</strong>:\n",
       "\t</summary>\n",
       "\t<style>\n",
       "\t.list-inline {list-style: none; margin:0; padding: 0}\n",
       "\t.list-inline>li {display: inline-block}\n",
       "\t.list-inline>li:not(:last-child)::after {content: \"\\00b7\"; padding: 0 .5ex}\n",
       "\t</style>\n",
       "\t<ol class=list-inline><li>'King'</li><li>'Queen'</li><li>'Rook'</li><li>'Bishop'</li><li>'Knight'</li><li>'Pawn'</li></ol>\n",
       "</details>"
      ],
      "text/latex": [
       "\\begin{enumerate*}\n",
       "\\item Queen\n",
       "\\item Knight\n",
       "\\item Bishop\n",
       "\\item Bishop\n",
       "\\item Rook\n",
       "\\item King\n",
       "\\item Queen\n",
       "\\item Pawn\n",
       "\\item Bishop\n",
       "\\item Bishop\n",
       "\\end{enumerate*}\n",
       "\n",
       "\\emph{Levels}: \\begin{enumerate*}\n",
       "\\item 'King'\n",
       "\\item 'Queen'\n",
       "\\item 'Rook'\n",
       "\\item 'Bishop'\n",
       "\\item 'Knight'\n",
       "\\item 'Pawn'\n",
       "\\end{enumerate*}\n"
      ],
      "text/markdown": [
       "1. Queen\n",
       "2. Knight\n",
       "3. Bishop\n",
       "4. Bishop\n",
       "5. Rook\n",
       "6. King\n",
       "7. Queen\n",
       "8. Pawn\n",
       "9. Bishop\n",
       "10. Bishop\n",
       "\n",
       "\n",
       "\n",
       "**Levels**: 1. 'King'\n",
       "2. 'Queen'\n",
       "3. 'Rook'\n",
       "4. 'Bishop'\n",
       "5. 'Knight'\n",
       "6. 'Pawn'\n",
       "\n",
       "\n"
      ],
      "text/plain": [
       " [1] Queen  Knight Bishop Bishop Rook   King   Queen  Pawn   Bishop Bishop\n",
       "Levels: King Queen Rook Bishop Knight Pawn"
      ]
     },
     "metadata": {},
     "output_type": "display_data"
    }
   ],
   "source": [
    "# Organize the levels in the following : King, Queen, Rook, Bishop, Knight, Pawn.\n",
    "# Rename the levels\n",
    "levels(piece_factor) <- c(\"King\", \"Queen\", \"Rook\", \"Bishop\", \"Knight\", \"Pawn\")\n",
    "piece_factor <- factor(piece_factor, levels = c(\"King\", \"Queen\", \"Rook\", \"Bishop\", \"Knight\", \"Pawn\"))\n",
    "piece_factor"
   ]
  },
  {
   "cell_type": "code",
   "execution_count": 124,
   "id": "e6edf219",
   "metadata": {
    "vscode": {
     "languageId": "r"
    }
   },
   "outputs": [],
   "source": [
    "# Rename the levels with their initial letters\n",
    "levels(piece_factor) <- substr(levels(piece_factor), 1, 1)"
   ]
  },
  {
   "cell_type": "code",
   "execution_count": 125,
   "id": "b56064d7",
   "metadata": {
    "vscode": {
     "languageId": "r"
    }
   },
   "outputs": [],
   "source": [
    "# Save the Piece column of the matrix as a vector.\n",
    "piece_factor <- factor(piece_factor, levels = c(\"K\", \"Q\", \"R\", \"B\", \"N\", \"P\"))"
   ]
  },
  {
   "cell_type": "code",
   "execution_count": 126,
   "id": "53e73fc3",
   "metadata": {
    "vscode": {
     "languageId": "r"
    }
   },
   "outputs": [
    {
     "data": {
      "text/html": [
       "<style>\n",
       ".list-inline {list-style: none; margin:0; padding: 0}\n",
       ".list-inline>li {display: inline-block}\n",
       ".list-inline>li:not(:last-child)::after {content: \"\\00b7\"; padding: 0 .5ex}\n",
       "</style>\n",
       "<ol class=list-inline><li>Q</li><li>K</li><li>B</li><li>B</li><li>R</li><li>K</li><li>Q</li><li>P</li><li>B</li><li>B</li></ol>\n",
       "\n",
       "<details>\n",
       "\t<summary style=display:list-item;cursor:pointer>\n",
       "\t\t<strong>Levels</strong>:\n",
       "\t</summary>\n",
       "\t<style>\n",
       "\t.list-inline {list-style: none; margin:0; padding: 0}\n",
       "\t.list-inline>li {display: inline-block}\n",
       "\t.list-inline>li:not(:last-child)::after {content: \"\\00b7\"; padding: 0 .5ex}\n",
       "\t</style>\n",
       "\t<ol class=list-inline><li>'K'</li><li>'Q'</li><li>'R'</li><li>'B'</li><li>'N'</li><li>'P'</li></ol>\n",
       "</details>"
      ],
      "text/latex": [
       "\\begin{enumerate*}\n",
       "\\item Q\n",
       "\\item K\n",
       "\\item B\n",
       "\\item B\n",
       "\\item R\n",
       "\\item K\n",
       "\\item Q\n",
       "\\item P\n",
       "\\item B\n",
       "\\item B\n",
       "\\end{enumerate*}\n",
       "\n",
       "\\emph{Levels}: \\begin{enumerate*}\n",
       "\\item 'K'\n",
       "\\item 'Q'\n",
       "\\item 'R'\n",
       "\\item 'B'\n",
       "\\item 'N'\n",
       "\\item 'P'\n",
       "\\end{enumerate*}\n"
      ],
      "text/markdown": [
       "1. Q\n",
       "2. K\n",
       "3. B\n",
       "4. B\n",
       "5. R\n",
       "6. K\n",
       "7. Q\n",
       "8. P\n",
       "9. B\n",
       "10. B\n",
       "\n",
       "\n",
       "\n",
       "**Levels**: 1. 'K'\n",
       "2. 'Q'\n",
       "3. 'R'\n",
       "4. 'B'\n",
       "5. 'N'\n",
       "6. 'P'\n",
       "\n",
       "\n"
      ],
      "text/plain": [
       " [1] Q K B B R K Q P B B\n",
       "Levels: K Q R B N P"
      ]
     },
     "metadata": {},
     "output_type": "display_data"
    }
   ],
   "source": [
    "piece_factor"
   ]
  },
  {
   "cell_type": "code",
   "execution_count": 151,
   "id": "acb173a7",
   "metadata": {
    "vscode": {
     "languageId": "r"
    }
   },
   "outputs": [
    {
     "name": "stdout",
     "output_type": "stream",
     "text": [
      "[[1]]\n",
      "[1]  1  3  5  7  9 11\n",
      "\n",
      "[[2]]\n",
      "[[2]][[1]]\n",
      "[1] \"Happy Birthday\"\n",
      "\n",
      "[[2]][[2]]\n",
      "[1] \"Archery\"\n",
      "\n",
      "\n"
     ]
    }
   ],
   "source": [
    "# create a list which prints like this: \n",
    "\n",
    "# [[1]]\n",
    "# [1]  1  3  5  7  9 11\n",
    "#\n",
    "# [[2]]\n",
    "# [[2]][[1]]\n",
    "# [1] \"Happy Birthday\"\n",
    "#\n",
    "# [[2]][[2]]\n",
    "# [1] \"Archery\" \n",
    "\n",
    "# Create the list\n",
    "my_list <- list(\n",
    "  c(1, 3, 5, 7, 9, 11),\n",
    "  list(\"Happy Birthday\", \"Archery\")\n",
    ")\n",
    "\n",
    "# Print the list\n",
    "print(my_list)"
   ]
  },
  {
   "cell_type": "code",
   "execution_count": 128,
   "id": "06b0f525",
   "metadata": {
    "vscode": {
     "languageId": "r"
    }
   },
   "outputs": [
    {
     "data": {
      "text/html": [
       "<style>\n",
       ".list-inline {list-style: none; margin:0; padding: 0}\n",
       ".list-inline>li {display: inline-block}\n",
       ".list-inline>li:not(:last-child)::after {content: \"\\00b7\"; padding: 0 .5ex}\n",
       "</style>\n",
       "<ol class=list-inline><li>1</li><li>3</li><li>5</li><li>7</li><li>9</li><li>11</li></ol>\n"
      ],
      "text/latex": [
       "\\begin{enumerate*}\n",
       "\\item 1\n",
       "\\item 3\n",
       "\\item 5\n",
       "\\item 7\n",
       "\\item 9\n",
       "\\item 11\n",
       "\\end{enumerate*}\n"
      ],
      "text/markdown": [
       "1. 1\n",
       "2. 3\n",
       "3. 5\n",
       "4. 7\n",
       "5. 9\n",
       "6. 11\n",
       "\n",
       "\n"
      ],
      "text/plain": [
       "[1]  1  3  5  7  9 11"
      ]
     },
     "metadata": {},
     "output_type": "display_data"
    }
   ],
   "source": [
    "# Extract the numbers as a vector\n",
    "numbers_vector <- my_list[[1]]\n",
    "numbers_vector"
   ]
  },
  {
   "cell_type": "code",
   "execution_count": 129,
   "id": "0e3cba10",
   "metadata": {
    "vscode": {
     "languageId": "r"
    }
   },
   "outputs": [
    {
     "data": {
      "text/html": [
       "'Happy Birthday'"
      ],
      "text/latex": [
       "'Happy Birthday'"
      ],
      "text/markdown": [
       "'Happy Birthday'"
      ],
      "text/plain": [
       "[1] \"Happy Birthday\""
      ]
     },
     "metadata": {},
     "output_type": "display_data"
    }
   ],
   "source": [
    "# Extract the phrase \"Happy Birthday\" as a vector\n",
    "phrase_vector <- my_list[[2]][[1]]\n",
    "phrase_vector"
   ]
  },
  {
   "cell_type": "code",
   "execution_count": 130,
   "id": "cfc2c6ed",
   "metadata": {
    "vscode": {
     "languageId": "r"
    }
   },
   "outputs": [
    {
     "data": {
      "text/html": [
       "'Archery'"
      ],
      "text/latex": [
       "'Archery'"
      ],
      "text/markdown": [
       "'Archery'"
      ],
      "text/plain": [
       "[1] \"Archery\""
      ]
     },
     "metadata": {},
     "output_type": "display_data"
    }
   ],
   "source": [
    "# Extract the second item of the second list as a list\n",
    "second_item_list <- my_list[[2]][[2]]\n",
    "second_item_list"
   ]
  },
  {
   "cell_type": "code",
   "execution_count": 131,
   "id": "2d282dfe",
   "metadata": {
    "vscode": {
     "languageId": "r"
    }
   },
   "outputs": [
    {
     "data": {
      "text/html": [
       "<ol>\n",
       "\t<li>'Happy Birthday'</li>\n",
       "\t<li>'Archery'</li>\n",
       "</ol>\n"
      ],
      "text/latex": [
       "\\begin{enumerate}\n",
       "\\item 'Happy Birthday'\n",
       "\\item 'Archery'\n",
       "\\end{enumerate}\n"
      ],
      "text/markdown": [
       "1. 'Happy Birthday'\n",
       "2. 'Archery'\n",
       "\n",
       "\n"
      ],
      "text/plain": [
       "[[1]]\n",
       "[1] \"Happy Birthday\"\n",
       "\n",
       "[[2]]\n",
       "[1] \"Archery\"\n"
      ]
     },
     "metadata": {},
     "output_type": "display_data"
    }
   ],
   "source": [
    "# Extract the second list as a list\n",
    "second_list <- my_list[[2]]\n",
    "second_list"
   ]
  },
  {
   "cell_type": "code",
   "execution_count": 132,
   "id": "8e45be15",
   "metadata": {
    "vscode": {
     "languageId": "r"
    }
   },
   "outputs": [
    {
     "data": {
      "text/html": [
       "<strong>$Numbers</strong> = <style>\n",
       ".list-inline {list-style: none; margin:0; padding: 0}\n",
       ".list-inline>li {display: inline-block}\n",
       ".list-inline>li:not(:last-child)::after {content: \"\\00b7\"; padding: 0 .5ex}\n",
       "</style>\n",
       "<ol class=list-inline><li>1</li><li>3</li><li>5</li><li>7</li><li>9</li><li>11</li></ol>\n"
      ],
      "text/latex": [
       "\\textbf{\\$Numbers} = \\begin{enumerate*}\n",
       "\\item 1\n",
       "\\item 3\n",
       "\\item 5\n",
       "\\item 7\n",
       "\\item 9\n",
       "\\item 11\n",
       "\\end{enumerate*}\n"
      ],
      "text/markdown": [
       "**$Numbers** = 1. 1\n",
       "2. 3\n",
       "3. 5\n",
       "4. 7\n",
       "5. 9\n",
       "6. 11\n",
       "\n",
       "\n"
      ],
      "text/plain": [
       "$Numbers\n",
       "[1]  1  3  5  7  9 11\n"
      ]
     },
     "metadata": {},
     "output_type": "display_data"
    }
   ],
   "source": [
    "# Extract the numbers item as a list\n",
    "numbers_list <- list(Numbers = my_list[[1]])\n",
    "numbers_list"
   ]
  },
  {
   "cell_type": "code",
   "execution_count": 136,
   "id": "6002c3bc",
   "metadata": {
    "vscode": {
     "languageId": "r"
    }
   },
   "outputs": [
    {
     "data": {
      "text/html": [
       "<style>\n",
       ".list-inline {list-style: none; margin:0; padding: 0}\n",
       ".list-inline>li {display: inline-block}\n",
       ".list-inline>li:not(:last-child)::after {content: \"\\00b7\"; padding: 0 .5ex}\n",
       "</style>\n",
       "<ol class=list-inline><li>3</li><li>5</li><li>7</li><li>9</li><li>11</li><li>13</li></ol>\n"
      ],
      "text/latex": [
       "\\begin{enumerate*}\n",
       "\\item 3\n",
       "\\item 5\n",
       "\\item 7\n",
       "\\item 9\n",
       "\\item 11\n",
       "\\item 13\n",
       "\\end{enumerate*}\n"
      ],
      "text/markdown": [
       "1. 3\n",
       "2. 5\n",
       "3. 7\n",
       "4. 9\n",
       "5. 11\n",
       "6. 13\n",
       "\n",
       "\n"
      ],
      "text/plain": [
       "[1]  3  5  7  9 11 13"
      ]
     },
     "metadata": {},
     "output_type": "display_data"
    }
   ],
   "source": [
    "# Add 2 to each element in the numbers item\n",
    "numbers_vector <- numbers_vector + 2\n",
    "numbers_vector"
   ]
  },
  {
   "cell_type": "code",
   "execution_count": 152,
   "id": "f612cdaf",
   "metadata": {
    "vscode": {
     "languageId": "r"
    }
   },
   "outputs": [
    {
     "data": {
      "text/html": [
       "<dl>\n",
       "\t<dt>$Numbers</dt>\n",
       "\t\t<dd><style>\n",
       ".list-inline {list-style: none; margin:0; padding: 0}\n",
       ".list-inline>li {display: inline-block}\n",
       ".list-inline>li:not(:last-child)::after {content: \"\\00b7\"; padding: 0 .5ex}\n",
       "</style>\n",
       "<ol class=list-inline><li>1</li><li>3</li><li>5</li><li>7</li><li>9</li><li>11</li></ol>\n",
       "</dd>\n",
       "\t<dt>$Phrases</dt>\n",
       "\t\t<dd><ol>\n",
       "\t<li>'Happy Birthday'</li>\n",
       "\t<li>'Archery'</li>\n",
       "</ol>\n",
       "</dd>\n",
       "</dl>\n"
      ],
      "text/latex": [
       "\\begin{description}\n",
       "\\item[\\$Numbers] \\begin{enumerate*}\n",
       "\\item 1\n",
       "\\item 3\n",
       "\\item 5\n",
       "\\item 7\n",
       "\\item 9\n",
       "\\item 11\n",
       "\\end{enumerate*}\n",
       "\n",
       "\\item[\\$Phrases] \\begin{enumerate}\n",
       "\\item 'Happy Birthday'\n",
       "\\item 'Archery'\n",
       "\\end{enumerate}\n",
       "\n",
       "\\end{description}\n"
      ],
      "text/markdown": [
       "$Numbers\n",
       ":   1. 1\n",
       "2. 3\n",
       "3. 5\n",
       "4. 7\n",
       "5. 9\n",
       "6. 11\n",
       "\n",
       "\n",
       "\n",
       "$Phrases\n",
       ":   1. 'Happy Birthday'\n",
       "2. 'Archery'\n",
       "\n",
       "\n",
       "\n",
       "\n",
       "\n"
      ],
      "text/plain": [
       "$Numbers\n",
       "[1]  1  3  5  7  9 11\n",
       "\n",
       "$Phrases\n",
       "$Phrases[[1]]\n",
       "[1] \"Happy Birthday\"\n",
       "\n",
       "$Phrases[[2]]\n",
       "[1] \"Archery\"\n",
       "\n"
      ]
     },
     "metadata": {},
     "output_type": "display_data"
    }
   ],
   "source": [
    "# Name the items in the list as \"Numbers\" and \"Phrases\"\n",
    "names(my_list) <- c(\"Numbers\", \"Phrases\")\n",
    "my_list"
   ]
  },
  {
   "cell_type": "code",
   "execution_count": 138,
   "id": "d9156a5d",
   "metadata": {
    "vscode": {
     "languageId": "r"
    }
   },
   "outputs": [
    {
     "data": {
      "text/html": [
       "<style>\n",
       ".list-inline {list-style: none; margin:0; padding: 0}\n",
       ".list-inline>li {display: inline-block}\n",
       ".list-inline>li:not(:last-child)::after {content: \"\\00b7\"; padding: 0 .5ex}\n",
       "</style>\n",
       "<ol class=list-inline><li>1</li><li>3</li><li>5</li><li>7</li><li>9</li><li>11</li></ol>\n"
      ],
      "text/latex": [
       "\\begin{enumerate*}\n",
       "\\item 1\n",
       "\\item 3\n",
       "\\item 5\n",
       "\\item 7\n",
       "\\item 9\n",
       "\\item 11\n",
       "\\end{enumerate*}\n"
      ],
      "text/markdown": [
       "1. 1\n",
       "2. 3\n",
       "3. 5\n",
       "4. 7\n",
       "5. 9\n",
       "6. 11\n",
       "\n",
       "\n"
      ],
      "text/plain": [
       "[1]  1  3  5  7  9 11"
      ]
     },
     "metadata": {},
     "output_type": "display_data"
    }
   ],
   "source": [
    "# extract the numbers item from newList with the $\n",
    "numbers_vector <- my_list$Numbers\n",
    "numbers_vector"
   ]
  },
  {
   "cell_type": "code",
   "execution_count": 139,
   "id": "8c9e6663",
   "metadata": {
    "vscode": {
     "languageId": "r"
    }
   },
   "outputs": [
    {
     "data": {
      "text/html": [
       "<ol>\n",
       "\t<li>'Happy Birthday'</li>\n",
       "\t<li>'Archery'</li>\n",
       "</ol>\n"
      ],
      "text/latex": [
       "\\begin{enumerate}\n",
       "\\item 'Happy Birthday'\n",
       "\\item 'Archery'\n",
       "\\end{enumerate}\n"
      ],
      "text/markdown": [
       "1. 'Happy Birthday'\n",
       "2. 'Archery'\n",
       "\n",
       "\n"
      ],
      "text/plain": [
       "[[1]]\n",
       "[1] \"Happy Birthday\"\n",
       "\n",
       "[[2]]\n",
       "[1] \"Archery\"\n"
      ]
     },
     "metadata": {},
     "output_type": "display_data"
    }
   ],
   "source": [
    "numbers_vector <- my_list$Phrases\n",
    "numbers_vector"
   ]
  },
  {
   "cell_type": "code",
   "execution_count": 141,
   "id": "83dbac8d",
   "metadata": {
    "vscode": {
     "languageId": "r"
    }
   },
   "outputs": [
    {
     "data": {
      "text/html": [
       "<style>\n",
       ".list-inline {list-style: none; margin:0; padding: 0}\n",
       ".list-inline>li {display: inline-block}\n",
       ".list-inline>li:not(:last-child)::after {content: \"\\00b7\"; padding: 0 .5ex}\n",
       "</style>\n",
       "<ol class=list-inline><li>1</li><li>3</li><li>5</li><li>7</li><li>9</li><li>11</li></ol>\n"
      ],
      "text/latex": [
       "\\begin{enumerate*}\n",
       "\\item 1\n",
       "\\item 3\n",
       "\\item 5\n",
       "\\item 7\n",
       "\\item 9\n",
       "\\item 11\n",
       "\\end{enumerate*}\n"
      ],
      "text/markdown": [
       "1. 1\n",
       "2. 3\n",
       "3. 5\n",
       "4. 7\n",
       "5. 9\n",
       "6. 11\n",
       "\n",
       "\n"
      ],
      "text/plain": [
       "[1]  1  3  5  7  9 11"
      ]
     },
     "metadata": {},
     "output_type": "display_data"
    }
   ],
   "source": [
    "# The equivalent extract method\n",
    "numbers_vector <- my_list[[1]]\n",
    "numbers_vector"
   ]
  },
  {
   "cell_type": "code",
   "execution_count": 142,
   "id": "ba509668",
   "metadata": {
    "vscode": {
     "languageId": "r"
    }
   },
   "outputs": [
    {
     "data": {
      "text/html": [
       "<ol>\n",
       "\t<li>'Happy Birthday'</li>\n",
       "\t<li>'Archery'</li>\n",
       "</ol>\n"
      ],
      "text/latex": [
       "\\begin{enumerate}\n",
       "\\item 'Happy Birthday'\n",
       "\\item 'Archery'\n",
       "\\end{enumerate}\n"
      ],
      "text/markdown": [
       "1. 'Happy Birthday'\n",
       "2. 'Archery'\n",
       "\n",
       "\n"
      ],
      "text/plain": [
       "[[1]]\n",
       "[1] \"Happy Birthday\"\n",
       "\n",
       "[[2]]\n",
       "[1] \"Archery\"\n"
      ]
     },
     "metadata": {},
     "output_type": "display_data"
    }
   ],
   "source": [
    "numbers_vector <- my_list[[2]]\n",
    "numbers_vector"
   ]
  },
  {
   "cell_type": "code",
   "execution_count": 153,
   "id": "7a99077f",
   "metadata": {
    "vscode": {
     "languageId": "r"
    }
   },
   "outputs": [],
   "source": [
    "# Add a new item called \"Brands\" to the list\n",
    "my_list$Brands <- c(\"Kellogs\", \"Nike\", \"iPhone\")"
   ]
  },
  {
   "cell_type": "code",
   "execution_count": 154,
   "id": "d91fca80",
   "metadata": {
    "vscode": {
     "languageId": "r"
    }
   },
   "outputs": [
    {
     "data": {
      "text/html": [
       "<dl>\n",
       "\t<dt>$Numbers</dt>\n",
       "\t\t<dd><style>\n",
       ".list-inline {list-style: none; margin:0; padding: 0}\n",
       ".list-inline>li {display: inline-block}\n",
       ".list-inline>li:not(:last-child)::after {content: \"\\00b7\"; padding: 0 .5ex}\n",
       "</style>\n",
       "<ol class=list-inline><li>1</li><li>3</li><li>5</li><li>7</li><li>9</li><li>11</li></ol>\n",
       "</dd>\n",
       "\t<dt>$Phrases</dt>\n",
       "\t\t<dd><ol>\n",
       "\t<li>'Happy Birthday'</li>\n",
       "\t<li>'Archery'</li>\n",
       "</ol>\n",
       "</dd>\n",
       "\t<dt>$Brands</dt>\n",
       "\t\t<dd><style>\n",
       ".list-inline {list-style: none; margin:0; padding: 0}\n",
       ".list-inline>li {display: inline-block}\n",
       ".list-inline>li:not(:last-child)::after {content: \"\\00b7\"; padding: 0 .5ex}\n",
       "</style>\n",
       "<ol class=list-inline><li>'Kellogs'</li><li>'Nike'</li><li>'iPhone'</li></ol>\n",
       "</dd>\n",
       "</dl>\n"
      ],
      "text/latex": [
       "\\begin{description}\n",
       "\\item[\\$Numbers] \\begin{enumerate*}\n",
       "\\item 1\n",
       "\\item 3\n",
       "\\item 5\n",
       "\\item 7\n",
       "\\item 9\n",
       "\\item 11\n",
       "\\end{enumerate*}\n",
       "\n",
       "\\item[\\$Phrases] \\begin{enumerate}\n",
       "\\item 'Happy Birthday'\n",
       "\\item 'Archery'\n",
       "\\end{enumerate}\n",
       "\n",
       "\\item[\\$Brands] \\begin{enumerate*}\n",
       "\\item 'Kellogs'\n",
       "\\item 'Nike'\n",
       "\\item 'iPhone'\n",
       "\\end{enumerate*}\n",
       "\n",
       "\\end{description}\n"
      ],
      "text/markdown": [
       "$Numbers\n",
       ":   1. 1\n",
       "2. 3\n",
       "3. 5\n",
       "4. 7\n",
       "5. 9\n",
       "6. 11\n",
       "\n",
       "\n",
       "\n",
       "$Phrases\n",
       ":   1. 'Happy Birthday'\n",
       "2. 'Archery'\n",
       "\n",
       "\n",
       "\n",
       "$Brands\n",
       ":   1. 'Kellogs'\n",
       "2. 'Nike'\n",
       "3. 'iPhone'\n",
       "\n",
       "\n",
       "\n",
       "\n",
       "\n"
      ],
      "text/plain": [
       "$Numbers\n",
       "[1]  1  3  5  7  9 11\n",
       "\n",
       "$Phrases\n",
       "$Phrases[[1]]\n",
       "[1] \"Happy Birthday\"\n",
       "\n",
       "$Phrases[[2]]\n",
       "[1] \"Archery\"\n",
       "\n",
       "\n",
       "$Brands\n",
       "[1] \"Kellogs\" \"Nike\"    \"iPhone\" \n"
      ]
     },
     "metadata": {},
     "output_type": "display_data"
    }
   ],
   "source": [
    "my_list"
   ]
  },
  {
   "cell_type": "code",
   "execution_count": 156,
   "id": "bce5656f",
   "metadata": {
    "vscode": {
     "languageId": "r"
    }
   },
   "outputs": [
    {
     "data": {
      "text/html": [
       "<dl>\n",
       "\t<dt>$Numbers</dt>\n",
       "\t\t<dd><style>\n",
       ".list-inline {list-style: none; margin:0; padding: 0}\n",
       ".list-inline>li {display: inline-block}\n",
       ".list-inline>li:not(:last-child)::after {content: \"\\00b7\"; padding: 0 .5ex}\n",
       "</style>\n",
       "<ol class=list-inline><li>1</li><li>3</li><li>5</li><li>7</li><li>9</li><li>11</li></ol>\n",
       "</dd>\n",
       "\t<dt>$Phrases</dt>\n",
       "\t\t<dd><ol>\n",
       "\t<li>'Happy Birthday'</li>\n",
       "\t<li>'Archery'</li>\n",
       "</ol>\n",
       "</dd>\n",
       "\t<dt>$Brands</dt>\n",
       "\t\t<dd><style>\n",
       ".list-inline {list-style: none; margin:0; padding: 0}\n",
       ".list-inline>li {display: inline-block}\n",
       ".list-inline>li:not(:last-child)::after {content: \"\\00b7\"; padding: 0 .5ex}\n",
       "</style>\n",
       "<ol class=list-inline><li>'Kellogs'</li><li>'Nike'</li></ol>\n",
       "</dd>\n",
       "</dl>\n"
      ],
      "text/latex": [
       "\\begin{description}\n",
       "\\item[\\$Numbers] \\begin{enumerate*}\n",
       "\\item 1\n",
       "\\item 3\n",
       "\\item 5\n",
       "\\item 7\n",
       "\\item 9\n",
       "\\item 11\n",
       "\\end{enumerate*}\n",
       "\n",
       "\\item[\\$Phrases] \\begin{enumerate}\n",
       "\\item 'Happy Birthday'\n",
       "\\item 'Archery'\n",
       "\\end{enumerate}\n",
       "\n",
       "\\item[\\$Brands] \\begin{enumerate*}\n",
       "\\item 'Kellogs'\n",
       "\\item 'Nike'\n",
       "\\end{enumerate*}\n",
       "\n",
       "\\end{description}\n"
      ],
      "text/markdown": [
       "$Numbers\n",
       ":   1. 1\n",
       "2. 3\n",
       "3. 5\n",
       "4. 7\n",
       "5. 9\n",
       "6. 11\n",
       "\n",
       "\n",
       "\n",
       "$Phrases\n",
       ":   1. 'Happy Birthday'\n",
       "2. 'Archery'\n",
       "\n",
       "\n",
       "\n",
       "$Brands\n",
       ":   1. 'Kellogs'\n",
       "2. 'Nike'\n",
       "\n",
       "\n",
       "\n",
       "\n",
       "\n"
      ],
      "text/plain": [
       "$Numbers\n",
       "[1]  1  3  5  7  9 11\n",
       "\n",
       "$Phrases\n",
       "$Phrases[[1]]\n",
       "[1] \"Happy Birthday\"\n",
       "\n",
       "$Phrases[[2]]\n",
       "[1] \"Archery\"\n",
       "\n",
       "\n",
       "$Brands\n",
       "[1] \"Kellogs\" \"Nike\"   \n"
      ]
     },
     "metadata": {},
     "output_type": "display_data"
    }
   ],
   "source": [
    "# Remove \"iPhone\" from the \"Brands\" item\n",
    "my_list$Brands <- my_list$Brands[my_list$Brands != \"iPhone\"]\n",
    "my_list"
   ]
  },
  {
   "cell_type": "code",
   "execution_count": 158,
   "id": "39f51631",
   "metadata": {
    "vscode": {
     "languageId": "r"
    }
   },
   "outputs": [
    {
     "data": {
      "text/html": [
       "<dl>\n",
       "\t<dt>$Numbers</dt>\n",
       "\t\t<dd><style>\n",
       ".list-inline {list-style: none; margin:0; padding: 0}\n",
       ".list-inline>li {display: inline-block}\n",
       ".list-inline>li:not(:last-child)::after {content: \"\\00b7\"; padding: 0 .5ex}\n",
       "</style>\n",
       "<ol class=list-inline><li>1</li><li>3</li><li>5</li><li>7</li><li>9</li><li>11</li></ol>\n",
       "</dd>\n",
       "\t<dt>$Phrases</dt>\n",
       "\t\t<dd><ol>\n",
       "\t<li>'Happy Birthday'</li>\n",
       "\t<li>'Archery'</li>\n",
       "</ol>\n",
       "</dd>\n",
       "</dl>\n"
      ],
      "text/latex": [
       "\\begin{description}\n",
       "\\item[\\$Numbers] \\begin{enumerate*}\n",
       "\\item 1\n",
       "\\item 3\n",
       "\\item 5\n",
       "\\item 7\n",
       "\\item 9\n",
       "\\item 11\n",
       "\\end{enumerate*}\n",
       "\n",
       "\\item[\\$Phrases] \\begin{enumerate}\n",
       "\\item 'Happy Birthday'\n",
       "\\item 'Archery'\n",
       "\\end{enumerate}\n",
       "\n",
       "\\end{description}\n"
      ],
      "text/markdown": [
       "$Numbers\n",
       ":   1. 1\n",
       "2. 3\n",
       "3. 5\n",
       "4. 7\n",
       "5. 9\n",
       "6. 11\n",
       "\n",
       "\n",
       "\n",
       "$Phrases\n",
       ":   1. 'Happy Birthday'\n",
       "2. 'Archery'\n",
       "\n",
       "\n",
       "\n",
       "\n",
       "\n"
      ],
      "text/plain": [
       "$Numbers\n",
       "[1]  1  3  5  7  9 11\n",
       "\n",
       "$Phrases\n",
       "$Phrases[[1]]\n",
       "[1] \"Happy Birthday\"\n",
       "\n",
       "$Phrases[[2]]\n",
       "[1] \"Archery\"\n",
       "\n"
      ]
     },
     "metadata": {},
     "output_type": "display_data"
    }
   ],
   "source": [
    "# Remove the \"Brands\" item from the list\n",
    "my_list$Brands <- NULL\n",
    "my_list"
   ]
  }
 ],
 "metadata": {
  "kernelspec": {
   "display_name": "R",
   "language": "R",
   "name": "ir"
  },
  "language_info": {
   "codemirror_mode": "r",
   "file_extension": ".r",
   "mimetype": "text/x-r-source",
   "name": "R",
   "pygments_lexer": "r",
   "version": "4.3.1"
  }
 },
 "nbformat": 4,
 "nbformat_minor": 5
}
