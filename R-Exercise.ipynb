{
 "cells": [
  {
   "cell_type": "code",
   "execution_count": 4,
   "metadata": {
    "vscode": {
     "languageId": "r"
    }
   },
   "outputs": [
    {
     "data": {
      "text/html": [
       "<style>\n",
       ".list-inline {list-style: none; margin:0; padding: 0}\n",
       ".list-inline>li {display: inline-block}\n",
       ".list-inline>li:not(:last-child)::after {content: \"\\00b7\"; padding: 0 .5ex}\n",
       "</style>\n",
       "<ol class=list-inline><li>10</li><li>11</li><li>12</li><li>13</li><li>14</li><li>15</li><li>16</li><li>17</li><li>18</li><li>19</li><li>20</li></ol>\n"
      ],
      "text/latex": [
       "\\begin{enumerate*}\n",
       "\\item 10\n",
       "\\item 11\n",
       "\\item 12\n",
       "\\item 13\n",
       "\\item 14\n",
       "\\item 15\n",
       "\\item 16\n",
       "\\item 17\n",
       "\\item 18\n",
       "\\item 19\n",
       "\\item 20\n",
       "\\end{enumerate*}\n"
      ],
      "text/markdown": [
       "1. 10\n",
       "2. 11\n",
       "3. 12\n",
       "4. 13\n",
       "5. 14\n",
       "6. 15\n",
       "7. 16\n",
       "8. 17\n",
       "9. 18\n",
       "10. 19\n",
       "11. 20\n",
       "\n",
       "\n"
      ],
      "text/plain": [
       " [1] 10 11 12 13 14 15 16 17 18 19 20"
      ]
     },
     "metadata": {},
     "output_type": "display_data"
    }
   ],
   "source": [
    "# Create a vector x storing the sequence 10, 11, 12, 13, 14, 15, 16, 17, 18, 19, 20.\n",
    "x <- 10:20\n",
    "x"
   ]
  },
  {
   "cell_type": "code",
   "execution_count": 5,
   "metadata": {
    "vscode": {
     "languageId": "r"
    }
   },
   "outputs": [
    {
     "data": {
      "text/html": [
       "<style>\n",
       ".list-inline {list-style: none; margin:0; padding: 0}\n",
       ".list-inline>li {display: inline-block}\n",
       ".list-inline>li:not(:last-child)::after {content: \"\\00b7\"; padding: 0 .5ex}\n",
       "</style>\n",
       "<ol class=list-inline><li>12</li><li>13</li><li>14</li><li>15</li><li>16</li><li>17</li><li>18</li><li>19</li><li>20</li><li>21</li><li>22</li></ol>\n"
      ],
      "text/latex": [
       "\\begin{enumerate*}\n",
       "\\item 12\n",
       "\\item 13\n",
       "\\item 14\n",
       "\\item 15\n",
       "\\item 16\n",
       "\\item 17\n",
       "\\item 18\n",
       "\\item 19\n",
       "\\item 20\n",
       "\\item 21\n",
       "\\item 22\n",
       "\\end{enumerate*}\n"
      ],
      "text/markdown": [
       "1. 12\n",
       "2. 13\n",
       "3. 14\n",
       "4. 15\n",
       "5. 16\n",
       "6. 17\n",
       "7. 18\n",
       "8. 19\n",
       "9. 20\n",
       "10. 21\n",
       "11. 22\n",
       "\n",
       "\n"
      ],
      "text/plain": [
       " [1] 12 13 14 15 16 17 18 19 20 21 22"
      ]
     },
     "metadata": {},
     "output_type": "display_data"
    }
   ],
   "source": [
    "# Add 2 to it. Save the result into a variable called y.\n",
    "y <- x + 2\n",
    "y"
   ]
  },
  {
   "cell_type": "code",
   "execution_count": 6,
   "metadata": {
    "vscode": {
     "languageId": "r"
    }
   },
   "outputs": [
    {
     "data": {
      "text/html": [
       "<style>\n",
       ".list-inline {list-style: none; margin:0; padding: 0}\n",
       ".list-inline>li {display: inline-block}\n",
       ".list-inline>li:not(:last-child)::after {content: \"\\00b7\"; padding: 0 .5ex}\n",
       "</style>\n",
       "<ol class=list-inline><li>36</li><li>39</li><li>42</li><li>45</li><li>48</li><li>51</li><li>54</li><li>57</li><li>60</li><li>63</li><li>66</li></ol>\n"
      ],
      "text/latex": [
       "\\begin{enumerate*}\n",
       "\\item 36\n",
       "\\item 39\n",
       "\\item 42\n",
       "\\item 45\n",
       "\\item 48\n",
       "\\item 51\n",
       "\\item 54\n",
       "\\item 57\n",
       "\\item 60\n",
       "\\item 63\n",
       "\\item 66\n",
       "\\end{enumerate*}\n"
      ],
      "text/markdown": [
       "1. 36\n",
       "2. 39\n",
       "3. 42\n",
       "4. 45\n",
       "5. 48\n",
       "6. 51\n",
       "7. 54\n",
       "8. 57\n",
       "9. 60\n",
       "10. 63\n",
       "11. 66\n",
       "\n",
       "\n"
      ],
      "text/plain": [
       " [1] 36 39 42 45 48 51 54 57 60 63 66"
      ]
     },
     "metadata": {},
     "output_type": "display_data"
    }
   ],
   "source": [
    "# Multiply y by 3. Save that into a variable called z.\n",
    "z <- y * 3\n",
    "z"
   ]
  },
  {
   "cell_type": "code",
   "execution_count": 7,
   "metadata": {
    "vscode": {
     "languageId": "r"
    }
   },
   "outputs": [],
   "source": [
    "# Subtract 6 from z and divide the result by 3. Save what you get into a variable called answer.\n",
    "z <- z - 6\n",
    "answer <- z / 3"
   ]
  },
  {
   "cell_type": "code",
   "execution_count": 8,
   "metadata": {
    "vscode": {
     "languageId": "r"
    }
   },
   "outputs": [
    {
     "data": {
      "text/html": [
       "<style>\n",
       ".list-inline {list-style: none; margin:0; padding: 0}\n",
       ".list-inline>li {display: inline-block}\n",
       ".list-inline>li:not(:last-child)::after {content: \"\\00b7\"; padding: 0 .5ex}\n",
       "</style>\n",
       "<ol class=list-inline><li>10</li><li>11</li><li>12</li><li>13</li><li>14</li><li>15</li><li>16</li><li>17</li><li>18</li><li>19</li><li>20</li></ol>\n"
      ],
      "text/latex": [
       "\\begin{enumerate*}\n",
       "\\item 10\n",
       "\\item 11\n",
       "\\item 12\n",
       "\\item 13\n",
       "\\item 14\n",
       "\\item 15\n",
       "\\item 16\n",
       "\\item 17\n",
       "\\item 18\n",
       "\\item 19\n",
       "\\item 20\n",
       "\\end{enumerate*}\n"
      ],
      "text/markdown": [
       "1. 10\n",
       "2. 11\n",
       "3. 12\n",
       "4. 13\n",
       "5. 14\n",
       "6. 15\n",
       "7. 16\n",
       "8. 17\n",
       "9. 18\n",
       "10. 19\n",
       "11. 20\n",
       "\n",
       "\n"
      ],
      "text/plain": [
       " [1] 10 11 12 13 14 15 16 17 18 19 20"
      ]
     },
     "metadata": {},
     "output_type": "display_data"
    }
   ],
   "source": [
    "# Print your answer variable.\n",
    "answer"
   ]
  },
  {
   "cell_type": "code",
   "execution_count": null,
   "metadata": {
    "vscode": {
     "languageId": "r"
    }
   },
   "outputs": [],
   "source": [
    "#Try to do the entire operation in a single line of code.\n",
    "answer <- (z - 6) / 3\n",
    "answer"
   ]
  },
  {
   "cell_type": "markdown",
   "metadata": {},
   "source": [
    "### What do you need to do to get the same result? \n",
    "#### Adding parentheses around the subtraction operation, (z - 6)"
   ]
  },
  {
   "cell_type": "markdown",
   "metadata": {},
   "source": [
    "### Why is that? \n",
    "#### In the original code z - 6 / 3, the division operation 6 / 3 is performed first, resulting in 2. Then, the subtraction operation z - 2 is performed.\n",
    "\n",
    "### Do you notice anything about the operations? Do they follow a specific order; how are they carried out?\n",
    "#### In programming, mathematical operations follow a specific order of precedence, similar to the order in mathematics.\n",
    "#### Multiplication and division take precedence over addition and subtraction."
   ]
  },
  {
   "cell_type": "code",
   "execution_count": 2,
   "metadata": {
    "vscode": {
     "languageId": "r"
    }
   },
   "outputs": [
    {
     "data": {
      "text/html": [
       "<style>\n",
       ".list-inline {list-style: none; margin:0; padding: 0}\n",
       ".list-inline>li {display: inline-block}\n",
       ".list-inline>li:not(:last-child)::after {content: \"\\00b7\"; padding: 0 .5ex}\n",
       "</style>\n",
       "<ol class=list-inline><li>'Blue-Eyes White Dragon'</li><li>'Exodius'</li><li>'The Winged Dragon of Ra'</li><li>'Raigeki'</li><li>'Slifer the Sky Dragon'</li><li>'Obelisk the Tormentor'</li><li>'Black Luster Soldier'</li><li>'5-Headed Dragon'</li><li>'Exodia the Forbidden One'</li><li>'Dragon Master Knight'</li></ol>\n"
      ],
      "text/latex": [
       "\\begin{enumerate*}\n",
       "\\item 'Blue-Eyes White Dragon'\n",
       "\\item 'Exodius'\n",
       "\\item 'The Winged Dragon of Ra'\n",
       "\\item 'Raigeki'\n",
       "\\item 'Slifer the Sky Dragon'\n",
       "\\item 'Obelisk the Tormentor'\n",
       "\\item 'Black Luster Soldier'\n",
       "\\item '5-Headed Dragon'\n",
       "\\item 'Exodia the Forbidden One'\n",
       "\\item 'Dragon Master Knight'\n",
       "\\end{enumerate*}\n"
      ],
      "text/markdown": [
       "1. 'Blue-Eyes White Dragon'\n",
       "2. 'Exodius'\n",
       "3. 'The Winged Dragon of Ra'\n",
       "4. 'Raigeki'\n",
       "5. 'Slifer the Sky Dragon'\n",
       "6. 'Obelisk the Tormentor'\n",
       "7. 'Black Luster Soldier'\n",
       "8. '5-Headed Dragon'\n",
       "9. 'Exodia the Forbidden One'\n",
       "10. 'Dragon Master Knight'\n",
       "\n",
       "\n"
      ],
      "text/plain": [
       " [1] \"Blue-Eyes White Dragon\"   \"Exodius\"                 \n",
       " [3] \"The Winged Dragon of Ra\"  \"Raigeki\"                 \n",
       " [5] \"Slifer the Sky Dragon\"    \"Obelisk the Tormentor\"   \n",
       " [7] \"Black Luster Soldier\"     \"5-Headed Dragon\"         \n",
       " [9] \"Exodia the Forbidden One\" \"Dragon Master Knight\"    "
      ]
     },
     "metadata": {},
     "output_type": "display_data"
    }
   ],
   "source": [
    "# Create a vector called cards that stores the following elements:\n",
    "#Blue-Eyes White Dragon\n",
    "#Exodius\n",
    "#The Winged Dragon of Ra\n",
    "#Raigeki\n",
    "#Slifer the Sky Dragon\n",
    "#Obelisk the Tormentor\n",
    "#Black Luster Soldier\n",
    "#5-Headed Dragon\n",
    "#Exodia the Forbidden One\n",
    "#Dragon Master Knight\n",
    "cards <- c(\"Blue-Eyes White Dragon\", \"Exodius\", \"The Winged Dragon of Ra\", \"Raigeki\", \"Slifer the Sky Dragon\", \"Obelisk the Tormentor\", \"Black Luster Soldier\", \"5-Headed Dragon\", \"Exodia the Forbidden One\", \"Dragon Master Knight\")\n",
    "cards"
   ]
  },
  {
   "cell_type": "code",
   "execution_count": 13,
   "metadata": {
    "vscode": {
     "languageId": "r"
    }
   },
   "outputs": [
    {
     "data": {
      "text/html": [
       "'character'"
      ],
      "text/latex": [
       "'character'"
      ],
      "text/markdown": [
       "'character'"
      ],
      "text/plain": [
       "[1] \"character\""
      ]
     },
     "metadata": {},
     "output_type": "display_data"
    }
   ],
   "source": [
    "# Check the type of cards.\n",
    "class(cards)"
   ]
  },
  {
   "cell_type": "code",
   "execution_count": 3,
   "metadata": {
    "vscode": {
     "languageId": "r"
    }
   },
   "outputs": [
    {
     "data": {
      "text/html": [
       "<style>\n",
       ".list-inline {list-style: none; margin:0; padding: 0}\n",
       ".list-inline>li {display: inline-block}\n",
       ".list-inline>li:not(:last-child)::after {content: \"\\00b7\"; padding: 0 .5ex}\n",
       "</style>\n",
       "<ol class=list-inline><li>3000</li><li>&lt;NA&gt;</li><li>&lt;NA&gt;</li><li>&lt;NA&gt;</li><li>&lt;NA&gt;</li><li>4000</li><li>3000</li><li>5000</li><li>1000</li><li>5000</li></ol>\n"
      ],
      "text/latex": [
       "\\begin{enumerate*}\n",
       "\\item 3000\n",
       "\\item <NA>\n",
       "\\item <NA>\n",
       "\\item <NA>\n",
       "\\item <NA>\n",
       "\\item 4000\n",
       "\\item 3000\n",
       "\\item 5000\n",
       "\\item 1000\n",
       "\\item 5000\n",
       "\\end{enumerate*}\n"
      ],
      "text/markdown": [
       "1. 3000\n",
       "2. &lt;NA&gt;\n",
       "3. &lt;NA&gt;\n",
       "4. &lt;NA&gt;\n",
       "5. &lt;NA&gt;\n",
       "6. 4000\n",
       "7. 3000\n",
       "8. 5000\n",
       "9. 1000\n",
       "10. 5000\n",
       "\n",
       "\n"
      ],
      "text/plain": [
       " [1] 3000   NA   NA   NA   NA 4000 3000 5000 1000 5000"
      ]
     },
     "metadata": {},
     "output_type": "display_data"
    }
   ],
   "source": [
    "# Create a vector called atk and assign to it the following values:\n",
    "#3000\n",
    "#NA\n",
    "#NA\n",
    "#NA\n",
    "#NA\n",
    "#4000\n",
    "#3000\n",
    "#5000\n",
    "#1000\n",
    "#5000\n",
    "atk <- c(3000, NA, NA, NA, NA, 4000, 3000, 5000, 1000, 5000)\n",
    "atk"
   ]
  },
  {
   "cell_type": "code",
   "execution_count": 4,
   "metadata": {
    "vscode": {
     "languageId": "r"
    }
   },
   "outputs": [
    {
     "data": {
      "text/html": [
       "'numeric'"
      ],
      "text/latex": [
       "'numeric'"
      ],
      "text/markdown": [
       "'numeric'"
      ],
      "text/plain": [
       "[1] \"numeric\""
      ]
     },
     "metadata": {},
     "output_type": "display_data"
    }
   ],
   "source": [
    "# Check the type of atk.\n",
    "class(atk)"
   ]
  },
  {
   "cell_type": "code",
   "execution_count": 6,
   "metadata": {
    "vscode": {
     "languageId": "r"
    }
   },
   "outputs": [],
   "source": [
    "# Use the combine function to combine cards and atk into a single vector called yugioh.\n",
    "yugioh <- c(cards, atk)"
   ]
  },
  {
   "cell_type": "code",
   "execution_count": 25,
   "metadata": {
    "vscode": {
     "languageId": "r"
    }
   },
   "outputs": [
    {
     "data": {
      "text/html": [
       "'character'"
      ],
      "text/latex": [
       "'character'"
      ],
      "text/markdown": [
       "'character'"
      ],
      "text/plain": [
       "[1] \"character\""
      ]
     },
     "metadata": {},
     "output_type": "display_data"
    }
   ],
   "source": [
    "# Check the type of the new object.\n",
    "class(yugioh)"
   ]
  },
  {
   "cell_type": "markdown",
   "metadata": {},
   "source": [
    "### What conclusions can you draw from this? \n",
    "#### The yugioh vector contains elements from both the cards vector and the atk vector, the type will be character due to the presence of character elements."
   ]
  },
  {
   "cell_type": "markdown",
   "metadata": {},
   "source": [
    "# If we had added TRUE/FALSE values to the atk vector, what would have the print(atk) command returned? \n",
    "## [1]  TRUE FALSE FALSE FALSE FALSE  TRUE  TRUE  TRUE FALSE  TRUE"
   ]
  },
  {
   "cell_type": "code",
   "execution_count": 7,
   "metadata": {
    "vscode": {
     "languageId": "r"
    }
   },
   "outputs": [
    {
     "data": {
      "text/html": [
       "<style>\n",
       ".list-inline {list-style: none; margin:0; padding: 0}\n",
       ".list-inline>li {display: inline-block}\n",
       ".list-inline>li:not(:last-child)::after {content: \"\\00b7\"; padding: 0 .5ex}\n",
       "</style>\n",
       "<ol class=list-inline><li>'Blue-Eyes White Dragon'</li><li>'Exodius'</li><li>'The Winged Dragon of Ra'</li><li>'Raigeki'</li><li>'Slifer the Sky Dragon'</li><li>'Obelisk the Tormentor'</li><li>'Black Luster Soldier'</li><li>'5-Headed Dragon'</li><li>'Exodia the Forbidden One'</li><li>'Dragon Master Knight'</li><li>'3000'</li><li>NA</li><li>NA</li><li>NA</li><li>NA</li><li>'4000'</li><li>'3000'</li><li>'5000'</li><li>'1000'</li><li>'5000'</li></ol>\n"
      ],
      "text/latex": [
       "\\begin{enumerate*}\n",
       "\\item 'Blue-Eyes White Dragon'\n",
       "\\item 'Exodius'\n",
       "\\item 'The Winged Dragon of Ra'\n",
       "\\item 'Raigeki'\n",
       "\\item 'Slifer the Sky Dragon'\n",
       "\\item 'Obelisk the Tormentor'\n",
       "\\item 'Black Luster Soldier'\n",
       "\\item '5-Headed Dragon'\n",
       "\\item 'Exodia the Forbidden One'\n",
       "\\item 'Dragon Master Knight'\n",
       "\\item '3000'\n",
       "\\item NA\n",
       "\\item NA\n",
       "\\item NA\n",
       "\\item NA\n",
       "\\item '4000'\n",
       "\\item '3000'\n",
       "\\item '5000'\n",
       "\\item '1000'\n",
       "\\item '5000'\n",
       "\\end{enumerate*}\n"
      ],
      "text/markdown": [
       "1. 'Blue-Eyes White Dragon'\n",
       "2. 'Exodius'\n",
       "3. 'The Winged Dragon of Ra'\n",
       "4. 'Raigeki'\n",
       "5. 'Slifer the Sky Dragon'\n",
       "6. 'Obelisk the Tormentor'\n",
       "7. 'Black Luster Soldier'\n",
       "8. '5-Headed Dragon'\n",
       "9. 'Exodia the Forbidden One'\n",
       "10. 'Dragon Master Knight'\n",
       "11. '3000'\n",
       "12. NA\n",
       "13. NA\n",
       "14. NA\n",
       "15. NA\n",
       "16. '4000'\n",
       "17. '3000'\n",
       "18. '5000'\n",
       "19. '1000'\n",
       "20. '5000'\n",
       "\n",
       "\n"
      ],
      "text/plain": [
       " [1] \"Blue-Eyes White Dragon\"   \"Exodius\"                 \n",
       " [3] \"The Winged Dragon of Ra\"  \"Raigeki\"                 \n",
       " [5] \"Slifer the Sky Dragon\"    \"Obelisk the Tormentor\"   \n",
       " [7] \"Black Luster Soldier\"     \"5-Headed Dragon\"         \n",
       " [9] \"Exodia the Forbidden One\" \"Dragon Master Knight\"    \n",
       "[11] \"3000\"                     NA                        \n",
       "[13] NA                         NA                        \n",
       "[15] NA                         \"4000\"                    \n",
       "[17] \"3000\"                     \"5000\"                    \n",
       "[19] \"1000\"                     \"5000\"                    "
      ]
     },
     "metadata": {},
     "output_type": "display_data"
    }
   ],
   "source": [
    "# What about print(yugioh)?\n",
    "yugioh"
   ]
  },
  {
   "cell_type": "code",
   "execution_count": 26,
   "metadata": {
    "vscode": {
     "languageId": "r"
    }
   },
   "outputs": [
    {
     "data": {
      "text/html": [
       "<style>\n",
       ".list-inline {list-style: none; margin:0; padding: 0}\n",
       ".list-inline>li {display: inline-block}\n",
       ".list-inline>li:not(:last-child)::after {content: \"\\00b7\"; padding: 0 .5ex}\n",
       "</style>\n",
       "<ol class=list-inline><li>TRUE</li><li>TRUE</li><li>TRUE</li><li>FALSE</li><li>TRUE</li><li>TRUE</li><li>TRUE</li><li>TRUE</li><li>TRUE</li><li>TRUE</li></ol>\n"
      ],
      "text/latex": [
       "\\begin{enumerate*}\n",
       "\\item TRUE\n",
       "\\item TRUE\n",
       "\\item TRUE\n",
       "\\item FALSE\n",
       "\\item TRUE\n",
       "\\item TRUE\n",
       "\\item TRUE\n",
       "\\item TRUE\n",
       "\\item TRUE\n",
       "\\item TRUE\n",
       "\\end{enumerate*}\n"
      ],
      "text/markdown": [
       "1. TRUE\n",
       "2. TRUE\n",
       "3. TRUE\n",
       "4. FALSE\n",
       "5. TRUE\n",
       "6. TRUE\n",
       "7. TRUE\n",
       "8. TRUE\n",
       "9. TRUE\n",
       "10. TRUE\n",
       "\n",
       "\n"
      ],
      "text/plain": [
       " [1]  TRUE  TRUE  TRUE FALSE  TRUE  TRUE  TRUE  TRUE  TRUE  TRUE"
      ]
     },
     "metadata": {},
     "output_type": "display_data"
    }
   ],
   "source": [
    "# Create a vector called monster, storing the values T, T, T, F, T, T, T, T, T, T.\n",
    "monster <- c(T, T, T, F, T, T, T, T, T, T)\n",
    "monster"
   ]
  },
  {
   "cell_type": "code",
   "execution_count": 27,
   "metadata": {
    "vscode": {
     "languageId": "r"
    }
   },
   "outputs": [
    {
     "data": {
      "text/html": [
       "<style>\n",
       ".list-inline {list-style: none; margin:0; padding: 0}\n",
       ".list-inline>li {display: inline-block}\n",
       ".list-inline>li:not(:last-child)::after {content: \"\\00b7\"; padding: 0 .5ex}\n",
       "</style>\n",
       "<ol class=list-inline><li>'Blue-Eyes White Dragon'</li><li>'Exodius'</li><li>'The Winged Dragon of Ra'</li><li>'Raigeki'</li><li>'Slifer the Sky Dragon'</li><li>'Obelisk the Tormentor'</li><li>'Black Luster Soldier'</li><li>'5-Headed Dragon'</li><li>'Exodia the Forbidden One'</li><li>'Dragon Master Knight'</li><li>'3000'</li><li>NA</li><li>NA</li><li>NA</li><li>NA</li><li>'4000'</li><li>'3000'</li><li>'5000'</li><li>'1000'</li><li>'5000'</li><li>'TRUE'</li><li>'TRUE'</li><li>'TRUE'</li><li>'FALSE'</li><li>'TRUE'</li><li>'TRUE'</li><li>'TRUE'</li><li>'TRUE'</li><li>'TRUE'</li><li>'TRUE'</li></ol>\n"
      ],
      "text/latex": [
       "\\begin{enumerate*}\n",
       "\\item 'Blue-Eyes White Dragon'\n",
       "\\item 'Exodius'\n",
       "\\item 'The Winged Dragon of Ra'\n",
       "\\item 'Raigeki'\n",
       "\\item 'Slifer the Sky Dragon'\n",
       "\\item 'Obelisk the Tormentor'\n",
       "\\item 'Black Luster Soldier'\n",
       "\\item '5-Headed Dragon'\n",
       "\\item 'Exodia the Forbidden One'\n",
       "\\item 'Dragon Master Knight'\n",
       "\\item '3000'\n",
       "\\item NA\n",
       "\\item NA\n",
       "\\item NA\n",
       "\\item NA\n",
       "\\item '4000'\n",
       "\\item '3000'\n",
       "\\item '5000'\n",
       "\\item '1000'\n",
       "\\item '5000'\n",
       "\\item 'TRUE'\n",
       "\\item 'TRUE'\n",
       "\\item 'TRUE'\n",
       "\\item 'FALSE'\n",
       "\\item 'TRUE'\n",
       "\\item 'TRUE'\n",
       "\\item 'TRUE'\n",
       "\\item 'TRUE'\n",
       "\\item 'TRUE'\n",
       "\\item 'TRUE'\n",
       "\\end{enumerate*}\n"
      ],
      "text/markdown": [
       "1. 'Blue-Eyes White Dragon'\n",
       "2. 'Exodius'\n",
       "3. 'The Winged Dragon of Ra'\n",
       "4. 'Raigeki'\n",
       "5. 'Slifer the Sky Dragon'\n",
       "6. 'Obelisk the Tormentor'\n",
       "7. 'Black Luster Soldier'\n",
       "8. '5-Headed Dragon'\n",
       "9. 'Exodia the Forbidden One'\n",
       "10. 'Dragon Master Knight'\n",
       "11. '3000'\n",
       "12. NA\n",
       "13. NA\n",
       "14. NA\n",
       "15. NA\n",
       "16. '4000'\n",
       "17. '3000'\n",
       "18. '5000'\n",
       "19. '1000'\n",
       "20. '5000'\n",
       "21. 'TRUE'\n",
       "22. 'TRUE'\n",
       "23. 'TRUE'\n",
       "24. 'FALSE'\n",
       "25. 'TRUE'\n",
       "26. 'TRUE'\n",
       "27. 'TRUE'\n",
       "28. 'TRUE'\n",
       "29. 'TRUE'\n",
       "30. 'TRUE'\n",
       "\n",
       "\n"
      ],
      "text/plain": [
       " [1] \"Blue-Eyes White Dragon\"   \"Exodius\"                 \n",
       " [3] \"The Winged Dragon of Ra\"  \"Raigeki\"                 \n",
       " [5] \"Slifer the Sky Dragon\"    \"Obelisk the Tormentor\"   \n",
       " [7] \"Black Luster Soldier\"     \"5-Headed Dragon\"         \n",
       " [9] \"Exodia the Forbidden One\" \"Dragon Master Knight\"    \n",
       "[11] \"3000\"                     NA                        \n",
       "[13] NA                         NA                        \n",
       "[15] NA                         \"4000\"                    \n",
       "[17] \"3000\"                     \"5000\"                    \n",
       "[19] \"1000\"                     \"5000\"                    \n",
       "[21] \"TRUE\"                     \"TRUE\"                    \n",
       "[23] \"TRUE\"                     \"FALSE\"                   \n",
       "[25] \"TRUE\"                     \"TRUE\"                    \n",
       "[27] \"TRUE\"                     \"TRUE\"                    \n",
       "[29] \"TRUE\"                     \"TRUE\"                    "
      ]
     },
     "metadata": {},
     "output_type": "display_data"
    }
   ],
   "source": [
    "# Attach the vector to the yugioh vector\n",
    "yugioh <- c(yugioh, monster)\n",
    "yugioh"
   ]
  },
  {
   "cell_type": "code",
   "execution_count": 28,
   "metadata": {
    "vscode": {
     "languageId": "r"
    }
   },
   "outputs": [
    {
     "data": {
      "text/html": [
       "'character'"
      ],
      "text/latex": [
       "'character'"
      ],
      "text/markdown": [
       "'character'"
      ],
      "text/plain": [
       "[1] \"character\""
      ]
     },
     "metadata": {},
     "output_type": "display_data"
    }
   ],
   "source": [
    "# Check the type of yugioh\n",
    "class(yugioh)"
   ]
  },
  {
   "cell_type": "markdown",
   "metadata": {},
   "source": [
    "# Is this what you expected?\n",
    "## Yes, since we added the 'monster' vector which contains logical values (TRUE/FALSE),\n",
    "## The type of 'yugioh' will be coerced to 'character' due to the presence of non-character elements."
   ]
  },
  {
   "cell_type": "code",
   "execution_count": 32,
   "metadata": {
    "vscode": {
     "languageId": "r"
    }
   },
   "outputs": [],
   "source": [
    "# Combine atk and monster into a vector called coerce.check\n",
    "coerce.check <- c(atk, monster)"
   ]
  },
  {
   "cell_type": "code",
   "execution_count": 31,
   "metadata": {
    "vscode": {
     "languageId": "r"
    }
   },
   "outputs": [
    {
     "data": {
      "text/html": [
       "<style>\n",
       ".list-inline {list-style: none; margin:0; padding: 0}\n",
       ".list-inline>li {display: inline-block}\n",
       ".list-inline>li:not(:last-child)::after {content: \"\\00b7\"; padding: 0 .5ex}\n",
       "</style>\n",
       "<ol class=list-inline><li>3000</li><li>&lt;NA&gt;</li><li>&lt;NA&gt;</li><li>&lt;NA&gt;</li><li>&lt;NA&gt;</li><li>4000</li><li>3000</li><li>5000</li><li>1000</li><li>5000</li><li>1</li><li>1</li><li>1</li><li>0</li><li>1</li><li>1</li><li>1</li><li>1</li><li>1</li><li>1</li></ol>\n"
      ],
      "text/latex": [
       "\\begin{enumerate*}\n",
       "\\item 3000\n",
       "\\item <NA>\n",
       "\\item <NA>\n",
       "\\item <NA>\n",
       "\\item <NA>\n",
       "\\item 4000\n",
       "\\item 3000\n",
       "\\item 5000\n",
       "\\item 1000\n",
       "\\item 5000\n",
       "\\item 1\n",
       "\\item 1\n",
       "\\item 1\n",
       "\\item 0\n",
       "\\item 1\n",
       "\\item 1\n",
       "\\item 1\n",
       "\\item 1\n",
       "\\item 1\n",
       "\\item 1\n",
       "\\end{enumerate*}\n"
      ],
      "text/markdown": [
       "1. 3000\n",
       "2. &lt;NA&gt;\n",
       "3. &lt;NA&gt;\n",
       "4. &lt;NA&gt;\n",
       "5. &lt;NA&gt;\n",
       "6. 4000\n",
       "7. 3000\n",
       "8. 5000\n",
       "9. 1000\n",
       "10. 5000\n",
       "11. 1\n",
       "12. 1\n",
       "13. 1\n",
       "14. 0\n",
       "15. 1\n",
       "16. 1\n",
       "17. 1\n",
       "18. 1\n",
       "19. 1\n",
       "20. 1\n",
       "\n",
       "\n"
      ],
      "text/plain": [
       " [1] 3000   NA   NA   NA   NA 4000 3000 5000 1000 5000    1    1    1    0    1\n",
       "[16]    1    1    1    1    1"
      ]
     },
     "metadata": {},
     "output_type": "display_data"
    }
   ],
   "source": [
    "# Print coerce.check (value will be printed on the screen without explicitly using print()\n",
    "coerce.check"
   ]
  },
  {
   "cell_type": "markdown",
   "metadata": {},
   "source": [
    "# What conclusions can you draw from this about R's coercion rules?\n",
    "## 1.R coerces logical values to character values, and logical values to numeric\n",
    "## 2.When combining vectors of different types, R will attempt to coerce the vectors to a common type.\n",
    "## 3.In the case of combining a character vector (atk) and a logical vector (monster), R coerces the resulting vector to the character type. This means that all elements in the combined vector will be converted to characters.\n",
    "## 4.The ordering is roughly logical < integer < numeric < complex < character < list.\n",
    "## 5.Logical values are converted to numbers: TRUE is converted to 1 and FALSE to 0.\n",
    "## 6.These conclusions highlight the importance of being aware of R's coercion rules and carefully managing the types of the data being combined to avoid unintended consequences."
   ]
  }
 ],
 "metadata": {
  "kernelspec": {
   "display_name": "R",
   "language": "R",
   "name": "ir"
  },
  "language_info": {
   "codemirror_mode": "r",
   "file_extension": ".r",
   "mimetype": "text/x-r-source",
   "name": "R",
   "pygments_lexer": "r",
   "version": "4.3.1"
  },
  "orig_nbformat": 4
 },
 "nbformat": 4,
 "nbformat_minor": 2
}
