{
 "cells": [
  {
   "cell_type": "code",
   "execution_count": 14,
   "metadata": {
    "vscode": {
     "languageId": "r"
    }
   },
   "outputs": [
    {
     "name": "stderr",
     "output_type": "stream",
     "text": [
      "\u001b[1mRows: \u001b[22m\u001b[34m1000\u001b[39m \u001b[1mColumns: \u001b[22m\u001b[34m9\u001b[39m\n",
      "\u001b[36m──\u001b[39m \u001b[1mColumn specification\u001b[22m \u001b[36m────────────────────────────────────────────────────────\u001b[39m\n",
      "\u001b[1mDelimiter:\u001b[22m \",\"\n",
      "\u001b[31mchr\u001b[39m (7): first_name, last_name, birth_date, gender, title, latest_start_date...\n",
      "\u001b[32mdbl\u001b[39m (2): emp_no, salary\n",
      "\n",
      "\u001b[36mℹ\u001b[39m Use `spec()` to retrieve the full column specification for this data.\n",
      "\u001b[36mℹ\u001b[39m Specify the column types or set `show_col_types = FALSE` to quiet this message.\n"
     ]
    },
    {
     "data": {
      "text/html": [
       "<table class=\"dataframe\">\n",
       "<caption>A tibble: 6 × 9</caption>\n",
       "<thead>\n",
       "\t<tr><th scope=col>emp_no</th><th scope=col>first_name</th><th scope=col>last_name</th><th scope=col>birth_date</th><th scope=col>gender</th><th scope=col>title</th><th scope=col>salary</th><th scope=col>latest_start_date</th><th scope=col>end_of_contract_date</th></tr>\n",
       "\t<tr><th scope=col>&lt;dbl&gt;</th><th scope=col>&lt;chr&gt;</th><th scope=col>&lt;chr&gt;</th><th scope=col>&lt;chr&gt;</th><th scope=col>&lt;chr&gt;</th><th scope=col>&lt;chr&gt;</th><th scope=col>&lt;dbl&gt;</th><th scope=col>&lt;chr&gt;</th><th scope=col>&lt;chr&gt;</th></tr>\n",
       "</thead>\n",
       "<tbody>\n",
       "\t<tr><td>10001</td><td>Georgi   </td><td>Facello </td><td>02/09/1953</td><td>M</td><td>Senior Engineer</td><td>   NA</td><td>22/06/2010</td><td>01/01/9999</td></tr>\n",
       "\t<tr><td>10002</td><td>Bezalel  </td><td>Simmel  </td><td>02/06/1964</td><td>F</td><td>Staff          </td><td>65828</td><td>02/08/2001</td><td>01/01/9999</td></tr>\n",
       "\t<tr><td>10003</td><td>Parto    </td><td>Bamford </td><td>03/12/1959</td><td>M</td><td>Senior Engineer</td><td>40006</td><td>01/12/2001</td><td>01/01/9999</td></tr>\n",
       "\t<tr><td>10004</td><td>Chirstian</td><td>Koblick </td><td>01/05/1954</td><td>M</td><td>Engineer       </td><td>40054</td><td>27/11/2001</td><td>01/01/9999</td></tr>\n",
       "\t<tr><td>10005</td><td>Kyoichi  </td><td>Maliniak</td><td>21/01/1955</td><td>M</td><td>Senior Staff   </td><td>78228</td><td>09/09/2001</td><td>01/01/9999</td></tr>\n",
       "\t<tr><td>10006</td><td>Anneke   </td><td>Preusig </td><td>20/04/1953</td><td>F</td><td>Senior Engineer</td><td>40000</td><td>02/08/2001</td><td>01/01/9999</td></tr>\n",
       "</tbody>\n",
       "</table>\n"
      ],
      "text/latex": [
       "A tibble: 6 × 9\n",
       "\\begin{tabular}{lllllllll}\n",
       " emp\\_no & first\\_name & last\\_name & birth\\_date & gender & title & salary & latest\\_start\\_date & end\\_of\\_contract\\_date\\\\\n",
       " <dbl> & <chr> & <chr> & <chr> & <chr> & <chr> & <dbl> & <chr> & <chr>\\\\\n",
       "\\hline\n",
       "\t 10001 & Georgi    & Facello  & 02/09/1953 & M & Senior Engineer &    NA & 22/06/2010 & 01/01/9999\\\\\n",
       "\t 10002 & Bezalel   & Simmel   & 02/06/1964 & F & Staff           & 65828 & 02/08/2001 & 01/01/9999\\\\\n",
       "\t 10003 & Parto     & Bamford  & 03/12/1959 & M & Senior Engineer & 40006 & 01/12/2001 & 01/01/9999\\\\\n",
       "\t 10004 & Chirstian & Koblick  & 01/05/1954 & M & Engineer        & 40054 & 27/11/2001 & 01/01/9999\\\\\n",
       "\t 10005 & Kyoichi   & Maliniak & 21/01/1955 & M & Senior Staff    & 78228 & 09/09/2001 & 01/01/9999\\\\\n",
       "\t 10006 & Anneke    & Preusig  & 20/04/1953 & F & Senior Engineer & 40000 & 02/08/2001 & 01/01/9999\\\\\n",
       "\\end{tabular}\n"
      ],
      "text/markdown": [
       "\n",
       "A tibble: 6 × 9\n",
       "\n",
       "| emp_no &lt;dbl&gt; | first_name &lt;chr&gt; | last_name &lt;chr&gt; | birth_date &lt;chr&gt; | gender &lt;chr&gt; | title &lt;chr&gt; | salary &lt;dbl&gt; | latest_start_date &lt;chr&gt; | end_of_contract_date &lt;chr&gt; |\n",
       "|---|---|---|---|---|---|---|---|---|\n",
       "| 10001 | Georgi    | Facello  | 02/09/1953 | M | Senior Engineer |    NA | 22/06/2010 | 01/01/9999 |\n",
       "| 10002 | Bezalel   | Simmel   | 02/06/1964 | F | Staff           | 65828 | 02/08/2001 | 01/01/9999 |\n",
       "| 10003 | Parto     | Bamford  | 03/12/1959 | M | Senior Engineer | 40006 | 01/12/2001 | 01/01/9999 |\n",
       "| 10004 | Chirstian | Koblick  | 01/05/1954 | M | Engineer        | 40054 | 27/11/2001 | 01/01/9999 |\n",
       "| 10005 | Kyoichi   | Maliniak | 21/01/1955 | M | Senior Staff    | 78228 | 09/09/2001 | 01/01/9999 |\n",
       "| 10006 | Anneke    | Preusig  | 20/04/1953 | F | Senior Engineer | 40000 | 02/08/2001 | 01/01/9999 |\n",
       "\n"
      ],
      "text/plain": [
       "  emp_no first_name last_name birth_date gender title           salary\n",
       "1 10001  Georgi     Facello   02/09/1953 M      Senior Engineer    NA \n",
       "2 10002  Bezalel    Simmel    02/06/1964 F      Staff           65828 \n",
       "3 10003  Parto      Bamford   03/12/1959 M      Senior Engineer 40006 \n",
       "4 10004  Chirstian  Koblick   01/05/1954 M      Engineer        40054 \n",
       "5 10005  Kyoichi    Maliniak  21/01/1955 M      Senior Staff    78228 \n",
       "6 10006  Anneke     Preusig   20/04/1953 F      Senior Engineer 40000 \n",
       "  latest_start_date end_of_contract_date\n",
       "1 22/06/2010        01/01/9999          \n",
       "2 02/08/2001        01/01/9999          \n",
       "3 01/12/2001        01/01/9999          \n",
       "4 27/11/2001        01/01/9999          \n",
       "5 09/09/2001        01/01/9999          \n",
       "6 02/08/2001        01/01/9999          "
      ]
     },
     "metadata": {},
     "output_type": "display_data"
    }
   ],
   "source": [
    "## Using the employee_data_na.CSV file, please answer the following questions:\n",
    "\n",
    " ## 1. Are there NA values in the data at all? \n",
    " ## 2. Find out in which columns the NA values are? \n",
    " ## 3. Use the sum() function to find out how many missing values there are in total? \n",
    " ## 4. How about by variable? \n",
    " ## 5. Edit the observations \n",
    " ## 6. Reload the data and delete the rows with missing values using the na.omit() function\n",
    "\n",
    "# Import the `readr` package\n",
    "library(readr)\n",
    "\n",
    "path = \"F:\\\\R-Aptech\\\\BT08\\\\employee_data_na.csv\"\n",
    "# Read the `employee_data_na.csv` file\n",
    "employee_data <- read_csv(path)\n",
    "\n",
    "head(employee_data)"
   ]
  },
  {
   "cell_type": "code",
   "execution_count": 4,
   "metadata": {
    "vscode": {
     "languageId": "r"
    }
   },
   "outputs": [
    {
     "data": {
      "text/html": [
       "TRUE"
      ],
      "text/latex": [
       "TRUE"
      ],
      "text/markdown": [
       "TRUE"
      ],
      "text/plain": [
       "[1] TRUE"
      ]
     },
     "metadata": {},
     "output_type": "display_data"
    }
   ],
   "source": [
    "## 1. Are there NA values in the data at all? \n",
    "anyNA(employee_data)"
   ]
  },
  {
   "cell_type": "code",
   "execution_count": 8,
   "metadata": {
    "vscode": {
     "languageId": "r"
    }
   },
   "outputs": [
    {
     "name": "stdout",
     "output_type": "stream",
     "text": [
      "gender salary \n",
      "    17     70 \n"
     ]
    }
   ],
   "source": [
    "## 2. Find out in which columns the NA values are? \n",
    "na_columns <- colSums(is.na(employee_data))\n",
    "\n",
    "print(na_columns[na_columns > 0])"
   ]
  },
  {
   "cell_type": "code",
   "execution_count": 9,
   "metadata": {
    "vscode": {
     "languageId": "r"
    }
   },
   "outputs": [
    {
     "name": "stdout",
     "output_type": "stream",
     "text": [
      "[1] 87\n"
     ]
    }
   ],
   "source": [
    " ## 3. Use the sum() function to find out how many missing values there are in total? \n",
    "total_na <- sum(is.na(employee_data))\n",
    "\n",
    "print(total_na)"
   ]
  },
  {
   "cell_type": "code",
   "execution_count": 10,
   "metadata": {
    "vscode": {
     "languageId": "r"
    }
   },
   "outputs": [
    {
     "name": "stdout",
     "output_type": "stream",
     "text": [
      "              emp_no           first_name            last_name \n",
      "                   0                    0                    0 \n",
      "          birth_date               gender                title \n",
      "                   0                   17                    0 \n",
      "              salary    latest_start_date end_of_contract_date \n",
      "                  70                    0                    0 \n"
     ]
    }
   ],
   "source": [
    " ## 4. How about by variable? \n",
    "na_by_variable <- colSums(is.na(employee_data))\n",
    "\n",
    "print(na_by_variable)"
   ]
  },
  {
   "cell_type": "code",
   "execution_count": 18,
   "metadata": {
    "vscode": {
     "languageId": "r"
    }
   },
   "outputs": [],
   "source": [
    " ## 6. Reload the data and delete the rows with missing values using the na.omit() function\n",
    "employee_data <- na.omit(employee_data)"
   ]
  },
  {
   "cell_type": "code",
   "execution_count": 12,
   "metadata": {
    "vscode": {
     "languageId": "r"
    }
   },
   "outputs": [
    {
     "data": {
      "text/html": [
       "FALSE"
      ],
      "text/latex": [
       "FALSE"
      ],
      "text/markdown": [
       "FALSE"
      ],
      "text/plain": [
       "[1] FALSE"
      ]
     },
     "metadata": {},
     "output_type": "display_data"
    }
   ],
   "source": [
    "# Check again if there are any NA values in the data\n",
    "anyNA(employee_data)"
   ]
  },
  {
   "cell_type": "code",
   "execution_count": 19,
   "metadata": {
    "vscode": {
     "languageId": "r"
    }
   },
   "outputs": [
    {
     "data": {
      "text/html": [
       "<table class=\"dataframe\">\n",
       "<caption>A tibble: 6 × 9</caption>\n",
       "<thead>\n",
       "\t<tr><th scope=col>emp_no</th><th scope=col>first_name</th><th scope=col>last_name</th><th scope=col>birth_date</th><th scope=col>gender</th><th scope=col>title</th><th scope=col>salary</th><th scope=col>latest_start_date</th><th scope=col>end_of_contract_date</th></tr>\n",
       "\t<tr><th scope=col>&lt;dbl&gt;</th><th scope=col>&lt;chr&gt;</th><th scope=col>&lt;chr&gt;</th><th scope=col>&lt;chr&gt;</th><th scope=col>&lt;chr&gt;</th><th scope=col>&lt;chr&gt;</th><th scope=col>&lt;dbl&gt;</th><th scope=col>&lt;chr&gt;</th><th scope=col>&lt;chr&gt;</th></tr>\n",
       "</thead>\n",
       "<tbody>\n",
       "\t<tr><td>10002</td><td>Bezalel  </td><td>Simmel   </td><td>02/06/1964</td><td>F</td><td>Staff          </td><td>65828</td><td>02/08/2001</td><td>01/01/9999</td></tr>\n",
       "\t<tr><td>10003</td><td>Parto    </td><td>Bamford  </td><td>03/12/1959</td><td>M</td><td>Senior Engineer</td><td>40006</td><td>01/12/2001</td><td>01/01/9999</td></tr>\n",
       "\t<tr><td>10004</td><td>Chirstian</td><td>Koblick  </td><td>01/05/1954</td><td>M</td><td>Engineer       </td><td>40054</td><td>27/11/2001</td><td>01/01/9999</td></tr>\n",
       "\t<tr><td>10005</td><td>Kyoichi  </td><td>Maliniak </td><td>21/01/1955</td><td>M</td><td>Senior Staff   </td><td>78228</td><td>09/09/2001</td><td>01/01/9999</td></tr>\n",
       "\t<tr><td>10006</td><td>Anneke   </td><td>Preusig  </td><td>20/04/1953</td><td>F</td><td>Senior Engineer</td><td>40000</td><td>02/08/2001</td><td>01/01/9999</td></tr>\n",
       "\t<tr><td>10007</td><td>Tzvetan  </td><td>Zielinski</td><td>23/05/1957</td><td>F</td><td>Senior Staff   </td><td>56724</td><td>07/02/2002</td><td>01/01/9999</td></tr>\n",
       "</tbody>\n",
       "</table>\n"
      ],
      "text/latex": [
       "A tibble: 6 × 9\n",
       "\\begin{tabular}{lllllllll}\n",
       " emp\\_no & first\\_name & last\\_name & birth\\_date & gender & title & salary & latest\\_start\\_date & end\\_of\\_contract\\_date\\\\\n",
       " <dbl> & <chr> & <chr> & <chr> & <chr> & <chr> & <dbl> & <chr> & <chr>\\\\\n",
       "\\hline\n",
       "\t 10002 & Bezalel   & Simmel    & 02/06/1964 & F & Staff           & 65828 & 02/08/2001 & 01/01/9999\\\\\n",
       "\t 10003 & Parto     & Bamford   & 03/12/1959 & M & Senior Engineer & 40006 & 01/12/2001 & 01/01/9999\\\\\n",
       "\t 10004 & Chirstian & Koblick   & 01/05/1954 & M & Engineer        & 40054 & 27/11/2001 & 01/01/9999\\\\\n",
       "\t 10005 & Kyoichi   & Maliniak  & 21/01/1955 & M & Senior Staff    & 78228 & 09/09/2001 & 01/01/9999\\\\\n",
       "\t 10006 & Anneke    & Preusig   & 20/04/1953 & F & Senior Engineer & 40000 & 02/08/2001 & 01/01/9999\\\\\n",
       "\t 10007 & Tzvetan   & Zielinski & 23/05/1957 & F & Senior Staff    & 56724 & 07/02/2002 & 01/01/9999\\\\\n",
       "\\end{tabular}\n"
      ],
      "text/markdown": [
       "\n",
       "A tibble: 6 × 9\n",
       "\n",
       "| emp_no &lt;dbl&gt; | first_name &lt;chr&gt; | last_name &lt;chr&gt; | birth_date &lt;chr&gt; | gender &lt;chr&gt; | title &lt;chr&gt; | salary &lt;dbl&gt; | latest_start_date &lt;chr&gt; | end_of_contract_date &lt;chr&gt; |\n",
       "|---|---|---|---|---|---|---|---|---|\n",
       "| 10002 | Bezalel   | Simmel    | 02/06/1964 | F | Staff           | 65828 | 02/08/2001 | 01/01/9999 |\n",
       "| 10003 | Parto     | Bamford   | 03/12/1959 | M | Senior Engineer | 40006 | 01/12/2001 | 01/01/9999 |\n",
       "| 10004 | Chirstian | Koblick   | 01/05/1954 | M | Engineer        | 40054 | 27/11/2001 | 01/01/9999 |\n",
       "| 10005 | Kyoichi   | Maliniak  | 21/01/1955 | M | Senior Staff    | 78228 | 09/09/2001 | 01/01/9999 |\n",
       "| 10006 | Anneke    | Preusig   | 20/04/1953 | F | Senior Engineer | 40000 | 02/08/2001 | 01/01/9999 |\n",
       "| 10007 | Tzvetan   | Zielinski | 23/05/1957 | F | Senior Staff    | 56724 | 07/02/2002 | 01/01/9999 |\n",
       "\n"
      ],
      "text/plain": [
       "  emp_no first_name last_name birth_date gender title           salary\n",
       "1 10002  Bezalel    Simmel    02/06/1964 F      Staff           65828 \n",
       "2 10003  Parto      Bamford   03/12/1959 M      Senior Engineer 40006 \n",
       "3 10004  Chirstian  Koblick   01/05/1954 M      Engineer        40054 \n",
       "4 10005  Kyoichi    Maliniak  21/01/1955 M      Senior Staff    78228 \n",
       "5 10006  Anneke     Preusig   20/04/1953 F      Senior Engineer 40000 \n",
       "6 10007  Tzvetan    Zielinski 23/05/1957 F      Senior Staff    56724 \n",
       "  latest_start_date end_of_contract_date\n",
       "1 02/08/2001        01/01/9999          \n",
       "2 01/12/2001        01/01/9999          \n",
       "3 27/11/2001        01/01/9999          \n",
       "4 09/09/2001        01/01/9999          \n",
       "5 02/08/2001        01/01/9999          \n",
       "6 07/02/2002        01/01/9999          "
      ]
     },
     "metadata": {},
     "output_type": "display_data"
    }
   ],
   "source": [
    "## Reload the data\n",
    "head(employee_data)"
   ]
  },
  {
   "cell_type": "code",
   "execution_count": null,
   "metadata": {
    "vscode": {
     "languageId": "r"
    }
   },
   "outputs": [],
   "source": []
  }
 ],
 "metadata": {
  "kernelspec": {
   "display_name": "R",
   "language": "R",
   "name": "ir"
  },
  "language_info": {
   "codemirror_mode": "r",
   "file_extension": ".r",
   "mimetype": "text/x-r-source",
   "name": "R",
   "pygments_lexer": "r",
   "version": "4.3.1"
  },
  "orig_nbformat": 4
 },
 "nbformat": 4,
 "nbformat_minor": 2
}
