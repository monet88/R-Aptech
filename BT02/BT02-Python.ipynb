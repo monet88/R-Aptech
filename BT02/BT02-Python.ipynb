{
 "cells": [
  {
   "cell_type": "code",
   "execution_count": 15,
   "metadata": {},
   "outputs": [
    {
     "name": "stdout",
     "output_type": "stream",
     "text": [
      "['In', 'Out', '_', '__', '___', '__builtin__', '__builtins__', '__doc__', '__loader__', '__name__', '__package__', '__spec__', '__vsc_ipynb_file__', '_dh', '_i', '_i1', '_i10', '_i11', '_i12', '_i13', '_i14', '_i15', '_i2', '_i3', '_i4', '_i5', '_i6', '_i7', '_i8', '_i9', '_ih', '_ii', '_iii', '_oh', 'atk', 'atk_without_none', 'avg_lvl', 'exit', 'get_ipython', 'lvl', 'median_lvl', 'np', 'object_list', 'open', 'quit', 'rounded_sd_lvl', 'sd_lvl', 'sum_lvl']\n"
     ]
    }
   ],
   "source": [
    "# Get a list of objects in the environment\n",
    "object_list = dir()\n",
    "print(object_list)"
   ]
  },
  {
   "cell_type": "code",
   "execution_count": 16,
   "metadata": {},
   "outputs": [
    {
     "name": "stdout",
     "output_type": "stream",
     "text": [
      "[8, 10, 10, 1, 10, 10, 8, 12, 1, 12]\n"
     ]
    }
   ],
   "source": [
    "# Create a variable called lvl that contains the following values: 8, 10, 10, 1, 10, 10, 8, 12, 1, 12.\n",
    "lvl = [8, 10, 10, 1, 10, 10, 8, 12, 1, 12]\n",
    "print(lvl)"
   ]
  },
  {
   "cell_type": "code",
   "execution_count": 17,
   "metadata": {},
   "outputs": [
    {
     "name": "stdout",
     "output_type": "stream",
     "text": [
      "82\n"
     ]
    }
   ],
   "source": [
    "# Find the sum of the elements in lvl\n",
    "sum_lvl = sum(lvl)\n",
    "print(sum_lvl)"
   ]
  },
  {
   "cell_type": "code",
   "execution_count": 18,
   "metadata": {},
   "outputs": [
    {
     "name": "stdout",
     "output_type": "stream",
     "text": [
      "8.2\n"
     ]
    }
   ],
   "source": [
    "# Find the average of the elements in lvl\n",
    "avg_lvl = sum(lvl) / len(lvl)\n",
    "print(avg_lvl)"
   ]
  },
  {
   "cell_type": "code",
   "execution_count": 19,
   "metadata": {},
   "outputs": [
    {
     "name": "stdout",
     "output_type": "stream",
     "text": [
      "10.0\n"
     ]
    }
   ],
   "source": [
    "# Find the median value (the middle value) of the elements in lvl\n",
    "import numpy as np\n",
    "median_lvl = np.median(lvl)\n",
    "print(median_lvl)"
   ]
  },
  {
   "cell_type": "code",
   "execution_count": 20,
   "metadata": {},
   "outputs": [
    {
     "name": "stdout",
     "output_type": "stream",
     "text": [
      "3.815756805667782\n"
     ]
    }
   ],
   "source": [
    "# Find the standard deviation of the values in lvl\n",
    "sd_lvl = np.std(lvl)\n",
    "print(sd_lvl)"
   ]
  },
  {
   "cell_type": "code",
   "execution_count": 21,
   "metadata": {},
   "outputs": [
    {
     "name": "stdout",
     "output_type": "stream",
     "text": [
      "4\n"
     ]
    }
   ],
   "source": [
    "# Find the standard deviation of the elements in lvl, round it, do it in a single command\n",
    "rounded_sd_lvl = round(np.std(lvl))\n",
    "print(rounded_sd_lvl)"
   ]
  },
  {
   "cell_type": "code",
   "execution_count": 22,
   "metadata": {},
   "outputs": [
    {
     "name": "stdout",
     "output_type": "stream",
     "text": [
      "3500.0\n"
     ]
    }
   ],
   "source": [
    "# Find the median value of the elements in lvl, ignoring NA values\n",
    "import numpy as np\n",
    "atk = [3000, np.nan, np.nan, np.nan, np.nan, 4000, 3000, 5000, 1000, 5000]\n",
    "median_lvl = np.nanmedian(atk)\n",
    "print(median_lvl)"
   ]
  },
  {
   "cell_type": "code",
   "execution_count": 23,
   "metadata": {},
   "outputs": [
    {
     "name": "stdout",
     "output_type": "stream",
     "text": [
      "['Duke', 'Captain', 'Contessa']\n"
     ]
    }
   ],
   "source": [
    "# Define the draw function that randomly selects 3 cards from a deck\n",
    "import random\n",
    "def draw():\n",
    "    deck = [\"Duke\", \"Assassin\", \"Captain\", \"Ambassador\", \"Contessa\"]\n",
    "    hand = random.sample(deck, k=3)\n",
    "    return hand\n",
    "\n",
    "print(draw())"
   ]
  },
  {
   "cell_type": "code",
   "execution_count": 24,
   "metadata": {},
   "outputs": [
    {
     "name": "stdout",
     "output_type": "stream",
     "text": [
      "['Heads', 'Tails', 'Tails', 'Heads', 'Tails', 'Heads', 'Tails', 'Tails', 'Heads', 'Tails', 'Heads', 'Tails', 'Tails', 'Tails', 'Tails', 'Tails', 'Heads', 'Heads', 'Tails', 'Tails', 'Heads', 'Heads', 'Tails', 'Heads', 'Tails', 'Heads', 'Heads', 'Tails', 'Tails', 'Heads', 'Tails', 'Tails', 'Heads', 'Heads', 'Tails', 'Tails', 'Heads', 'Tails', 'Tails', 'Heads', 'Heads', 'Heads', 'Heads', 'Heads', 'Tails', 'Tails', 'Tails', 'Tails', 'Tails', 'Tails', 'Tails', 'Tails', 'Heads', 'Tails', 'Heads', 'Tails', 'Heads', 'Heads', 'Heads', 'Heads', 'Heads', 'Heads', 'Heads', 'Heads', 'Heads', 'Heads', 'Tails', 'Tails', 'Heads', 'Heads', 'Tails', 'Tails', 'Heads', 'Tails', 'Tails', 'Tails', 'Tails', 'Heads', 'Heads', 'Tails', 'Tails', 'Heads', 'Heads', 'Heads', 'Tails', 'Tails', 'Heads', 'Tails', 'Tails', 'Tails', 'Tails', 'Tails', 'Tails', 'Heads', 'Tails', 'Heads', 'Tails', 'Tails', 'Tails', 'Tails']\n"
     ]
    }
   ],
   "source": [
    "# Define the flip_coin function that flips a coin 100 times\n",
    "def flip_coin():\n",
    "    outcomes = [\"Heads\", \"Tails\"]\n",
    "    flips = random.choices(outcomes, k=100)\n",
    "    return flips\n",
    "\n",
    "print(flip_coin())"
   ]
  },
  {
   "cell_type": "code",
   "execution_count": 25,
   "metadata": {},
   "outputs": [
    {
     "name": "stdout",
     "output_type": "stream",
     "text": [
      "['Tails', 'Tails', 'Tails', 'Tails', 'Tails', 'Tails', 'Tails', 'Tails', 'Tails', 'Heads', 'Tails', 'Tails', 'Heads', 'Tails', 'Tails', 'Heads', 'Tails', 'Tails', 'Heads', 'Tails', 'Heads', 'Heads', 'Heads', 'Heads', 'Heads', 'Tails', 'Tails', 'Tails', 'Tails', 'Tails', 'Heads', 'Tails', 'Tails', 'Tails', 'Tails', 'Tails', 'Tails', 'Tails', 'Tails', 'Tails', 'Tails', 'Tails', 'Tails', 'Tails', 'Tails', 'Tails', 'Tails', 'Tails', 'Heads', 'Tails', 'Tails', 'Tails', 'Heads', 'Tails', 'Tails', 'Heads', 'Heads', 'Tails', 'Tails', 'Tails', 'Tails', 'Tails', 'Tails', 'Tails', 'Tails', 'Tails', 'Tails', 'Tails', 'Heads', 'Tails', 'Heads', 'Tails', 'Tails', 'Tails', 'Tails', 'Heads', 'Tails', 'Heads', 'Tails', 'Heads', 'Tails', 'Tails', 'Heads', 'Heads', 'Tails', 'Tails', 'Tails', 'Tails', 'Tails', 'Tails', 'Tails', 'Tails', 'Heads', 'Tails', 'Tails', 'Tails', 'Heads', 'Tails', 'Tails', 'Tails']\n"
     ]
    }
   ],
   "source": [
    "# Define the flip_coin function that flips a biased coin 100 times\n",
    "def flip_coin():\n",
    "    outcomes = [\"Heads\", \"Tails\"]\n",
    "    probabilities = [0.3, 0.7]\n",
    "    flips = random.choices(outcomes, weights=probabilities, k=100)\n",
    "    return flips\n",
    "\n",
    "print(flip_coin())"
   ]
  },
  {
   "cell_type": "code",
   "execution_count": null,
   "metadata": {},
   "outputs": [],
   "source": []
  },
  {
   "cell_type": "code",
   "execution_count": null,
   "metadata": {},
   "outputs": [],
   "source": []
  },
  {
   "cell_type": "code",
   "execution_count": null,
   "metadata": {},
   "outputs": [],
   "source": []
  },
  {
   "cell_type": "code",
   "execution_count": null,
   "metadata": {},
   "outputs": [],
   "source": []
  }
 ],
 "metadata": {
  "kernelspec": {
   "display_name": "base",
   "language": "python",
   "name": "python3"
  },
  "language_info": {
   "codemirror_mode": {
    "name": "ipython",
    "version": 3
   },
   "file_extension": ".py",
   "mimetype": "text/x-python",
   "name": "python",
   "nbconvert_exporter": "python",
   "pygments_lexer": "ipython3",
   "version": "3.11.3"
  },
  "orig_nbformat": 4
 },
 "nbformat": 4,
 "nbformat_minor": 2
}
