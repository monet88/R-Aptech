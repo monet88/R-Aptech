{
 "cells": [
  {
   "cell_type": "code",
   "execution_count": 1,
   "metadata": {
    "vscode": {
     "languageId": "r"
    }
   },
   "outputs": [
    {
     "name": "stdout",
     "output_type": "stream",
     "text": [
      "character(0)\n"
     ]
    }
   ],
   "source": [
    "object_list <- ls()\n",
    "print(object_list)"
   ]
  },
  {
   "cell_type": "code",
   "execution_count": 3,
   "metadata": {
    "vscode": {
     "languageId": "r"
    }
   },
   "outputs": [
    {
     "data": {
      "text/html": [
       "<style>\n",
       ".list-inline {list-style: none; margin:0; padding: 0}\n",
       ".list-inline>li {display: inline-block}\n",
       ".list-inline>li:not(:last-child)::after {content: \"\\00b7\"; padding: 0 .5ex}\n",
       "</style>\n",
       "<ol class=list-inline><li>8</li><li>10</li><li>10</li><li>1</li><li>10</li><li>10</li><li>8</li><li>12</li><li>1</li><li>12</li></ol>\n"
      ],
      "text/latex": [
       "\\begin{enumerate*}\n",
       "\\item 8\n",
       "\\item 10\n",
       "\\item 10\n",
       "\\item 1\n",
       "\\item 10\n",
       "\\item 10\n",
       "\\item 8\n",
       "\\item 12\n",
       "\\item 1\n",
       "\\item 12\n",
       "\\end{enumerate*}\n"
      ],
      "text/markdown": [
       "1. 8\n",
       "2. 10\n",
       "3. 10\n",
       "4. 1\n",
       "5. 10\n",
       "6. 10\n",
       "7. 8\n",
       "8. 12\n",
       "9. 1\n",
       "10. 12\n",
       "\n",
       "\n"
      ],
      "text/plain": [
       " [1]  8 10 10  1 10 10  8 12  1 12"
      ]
     },
     "metadata": {},
     "output_type": "display_data"
    }
   ],
   "source": [
    "# Create a variable called lvl that contains the following values:  8, 10, 10, 1, 10, 10, 8, 12, 1, 12.\n",
    "lvl <- c(8, 10, 10, 1, 10, 10, 8, 12, 1, 12)\n",
    "lvl"
   ]
  },
  {
   "cell_type": "code",
   "execution_count": 4,
   "metadata": {
    "vscode": {
     "languageId": "r"
    }
   },
   "outputs": [
    {
     "name": "stdout",
     "output_type": "stream",
     "text": [
      "[1] 82\n"
     ]
    }
   ],
   "source": [
    "#Find the sum of the elements in lvl\n",
    "sum_lvl <- sum(lvl)\n",
    "print(sum_lvl)"
   ]
  },
  {
   "cell_type": "code",
   "execution_count": 5,
   "metadata": {
    "vscode": {
     "languageId": "r"
    }
   },
   "outputs": [
    {
     "name": "stdout",
     "output_type": "stream",
     "text": [
      "[1] 8.2\n"
     ]
    }
   ],
   "source": [
    "#Find the average of the elements in lvl\n",
    "avg_lvl <- mean(lvl)\n",
    "print(avg_lvl)"
   ]
  },
  {
   "cell_type": "code",
   "execution_count": 6,
   "metadata": {
    "vscode": {
     "languageId": "r"
    }
   },
   "outputs": [
    {
     "name": "stdout",
     "output_type": "stream",
     "text": [
      "[1] 10\n"
     ]
    }
   ],
   "source": [
    "#Find the median value (the middle value) of the elements in lvl\n",
    "median_lvl <- median(lvl)\n",
    "print(median_lvl)"
   ]
  },
  {
   "cell_type": "code",
   "execution_count": 7,
   "metadata": {
    "vscode": {
     "languageId": "r"
    }
   },
   "outputs": [
    {
     "name": "stdout",
     "output_type": "stream",
     "text": [
      "[1] 10\n"
     ]
    }
   ],
   "source": [
    "#Get R to return the length of the lvl variable\n",
    "length_lvl <- length(lvl)\n",
    "print(length_lvl)"
   ]
  },
  {
   "cell_type": "code",
   "execution_count": 8,
   "metadata": {
    "vscode": {
     "languageId": "r"
    }
   },
   "outputs": [
    {
     "name": "stdout",
     "output_type": "stream",
     "text": [
      "[1] 4.022161\n"
     ]
    }
   ],
   "source": [
    "#Find the standard deviation of the values in lvl\n",
    "sd_lvl <- sd(lvl)\n",
    "print(sd_lvl)"
   ]
  },
  {
   "cell_type": "code",
   "execution_count": 9,
   "metadata": {
    "vscode": {
     "languageId": "r"
    }
   },
   "outputs": [
    {
     "name": "stdout",
     "output_type": "stream",
     "text": [
      "[1] 4\n"
     ]
    }
   ],
   "source": [
    "#Find the standard deviation of the elements in lvl, then round it; do it in a single command\n",
    "rounded_sd_lvl <- round(sd(lvl))\n",
    "print(rounded_sd_lvl)\n"
   ]
  },
  {
   "cell_type": "code",
   "execution_count": 10,
   "metadata": {
    "vscode": {
     "languageId": "r"
    }
   },
   "outputs": [
    {
     "name": "stdout",
     "output_type": "stream",
     "text": [
      "[1] 4\n"
     ]
    }
   ],
   "source": [
    "#Find the standard deviation of the elements in lvl, then round it, then specifically ask R to print it; do it in a single command\n",
    "print(round(sd(lvl)))"
   ]
  },
  {
   "cell_type": "code",
   "execution_count": 21,
   "metadata": {
    "vscode": {
     "languageId": "r"
    }
   },
   "outputs": [
    {
     "data": {
      "text/html": [
       "<style>\n",
       ".list-inline {list-style: none; margin:0; padding: 0}\n",
       ".list-inline>li {display: inline-block}\n",
       ".list-inline>li:not(:last-child)::after {content: \"\\00b7\"; padding: 0 .5ex}\n",
       "</style>\n",
       "<ol class=list-inline><li>9</li><li>2</li><li>11</li><li>12</li><li>10</li></ol>\n"
      ],
      "text/latex": [
       "\\begin{enumerate*}\n",
       "\\item 9\n",
       "\\item 2\n",
       "\\item 11\n",
       "\\item 12\n",
       "\\item 10\n",
       "\\end{enumerate*}\n"
      ],
      "text/markdown": [
       "1. 9\n",
       "2. 2\n",
       "3. 11\n",
       "4. 12\n",
       "5. 10\n",
       "\n",
       "\n"
      ],
      "text/plain": [
       "[1]  9  2 11 12 10"
      ]
     },
     "metadata": {},
     "output_type": "display_data"
    }
   ],
   "source": [
    "  x <- 1:12\n",
    "  sample(x, 5, replace = FALSE)"
   ]
  },
  {
   "cell_type": "code",
   "execution_count": 22,
   "metadata": {
    "vscode": {
     "languageId": "r"
    }
   },
   "outputs": [
    {
     "name": "stdout",
     "output_type": "stream",
     "text": [
      "[1] 10\n"
     ]
    }
   ],
   "source": [
    "# Find out what arguments the median function takes. While calling the median for the lvl object, try setting the na.rm = argument to TRUE.\n",
    "median_lvl <- median(lvl, na.rm = TRUE)\n",
    "print(median_lvl)\n"
   ]
  },
  {
   "cell_type": "code",
   "execution_count": null,
   "metadata": {
    "vscode": {
     "languageId": "r"
    }
   },
   "outputs": [],
   "source": [
    "# Does R return a different value from the one when na.rm = is set to FALSE (NB: the default value for the na.rm = argument is FALSE; this means that whenever we do not explicitly specify that it must be set to TRUE, it is set to FALSE?\n",
    "\n",
    "# Yes, when the na.rm argument of a function in R is set to FALSE (which is the default value if not specified), it means that the function will not remove any missing values (NA) from the calculation."
   ]
  },
  {
   "cell_type": "code",
   "execution_count": 25,
   "metadata": {
    "vscode": {
     "languageId": "r"
    }
   },
   "outputs": [
    {
     "name": "stdout",
     "output_type": "stream",
     "text": [
      "[1] 3500\n"
     ]
    }
   ],
   "source": [
    "atk <- c(3000, NA, NA, NA, NA, 4000, 3000, 5000, 1000, 5000)\n",
    "median_lvl <- median(atk, na.rm = TRUE)\n",
    "print(median_lvl)"
   ]
  },
  {
   "cell_type": "code",
   "execution_count": null,
   "metadata": {
    "vscode": {
     "languageId": "r"
    }
   },
   "outputs": [],
   "source": [
    "# The output may be different from the median calculation without removing missing values. The reason is that when you include na.rm = TRUE, any missing values in the atk variable will be ignored, and the median will be calculated based on the non-missing values only."
   ]
  },
  {
   "cell_type": "code",
   "execution_count": 32,
   "metadata": {
    "vscode": {
     "languageId": "r"
    }
   },
   "outputs": [
    {
     "data": {
      "text/html": [
       "<style>\n",
       ".list-inline {list-style: none; margin:0; padding: 0}\n",
       ".list-inline>li {display: inline-block}\n",
       ".list-inline>li:not(:last-child)::after {content: \"\\00b7\"; padding: 0 .5ex}\n",
       "</style>\n",
       "<ol class=list-inline><li>'Duke'</li><li>'Captain'</li><li>'Captain'</li></ol>\n"
      ],
      "text/latex": [
       "\\begin{enumerate*}\n",
       "\\item 'Duke'\n",
       "\\item 'Captain'\n",
       "\\item 'Captain'\n",
       "\\end{enumerate*}\n"
      ],
      "text/markdown": [
       "1. 'Duke'\n",
       "2. 'Captain'\n",
       "3. 'Captain'\n",
       "\n",
       "\n"
      ],
      "text/plain": [
       "[1] \"Duke\"    \"Captain\" \"Captain\""
      ]
     },
     "metadata": {},
     "output_type": "display_data"
    }
   ],
   "source": [
    "draw <- function(){\n",
    "    deck <- c(\"Duke\", \"Assassin\", \"Captain\", \"Ambassador\", \"Contessa\")\n",
    "    hand <- sample(deck, size=3, replace = T)\n",
    "    return(hand)\n",
    "    }\n",
    "draw()"
   ]
  },
  {
   "cell_type": "code",
   "execution_count": 35,
   "metadata": {
    "vscode": {
     "languageId": "r"
    }
   },
   "outputs": [
    {
     "data": {
      "text/html": [
       "<style>\n",
       ".list-inline {list-style: none; margin:0; padding: 0}\n",
       ".list-inline>li {display: inline-block}\n",
       ".list-inline>li:not(:last-child)::after {content: \"\\00b7\"; padding: 0 .5ex}\n",
       "</style>\n",
       "<ol class=list-inline><li>'Tails'</li><li>'Tails'</li><li>'Heads'</li><li>'Tails'</li><li>'Heads'</li><li>'Tails'</li><li>'Tails'</li><li>'Tails'</li><li>'Tails'</li><li>'Heads'</li><li>'Heads'</li><li>'Tails'</li><li>'Tails'</li><li>'Heads'</li><li>'Tails'</li><li>'Heads'</li><li>'Tails'</li><li>'Tails'</li><li>'Heads'</li><li>'Heads'</li><li>'Heads'</li><li>'Tails'</li><li>'Heads'</li><li>'Tails'</li><li>'Tails'</li><li>'Heads'</li><li>'Heads'</li><li>'Heads'</li><li>'Heads'</li><li>'Heads'</li><li>'Heads'</li><li>'Tails'</li><li>'Tails'</li><li>'Heads'</li><li>'Heads'</li><li>'Heads'</li><li>'Heads'</li><li>'Tails'</li><li>'Tails'</li><li>'Tails'</li><li>'Tails'</li><li>'Tails'</li><li>'Tails'</li><li>'Tails'</li><li>'Tails'</li><li>'Heads'</li><li>'Heads'</li><li>'Tails'</li><li>'Tails'</li><li>'Heads'</li><li>'Tails'</li><li>'Tails'</li><li>'Tails'</li><li>'Tails'</li><li>'Heads'</li><li>'Tails'</li><li>'Tails'</li><li>'Tails'</li><li>'Tails'</li><li>'Tails'</li><li>'Tails'</li><li>'Tails'</li><li>'Heads'</li><li>'Heads'</li><li>'Heads'</li><li>'Heads'</li><li>'Tails'</li><li>'Tails'</li><li>'Tails'</li><li>'Heads'</li><li>'Heads'</li><li>'Tails'</li><li>'Heads'</li><li>'Tails'</li><li>'Heads'</li><li>'Tails'</li><li>'Heads'</li><li>'Heads'</li><li>'Heads'</li><li>'Heads'</li><li>'Tails'</li><li>'Tails'</li><li>'Tails'</li><li>'Heads'</li><li>'Tails'</li><li>'Tails'</li><li>'Heads'</li><li>'Tails'</li><li>'Heads'</li><li>'Heads'</li><li>'Tails'</li><li>'Heads'</li><li>'Heads'</li><li>'Heads'</li><li>'Heads'</li><li>'Heads'</li><li>'Tails'</li><li>'Heads'</li><li>'Tails'</li><li>'Tails'</li></ol>\n"
      ],
      "text/latex": [
       "\\begin{enumerate*}\n",
       "\\item 'Tails'\n",
       "\\item 'Tails'\n",
       "\\item 'Heads'\n",
       "\\item 'Tails'\n",
       "\\item 'Heads'\n",
       "\\item 'Tails'\n",
       "\\item 'Tails'\n",
       "\\item 'Tails'\n",
       "\\item 'Tails'\n",
       "\\item 'Heads'\n",
       "\\item 'Heads'\n",
       "\\item 'Tails'\n",
       "\\item 'Tails'\n",
       "\\item 'Heads'\n",
       "\\item 'Tails'\n",
       "\\item 'Heads'\n",
       "\\item 'Tails'\n",
       "\\item 'Tails'\n",
       "\\item 'Heads'\n",
       "\\item 'Heads'\n",
       "\\item 'Heads'\n",
       "\\item 'Tails'\n",
       "\\item 'Heads'\n",
       "\\item 'Tails'\n",
       "\\item 'Tails'\n",
       "\\item 'Heads'\n",
       "\\item 'Heads'\n",
       "\\item 'Heads'\n",
       "\\item 'Heads'\n",
       "\\item 'Heads'\n",
       "\\item 'Heads'\n",
       "\\item 'Tails'\n",
       "\\item 'Tails'\n",
       "\\item 'Heads'\n",
       "\\item 'Heads'\n",
       "\\item 'Heads'\n",
       "\\item 'Heads'\n",
       "\\item 'Tails'\n",
       "\\item 'Tails'\n",
       "\\item 'Tails'\n",
       "\\item 'Tails'\n",
       "\\item 'Tails'\n",
       "\\item 'Tails'\n",
       "\\item 'Tails'\n",
       "\\item 'Tails'\n",
       "\\item 'Heads'\n",
       "\\item 'Heads'\n",
       "\\item 'Tails'\n",
       "\\item 'Tails'\n",
       "\\item 'Heads'\n",
       "\\item 'Tails'\n",
       "\\item 'Tails'\n",
       "\\item 'Tails'\n",
       "\\item 'Tails'\n",
       "\\item 'Heads'\n",
       "\\item 'Tails'\n",
       "\\item 'Tails'\n",
       "\\item 'Tails'\n",
       "\\item 'Tails'\n",
       "\\item 'Tails'\n",
       "\\item 'Tails'\n",
       "\\item 'Tails'\n",
       "\\item 'Heads'\n",
       "\\item 'Heads'\n",
       "\\item 'Heads'\n",
       "\\item 'Heads'\n",
       "\\item 'Tails'\n",
       "\\item 'Tails'\n",
       "\\item 'Tails'\n",
       "\\item 'Heads'\n",
       "\\item 'Heads'\n",
       "\\item 'Tails'\n",
       "\\item 'Heads'\n",
       "\\item 'Tails'\n",
       "\\item 'Heads'\n",
       "\\item 'Tails'\n",
       "\\item 'Heads'\n",
       "\\item 'Heads'\n",
       "\\item 'Heads'\n",
       "\\item 'Heads'\n",
       "\\item 'Tails'\n",
       "\\item 'Tails'\n",
       "\\item 'Tails'\n",
       "\\item 'Heads'\n",
       "\\item 'Tails'\n",
       "\\item 'Tails'\n",
       "\\item 'Heads'\n",
       "\\item 'Tails'\n",
       "\\item 'Heads'\n",
       "\\item 'Heads'\n",
       "\\item 'Tails'\n",
       "\\item 'Heads'\n",
       "\\item 'Heads'\n",
       "\\item 'Heads'\n",
       "\\item 'Heads'\n",
       "\\item 'Heads'\n",
       "\\item 'Tails'\n",
       "\\item 'Heads'\n",
       "\\item 'Tails'\n",
       "\\item 'Tails'\n",
       "\\end{enumerate*}\n"
      ],
      "text/markdown": [
       "1. 'Tails'\n",
       "2. 'Tails'\n",
       "3. 'Heads'\n",
       "4. 'Tails'\n",
       "5. 'Heads'\n",
       "6. 'Tails'\n",
       "7. 'Tails'\n",
       "8. 'Tails'\n",
       "9. 'Tails'\n",
       "10. 'Heads'\n",
       "11. 'Heads'\n",
       "12. 'Tails'\n",
       "13. 'Tails'\n",
       "14. 'Heads'\n",
       "15. 'Tails'\n",
       "16. 'Heads'\n",
       "17. 'Tails'\n",
       "18. 'Tails'\n",
       "19. 'Heads'\n",
       "20. 'Heads'\n",
       "21. 'Heads'\n",
       "22. 'Tails'\n",
       "23. 'Heads'\n",
       "24. 'Tails'\n",
       "25. 'Tails'\n",
       "26. 'Heads'\n",
       "27. 'Heads'\n",
       "28. 'Heads'\n",
       "29. 'Heads'\n",
       "30. 'Heads'\n",
       "31. 'Heads'\n",
       "32. 'Tails'\n",
       "33. 'Tails'\n",
       "34. 'Heads'\n",
       "35. 'Heads'\n",
       "36. 'Heads'\n",
       "37. 'Heads'\n",
       "38. 'Tails'\n",
       "39. 'Tails'\n",
       "40. 'Tails'\n",
       "41. 'Tails'\n",
       "42. 'Tails'\n",
       "43. 'Tails'\n",
       "44. 'Tails'\n",
       "45. 'Tails'\n",
       "46. 'Heads'\n",
       "47. 'Heads'\n",
       "48. 'Tails'\n",
       "49. 'Tails'\n",
       "50. 'Heads'\n",
       "51. 'Tails'\n",
       "52. 'Tails'\n",
       "53. 'Tails'\n",
       "54. 'Tails'\n",
       "55. 'Heads'\n",
       "56. 'Tails'\n",
       "57. 'Tails'\n",
       "58. 'Tails'\n",
       "59. 'Tails'\n",
       "60. 'Tails'\n",
       "61. 'Tails'\n",
       "62. 'Tails'\n",
       "63. 'Heads'\n",
       "64. 'Heads'\n",
       "65. 'Heads'\n",
       "66. 'Heads'\n",
       "67. 'Tails'\n",
       "68. 'Tails'\n",
       "69. 'Tails'\n",
       "70. 'Heads'\n",
       "71. 'Heads'\n",
       "72. 'Tails'\n",
       "73. 'Heads'\n",
       "74. 'Tails'\n",
       "75. 'Heads'\n",
       "76. 'Tails'\n",
       "77. 'Heads'\n",
       "78. 'Heads'\n",
       "79. 'Heads'\n",
       "80. 'Heads'\n",
       "81. 'Tails'\n",
       "82. 'Tails'\n",
       "83. 'Tails'\n",
       "84. 'Heads'\n",
       "85. 'Tails'\n",
       "86. 'Tails'\n",
       "87. 'Heads'\n",
       "88. 'Tails'\n",
       "89. 'Heads'\n",
       "90. 'Heads'\n",
       "91. 'Tails'\n",
       "92. 'Heads'\n",
       "93. 'Heads'\n",
       "94. 'Heads'\n",
       "95. 'Heads'\n",
       "96. 'Heads'\n",
       "97. 'Tails'\n",
       "98. 'Heads'\n",
       "99. 'Tails'\n",
       "100. 'Tails'\n",
       "\n",
       "\n"
      ],
      "text/plain": [
       "  [1] \"Tails\" \"Tails\" \"Heads\" \"Tails\" \"Heads\" \"Tails\" \"Tails\" \"Tails\" \"Tails\"\n",
       " [10] \"Heads\" \"Heads\" \"Tails\" \"Tails\" \"Heads\" \"Tails\" \"Heads\" \"Tails\" \"Tails\"\n",
       " [19] \"Heads\" \"Heads\" \"Heads\" \"Tails\" \"Heads\" \"Tails\" \"Tails\" \"Heads\" \"Heads\"\n",
       " [28] \"Heads\" \"Heads\" \"Heads\" \"Heads\" \"Tails\" \"Tails\" \"Heads\" \"Heads\" \"Heads\"\n",
       " [37] \"Heads\" \"Tails\" \"Tails\" \"Tails\" \"Tails\" \"Tails\" \"Tails\" \"Tails\" \"Tails\"\n",
       " [46] \"Heads\" \"Heads\" \"Tails\" \"Tails\" \"Heads\" \"Tails\" \"Tails\" \"Tails\" \"Tails\"\n",
       " [55] \"Heads\" \"Tails\" \"Tails\" \"Tails\" \"Tails\" \"Tails\" \"Tails\" \"Tails\" \"Heads\"\n",
       " [64] \"Heads\" \"Heads\" \"Heads\" \"Tails\" \"Tails\" \"Tails\" \"Heads\" \"Heads\" \"Tails\"\n",
       " [73] \"Heads\" \"Tails\" \"Heads\" \"Tails\" \"Heads\" \"Heads\" \"Heads\" \"Heads\" \"Tails\"\n",
       " [82] \"Tails\" \"Tails\" \"Heads\" \"Tails\" \"Tails\" \"Heads\" \"Tails\" \"Heads\" \"Heads\"\n",
       " [91] \"Tails\" \"Heads\" \"Heads\" \"Heads\" \"Heads\" \"Heads\" \"Tails\" \"Heads\" \"Tails\"\n",
       "[100] \"Tails\""
      ]
     },
     "metadata": {},
     "output_type": "display_data"
    }
   ],
   "source": [
    "# Following the schema laid out there, write a function that flips a coin 100 times.\n",
    "flip_coin <- function() {\n",
    "  outcomes <- c(\"Heads\", \"Tails\")\n",
    "  flips <- sample(outcomes, size = 100, replace = T)\n",
    "  return(flips)\n",
    "}\n",
    "\n",
    "flip_coin()"
   ]
  },
  {
   "cell_type": "code",
   "execution_count": 37,
   "metadata": {
    "vscode": {
     "languageId": "r"
    }
   },
   "outputs": [
    {
     "data": {
      "text/html": [
       "<style>\n",
       ".list-inline {list-style: none; margin:0; padding: 0}\n",
       ".list-inline>li {display: inline-block}\n",
       ".list-inline>li:not(:last-child)::after {content: \"\\00b7\"; padding: 0 .5ex}\n",
       "</style>\n",
       "<ol class=list-inline><li>'Tails'</li><li>'Tails'</li><li>'Tails'</li><li>'Tails'</li><li>'Tails'</li><li>'Heads'</li><li>'Tails'</li><li>'Tails'</li><li>'Tails'</li><li>'Heads'</li><li>'Tails'</li><li>'Heads'</li><li>'Tails'</li><li>'Heads'</li><li>'Tails'</li><li>'Tails'</li><li>'Tails'</li><li>'Tails'</li><li>'Tails'</li><li>'Tails'</li><li>'Tails'</li><li>'Tails'</li><li>'Tails'</li><li>'Heads'</li><li>'Tails'</li><li>'Tails'</li><li>'Heads'</li><li>'Heads'</li><li>'Tails'</li><li>'Heads'</li><li>'Heads'</li><li>'Heads'</li><li>'Heads'</li><li>'Heads'</li><li>'Tails'</li><li>'Heads'</li><li>'Tails'</li><li>'Tails'</li><li>'Tails'</li><li>'Tails'</li><li>'Heads'</li><li>'Tails'</li><li>'Tails'</li><li>'Heads'</li><li>'Tails'</li><li>'Tails'</li><li>'Tails'</li><li>'Tails'</li><li>'Tails'</li><li>'Heads'</li><li>'Heads'</li><li>'Tails'</li><li>'Tails'</li><li>'Tails'</li><li>'Tails'</li><li>'Heads'</li><li>'Tails'</li><li>'Tails'</li><li>'Tails'</li><li>'Tails'</li><li>'Tails'</li><li>'Tails'</li><li>'Tails'</li><li>'Heads'</li><li>'Tails'</li><li>'Tails'</li><li>'Tails'</li><li>'Tails'</li><li>'Tails'</li><li>'Heads'</li><li>'Tails'</li><li>'Heads'</li><li>'Heads'</li><li>'Tails'</li><li>'Heads'</li><li>'Tails'</li><li>'Heads'</li><li>'Tails'</li><li>'Tails'</li><li>'Tails'</li><li>'Tails'</li><li>'Heads'</li><li>'Tails'</li><li>'Tails'</li><li>'Tails'</li><li>'Tails'</li><li>'Heads'</li><li>'Heads'</li><li>'Heads'</li><li>'Tails'</li><li>'Tails'</li><li>'Heads'</li><li>'Tails'</li><li>'Tails'</li><li>'Tails'</li><li>'Heads'</li><li>'Heads'</li><li>'Tails'</li><li>'Tails'</li><li>'Tails'</li></ol>\n"
      ],
      "text/latex": [
       "\\begin{enumerate*}\n",
       "\\item 'Tails'\n",
       "\\item 'Tails'\n",
       "\\item 'Tails'\n",
       "\\item 'Tails'\n",
       "\\item 'Tails'\n",
       "\\item 'Heads'\n",
       "\\item 'Tails'\n",
       "\\item 'Tails'\n",
       "\\item 'Tails'\n",
       "\\item 'Heads'\n",
       "\\item 'Tails'\n",
       "\\item 'Heads'\n",
       "\\item 'Tails'\n",
       "\\item 'Heads'\n",
       "\\item 'Tails'\n",
       "\\item 'Tails'\n",
       "\\item 'Tails'\n",
       "\\item 'Tails'\n",
       "\\item 'Tails'\n",
       "\\item 'Tails'\n",
       "\\item 'Tails'\n",
       "\\item 'Tails'\n",
       "\\item 'Tails'\n",
       "\\item 'Heads'\n",
       "\\item 'Tails'\n",
       "\\item 'Tails'\n",
       "\\item 'Heads'\n",
       "\\item 'Heads'\n",
       "\\item 'Tails'\n",
       "\\item 'Heads'\n",
       "\\item 'Heads'\n",
       "\\item 'Heads'\n",
       "\\item 'Heads'\n",
       "\\item 'Heads'\n",
       "\\item 'Tails'\n",
       "\\item 'Heads'\n",
       "\\item 'Tails'\n",
       "\\item 'Tails'\n",
       "\\item 'Tails'\n",
       "\\item 'Tails'\n",
       "\\item 'Heads'\n",
       "\\item 'Tails'\n",
       "\\item 'Tails'\n",
       "\\item 'Heads'\n",
       "\\item 'Tails'\n",
       "\\item 'Tails'\n",
       "\\item 'Tails'\n",
       "\\item 'Tails'\n",
       "\\item 'Tails'\n",
       "\\item 'Heads'\n",
       "\\item 'Heads'\n",
       "\\item 'Tails'\n",
       "\\item 'Tails'\n",
       "\\item 'Tails'\n",
       "\\item 'Tails'\n",
       "\\item 'Heads'\n",
       "\\item 'Tails'\n",
       "\\item 'Tails'\n",
       "\\item 'Tails'\n",
       "\\item 'Tails'\n",
       "\\item 'Tails'\n",
       "\\item 'Tails'\n",
       "\\item 'Tails'\n",
       "\\item 'Heads'\n",
       "\\item 'Tails'\n",
       "\\item 'Tails'\n",
       "\\item 'Tails'\n",
       "\\item 'Tails'\n",
       "\\item 'Tails'\n",
       "\\item 'Heads'\n",
       "\\item 'Tails'\n",
       "\\item 'Heads'\n",
       "\\item 'Heads'\n",
       "\\item 'Tails'\n",
       "\\item 'Heads'\n",
       "\\item 'Tails'\n",
       "\\item 'Heads'\n",
       "\\item 'Tails'\n",
       "\\item 'Tails'\n",
       "\\item 'Tails'\n",
       "\\item 'Tails'\n",
       "\\item 'Heads'\n",
       "\\item 'Tails'\n",
       "\\item 'Tails'\n",
       "\\item 'Tails'\n",
       "\\item 'Tails'\n",
       "\\item 'Heads'\n",
       "\\item 'Heads'\n",
       "\\item 'Heads'\n",
       "\\item 'Tails'\n",
       "\\item 'Tails'\n",
       "\\item 'Heads'\n",
       "\\item 'Tails'\n",
       "\\item 'Tails'\n",
       "\\item 'Tails'\n",
       "\\item 'Heads'\n",
       "\\item 'Heads'\n",
       "\\item 'Tails'\n",
       "\\item 'Tails'\n",
       "\\item 'Tails'\n",
       "\\end{enumerate*}\n"
      ],
      "text/markdown": [
       "1. 'Tails'\n",
       "2. 'Tails'\n",
       "3. 'Tails'\n",
       "4. 'Tails'\n",
       "5. 'Tails'\n",
       "6. 'Heads'\n",
       "7. 'Tails'\n",
       "8. 'Tails'\n",
       "9. 'Tails'\n",
       "10. 'Heads'\n",
       "11. 'Tails'\n",
       "12. 'Heads'\n",
       "13. 'Tails'\n",
       "14. 'Heads'\n",
       "15. 'Tails'\n",
       "16. 'Tails'\n",
       "17. 'Tails'\n",
       "18. 'Tails'\n",
       "19. 'Tails'\n",
       "20. 'Tails'\n",
       "21. 'Tails'\n",
       "22. 'Tails'\n",
       "23. 'Tails'\n",
       "24. 'Heads'\n",
       "25. 'Tails'\n",
       "26. 'Tails'\n",
       "27. 'Heads'\n",
       "28. 'Heads'\n",
       "29. 'Tails'\n",
       "30. 'Heads'\n",
       "31. 'Heads'\n",
       "32. 'Heads'\n",
       "33. 'Heads'\n",
       "34. 'Heads'\n",
       "35. 'Tails'\n",
       "36. 'Heads'\n",
       "37. 'Tails'\n",
       "38. 'Tails'\n",
       "39. 'Tails'\n",
       "40. 'Tails'\n",
       "41. 'Heads'\n",
       "42. 'Tails'\n",
       "43. 'Tails'\n",
       "44. 'Heads'\n",
       "45. 'Tails'\n",
       "46. 'Tails'\n",
       "47. 'Tails'\n",
       "48. 'Tails'\n",
       "49. 'Tails'\n",
       "50. 'Heads'\n",
       "51. 'Heads'\n",
       "52. 'Tails'\n",
       "53. 'Tails'\n",
       "54. 'Tails'\n",
       "55. 'Tails'\n",
       "56. 'Heads'\n",
       "57. 'Tails'\n",
       "58. 'Tails'\n",
       "59. 'Tails'\n",
       "60. 'Tails'\n",
       "61. 'Tails'\n",
       "62. 'Tails'\n",
       "63. 'Tails'\n",
       "64. 'Heads'\n",
       "65. 'Tails'\n",
       "66. 'Tails'\n",
       "67. 'Tails'\n",
       "68. 'Tails'\n",
       "69. 'Tails'\n",
       "70. 'Heads'\n",
       "71. 'Tails'\n",
       "72. 'Heads'\n",
       "73. 'Heads'\n",
       "74. 'Tails'\n",
       "75. 'Heads'\n",
       "76. 'Tails'\n",
       "77. 'Heads'\n",
       "78. 'Tails'\n",
       "79. 'Tails'\n",
       "80. 'Tails'\n",
       "81. 'Tails'\n",
       "82. 'Heads'\n",
       "83. 'Tails'\n",
       "84. 'Tails'\n",
       "85. 'Tails'\n",
       "86. 'Tails'\n",
       "87. 'Heads'\n",
       "88. 'Heads'\n",
       "89. 'Heads'\n",
       "90. 'Tails'\n",
       "91. 'Tails'\n",
       "92. 'Heads'\n",
       "93. 'Tails'\n",
       "94. 'Tails'\n",
       "95. 'Tails'\n",
       "96. 'Heads'\n",
       "97. 'Heads'\n",
       "98. 'Tails'\n",
       "99. 'Tails'\n",
       "100. 'Tails'\n",
       "\n",
       "\n"
      ],
      "text/plain": [
       "  [1] \"Tails\" \"Tails\" \"Tails\" \"Tails\" \"Tails\" \"Heads\" \"Tails\" \"Tails\" \"Tails\"\n",
       " [10] \"Heads\" \"Tails\" \"Heads\" \"Tails\" \"Heads\" \"Tails\" \"Tails\" \"Tails\" \"Tails\"\n",
       " [19] \"Tails\" \"Tails\" \"Tails\" \"Tails\" \"Tails\" \"Heads\" \"Tails\" \"Tails\" \"Heads\"\n",
       " [28] \"Heads\" \"Tails\" \"Heads\" \"Heads\" \"Heads\" \"Heads\" \"Heads\" \"Tails\" \"Heads\"\n",
       " [37] \"Tails\" \"Tails\" \"Tails\" \"Tails\" \"Heads\" \"Tails\" \"Tails\" \"Heads\" \"Tails\"\n",
       " [46] \"Tails\" \"Tails\" \"Tails\" \"Tails\" \"Heads\" \"Heads\" \"Tails\" \"Tails\" \"Tails\"\n",
       " [55] \"Tails\" \"Heads\" \"Tails\" \"Tails\" \"Tails\" \"Tails\" \"Tails\" \"Tails\" \"Tails\"\n",
       " [64] \"Heads\" \"Tails\" \"Tails\" \"Tails\" \"Tails\" \"Tails\" \"Heads\" \"Tails\" \"Heads\"\n",
       " [73] \"Heads\" \"Tails\" \"Heads\" \"Tails\" \"Heads\" \"Tails\" \"Tails\" \"Tails\" \"Tails\"\n",
       " [82] \"Heads\" \"Tails\" \"Tails\" \"Tails\" \"Tails\" \"Heads\" \"Heads\" \"Heads\" \"Tails\"\n",
       " [91] \"Tails\" \"Heads\" \"Tails\" \"Tails\" \"Tails\" \"Heads\" \"Heads\" \"Tails\" \"Tails\"\n",
       "[100] \"Tails\""
      ]
     },
     "metadata": {},
     "output_type": "display_data"
    }
   ],
   "source": [
    "flip_coin <- function() {\n",
    "  outcomes <- c(\"Heads\", \"Tails\")\n",
    "  flips <- sample(outcomes, size = 100, replace = T, prob = c(0.3, 0.7))\n",
    "  return(flips)\n",
    "}\n",
    "\n",
    "flip_coin()"
   ]
  },
  {
   "cell_type": "code",
   "execution_count": 38,
   "metadata": {
    "vscode": {
     "languageId": "r"
    }
   },
   "outputs": [],
   "source": [
    "atk <- c(3000, NA, NA, NA, NA, 4000, 3000, 5000, 1000, 5000)"
   ]
  },
  {
   "cell_type": "code",
   "execution_count": 41,
   "metadata": {
    "vscode": {
     "languageId": "r"
    }
   },
   "outputs": [
    {
     "data": {
      "text/html": [
       "4000"
      ],
      "text/latex": [
       "4000"
      ],
      "text/markdown": [
       "4000"
      ],
      "text/plain": [
       "[1] 4000"
      ]
     },
     "metadata": {},
     "output_type": "display_data"
    }
   ],
   "source": [
    "#The 6-th value (can you do it in more than one way)\n",
    "sixth_value <- atk[6]\n",
    "sixth_value"
   ]
  },
  {
   "cell_type": "code",
   "execution_count": 42,
   "metadata": {
    "vscode": {
     "languageId": "r"
    }
   },
   "outputs": [
    {
     "data": {
      "text/html": [
       "<style>\n",
       ".list-inline {list-style: none; margin:0; padding: 0}\n",
       ".list-inline>li {display: inline-block}\n",
       ".list-inline>li:not(:last-child)::after {content: \"\\00b7\"; padding: 0 .5ex}\n",
       "</style>\n",
       "<ol class=list-inline><li>3000</li><li>&lt;NA&gt;</li><li>&lt;NA&gt;</li><li>&lt;NA&gt;</li><li>4000</li><li>3000</li><li>5000</li><li>1000</li><li>5000</li></ol>\n"
      ],
      "text/latex": [
       "\\begin{enumerate*}\n",
       "\\item 3000\n",
       "\\item <NA>\n",
       "\\item <NA>\n",
       "\\item <NA>\n",
       "\\item 4000\n",
       "\\item 3000\n",
       "\\item 5000\n",
       "\\item 1000\n",
       "\\item 5000\n",
       "\\end{enumerate*}\n"
      ],
      "text/markdown": [
       "1. 3000\n",
       "2. &lt;NA&gt;\n",
       "3. &lt;NA&gt;\n",
       "4. &lt;NA&gt;\n",
       "5. 4000\n",
       "6. 3000\n",
       "7. 5000\n",
       "8. 1000\n",
       "9. 5000\n",
       "\n",
       "\n"
      ],
      "text/plain": [
       "[1] 3000   NA   NA   NA 4000 3000 5000 1000 5000"
      ]
     },
     "metadata": {},
     "output_type": "display_data"
    }
   ],
   "source": [
    "#All the values but the 2nd one\n",
    "values_except_second <- atk[-2]\n",
    "values_except_second"
   ]
  },
  {
   "cell_type": "code",
   "execution_count": 43,
   "metadata": {
    "vscode": {
     "languageId": "r"
    }
   },
   "outputs": [
    {
     "data": {
      "text/html": [
       "<style>\n",
       ".list-inline {list-style: none; margin:0; padding: 0}\n",
       ".list-inline>li {display: inline-block}\n",
       ".list-inline>li:not(:last-child)::after {content: \"\\00b7\"; padding: 0 .5ex}\n",
       "</style>\n",
       "<ol class=list-inline><li>3000</li><li>&lt;NA&gt;</li><li>&lt;NA&gt;</li><li>3000</li><li>1000</li></ol>\n"
      ],
      "text/latex": [
       "\\begin{enumerate*}\n",
       "\\item 3000\n",
       "\\item <NA>\n",
       "\\item <NA>\n",
       "\\item 3000\n",
       "\\item 1000\n",
       "\\end{enumerate*}\n"
      ],
      "text/markdown": [
       "1. 3000\n",
       "2. &lt;NA&gt;\n",
       "3. &lt;NA&gt;\n",
       "4. 3000\n",
       "5. 1000\n",
       "\n",
       "\n"
      ],
      "text/plain": [
       "[1] 3000   NA   NA 3000 1000"
      ]
     },
     "metadata": {},
     "output_type": "display_data"
    }
   ],
   "source": [
    "#Values 1, 3, 5, 7, and 9\n",
    "values_1_3_5_7_9 <- atk[c(1, 3, 5, 7, 9)]\n",
    "values_1_3_5_7_9"
   ]
  },
  {
   "cell_type": "code",
   "execution_count": 44,
   "metadata": {
    "vscode": {
     "languageId": "r"
    }
   },
   "outputs": [
    {
     "data": {
      "text/html": [
       "<style>\n",
       ".list-inline {list-style: none; margin:0; padding: 0}\n",
       ".list-inline>li {display: inline-block}\n",
       ".list-inline>li:not(:last-child)::after {content: \"\\00b7\"; padding: 0 .5ex}\n",
       "</style>\n",
       "<ol class=list-inline><li>3000</li><li>&lt;NA&gt;</li><li>&lt;NA&gt;</li><li>3000</li><li>5000</li><li>1000</li><li>5000</li></ol>\n"
      ],
      "text/latex": [
       "\\begin{enumerate*}\n",
       "\\item 3000\n",
       "\\item <NA>\n",
       "\\item <NA>\n",
       "\\item 3000\n",
       "\\item 5000\n",
       "\\item 1000\n",
       "\\item 5000\n",
       "\\end{enumerate*}\n"
      ],
      "text/markdown": [
       "1. 3000\n",
       "2. &lt;NA&gt;\n",
       "3. &lt;NA&gt;\n",
       "4. 3000\n",
       "5. 5000\n",
       "6. 1000\n",
       "7. 5000\n",
       "\n",
       "\n"
      ],
      "text/plain": [
       "[1] 3000   NA   NA 3000 5000 1000 5000"
      ]
     },
     "metadata": {},
     "output_type": "display_data"
    }
   ],
   "source": [
    "#All the values but the 4th, 5th, and 6th\n",
    "values_except_fourth_fifth_sixth <- atk[-c(4, 5, 6)]\n",
    "values_except_fourth_fifth_sixth"
   ]
  },
  {
   "cell_type": "code",
   "execution_count": 45,
   "metadata": {
    "vscode": {
     "languageId": "r"
    }
   },
   "outputs": [
    {
     "data": {
      "text/html": [
       "<style>\n",
       ".list-inline {list-style: none; margin:0; padding: 0}\n",
       ".list-inline>li {display: inline-block}\n",
       ".list-inline>li:not(:last-child)::after {content: \"\\00b7\"; padding: 0 .5ex}\n",
       "</style>\n",
       "<ol class=list-inline><li>3000</li><li>&lt;NA&gt;</li><li>&lt;NA&gt;</li><li>&lt;NA&gt;</li><li>&lt;NA&gt;</li><li>4000</li><li>3000</li><li>5000</li><li>5000</li></ol>\n"
      ],
      "text/latex": [
       "\\begin{enumerate*}\n",
       "\\item 3000\n",
       "\\item <NA>\n",
       "\\item <NA>\n",
       "\\item <NA>\n",
       "\\item <NA>\n",
       "\\item 4000\n",
       "\\item 3000\n",
       "\\item 5000\n",
       "\\item 5000\n",
       "\\end{enumerate*}\n"
      ],
      "text/markdown": [
       "1. 3000\n",
       "2. &lt;NA&gt;\n",
       "3. &lt;NA&gt;\n",
       "4. &lt;NA&gt;\n",
       "5. &lt;NA&gt;\n",
       "6. 4000\n",
       "7. 3000\n",
       "8. 5000\n",
       "9. 5000\n",
       "\n",
       "\n"
      ],
      "text/plain": [
       "[1] 3000   NA   NA   NA   NA 4000 3000 5000 5000"
      ]
     },
     "metadata": {},
     "output_type": "display_data"
    }
   ],
   "source": [
    "#All the values larger than 2000\n",
    "values_larger_than_2000 <- atk[atk > 2000]\n",
    "values_larger_than_2000"
   ]
  },
  {
   "cell_type": "code",
   "execution_count": 46,
   "metadata": {
    "vscode": {
     "languageId": "r"
    }
   },
   "outputs": [
    {
     "name": "stderr",
     "output_type": "stream",
     "text": [
      "Warning message in weight/height^2:\n",
      "\"longer object length is not a multiple of shorter object length\"\n"
     ]
    },
    {
     "name": "stdout",
     "output_type": "stream",
     "text": [
      "[1] 23.18367 20.45115 26.19619 20.22703 18.29473 14.90744 10.97521\n"
     ]
    }
   ],
   "source": [
    "weight <- c(71, 67, 83, 67)\n",
    "height <- c(1.75, 1.81, 1.78, 1.82, 1.97, 2.12, 2.75)\n",
    "\n",
    "bmi <- weight / height^2\n",
    "print(bmi)"
   ]
  },
  {
   "cell_type": "code",
   "execution_count": 47,
   "metadata": {
    "vscode": {
     "languageId": "r"
    }
   },
   "outputs": [
    {
     "name": "stdout",
     "output_type": "stream",
     "text": [
      "[1] 23.18367 20.45115 26.19619 20.22703 18.29473 14.90744 10.97521\n"
     ]
    }
   ],
   "source": [
    "weight <- c(71, 67, 83, 67)\n",
    "height <- c(1.75, 1.81, 1.78, 1.82, 1.97, 2.12, 2.75)\n",
    "\n",
    "recycled_weight <- rep(weight, length.out = length(height))\n",
    "bmi <- recycled_weight / height^2\n",
    "\n",
    "print(bmi)"
   ]
  },
  {
   "cell_type": "code",
   "execution_count": 63,
   "metadata": {
    "vscode": {
     "languageId": "r"
    }
   },
   "outputs": [],
   "source": [
    "# Requirements: the following vectors: the original cards object, and atk from the second exercise.\n",
    "atk <- c(3000, NA, NA, NA, NA, 4000, 3000, 5000, 1000, 5000)\n",
    "cards <- c(\"Blue-Eyes White Dragon\", \"Exodius\", \"The Winged Dragon of Ra\", \"Raigeki\", \"Slifer the Sky Dragon\", \"Obelisk the Tormentor\", \"Black Luster Soldier\", \"5-Headed Dragon\", \"Exodia the Forbidden One\", \"Dragon Master Knight\")"
   ]
  },
  {
   "cell_type": "code",
   "execution_count": 66,
   "metadata": {
    "vscode": {
     "languageId": "r"
    }
   },
   "outputs": [
    {
     "data": {
      "text/html": [
       "<style>\n",
       ".dl-inline {width: auto; margin:0; padding: 0}\n",
       ".dl-inline>dt, .dl-inline>dd {float: none; width: auto; display: inline-block}\n",
       ".dl-inline>dt::after {content: \":\\0020\"; padding-right: .5ex}\n",
       ".dl-inline>dt:not(:first-of-type) {padding-left: .5ex}\n",
       "</style><dl class=dl-inline><dt>Blue-Eyes White Dragon</dt><dd>3000</dd><dt>Exodius</dt><dd>&lt;NA&gt;</dd><dt>The Winged Dragon of Ra</dt><dd>&lt;NA&gt;</dd><dt>Raigeki</dt><dd>&lt;NA&gt;</dd><dt>Slifer the Sky Dragon</dt><dd>&lt;NA&gt;</dd><dt>Obelisk the Tormentor</dt><dd>4000</dd><dt>Black Luster Soldier</dt><dd>3000</dd><dt>5-Headed Dragon</dt><dd>5000</dd><dt>Exodia the Forbidden One</dt><dd>1000</dd><dt>Dragon Master Knight</dt><dd>5000</dd></dl>\n"
      ],
      "text/latex": [
       "\\begin{description*}\n",
       "\\item[Blue-Eyes White Dragon] 3000\n",
       "\\item[Exodius] <NA>\n",
       "\\item[The Winged Dragon of Ra] <NA>\n",
       "\\item[Raigeki] <NA>\n",
       "\\item[Slifer the Sky Dragon] <NA>\n",
       "\\item[Obelisk the Tormentor] 4000\n",
       "\\item[Black Luster Soldier] 3000\n",
       "\\item[5-Headed Dragon] 5000\n",
       "\\item[Exodia the Forbidden One] 1000\n",
       "\\item[Dragon Master Knight] 5000\n",
       "\\end{description*}\n"
      ],
      "text/markdown": [
       "Blue-Eyes White Dragon\n",
       ":   3000Exodius\n",
       ":   &lt;NA&gt;The Winged Dragon of Ra\n",
       ":   &lt;NA&gt;Raigeki\n",
       ":   &lt;NA&gt;Slifer the Sky Dragon\n",
       ":   &lt;NA&gt;Obelisk the Tormentor\n",
       ":   4000Black Luster Soldier\n",
       ":   30005-Headed Dragon\n",
       ":   5000Exodia the Forbidden One\n",
       ":   1000Dragon Master Knight\n",
       ":   5000\n",
       "\n"
      ],
      "text/plain": [
       "  Blue-Eyes White Dragon                  Exodius  The Winged Dragon of Ra \n",
       "                    3000                       NA                       NA \n",
       "                 Raigeki    Slifer the Sky Dragon    Obelisk the Tormentor \n",
       "                      NA                       NA                     4000 \n",
       "    Black Luster Soldier          5-Headed Dragon Exodia the Forbidden One \n",
       "                    3000                     5000                     1000 \n",
       "    Dragon Master Knight \n",
       "                    5000 "
      ]
     },
     "metadata": {},
     "output_type": "display_data"
    }
   ],
   "source": [
    "# Assign a name to each element from the atk vector that corresponds to a character from the cards vector.\n",
    "names(atk) <- cards\n",
    "atk"
   ]
  },
  {
   "cell_type": "code",
   "execution_count": 65,
   "metadata": {
    "vscode": {
     "languageId": "r"
    }
   },
   "outputs": [
    {
     "data": {
      "text/html": [
       "<strong>$names</strong> = <style>\n",
       ".list-inline {list-style: none; margin:0; padding: 0}\n",
       ".list-inline>li {display: inline-block}\n",
       ".list-inline>li:not(:last-child)::after {content: \"\\00b7\"; padding: 0 .5ex}\n",
       "</style>\n",
       "<ol class=list-inline><li>'Blue-Eyes White Dragon'</li><li>'Exodius'</li><li>'The Winged Dragon of Ra'</li><li>'Raigeki'</li><li>'Slifer the Sky Dragon'</li><li>'Obelisk the Tormentor'</li><li>'Black Luster Soldier'</li><li>'5-Headed Dragon'</li><li>'Exodia the Forbidden One'</li><li>'Dragon Master Knight'</li></ol>\n"
      ],
      "text/latex": [
       "\\textbf{\\$names} = \\begin{enumerate*}\n",
       "\\item 'Blue-Eyes White Dragon'\n",
       "\\item 'Exodius'\n",
       "\\item 'The Winged Dragon of Ra'\n",
       "\\item 'Raigeki'\n",
       "\\item 'Slifer the Sky Dragon'\n",
       "\\item 'Obelisk the Tormentor'\n",
       "\\item 'Black Luster Soldier'\n",
       "\\item '5-Headed Dragon'\n",
       "\\item 'Exodia the Forbidden One'\n",
       "\\item 'Dragon Master Knight'\n",
       "\\end{enumerate*}\n"
      ],
      "text/markdown": [
       "**$names** = 1. 'Blue-Eyes White Dragon'\n",
       "2. 'Exodius'\n",
       "3. 'The Winged Dragon of Ra'\n",
       "4. 'Raigeki'\n",
       "5. 'Slifer the Sky Dragon'\n",
       "6. 'Obelisk the Tormentor'\n",
       "7. 'Black Luster Soldier'\n",
       "8. '5-Headed Dragon'\n",
       "9. 'Exodia the Forbidden One'\n",
       "10. 'Dragon Master Knight'\n",
       "\n",
       "\n"
      ],
      "text/plain": [
       "$names\n",
       " [1] \"Blue-Eyes White Dragon\"   \"Exodius\"                 \n",
       " [3] \"The Winged Dragon of Ra\"  \"Raigeki\"                 \n",
       " [5] \"Slifer the Sky Dragon\"    \"Obelisk the Tormentor\"   \n",
       " [7] \"Black Luster Soldier\"     \"5-Headed Dragon\"         \n",
       " [9] \"Exodia the Forbidden One\" \"Dragon Master Knight\"    \n"
      ]
     },
     "metadata": {},
     "output_type": "display_data"
    }
   ],
   "source": [
    "# Check the attributes of the atk element.\n",
    "attributes(atk)"
   ]
  },
  {
   "cell_type": "code",
   "execution_count": 56,
   "metadata": {
    "vscode": {
     "languageId": "r"
    }
   },
   "outputs": [
    {
     "name": "stdout",
     "output_type": "stream",
     "text": [
      "[1] TRUE\n"
     ]
    }
   ],
   "source": [
    "# Is there another command you can use to check if the atk object has names assigned to it?\n",
    "has_names <- !is.null(names(atk))\n",
    "has_names"
   ]
  },
  {
   "cell_type": "code",
   "execution_count": null,
   "metadata": {
    "vscode": {
     "languageId": "r"
    }
   },
   "outputs": [],
   "source": [
    "# Remove the names.\n",
    "names(atk) <- NULL"
   ]
  },
  {
   "cell_type": "code",
   "execution_count": 57,
   "metadata": {
    "vscode": {
     "languageId": "r"
    }
   },
   "outputs": [],
   "source": [
    "# Can you think of another way to assign names to the atk object?\n",
    "atk <- c(3000, NA, NA, NA, NA, 4000, 3000, 5000, 1000, 5000)\n",
    "cards <- c(\"Blue-Eyes White Dragon\", \"Exodius\", \"The Winged Dragon of Ra\", \"Raigeki\", \"Slifer the Sky Dragon\", \"Obelisk the Tormentor\", \"Black Luster Soldier\", \"5-Headed Dragon\", \"Exodia the Forbidden One\", \"Dragon Master Knight\")\n",
    "\n",
    "atk <- setNames(atk, cards)"
   ]
  },
  {
   "cell_type": "code",
   "execution_count": 58,
   "metadata": {
    "vscode": {
     "languageId": "r"
    }
   },
   "outputs": [
    {
     "data": {
      "text/html": [
       "<style>\n",
       ".dl-inline {width: auto; margin:0; padding: 0}\n",
       ".dl-inline>dt, .dl-inline>dd {float: none; width: auto; display: inline-block}\n",
       ".dl-inline>dt::after {content: \":\\0020\"; padding-right: .5ex}\n",
       ".dl-inline>dt:not(:first-of-type) {padding-left: .5ex}\n",
       "</style><dl class=dl-inline><dt>Blue-Eyes White Dragon</dt><dd>3000</dd><dt>Exodius</dt><dd>&lt;NA&gt;</dd><dt>The Winged Dragon of Ra</dt><dd>&lt;NA&gt;</dd><dt>Raigeki</dt><dd>&lt;NA&gt;</dd><dt>Slifer the Sky Dragon</dt><dd>&lt;NA&gt;</dd><dt>Obelisk the Tormentor</dt><dd>4000</dd><dt>Black Luster Soldier</dt><dd>3000</dd><dt>5-Headed Dragon</dt><dd>5000</dd><dt>Exodia the Forbidden One</dt><dd>1000</dd><dt>Dragon Master Knight</dt><dd>5000</dd></dl>\n"
      ],
      "text/latex": [
       "\\begin{description*}\n",
       "\\item[Blue-Eyes White Dragon] 3000\n",
       "\\item[Exodius] <NA>\n",
       "\\item[The Winged Dragon of Ra] <NA>\n",
       "\\item[Raigeki] <NA>\n",
       "\\item[Slifer the Sky Dragon] <NA>\n",
       "\\item[Obelisk the Tormentor] 4000\n",
       "\\item[Black Luster Soldier] 3000\n",
       "\\item[5-Headed Dragon] 5000\n",
       "\\item[Exodia the Forbidden One] 1000\n",
       "\\item[Dragon Master Knight] 5000\n",
       "\\end{description*}\n"
      ],
      "text/markdown": [
       "Blue-Eyes White Dragon\n",
       ":   3000Exodius\n",
       ":   &lt;NA&gt;The Winged Dragon of Ra\n",
       ":   &lt;NA&gt;Raigeki\n",
       ":   &lt;NA&gt;Slifer the Sky Dragon\n",
       ":   &lt;NA&gt;Obelisk the Tormentor\n",
       ":   4000Black Luster Soldier\n",
       ":   30005-Headed Dragon\n",
       ":   5000Exodia the Forbidden One\n",
       ":   1000Dragon Master Knight\n",
       ":   5000\n",
       "\n"
      ],
      "text/plain": [
       "  Blue-Eyes White Dragon                  Exodius  The Winged Dragon of Ra \n",
       "                    3000                       NA                       NA \n",
       "                 Raigeki    Slifer the Sky Dragon    Obelisk the Tormentor \n",
       "                      NA                       NA                     4000 \n",
       "    Black Luster Soldier          5-Headed Dragon Exodia the Forbidden One \n",
       "                    3000                     5000                     1000 \n",
       "    Dragon Master Knight \n",
       "                    5000 "
      ]
     },
     "metadata": {},
     "output_type": "display_data"
    }
   ],
   "source": [
    "atk"
   ]
  },
  {
   "cell_type": "code",
   "execution_count": 59,
   "metadata": {
    "vscode": {
     "languageId": "r"
    }
   },
   "outputs": [
    {
     "name": "stdout",
     "output_type": "stream",
     "text": [
      " [1]  2  4  6  8 10 12 14 16 18 20 22 24 26 28 30\n"
     ]
    }
   ],
   "source": [
    "# Create a vector s that stores the number sequence 2, 4, 6, 8, 10, 12, 14, 16, 18, 20, 22, 24, 26, 28, 30. Use the seq() command to do that.\n",
    "s <- seq(from = 2, to = 30, by = 2)\n",
    "s"
   ]
  },
  {
   "cell_type": "code",
   "execution_count": 61,
   "metadata": {
    "vscode": {
     "languageId": "r"
    }
   },
   "outputs": [
    {
     "data": {
      "text/plain": [
       "NULL"
      ]
     },
     "metadata": {},
     "output_type": "display_data"
    }
   ],
   "source": [
    "# Check the attributes of s.\n",
    "attributes(s)"
   ]
  },
  {
   "cell_type": "code",
   "execution_count": null,
   "metadata": {
    "vscode": {
     "languageId": "r"
    }
   },
   "outputs": [],
   "source": [
    "# Does it have any dimensions?\n",
    "# No, the vector s does not have any dimensions. It is a one-dimensional vector with 15 elements. When you create a vector using the seq() function, it creates a one-dimensional vector by default."
   ]
  },
  {
   "cell_type": "code",
   "execution_count": 67,
   "metadata": {
    "vscode": {
     "languageId": "r"
    }
   },
   "outputs": [
    {
     "name": "stdout",
     "output_type": "stream",
     "text": [
      "     [,1] [,2] [,3] [,4] [,5]\n",
      "[1,]    2    8   14   20   26\n",
      "[2,]    4   10   16   22   28\n",
      "[3,]    6   12   18   24   30\n"
     ]
    }
   ],
   "source": [
    "# Give it dimensions. Try specifying 3 rows and 5 columns.\n",
    "s <- seq(from = 2, to = 30, by = 2)\n",
    "dim(s) <- c(3, 5)\n",
    "s"
   ]
  },
  {
   "cell_type": "code",
   "execution_count": null,
   "metadata": {
    "vscode": {
     "languageId": "r"
    }
   },
   "outputs": [],
   "source": [
    "# What happens if we try to go beyond the traditional height and width properties and specify a value for depth, too. Let's create a hypercube that has 1 row, 3 columns and 5 \"slices\"."
   ]
  },
  {
   "cell_type": "code",
   "execution_count": 79,
   "metadata": {
    "vscode": {
     "languageId": "r"
    }
   },
   "outputs": [
    {
     "name": "stdout",
     "output_type": "stream",
     "text": [
      ", , 1\n",
      "\n",
      "     [,1] [,2] [,3]\n",
      "[1,]    2    4    6\n",
      "\n",
      ", , 2\n",
      "\n",
      "     [,1] [,2] [,3]\n",
      "[1,]    8   10   12\n",
      "\n",
      ", , 3\n",
      "\n",
      "     [,1] [,2] [,3]\n",
      "[1,]   14   16   18\n",
      "\n",
      ", , 4\n",
      "\n",
      "     [,1] [,2] [,3]\n",
      "[1,]   20   22   24\n",
      "\n",
      ", , 5\n",
      "\n",
      "     [,1] [,2] [,3]\n",
      "[1,]   26   28   30\n",
      "\n"
     ]
    }
   ],
   "source": [
    "# Try assigning the following dimensions to s: 1, 3, 5.\n",
    "s <- seq(from = 2, to = 30, by = 2)\n",
    "treedimensions <- array(s, dim = c(1, 3, 5))\n",
    "print(treedimensions)"
   ]
  },
  {
   "cell_type": "code",
   "execution_count": 80,
   "metadata": {
    "vscode": {
     "languageId": "r"
    }
   },
   "outputs": [
    {
     "name": "stdout",
     "output_type": "stream",
     "text": [
      ", , 1, 1\n",
      "\n",
      "     [,1] [,2] [,3]\n",
      "[1,]    2    4    6\n",
      "\n",
      ", , 2, 1\n",
      "\n",
      "     [,1] [,2] [,3]\n",
      "[1,]    8   10   12\n",
      "\n",
      ", , 3, 1\n",
      "\n",
      "     [,1] [,2] [,3]\n",
      "[1,]   14   16   18\n",
      "\n",
      ", , 4, 1\n",
      "\n",
      "     [,1] [,2] [,3]\n",
      "[1,]   20   22   24\n",
      "\n",
      ", , 5, 1\n",
      "\n",
      "     [,1] [,2] [,3]\n",
      "[1,]   26   28   30\n",
      "\n",
      ", , 1, 2\n",
      "\n",
      "     [,1] [,2] [,3]\n",
      "[1,]    2    4    6\n",
      "\n",
      ", , 2, 2\n",
      "\n",
      "     [,1] [,2] [,3]\n",
      "[1,]    8   10   12\n",
      "\n",
      ", , 3, 2\n",
      "\n",
      "     [,1] [,2] [,3]\n",
      "[1,]   14   16   18\n",
      "\n",
      ", , 4, 2\n",
      "\n",
      "     [,1] [,2] [,3]\n",
      "[1,]   20   22   24\n",
      "\n",
      ", , 5, 2\n",
      "\n",
      "     [,1] [,2] [,3]\n",
      "[1,]   26   28   30\n",
      "\n"
     ]
    }
   ],
   "source": [
    "# Can you do more than that? Do you think this could be useful for something?\n",
    "# Yes\n",
    "s <- seq(from = 2, to = 30, by = 2)\n",
    "\n",
    "fourdimensions <- array(s, dim = c(1, 3, 5, 2))\n",
    "print(fourdimensions)"
   ]
  },
  {
   "cell_type": "code",
   "execution_count": 81,
   "metadata": {
    "vscode": {
     "languageId": "r"
    }
   },
   "outputs": [
    {
     "name": "stdout",
     "output_type": "stream",
     "text": [
      "   Player  Piece\n",
      "1    dark   king\n",
      "2    dark  queen\n",
      "3    dark   pawn\n",
      "4    dark   pawn\n",
      "5    dark knight\n",
      "6   light bishop\n",
      "7   light   king\n",
      "8   light   rook\n",
      "9   light   pawn\n",
      "10  light   pawn\n"
     ]
    }
   ],
   "source": [
    "matrix_df <- data.frame(Player = c(\"dark\", \"dark\", \"dark\", \"dark\", \"dark\", \"light\", \"light\", \"light\", \"light\", \"light\"),\n",
    "                        Piece = c(\"king\", \"queen\", \"pawn\", \"pawn\", \"knight\", \"bishop\", \"king\", \"rook\", \"pawn\", \"pawn\"))\n",
    "print(matrix_df)"
   ]
  },
  {
   "cell_type": "code",
   "execution_count": 82,
   "metadata": {
    "vscode": {
     "languageId": "r"
    }
   },
   "outputs": [
    {
     "name": "stdout",
     "output_type": "stream",
     "text": [
      "      [,1]     [,2]    \n",
      " [1,] \"dark\"   \"dark\"  \n",
      " [2,] \"dark\"   \"dark\"  \n",
      " [3,] \"dark\"   \"light\" \n",
      " [4,] \"light\"  \"light\" \n",
      " [5,] \"light\"  \"light\" \n",
      " [6,] \"king\"   \"queen\" \n",
      " [7,] \"pawn\"   \"pawn\"  \n",
      " [8,] \"knight\" \"bishop\"\n",
      " [9,] \"king\"   \"rook\"  \n",
      "[10,] \"pawn\"   \"pawn\"  \n"
     ]
    }
   ],
   "source": [
    "matrix_mat <- matrix(c(\"dark\", \"dark\", \"dark\", \"dark\", \"dark\", \"light\", \"light\", \"light\", \"light\", \"light\",\n",
    "                       \"king\", \"queen\", \"pawn\", \"pawn\", \"knight\", \"bishop\", \"king\", \"rook\", \"pawn\", \"pawn\"),\n",
    "                     ncol = 2, byrow = TRUE)\n",
    "print(matrix_mat)"
   ]
  },
  {
   "cell_type": "code",
   "execution_count": 83,
   "metadata": {
    "vscode": {
     "languageId": "r"
    }
   },
   "outputs": [
    {
     "name": "stdout",
     "output_type": "stream",
     "text": [
      "      [,1]    [,2]    \n",
      " [1,] \"dark\"  \"king\"  \n",
      " [2,] \"dark\"  \"queen\" \n",
      " [3,] \"dark\"  \"pawn\"  \n",
      " [4,] \"dark\"  \"pawn\"  \n",
      " [5,] \"dark\"  \"knight\"\n",
      " [6,] \"light\" \"bishop\"\n",
      " [7,] \"light\" \"king\"  \n",
      " [8,] \"light\" \"rook\"  \n",
      " [9,] \"light\" \"pawn\"  \n",
      "[10,] \"light\" \"pawn\"  \n"
     ]
    }
   ],
   "source": [
    "player <- c(\"dark\", \"dark\", \"dark\", \"dark\", \"dark\", \"light\", \"light\", \"light\", \"light\", \"light\")\n",
    "piece <- c(\"king\", \"queen\", \"pawn\", \"pawn\", \"knight\", \"bishop\", \"king\", \"rook\", \"pawn\", \"pawn\")\n",
    "\n",
    "matrix_mat <- cbind(player, piece)\n",
    "dim(matrix_mat) <- c(10, 2)\n",
    "\n",
    "print(matrix_mat)"
   ]
  },
  {
   "cell_type": "code",
   "execution_count": 84,
   "metadata": {
    "vscode": {
     "languageId": "r"
    }
   },
   "outputs": [
    {
     "name": "stdout",
     "output_type": "stream",
     "text": [
      "      [,1]    [,2]    \n",
      " [1,] \"dark\"  \"king\"  \n",
      " [2,] \"dark\"  \"queen\" \n",
      " [3,] \"dark\"  \"pawn\"  \n",
      " [4,] \"dark\"  \"pawn\"  \n",
      " [5,] \"dark\"  \"knight\"\n",
      " [6,] \"light\" \"bishop\"\n",
      " [7,] \"light\" \"king\"  \n",
      " [8,] \"light\" \"rook\"  \n",
      " [9,] \"light\" \"pawn\"  \n",
      "[10,] \"light\" \"pawn\"  \n"
     ]
    }
   ],
   "source": [
    "player_piece <- c(\"dark\", \"king\", \"dark\", \"queen\", \"dark\", \"pawn\", \"dark\", \"pawn\", \"dark\", \"knight\", \"light\", \"bishop\", \"light\", \"king\", \"light\", \"rook\", \"light\", \"pawn\", \"light\", \"pawn\")\n",
    "matrix_mat <- matrix(player_piece, ncol = 2, byrow = TRUE)\n",
    "\n",
    "print(matrix_mat)"
   ]
  },
  {
   "cell_type": "code",
   "execution_count": 85,
   "metadata": {
    "vscode": {
     "languageId": "r"
    }
   },
   "outputs": [
    {
     "name": "stdout",
     "output_type": "stream",
     "text": [
      "      Player  Piece   \n",
      " [1,] \"dark\"  \"king\"  \n",
      " [2,] \"dark\"  \"queen\" \n",
      " [3,] \"dark\"  \"pawn\"  \n",
      " [4,] \"dark\"  \"pawn\"  \n",
      " [5,] \"dark\"  \"knight\"\n",
      " [6,] \"light\" \"bishop\"\n",
      " [7,] \"light\" \"king\"  \n",
      " [8,] \"light\" \"rook\"  \n",
      " [9,] \"light\" \"pawn\"  \n",
      "[10,] \"light\" \"pawn\"  \n"
     ]
    }
   ],
   "source": [
    "player_piece <- c(\"dark\", \"king\", \"dark\", \"queen\", \"dark\", \"pawn\", \"dark\", \"pawn\", \"dark\", \"knight\", \"light\", \"bishop\", \"light\", \"king\", \"light\", \"rook\", \"light\", \"pawn\", \"light\", \"pawn\")\n",
    "matrix_mat <- matrix(player_piece, ncol = 2, byrow = TRUE)\n",
    "dimnames(matrix_mat) <- list(NULL, c(\"Player\", \"Piece\"))\n",
    "\n",
    "print(matrix_mat)\n"
   ]
  },
  {
   "cell_type": "code",
   "execution_count": 86,
   "metadata": {
    "vscode": {
     "languageId": "r"
    }
   },
   "outputs": [
    {
     "name": "stdout",
     "output_type": "stream",
     "text": [
      "   Player  Piece   \n",
      "1  \"dark\"  \"king\"  \n",
      "2  \"dark\"  \"queen\" \n",
      "3  \"dark\"  \"pawn\"  \n",
      "4  \"dark\"  \"pawn\"  \n",
      "5  \"dark\"  \"knight\"\n",
      "6  \"light\" \"bishop\"\n",
      "7  \"light\" \"king\"  \n",
      "8  \"light\" \"rook\"  \n",
      "9  \"light\" \"pawn\"  \n",
      "10 \"light\" \"pawn\"  \n"
     ]
    }
   ],
   "source": [
    "player_piece <- c(\"dark\", \"king\", \"dark\", \"queen\", \"dark\", \"pawn\", \"dark\", \"pawn\", \"dark\", \"knight\", \"light\", \"bishop\", \"light\", \"king\", \"light\", \"rook\", \"light\", \"pawn\", \"light\", \"pawn\")\n",
    "matrix_mat <- matrix(player_piece, ncol = 2, byrow = TRUE)\n",
    "colnames(matrix_mat) <- c(\"Player\", \"Piece\")\n",
    "rownames(matrix_mat) <- 1:nrow(matrix_mat)\n",
    "\n",
    "print(matrix_mat)\n"
   ]
  },
  {
   "cell_type": "code",
   "execution_count": 87,
   "metadata": {
    "vscode": {
     "languageId": "r"
    }
   },
   "outputs": [
    {
     "name": "stdout",
     "output_type": "stream",
     "text": [
      "      Player   Piece   \n",
      " [1,] \"Player\" \"Piece\" \n",
      " [2,] \"dark\"   \"king\"  \n",
      " [3,] \"dark\"   \"queen\" \n",
      " [4,] \"dark\"   \"pawn\"  \n",
      " [5,] \"dark\"   \"pawn\"  \n",
      " [6,] \"dark\"   \"knight\"\n",
      " [7,] \"light\"  \"bishop\"\n",
      " [8,] \"light\"  \"king\"  \n",
      " [9,] \"light\"  \"rook\"  \n",
      "[10,] \"light\"  \"pawn\"  \n",
      "[11,] \"light\"  \"pawn\"  \n"
     ]
    }
   ],
   "source": [
    "player_piece <- c(\"dark\", \"king\", \"dark\", \"queen\", \"dark\", \"pawn\", \"dark\", \"pawn\", \"dark\", \"knight\", \"light\", \"bishop\", \"light\", \"king\", \"light\", \"rook\", \"light\", \"pawn\", \"light\", \"pawn\")\n",
    "matrix_mat <- matrix(player_piece, ncol = 2, byrow = TRUE)\n",
    "\n",
    "names_mat <- matrix(c(\"Player\", \"Piece\"), ncol = 2, dimnames = list(NULL, c(\"Player\", \"Piece\")))\n",
    "\n",
    "matrix_with_names <- rbind(names_mat, matrix_mat)\n",
    "\n",
    "print(matrix_with_names)\n"
   ]
  },
  {
   "cell_type": "code",
   "execution_count": 89,
   "metadata": {
    "vscode": {
     "languageId": "r"
    }
   },
   "outputs": [
    {
     "name": "stdout",
     "output_type": "stream",
     "text": [
      "      [,1]    [,2]    \n",
      " [1,] \"dark\"  \"king\"  \n",
      " [2,] \"dark\"  \"queen\" \n",
      " [3,] \"dark\"  \"pawn\"  \n",
      " [4,] \"dark\"  \"pawn\"  \n",
      " [5,] \"dark\"  \"knight\"\n",
      " [6,] \"light\" \"bishop\"\n",
      " [7,] \"light\" \"king\"  \n",
      " [8,] \"light\" \"rook\"  \n",
      " [9,] \"light\" \"pawn\"  \n",
      "[10,] \"light\" \"pawn\"  \n"
     ]
    }
   ],
   "source": [
    "add_row <- function(matrix_mat) {\n",
    "  player <- readline(\"Enter player: \")\n",
    "  piece <- readline(\"Enter piece: \")\n",
    "  new_row <- c(player, piece)\n",
    "  matrix_mat <- rbind(matrix_mat, new_row)\n",
    "  return(matrix_mat)\n",
    "}\n",
    "\n",
    "# Example usage\n",
    "matrix_mat <- matrix(c(\"dark\", \"king\", \"dark\", \"queen\", \"dark\", \"pawn\", \"dark\", \"pawn\", \"dark\", \"knight\", \"light\", \"bishop\", \"light\", \"king\", \"light\", \"rook\", \"light\", \"pawn\", \"light\", \"pawn\"), ncol = 2, byrow = TRUE)\n",
    "print(matrix_mat)"
   ]
  },
  {
   "cell_type": "code",
   "execution_count": 90,
   "metadata": {
    "vscode": {
     "languageId": "r"
    }
   },
   "outputs": [
    {
     "name": "stdout",
     "output_type": "stream",
     "text": [
      "        [,1]    [,2]    \n",
      "        \"dark\"  \"king\"  \n",
      "        \"dark\"  \"queen\" \n",
      "        \"dark\"  \"pawn\"  \n",
      "        \"dark\"  \"pawn\"  \n",
      "        \"dark\"  \"knight\"\n",
      "        \"light\" \"bishop\"\n",
      "        \"light\" \"king\"  \n",
      "        \"light\" \"rook\"  \n",
      "        \"light\" \"pawn\"  \n",
      "        \"light\" \"pawn\"  \n",
      "new_row \"\"      \"\"      \n"
     ]
    }
   ],
   "source": [
    "matrix_mat <- add_row(matrix_mat)\n",
    "print(matrix_mat)"
   ]
  }
 ],
 "metadata": {
  "kernelspec": {
   "display_name": "R",
   "language": "R",
   "name": "ir"
  },
  "language_info": {
   "codemirror_mode": "r",
   "file_extension": ".r",
   "mimetype": "text/x-r-source",
   "name": "R",
   "pygments_lexer": "r",
   "version": "4.3.1"
  },
  "orig_nbformat": 4
 },
 "nbformat": 4,
 "nbformat_minor": 2
}
