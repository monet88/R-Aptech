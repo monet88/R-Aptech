{
 "cells": [
  {
   "cell_type": "code",
   "execution_count": 1,
   "metadata": {
    "vscode": {
     "languageId": "r"
    }
   },
   "outputs": [
    {
     "name": "stdout",
     "output_type": "stream",
     "text": [
      "character(0)\n"
     ]
    }
   ],
   "source": [
    "object_list <- ls()\n",
    "print(object_list)"
   ]
  },
  {
   "cell_type": "code",
   "execution_count": 3,
   "metadata": {
    "vscode": {
     "languageId": "r"
    }
   },
   "outputs": [
    {
     "data": {
      "text/html": [
       "<style>\n",
       ".list-inline {list-style: none; margin:0; padding: 0}\n",
       ".list-inline>li {display: inline-block}\n",
       ".list-inline>li:not(:last-child)::after {content: \"\\00b7\"; padding: 0 .5ex}\n",
       "</style>\n",
       "<ol class=list-inline><li>8</li><li>10</li><li>10</li><li>1</li><li>10</li><li>10</li><li>8</li><li>12</li><li>1</li><li>12</li></ol>\n"
      ],
      "text/latex": [
       "\\begin{enumerate*}\n",
       "\\item 8\n",
       "\\item 10\n",
       "\\item 10\n",
       "\\item 1\n",
       "\\item 10\n",
       "\\item 10\n",
       "\\item 8\n",
       "\\item 12\n",
       "\\item 1\n",
       "\\item 12\n",
       "\\end{enumerate*}\n"
      ],
      "text/markdown": [
       "1. 8\n",
       "2. 10\n",
       "3. 10\n",
       "4. 1\n",
       "5. 10\n",
       "6. 10\n",
       "7. 8\n",
       "8. 12\n",
       "9. 1\n",
       "10. 12\n",
       "\n",
       "\n"
      ],
      "text/plain": [
       " [1]  8 10 10  1 10 10  8 12  1 12"
      ]
     },
     "metadata": {},
     "output_type": "display_data"
    }
   ],
   "source": [
    "# Create a variable called lvl that contains the following values:  8, 10, 10, 1, 10, 10, 8, 12, 1, 12.\n",
    "lvl <- c(8, 10, 10, 1, 10, 10, 8, 12, 1, 12)\n",
    "lvl"
   ]
  },
  {
   "cell_type": "code",
   "execution_count": 4,
   "metadata": {
    "vscode": {
     "languageId": "r"
    }
   },
   "outputs": [
    {
     "name": "stdout",
     "output_type": "stream",
     "text": [
      "[1] 82\n"
     ]
    }
   ],
   "source": [
    "#Find the sum of the elements in lvl\n",
    "sum_lvl <- sum(lvl)\n",
    "print(sum_lvl)"
   ]
  },
  {
   "cell_type": "code",
   "execution_count": 5,
   "metadata": {
    "vscode": {
     "languageId": "r"
    }
   },
   "outputs": [
    {
     "name": "stdout",
     "output_type": "stream",
     "text": [
      "[1] 8.2\n"
     ]
    }
   ],
   "source": [
    "#Find the average of the elements in lvl\n",
    "avg_lvl <- mean(lvl)\n",
    "print(avg_lvl)"
   ]
  },
  {
   "cell_type": "code",
   "execution_count": 6,
   "metadata": {
    "vscode": {
     "languageId": "r"
    }
   },
   "outputs": [
    {
     "name": "stdout",
     "output_type": "stream",
     "text": [
      "[1] 10\n"
     ]
    }
   ],
   "source": [
    "#Find the median value (the middle value) of the elements in lvl\n",
    "median_lvl <- median(lvl)\n",
    "print(median_lvl)"
   ]
  },
  {
   "cell_type": "code",
   "execution_count": 7,
   "metadata": {
    "vscode": {
     "languageId": "r"
    }
   },
   "outputs": [
    {
     "name": "stdout",
     "output_type": "stream",
     "text": [
      "[1] 10\n"
     ]
    }
   ],
   "source": [
    "#Get R to return the length of the lvl variable\n",
    "length_lvl <- length(lvl)\n",
    "print(length_lvl)"
   ]
  },
  {
   "cell_type": "code",
   "execution_count": 8,
   "metadata": {
    "vscode": {
     "languageId": "r"
    }
   },
   "outputs": [
    {
     "name": "stdout",
     "output_type": "stream",
     "text": [
      "[1] 4.022161\n"
     ]
    }
   ],
   "source": [
    "#Find the standard deviation of the values in lvl\n",
    "sd_lvl <- sd(lvl)\n",
    "print(sd_lvl)"
   ]
  },
  {
   "cell_type": "code",
   "execution_count": 9,
   "metadata": {
    "vscode": {
     "languageId": "r"
    }
   },
   "outputs": [
    {
     "name": "stdout",
     "output_type": "stream",
     "text": [
      "[1] 4\n"
     ]
    }
   ],
   "source": [
    "#Find the standard deviation of the elements in lvl, then round it; do it in a single command\n",
    "rounded_sd_lvl <- round(sd(lvl))\n",
    "print(rounded_sd_lvl)\n"
   ]
  },
  {
   "cell_type": "code",
   "execution_count": 10,
   "metadata": {
    "vscode": {
     "languageId": "r"
    }
   },
   "outputs": [
    {
     "name": "stdout",
     "output_type": "stream",
     "text": [
      "[1] 4\n"
     ]
    }
   ],
   "source": [
    "#Find the standard deviation of the elements in lvl, then round it, then specifically ask R to print it; do it in a single command\n",
    "print(round(sd(lvl)))"
   ]
  },
  {
   "cell_type": "code",
   "execution_count": 21,
   "metadata": {
    "vscode": {
     "languageId": "r"
    }
   },
   "outputs": [
    {
     "data": {
      "text/html": [
       "<style>\n",
       ".list-inline {list-style: none; margin:0; padding: 0}\n",
       ".list-inline>li {display: inline-block}\n",
       ".list-inline>li:not(:last-child)::after {content: \"\\00b7\"; padding: 0 .5ex}\n",
       "</style>\n",
       "<ol class=list-inline><li>9</li><li>2</li><li>11</li><li>12</li><li>10</li></ol>\n"
      ],
      "text/latex": [
       "\\begin{enumerate*}\n",
       "\\item 9\n",
       "\\item 2\n",
       "\\item 11\n",
       "\\item 12\n",
       "\\item 10\n",
       "\\end{enumerate*}\n"
      ],
      "text/markdown": [
       "1. 9\n",
       "2. 2\n",
       "3. 11\n",
       "4. 12\n",
       "5. 10\n",
       "\n",
       "\n"
      ],
      "text/plain": [
       "[1]  9  2 11 12 10"
      ]
     },
     "metadata": {},
     "output_type": "display_data"
    }
   ],
   "source": [
    "  x <- 1:12\n",
    "  sample(x, 5, replace = FALSE)"
   ]
  },
  {
   "cell_type": "code",
   "execution_count": 22,
   "metadata": {
    "vscode": {
     "languageId": "r"
    }
   },
   "outputs": [
    {
     "name": "stdout",
     "output_type": "stream",
     "text": [
      "[1] 10\n"
     ]
    }
   ],
   "source": [
    "# Find out what arguments the median function takes. While calling the median for the lvl object, try setting the na.rm = argument to TRUE.\n",
    "median_lvl <- median(lvl, na.rm = TRUE)\n",
    "print(median_lvl)\n"
   ]
  },
  {
   "cell_type": "code",
   "execution_count": null,
   "metadata": {
    "vscode": {
     "languageId": "r"
    }
   },
   "outputs": [],
   "source": [
    "# Does R return a different value from the one when na.rm = is set to FALSE (NB: the default value for the na.rm = argument is FALSE; this means that whenever we do not explicitly specify that it must be set to TRUE, it is set to FALSE?\n",
    "\n",
    "# Yes, when the na.rm argument of a function in R is set to FALSE (which is the default value if not specified), it means that the function will not remove any missing values (NA) from the calculation."
   ]
  },
  {
   "cell_type": "code",
   "execution_count": 25,
   "metadata": {
    "vscode": {
     "languageId": "r"
    }
   },
   "outputs": [
    {
     "name": "stdout",
     "output_type": "stream",
     "text": [
      "[1] 3500\n"
     ]
    }
   ],
   "source": [
    "atk <- c(3000, NA, NA, NA, NA, 4000, 3000, 5000, 1000, 5000)\n",
    "median_lvl <- median(atk, na.rm = TRUE)\n",
    "print(median_lvl)"
   ]
  },
  {
   "cell_type": "code",
   "execution_count": null,
   "metadata": {
    "vscode": {
     "languageId": "r"
    }
   },
   "outputs": [],
   "source": [
    "# The output may be different from the median calculation without removing missing values. The reason is that when you include na.rm = TRUE, any missing values in the atk variable will be ignored, and the median will be calculated based on the non-missing values only."
   ]
  },
  {
   "cell_type": "code",
   "execution_count": 32,
   "metadata": {
    "vscode": {
     "languageId": "r"
    }
   },
   "outputs": [
    {
     "data": {
      "text/html": [
       "<style>\n",
       ".list-inline {list-style: none; margin:0; padding: 0}\n",
       ".list-inline>li {display: inline-block}\n",
       ".list-inline>li:not(:last-child)::after {content: \"\\00b7\"; padding: 0 .5ex}\n",
       "</style>\n",
       "<ol class=list-inline><li>'Duke'</li><li>'Captain'</li><li>'Captain'</li></ol>\n"
      ],
      "text/latex": [
       "\\begin{enumerate*}\n",
       "\\item 'Duke'\n",
       "\\item 'Captain'\n",
       "\\item 'Captain'\n",
       "\\end{enumerate*}\n"
      ],
      "text/markdown": [
       "1. 'Duke'\n",
       "2. 'Captain'\n",
       "3. 'Captain'\n",
       "\n",
       "\n"
      ],
      "text/plain": [
       "[1] \"Duke\"    \"Captain\" \"Captain\""
      ]
     },
     "metadata": {},
     "output_type": "display_data"
    }
   ],
   "source": [
    "draw <- function(){\n",
    "    deck <- c(\"Duke\", \"Assassin\", \"Captain\", \"Ambassador\", \"Contessa\")\n",
    "    hand <- sample(deck, size=3, replace = T)\n",
    "    return(hand)\n",
    "    }\n",
    "draw()"
   ]
  },
  {
   "cell_type": "code",
   "execution_count": 35,
   "metadata": {
    "vscode": {
     "languageId": "r"
    }
   },
   "outputs": [
    {
     "data": {
      "text/html": [
       "<style>\n",
       ".list-inline {list-style: none; margin:0; padding: 0}\n",
       ".list-inline>li {display: inline-block}\n",
       ".list-inline>li:not(:last-child)::after {content: \"\\00b7\"; padding: 0 .5ex}\n",
       "</style>\n",
       "<ol class=list-inline><li>'Tails'</li><li>'Tails'</li><li>'Heads'</li><li>'Tails'</li><li>'Heads'</li><li>'Tails'</li><li>'Tails'</li><li>'Tails'</li><li>'Tails'</li><li>'Heads'</li><li>'Heads'</li><li>'Tails'</li><li>'Tails'</li><li>'Heads'</li><li>'Tails'</li><li>'Heads'</li><li>'Tails'</li><li>'Tails'</li><li>'Heads'</li><li>'Heads'</li><li>'Heads'</li><li>'Tails'</li><li>'Heads'</li><li>'Tails'</li><li>'Tails'</li><li>'Heads'</li><li>'Heads'</li><li>'Heads'</li><li>'Heads'</li><li>'Heads'</li><li>'Heads'</li><li>'Tails'</li><li>'Tails'</li><li>'Heads'</li><li>'Heads'</li><li>'Heads'</li><li>'Heads'</li><li>'Tails'</li><li>'Tails'</li><li>'Tails'</li><li>'Tails'</li><li>'Tails'</li><li>'Tails'</li><li>'Tails'</li><li>'Tails'</li><li>'Heads'</li><li>'Heads'</li><li>'Tails'</li><li>'Tails'</li><li>'Heads'</li><li>'Tails'</li><li>'Tails'</li><li>'Tails'</li><li>'Tails'</li><li>'Heads'</li><li>'Tails'</li><li>'Tails'</li><li>'Tails'</li><li>'Tails'</li><li>'Tails'</li><li>'Tails'</li><li>'Tails'</li><li>'Heads'</li><li>'Heads'</li><li>'Heads'</li><li>'Heads'</li><li>'Tails'</li><li>'Tails'</li><li>'Tails'</li><li>'Heads'</li><li>'Heads'</li><li>'Tails'</li><li>'Heads'</li><li>'Tails'</li><li>'Heads'</li><li>'Tails'</li><li>'Heads'</li><li>'Heads'</li><li>'Heads'</li><li>'Heads'</li><li>'Tails'</li><li>'Tails'</li><li>'Tails'</li><li>'Heads'</li><li>'Tails'</li><li>'Tails'</li><li>'Heads'</li><li>'Tails'</li><li>'Heads'</li><li>'Heads'</li><li>'Tails'</li><li>'Heads'</li><li>'Heads'</li><li>'Heads'</li><li>'Heads'</li><li>'Heads'</li><li>'Tails'</li><li>'Heads'</li><li>'Tails'</li><li>'Tails'</li></ol>\n"
      ],
      "text/latex": [
       "\\begin{enumerate*}\n",
       "\\item 'Tails'\n",
       "\\item 'Tails'\n",
       "\\item 'Heads'\n",
       "\\item 'Tails'\n",
       "\\item 'Heads'\n",
       "\\item 'Tails'\n",
       "\\item 'Tails'\n",
       "\\item 'Tails'\n",
       "\\item 'Tails'\n",
       "\\item 'Heads'\n",
       "\\item 'Heads'\n",
       "\\item 'Tails'\n",
       "\\item 'Tails'\n",
       "\\item 'Heads'\n",
       "\\item 'Tails'\n",
       "\\item 'Heads'\n",
       "\\item 'Tails'\n",
       "\\item 'Tails'\n",
       "\\item 'Heads'\n",
       "\\item 'Heads'\n",
       "\\item 'Heads'\n",
       "\\item 'Tails'\n",
       "\\item 'Heads'\n",
       "\\item 'Tails'\n",
       "\\item 'Tails'\n",
       "\\item 'Heads'\n",
       "\\item 'Heads'\n",
       "\\item 'Heads'\n",
       "\\item 'Heads'\n",
       "\\item 'Heads'\n",
       "\\item 'Heads'\n",
       "\\item 'Tails'\n",
       "\\item 'Tails'\n",
       "\\item 'Heads'\n",
       "\\item 'Heads'\n",
       "\\item 'Heads'\n",
       "\\item 'Heads'\n",
       "\\item 'Tails'\n",
       "\\item 'Tails'\n",
       "\\item 'Tails'\n",
       "\\item 'Tails'\n",
       "\\item 'Tails'\n",
       "\\item 'Tails'\n",
       "\\item 'Tails'\n",
       "\\item 'Tails'\n",
       "\\item 'Heads'\n",
       "\\item 'Heads'\n",
       "\\item 'Tails'\n",
       "\\item 'Tails'\n",
       "\\item 'Heads'\n",
       "\\item 'Tails'\n",
       "\\item 'Tails'\n",
       "\\item 'Tails'\n",
       "\\item 'Tails'\n",
       "\\item 'Heads'\n",
       "\\item 'Tails'\n",
       "\\item 'Tails'\n",
       "\\item 'Tails'\n",
       "\\item 'Tails'\n",
       "\\item 'Tails'\n",
       "\\item 'Tails'\n",
       "\\item 'Tails'\n",
       "\\item 'Heads'\n",
       "\\item 'Heads'\n",
       "\\item 'Heads'\n",
       "\\item 'Heads'\n",
       "\\item 'Tails'\n",
       "\\item 'Tails'\n",
       "\\item 'Tails'\n",
       "\\item 'Heads'\n",
       "\\item 'Heads'\n",
       "\\item 'Tails'\n",
       "\\item 'Heads'\n",
       "\\item 'Tails'\n",
       "\\item 'Heads'\n",
       "\\item 'Tails'\n",
       "\\item 'Heads'\n",
       "\\item 'Heads'\n",
       "\\item 'Heads'\n",
       "\\item 'Heads'\n",
       "\\item 'Tails'\n",
       "\\item 'Tails'\n",
       "\\item 'Tails'\n",
       "\\item 'Heads'\n",
       "\\item 'Tails'\n",
       "\\item 'Tails'\n",
       "\\item 'Heads'\n",
       "\\item 'Tails'\n",
       "\\item 'Heads'\n",
       "\\item 'Heads'\n",
       "\\item 'Tails'\n",
       "\\item 'Heads'\n",
       "\\item 'Heads'\n",
       "\\item 'Heads'\n",
       "\\item 'Heads'\n",
       "\\item 'Heads'\n",
       "\\item 'Tails'\n",
       "\\item 'Heads'\n",
       "\\item 'Tails'\n",
       "\\item 'Tails'\n",
       "\\end{enumerate*}\n"
      ],
      "text/markdown": [
       "1. 'Tails'\n",
       "2. 'Tails'\n",
       "3. 'Heads'\n",
       "4. 'Tails'\n",
       "5. 'Heads'\n",
       "6. 'Tails'\n",
       "7. 'Tails'\n",
       "8. 'Tails'\n",
       "9. 'Tails'\n",
       "10. 'Heads'\n",
       "11. 'Heads'\n",
       "12. 'Tails'\n",
       "13. 'Tails'\n",
       "14. 'Heads'\n",
       "15. 'Tails'\n",
       "16. 'Heads'\n",
       "17. 'Tails'\n",
       "18. 'Tails'\n",
       "19. 'Heads'\n",
       "20. 'Heads'\n",
       "21. 'Heads'\n",
       "22. 'Tails'\n",
       "23. 'Heads'\n",
       "24. 'Tails'\n",
       "25. 'Tails'\n",
       "26. 'Heads'\n",
       "27. 'Heads'\n",
       "28. 'Heads'\n",
       "29. 'Heads'\n",
       "30. 'Heads'\n",
       "31. 'Heads'\n",
       "32. 'Tails'\n",
       "33. 'Tails'\n",
       "34. 'Heads'\n",
       "35. 'Heads'\n",
       "36. 'Heads'\n",
       "37. 'Heads'\n",
       "38. 'Tails'\n",
       "39. 'Tails'\n",
       "40. 'Tails'\n",
       "41. 'Tails'\n",
       "42. 'Tails'\n",
       "43. 'Tails'\n",
       "44. 'Tails'\n",
       "45. 'Tails'\n",
       "46. 'Heads'\n",
       "47. 'Heads'\n",
       "48. 'Tails'\n",
       "49. 'Tails'\n",
       "50. 'Heads'\n",
       "51. 'Tails'\n",
       "52. 'Tails'\n",
       "53. 'Tails'\n",
       "54. 'Tails'\n",
       "55. 'Heads'\n",
       "56. 'Tails'\n",
       "57. 'Tails'\n",
       "58. 'Tails'\n",
       "59. 'Tails'\n",
       "60. 'Tails'\n",
       "61. 'Tails'\n",
       "62. 'Tails'\n",
       "63. 'Heads'\n",
       "64. 'Heads'\n",
       "65. 'Heads'\n",
       "66. 'Heads'\n",
       "67. 'Tails'\n",
       "68. 'Tails'\n",
       "69. 'Tails'\n",
       "70. 'Heads'\n",
       "71. 'Heads'\n",
       "72. 'Tails'\n",
       "73. 'Heads'\n",
       "74. 'Tails'\n",
       "75. 'Heads'\n",
       "76. 'Tails'\n",
       "77. 'Heads'\n",
       "78. 'Heads'\n",
       "79. 'Heads'\n",
       "80. 'Heads'\n",
       "81. 'Tails'\n",
       "82. 'Tails'\n",
       "83. 'Tails'\n",
       "84. 'Heads'\n",
       "85. 'Tails'\n",
       "86. 'Tails'\n",
       "87. 'Heads'\n",
       "88. 'Tails'\n",
       "89. 'Heads'\n",
       "90. 'Heads'\n",
       "91. 'Tails'\n",
       "92. 'Heads'\n",
       "93. 'Heads'\n",
       "94. 'Heads'\n",
       "95. 'Heads'\n",
       "96. 'Heads'\n",
       "97. 'Tails'\n",
       "98. 'Heads'\n",
       "99. 'Tails'\n",
       "100. 'Tails'\n",
       "\n",
       "\n"
      ],
      "text/plain": [
       "  [1] \"Tails\" \"Tails\" \"Heads\" \"Tails\" \"Heads\" \"Tails\" \"Tails\" \"Tails\" \"Tails\"\n",
       " [10] \"Heads\" \"Heads\" \"Tails\" \"Tails\" \"Heads\" \"Tails\" \"Heads\" \"Tails\" \"Tails\"\n",
       " [19] \"Heads\" \"Heads\" \"Heads\" \"Tails\" \"Heads\" \"Tails\" \"Tails\" \"Heads\" \"Heads\"\n",
       " [28] \"Heads\" \"Heads\" \"Heads\" \"Heads\" \"Tails\" \"Tails\" \"Heads\" \"Heads\" \"Heads\"\n",
       " [37] \"Heads\" \"Tails\" \"Tails\" \"Tails\" \"Tails\" \"Tails\" \"Tails\" \"Tails\" \"Tails\"\n",
       " [46] \"Heads\" \"Heads\" \"Tails\" \"Tails\" \"Heads\" \"Tails\" \"Tails\" \"Tails\" \"Tails\"\n",
       " [55] \"Heads\" \"Tails\" \"Tails\" \"Tails\" \"Tails\" \"Tails\" \"Tails\" \"Tails\" \"Heads\"\n",
       " [64] \"Heads\" \"Heads\" \"Heads\" \"Tails\" \"Tails\" \"Tails\" \"Heads\" \"Heads\" \"Tails\"\n",
       " [73] \"Heads\" \"Tails\" \"Heads\" \"Tails\" \"Heads\" \"Heads\" \"Heads\" \"Heads\" \"Tails\"\n",
       " [82] \"Tails\" \"Tails\" \"Heads\" \"Tails\" \"Tails\" \"Heads\" \"Tails\" \"Heads\" \"Heads\"\n",
       " [91] \"Tails\" \"Heads\" \"Heads\" \"Heads\" \"Heads\" \"Heads\" \"Tails\" \"Heads\" \"Tails\"\n",
       "[100] \"Tails\""
      ]
     },
     "metadata": {},
     "output_type": "display_data"
    }
   ],
   "source": [
    "# Following the schema laid out there, write a function that flips a coin 100 times.\n",
    "flip_coin <- function() {\n",
    "  outcomes <- c(\"Heads\", \"Tails\")\n",
    "  flips <- sample(outcomes, size = 100, replace = T)\n",
    "  return(flips)\n",
    "}\n",
    "\n",
    "flip_coin()"
   ]
  },
  {
   "cell_type": "code",
   "execution_count": 37,
   "metadata": {
    "vscode": {
     "languageId": "r"
    }
   },
   "outputs": [
    {
     "data": {
      "text/html": [
       "<style>\n",
       ".list-inline {list-style: none; margin:0; padding: 0}\n",
       ".list-inline>li {display: inline-block}\n",
       ".list-inline>li:not(:last-child)::after {content: \"\\00b7\"; padding: 0 .5ex}\n",
       "</style>\n",
       "<ol class=list-inline><li>'Tails'</li><li>'Tails'</li><li>'Tails'</li><li>'Tails'</li><li>'Tails'</li><li>'Heads'</li><li>'Tails'</li><li>'Tails'</li><li>'Tails'</li><li>'Heads'</li><li>'Tails'</li><li>'Heads'</li><li>'Tails'</li><li>'Heads'</li><li>'Tails'</li><li>'Tails'</li><li>'Tails'</li><li>'Tails'</li><li>'Tails'</li><li>'Tails'</li><li>'Tails'</li><li>'Tails'</li><li>'Tails'</li><li>'Heads'</li><li>'Tails'</li><li>'Tails'</li><li>'Heads'</li><li>'Heads'</li><li>'Tails'</li><li>'Heads'</li><li>'Heads'</li><li>'Heads'</li><li>'Heads'</li><li>'Heads'</li><li>'Tails'</li><li>'Heads'</li><li>'Tails'</li><li>'Tails'</li><li>'Tails'</li><li>'Tails'</li><li>'Heads'</li><li>'Tails'</li><li>'Tails'</li><li>'Heads'</li><li>'Tails'</li><li>'Tails'</li><li>'Tails'</li><li>'Tails'</li><li>'Tails'</li><li>'Heads'</li><li>'Heads'</li><li>'Tails'</li><li>'Tails'</li><li>'Tails'</li><li>'Tails'</li><li>'Heads'</li><li>'Tails'</li><li>'Tails'</li><li>'Tails'</li><li>'Tails'</li><li>'Tails'</li><li>'Tails'</li><li>'Tails'</li><li>'Heads'</li><li>'Tails'</li><li>'Tails'</li><li>'Tails'</li><li>'Tails'</li><li>'Tails'</li><li>'Heads'</li><li>'Tails'</li><li>'Heads'</li><li>'Heads'</li><li>'Tails'</li><li>'Heads'</li><li>'Tails'</li><li>'Heads'</li><li>'Tails'</li><li>'Tails'</li><li>'Tails'</li><li>'Tails'</li><li>'Heads'</li><li>'Tails'</li><li>'Tails'</li><li>'Tails'</li><li>'Tails'</li><li>'Heads'</li><li>'Heads'</li><li>'Heads'</li><li>'Tails'</li><li>'Tails'</li><li>'Heads'</li><li>'Tails'</li><li>'Tails'</li><li>'Tails'</li><li>'Heads'</li><li>'Heads'</li><li>'Tails'</li><li>'Tails'</li><li>'Tails'</li></ol>\n"
      ],
      "text/latex": [
       "\\begin{enumerate*}\n",
       "\\item 'Tails'\n",
       "\\item 'Tails'\n",
       "\\item 'Tails'\n",
       "\\item 'Tails'\n",
       "\\item 'Tails'\n",
       "\\item 'Heads'\n",
       "\\item 'Tails'\n",
       "\\item 'Tails'\n",
       "\\item 'Tails'\n",
       "\\item 'Heads'\n",
       "\\item 'Tails'\n",
       "\\item 'Heads'\n",
       "\\item 'Tails'\n",
       "\\item 'Heads'\n",
       "\\item 'Tails'\n",
       "\\item 'Tails'\n",
       "\\item 'Tails'\n",
       "\\item 'Tails'\n",
       "\\item 'Tails'\n",
       "\\item 'Tails'\n",
       "\\item 'Tails'\n",
       "\\item 'Tails'\n",
       "\\item 'Tails'\n",
       "\\item 'Heads'\n",
       "\\item 'Tails'\n",
       "\\item 'Tails'\n",
       "\\item 'Heads'\n",
       "\\item 'Heads'\n",
       "\\item 'Tails'\n",
       "\\item 'Heads'\n",
       "\\item 'Heads'\n",
       "\\item 'Heads'\n",
       "\\item 'Heads'\n",
       "\\item 'Heads'\n",
       "\\item 'Tails'\n",
       "\\item 'Heads'\n",
       "\\item 'Tails'\n",
       "\\item 'Tails'\n",
       "\\item 'Tails'\n",
       "\\item 'Tails'\n",
       "\\item 'Heads'\n",
       "\\item 'Tails'\n",
       "\\item 'Tails'\n",
       "\\item 'Heads'\n",
       "\\item 'Tails'\n",
       "\\item 'Tails'\n",
       "\\item 'Tails'\n",
       "\\item 'Tails'\n",
       "\\item 'Tails'\n",
       "\\item 'Heads'\n",
       "\\item 'Heads'\n",
       "\\item 'Tails'\n",
       "\\item 'Tails'\n",
       "\\item 'Tails'\n",
       "\\item 'Tails'\n",
       "\\item 'Heads'\n",
       "\\item 'Tails'\n",
       "\\item 'Tails'\n",
       "\\item 'Tails'\n",
       "\\item 'Tails'\n",
       "\\item 'Tails'\n",
       "\\item 'Tails'\n",
       "\\item 'Tails'\n",
       "\\item 'Heads'\n",
       "\\item 'Tails'\n",
       "\\item 'Tails'\n",
       "\\item 'Tails'\n",
       "\\item 'Tails'\n",
       "\\item 'Tails'\n",
       "\\item 'Heads'\n",
       "\\item 'Tails'\n",
       "\\item 'Heads'\n",
       "\\item 'Heads'\n",
       "\\item 'Tails'\n",
       "\\item 'Heads'\n",
       "\\item 'Tails'\n",
       "\\item 'Heads'\n",
       "\\item 'Tails'\n",
       "\\item 'Tails'\n",
       "\\item 'Tails'\n",
       "\\item 'Tails'\n",
       "\\item 'Heads'\n",
       "\\item 'Tails'\n",
       "\\item 'Tails'\n",
       "\\item 'Tails'\n",
       "\\item 'Tails'\n",
       "\\item 'Heads'\n",
       "\\item 'Heads'\n",
       "\\item 'Heads'\n",
       "\\item 'Tails'\n",
       "\\item 'Tails'\n",
       "\\item 'Heads'\n",
       "\\item 'Tails'\n",
       "\\item 'Tails'\n",
       "\\item 'Tails'\n",
       "\\item 'Heads'\n",
       "\\item 'Heads'\n",
       "\\item 'Tails'\n",
       "\\item 'Tails'\n",
       "\\item 'Tails'\n",
       "\\end{enumerate*}\n"
      ],
      "text/markdown": [
       "1. 'Tails'\n",
       "2. 'Tails'\n",
       "3. 'Tails'\n",
       "4. 'Tails'\n",
       "5. 'Tails'\n",
       "6. 'Heads'\n",
       "7. 'Tails'\n",
       "8. 'Tails'\n",
       "9. 'Tails'\n",
       "10. 'Heads'\n",
       "11. 'Tails'\n",
       "12. 'Heads'\n",
       "13. 'Tails'\n",
       "14. 'Heads'\n",
       "15. 'Tails'\n",
       "16. 'Tails'\n",
       "17. 'Tails'\n",
       "18. 'Tails'\n",
       "19. 'Tails'\n",
       "20. 'Tails'\n",
       "21. 'Tails'\n",
       "22. 'Tails'\n",
       "23. 'Tails'\n",
       "24. 'Heads'\n",
       "25. 'Tails'\n",
       "26. 'Tails'\n",
       "27. 'Heads'\n",
       "28. 'Heads'\n",
       "29. 'Tails'\n",
       "30. 'Heads'\n",
       "31. 'Heads'\n",
       "32. 'Heads'\n",
       "33. 'Heads'\n",
       "34. 'Heads'\n",
       "35. 'Tails'\n",
       "36. 'Heads'\n",
       "37. 'Tails'\n",
       "38. 'Tails'\n",
       "39. 'Tails'\n",
       "40. 'Tails'\n",
       "41. 'Heads'\n",
       "42. 'Tails'\n",
       "43. 'Tails'\n",
       "44. 'Heads'\n",
       "45. 'Tails'\n",
       "46. 'Tails'\n",
       "47. 'Tails'\n",
       "48. 'Tails'\n",
       "49. 'Tails'\n",
       "50. 'Heads'\n",
       "51. 'Heads'\n",
       "52. 'Tails'\n",
       "53. 'Tails'\n",
       "54. 'Tails'\n",
       "55. 'Tails'\n",
       "56. 'Heads'\n",
       "57. 'Tails'\n",
       "58. 'Tails'\n",
       "59. 'Tails'\n",
       "60. 'Tails'\n",
       "61. 'Tails'\n",
       "62. 'Tails'\n",
       "63. 'Tails'\n",
       "64. 'Heads'\n",
       "65. 'Tails'\n",
       "66. 'Tails'\n",
       "67. 'Tails'\n",
       "68. 'Tails'\n",
       "69. 'Tails'\n",
       "70. 'Heads'\n",
       "71. 'Tails'\n",
       "72. 'Heads'\n",
       "73. 'Heads'\n",
       "74. 'Tails'\n",
       "75. 'Heads'\n",
       "76. 'Tails'\n",
       "77. 'Heads'\n",
       "78. 'Tails'\n",
       "79. 'Tails'\n",
       "80. 'Tails'\n",
       "81. 'Tails'\n",
       "82. 'Heads'\n",
       "83. 'Tails'\n",
       "84. 'Tails'\n",
       "85. 'Tails'\n",
       "86. 'Tails'\n",
       "87. 'Heads'\n",
       "88. 'Heads'\n",
       "89. 'Heads'\n",
       "90. 'Tails'\n",
       "91. 'Tails'\n",
       "92. 'Heads'\n",
       "93. 'Tails'\n",
       "94. 'Tails'\n",
       "95. 'Tails'\n",
       "96. 'Heads'\n",
       "97. 'Heads'\n",
       "98. 'Tails'\n",
       "99. 'Tails'\n",
       "100. 'Tails'\n",
       "\n",
       "\n"
      ],
      "text/plain": [
       "  [1] \"Tails\" \"Tails\" \"Tails\" \"Tails\" \"Tails\" \"Heads\" \"Tails\" \"Tails\" \"Tails\"\n",
       " [10] \"Heads\" \"Tails\" \"Heads\" \"Tails\" \"Heads\" \"Tails\" \"Tails\" \"Tails\" \"Tails\"\n",
       " [19] \"Tails\" \"Tails\" \"Tails\" \"Tails\" \"Tails\" \"Heads\" \"Tails\" \"Tails\" \"Heads\"\n",
       " [28] \"Heads\" \"Tails\" \"Heads\" \"Heads\" \"Heads\" \"Heads\" \"Heads\" \"Tails\" \"Heads\"\n",
       " [37] \"Tails\" \"Tails\" \"Tails\" \"Tails\" \"Heads\" \"Tails\" \"Tails\" \"Heads\" \"Tails\"\n",
       " [46] \"Tails\" \"Tails\" \"Tails\" \"Tails\" \"Heads\" \"Heads\" \"Tails\" \"Tails\" \"Tails\"\n",
       " [55] \"Tails\" \"Heads\" \"Tails\" \"Tails\" \"Tails\" \"Tails\" \"Tails\" \"Tails\" \"Tails\"\n",
       " [64] \"Heads\" \"Tails\" \"Tails\" \"Tails\" \"Tails\" \"Tails\" \"Heads\" \"Tails\" \"Heads\"\n",
       " [73] \"Heads\" \"Tails\" \"Heads\" \"Tails\" \"Heads\" \"Tails\" \"Tails\" \"Tails\" \"Tails\"\n",
       " [82] \"Heads\" \"Tails\" \"Tails\" \"Tails\" \"Tails\" \"Heads\" \"Heads\" \"Heads\" \"Tails\"\n",
       " [91] \"Tails\" \"Heads\" \"Tails\" \"Tails\" \"Tails\" \"Heads\" \"Heads\" \"Tails\" \"Tails\"\n",
       "[100] \"Tails\""
      ]
     },
     "metadata": {},
     "output_type": "display_data"
    }
   ],
   "source": [
    "flip_coin <- function() {\n",
    "  outcomes <- c(\"Heads\", \"Tails\")\n",
    "  flips <- sample(outcomes, size = 100, replace = T, prob = c(0.3, 0.7))\n",
    "  return(flips)\n",
    "}\n",
    "\n",
    "flip_coin()"
   ]
  },
  {
   "cell_type": "code",
   "execution_count": null,
   "metadata": {
    "vscode": {
     "languageId": "r"
    }
   },
   "outputs": [],
   "source": []
  },
  {
   "cell_type": "code",
   "execution_count": null,
   "metadata": {
    "vscode": {
     "languageId": "r"
    }
   },
   "outputs": [],
   "source": []
  },
  {
   "cell_type": "code",
   "execution_count": null,
   "metadata": {
    "vscode": {
     "languageId": "r"
    }
   },
   "outputs": [],
   "source": []
  },
  {
   "cell_type": "code",
   "execution_count": null,
   "metadata": {
    "vscode": {
     "languageId": "r"
    }
   },
   "outputs": [],
   "source": []
  }
 ],
 "metadata": {
  "kernelspec": {
   "display_name": "R",
   "language": "R",
   "name": "ir"
  },
  "language_info": {
   "codemirror_mode": "r",
   "file_extension": ".r",
   "mimetype": "text/x-r-source",
   "name": "R",
   "pygments_lexer": "r",
   "version": "4.3.1"
  },
  "orig_nbformat": 4
 },
 "nbformat": 4,
 "nbformat_minor": 2
}
